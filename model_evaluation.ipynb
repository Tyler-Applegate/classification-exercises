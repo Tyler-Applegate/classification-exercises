{
 "cells": [
  {
   "cell_type": "markdown",
   "metadata": {},
   "source": [
    "## Exercises"
   ]
  },
  {
   "cell_type": "markdown",
   "metadata": {},
   "source": [
    "1. Create a new file named model_evaluation.py or model_evaluation.ipynb for these exercises."
   ]
  },
  {
   "cell_type": "code",
   "execution_count": 62,
   "metadata": {},
   "outputs": [],
   "source": [
    "# imports\n",
    "\n",
    "import pandas as pd\n",
    "import numpy as np\n",
    "import os\n",
    "from scipy import stats\n",
    "\n",
    "# visualize\n",
    "import seaborn as sns\n",
    "import matplotlib.pyplot as plt\n",
    "plt.rc('figure', figsize=(11, 9))\n",
    "plt.rc('font', size=13)\n",
    "\n",
    "# turn off pink warning boxes\n",
    "import warnings\n",
    "warnings.filterwarnings(\"ignore\")\n",
    "\n",
    "# acquire\n",
    "from env import host, user, password\n",
    "from pydataset import data\n",
    "\n",
    "from sklearn.metrics import accuracy_score\n",
    "from sklearn.metrics import precision_score\n",
    "from sklearn.metrics import recall_score\n",
    "from sklearn.metrics import classification_report\n",
    "\n",
    "import acquire\n",
    "import prepare\n",
    "import explore"
   ]
  },
  {
   "cell_type": "markdown",
   "metadata": {},
   "source": [
    "2. Given the following confusion matrix, evaluate (by hand) the model's performance."
   ]
  },
  {
   "cell_type": "markdown",
   "metadata": {},
   "source": [
    "|               | pred dog   | pred cat   |\n",
    "|:------------  |-----------:|-----------:|\n",
    "| actual dog    |         46 |         7  |\n",
    "| actual cat    |         13 |         34 |"
   ]
  },
  {
   "cell_type": "code",
   "execution_count": 9,
   "metadata": {},
   "outputs": [],
   "source": [
    "# positive: is a dog (duh!)\n",
    "# negative: is not a dog"
   ]
  },
  {
   "cell_type": "markdown",
   "metadata": {},
   "source": [
    "2a. In the context of this problem, what is a false positive?"
   ]
  },
  {
   "cell_type": "code",
   "execution_count": 10,
   "metadata": {},
   "outputs": [],
   "source": [
    "# model predicts dog, and it is not a dog"
   ]
  },
  {
   "cell_type": "markdown",
   "metadata": {},
   "source": [
    "2b. In the context of this problem, what is a false negative?"
   ]
  },
  {
   "cell_type": "code",
   "execution_count": 11,
   "metadata": {},
   "outputs": [],
   "source": [
    "# model predicts \"not a dog\"(cat), but it is actually a dog"
   ]
  },
  {
   "cell_type": "markdown",
   "metadata": {},
   "source": [
    "2c. How would you describe this model?"
   ]
  },
  {
   "cell_type": "code",
   "execution_count": 12,
   "metadata": {},
   "outputs": [],
   "source": [
    "# accuracy = (TP+TN) / (TP+FP+FN+TN)\n",
    "# accuracy = (46+34) / (46+13+7+34)\n",
    "# accuracy = 80 / 100 = 80% accurate\n",
    "\n",
    "# recall = TP / (TP+FN)\n",
    "# recall = 46 / (46+7)\n",
    "# recall = 46 / 53 = 86.79% \n",
    "\n",
    "# precision = TP / (TP+FP)\n",
    "# precision = 46 / (46+13)\n",
    "# precision = 46 / 59 = 77.97%\n",
    "\n",
    "# Specificity = TN / (TN+FP)\n",
    "# specificity = 34 / (34+13)\n",
    "# specificity = 34 / 47 = 72.34%"
   ]
  },
  {
   "cell_type": "code",
   "execution_count": 13,
   "metadata": {},
   "outputs": [],
   "source": [
    "# what does this all mean???\n",
    "# overall 80% accurately predicts dog vs cat (pretty good)\n",
    "# higher recall than precision suggests cost of FN > FP\n",
    "# worse to predict cat and get a dog, than predict a dog, and get a cat\n",
    "\n",
    "# real world sceanrio - airline would rather have model predict a dog than cat, since dogs are heavier, and cost more to ship"
   ]
  },
  {
   "cell_type": "markdown",
   "metadata": {},
   "source": [
    "3. You are working as a datascientist working for Codeup Cody Creator (C3 for short), a rubber-duck manufacturing plant.\n",
    "\n",
    "Unfortunately, some of the rubber ducks that are produced will have defects. Your team has built several models that try to predict those defects, and the data from their predictions can be found here.\n",
    "\n",
    "Use the predictions dataset and pandas to help answer the following questions:"
   ]
  },
  {
   "cell_type": "code",
   "execution_count": 14,
   "metadata": {},
   "outputs": [
    {
     "data": {
      "text/html": [
       "<div>\n",
       "<style scoped>\n",
       "    .dataframe tbody tr th:only-of-type {\n",
       "        vertical-align: middle;\n",
       "    }\n",
       "\n",
       "    .dataframe tbody tr th {\n",
       "        vertical-align: top;\n",
       "    }\n",
       "\n",
       "    .dataframe thead th {\n",
       "        text-align: right;\n",
       "    }\n",
       "</style>\n",
       "<table border=\"1\" class=\"dataframe\">\n",
       "  <thead>\n",
       "    <tr style=\"text-align: right;\">\n",
       "      <th></th>\n",
       "      <th>actual</th>\n",
       "      <th>model1</th>\n",
       "      <th>model2</th>\n",
       "      <th>model3</th>\n",
       "    </tr>\n",
       "  </thead>\n",
       "  <tbody>\n",
       "    <tr>\n",
       "      <th>0</th>\n",
       "      <td>No Defect</td>\n",
       "      <td>No Defect</td>\n",
       "      <td>Defect</td>\n",
       "      <td>No Defect</td>\n",
       "    </tr>\n",
       "    <tr>\n",
       "      <th>1</th>\n",
       "      <td>No Defect</td>\n",
       "      <td>No Defect</td>\n",
       "      <td>Defect</td>\n",
       "      <td>Defect</td>\n",
       "    </tr>\n",
       "    <tr>\n",
       "      <th>2</th>\n",
       "      <td>No Defect</td>\n",
       "      <td>No Defect</td>\n",
       "      <td>Defect</td>\n",
       "      <td>No Defect</td>\n",
       "    </tr>\n",
       "    <tr>\n",
       "      <th>3</th>\n",
       "      <td>No Defect</td>\n",
       "      <td>Defect</td>\n",
       "      <td>Defect</td>\n",
       "      <td>Defect</td>\n",
       "    </tr>\n",
       "    <tr>\n",
       "      <th>4</th>\n",
       "      <td>No Defect</td>\n",
       "      <td>No Defect</td>\n",
       "      <td>Defect</td>\n",
       "      <td>No Defect</td>\n",
       "    </tr>\n",
       "    <tr>\n",
       "      <th>...</th>\n",
       "      <td>...</td>\n",
       "      <td>...</td>\n",
       "      <td>...</td>\n",
       "      <td>...</td>\n",
       "    </tr>\n",
       "    <tr>\n",
       "      <th>195</th>\n",
       "      <td>No Defect</td>\n",
       "      <td>No Defect</td>\n",
       "      <td>Defect</td>\n",
       "      <td>Defect</td>\n",
       "    </tr>\n",
       "    <tr>\n",
       "      <th>196</th>\n",
       "      <td>Defect</td>\n",
       "      <td>Defect</td>\n",
       "      <td>No Defect</td>\n",
       "      <td>No Defect</td>\n",
       "    </tr>\n",
       "    <tr>\n",
       "      <th>197</th>\n",
       "      <td>No Defect</td>\n",
       "      <td>No Defect</td>\n",
       "      <td>No Defect</td>\n",
       "      <td>No Defect</td>\n",
       "    </tr>\n",
       "    <tr>\n",
       "      <th>198</th>\n",
       "      <td>No Defect</td>\n",
       "      <td>No Defect</td>\n",
       "      <td>Defect</td>\n",
       "      <td>Defect</td>\n",
       "    </tr>\n",
       "    <tr>\n",
       "      <th>199</th>\n",
       "      <td>No Defect</td>\n",
       "      <td>No Defect</td>\n",
       "      <td>No Defect</td>\n",
       "      <td>Defect</td>\n",
       "    </tr>\n",
       "  </tbody>\n",
       "</table>\n",
       "<p>200 rows × 4 columns</p>\n",
       "</div>"
      ],
      "text/plain": [
       "        actual     model1     model2     model3\n",
       "0    No Defect  No Defect     Defect  No Defect\n",
       "1    No Defect  No Defect     Defect     Defect\n",
       "2    No Defect  No Defect     Defect  No Defect\n",
       "3    No Defect     Defect     Defect     Defect\n",
       "4    No Defect  No Defect     Defect  No Defect\n",
       "..         ...        ...        ...        ...\n",
       "195  No Defect  No Defect     Defect     Defect\n",
       "196     Defect     Defect  No Defect  No Defect\n",
       "197  No Defect  No Defect  No Defect  No Defect\n",
       "198  No Defect  No Defect     Defect     Defect\n",
       "199  No Defect  No Defect  No Defect     Defect\n",
       "\n",
       "[200 rows x 4 columns]"
      ]
     },
     "execution_count": 14,
     "metadata": {},
     "output_type": "execute_result"
    }
   ],
   "source": [
    "c3 = pd.read_csv('c3.csv')\n",
    "c3\n",
    "\n",
    "# positive: has a defect\n",
    "# negative: no defect\n",
    "# FP: model predicts a defect, when there is no defect\n",
    "# FN: model predicts no defect, when there is a defect\n",
    "# TP: model predicts a defect, and there is a defect\n",
    "# TN: model predicts no defect, and there is no defect"
   ]
  },
  {
   "cell_type": "markdown",
   "metadata": {},
   "source": [
    "3a. An internal team wants to investigate the cause of the manufacturing defects. They tell you that they want to identify as many of the ducks that have a defect as possible. Which evaluation metric would be appropriate here? Which model would be the best fit for this use case?"
   ]
  },
  {
   "cell_type": "code",
   "execution_count": 15,
   "metadata": {},
   "outputs": [],
   "source": [
    "# we would want a model with a high rate of recall\n",
    "# 1st, let's convert to bools\n",
    "\n",
    "subset = c3[c3.actual == 'Defect']"
   ]
  },
  {
   "cell_type": "code",
   "execution_count": 16,
   "metadata": {},
   "outputs": [
    {
     "name": "stdout",
     "output_type": "stream",
     "text": [
      "Accuracy for model 1 is 95.00%\n",
      "Recall for model 1 is 50.00%\n",
      "Precision for model 1 is 80.00%\n"
     ]
    }
   ],
   "source": [
    "# let's look at model 1\n",
    "\n",
    "# accuracy\n",
    "accuracy_1 = (c3.actual == c3.model1).mean()\n",
    "# recall\n",
    "subset = c3[c3.actual == 'Defect']\n",
    "recall_1 = (subset.model1 == subset.actual).mean()\n",
    "# precision\n",
    "subset = c3[c3.model1 == 'Defect']\n",
    "precision_1 = (subset.model1 == subset.actual).mean()\n",
    "\n",
    "print(f'Accuracy for model 1 is', '{:,.2f}%'.format(accuracy_1 * 100))\n",
    "print(f'Recall for model 1 is', '{:,.2f}%'.format(recall_1 * 100))\n",
    "print(f'Precision for model 1 is', '{:,.2f}%'.format(precision_1 * 100))"
   ]
  },
  {
   "cell_type": "code",
   "execution_count": 17,
   "metadata": {},
   "outputs": [
    {
     "name": "stdout",
     "output_type": "stream",
     "text": [
      "Accuracy for model 2 is 56.00%\n",
      "Recall for model 2 is 56.25%\n",
      "Precision for model 2 is 10.00%\n"
     ]
    }
   ],
   "source": [
    "# how about number2\n",
    "\n",
    "# accuracy\n",
    "accuracy_2 = (c3.actual == c3.model2).mean()\n",
    "# recall\n",
    "subset = c3[c3.actual == 'Defect']\n",
    "recall_2 = (subset.model2 == subset.actual).mean()\n",
    "# precision\n",
    "subset = c3[c3.model2 == 'Defect']\n",
    "precision_2 = (subset.model2 == subset.actual).mean()\n",
    "\n",
    "print(f'Accuracy for model 2 is', '{:,.2f}%'.format(accuracy_2 * 100))\n",
    "print(f'Recall for model 2 is', '{:,.2f}%'.format(recall_2 * 100))\n",
    "print(f'Precision for model 2 is', '{:,.2f}%'.format(precision_2 * 100))"
   ]
  },
  {
   "cell_type": "code",
   "execution_count": 19,
   "metadata": {},
   "outputs": [
    {
     "name": "stdout",
     "output_type": "stream",
     "text": [
      "Accuracy for model 3 is 55.50%\n",
      "Recall for model 3 is 81.25%\n",
      "Precision for model 3 is 13.13%\n"
     ]
    }
   ],
   "source": [
    "# and model 3?\n",
    "\n",
    "# accuracy\n",
    "accuracy_3 = (c3.actual == c3.model3).mean()\n",
    "# recall\n",
    "subset = c3[c3.actual == 'Defect']\n",
    "recall_3 = (subset.model3 == subset.actual).mean()\n",
    "# precision\n",
    "subset = c3[c3.model3 == 'Defect']\n",
    "precision_3 = (subset.model3 == subset.actual).mean()\n",
    "\n",
    "print(f'Accuracy for model 3 is {accuracy_3:.2%}')\n",
    "print(f'Recall for model 3 is {recall_3:.2%}')\n",
    "print(f'Precision for model 3 is {precision_3:.2%}')\n",
    "\n",
    "# look at Heather's to see better formatting"
   ]
  },
  {
   "cell_type": "code",
   "execution_count": null,
   "metadata": {},
   "outputs": [],
   "source": [
    "# Model 3's 81.25% Recall Rate makes it the best model for this situation\n",
    "# since it catches the greatest percentage of all Defects"
   ]
  },
  {
   "cell_type": "markdown",
   "metadata": {},
   "source": [
    "3b. Recently several stories in the local news have come out highlighting customers who received a rubber duck with a defect, and portraying C3 in a bad light. The PR team has decided to launch a program that gives customers with a defective duck a vacation to Hawaii. They need you to predict which ducks will have defects, but tell you the really don't want to accidentally give out a vacation package when the duck really doesn't have a defect. Which evaluation metric would be appropriate here? Which model would be the best fit for this use case?"
   ]
  },
  {
   "cell_type": "code",
   "execution_count": null,
   "metadata": {},
   "outputs": [],
   "source": [
    "# precision\n",
    "# Model 1 has the highest rate of precision"
   ]
  },
  {
   "cell_type": "markdown",
   "metadata": {},
   "source": [
    "4. You are working as a data scientist for Gives You Paws ™, a subscription based service that shows you cute pictures of dogs or cats (or both for an additional fee).\n",
    "\n",
    "At Gives You Paws, anyone can upload pictures of their cats or dogs. The photos are then put through a two step process. First an automated algorithm tags pictures as either a cat or a dog (Phase I). Next, the photos that have been initially identified are put through another round of review, possibly with some human oversight, before being presented to the users (Phase II).\n",
    "\n",
    "Several models have already been developed with the data, and you can find their results here.\n",
    "\n",
    "Given this dataset, use pandas to create a baseline model (i.e. a model that just predicts the most common class) and answer the following questions:"
   ]
  },
  {
   "cell_type": "code",
   "execution_count": 2,
   "metadata": {},
   "outputs": [
    {
     "name": "stdout",
     "output_type": "stream",
     "text": [
      "<class 'pandas.core.frame.DataFrame'>\n",
      "RangeIndex: 5000 entries, 0 to 4999\n",
      "Data columns (total 5 columns):\n",
      " #   Column  Non-Null Count  Dtype \n",
      "---  ------  --------------  ----- \n",
      " 0   actual  5000 non-null   object\n",
      " 1   model1  5000 non-null   object\n",
      " 2   model2  5000 non-null   object\n",
      " 3   model3  5000 non-null   object\n",
      " 4   model4  5000 non-null   object\n",
      "dtypes: object(5)\n",
      "memory usage: 195.4+ KB\n"
     ]
    }
   ],
   "source": [
    "# what does the data frame look like?\n",
    "gyp = pd.read_csv('gives_you_paws.csv')\n",
    "gyp.info()"
   ]
  },
  {
   "cell_type": "markdown",
   "metadata": {},
   "source": [
    "4a. In terms of accuracy, how do the various models compare to the baseline model? Are any of the models better than the baseline?"
   ]
  },
  {
   "cell_type": "code",
   "execution_count": null,
   "metadata": {},
   "outputs": [],
   "source": [
    "# positive: It is dog\n",
    "# negative: it is not a dog (it is a cat)\n",
    "# FP: predict a dog, when it is actually a cat\n",
    "# FN: predict a cat, when it is actually a dog\n",
    "# TP: predict a dog, and it is actually a dog\n",
    "# TN: predict a cat, and it is actually a cat"
   ]
  },
  {
   "cell_type": "code",
   "execution_count": 82,
   "metadata": {},
   "outputs": [
    {
     "data": {
      "text/plain": [
       "dog    3254\n",
       "cat    1746\n",
       "Name: actual, dtype: int64"
      ]
     },
     "execution_count": 82,
     "metadata": {},
     "output_type": "execute_result"
    }
   ],
   "source": [
    "# first we need to see what the most common values are...\n",
    "positive = 'dog'\n",
    "gyp.actual.value_counts()"
   ]
  },
  {
   "cell_type": "code",
   "execution_count": 83,
   "metadata": {},
   "outputs": [],
   "source": [
    "# baseline model should predict dog everytime, since that is the most common\n",
    "gyp['baseline'] = gyp['actual'].max()"
   ]
  },
  {
   "cell_type": "code",
   "execution_count": 84,
   "metadata": {},
   "outputs": [
    {
     "name": "stdout",
     "output_type": "stream",
     "text": [
      "Accuracy for baseline is 65.08%\n",
      "Recall for baseline is 100.00%\n",
      "Precision for baseline is 65.08%\n",
      "Specificity for baseline is 0.00%\n",
      "Precision of cats for baseline is nan%\n"
     ]
    }
   ],
   "source": [
    "# let's look at baseline stats...\n",
    "# accuracy\n",
    "accuracy_b = (gyp.actual == gyp.baseline).mean()\n",
    "# recall\n",
    "subset = gyp[gyp.actual == 'dog']\n",
    "recall_b = (subset.baseline == subset.actual).mean()\n",
    "# precision\n",
    "subset = gyp[gyp.baseline == 'dog']\n",
    "precision_b = (subset.baseline == subset.actual).mean()\n",
    "# specificity\n",
    "subset = gyp[gyp.actual == 'cat']\n",
    "specificity_b = (subset.baseline == subset.actual).mean()\n",
    "# precision for cats\n",
    "subset = gyp[gyp.baseline == 'cat']\n",
    "precision_bc = (subset.baseline == subset.actual).mean()\n",
    "\n",
    "print(f'Accuracy for baseline is {accuracy_b:.2%}')\n",
    "print(f'Recall for baseline is {recall_b:.2%}')\n",
    "print(f'Precision for baseline is {precision_b:.2%}')\n",
    "print(f'Specificity for baseline is {specificity_b:.2%}')\n",
    "print(f'Precision of cats for baseline is {precision_bc:.2%}')"
   ]
  },
  {
   "cell_type": "code",
   "execution_count": 85,
   "metadata": {},
   "outputs": [
    {
     "name": "stdout",
     "output_type": "stream",
     "text": [
      "Accuracy for model 1 is 80.74%\n",
      "Recall for model 1 is 80.33%\n",
      "Precision for model 1 is 89.00%\n",
      "Specificity for model 1 is 81.50%\n",
      "Precision of cats for model 1 is 68.98%\n"
     ]
    }
   ],
   "source": [
    "# now look at model 1\n",
    "# accuracy\n",
    "accuracy_1 = (gyp.actual == gyp.model1).mean()\n",
    "# recall\n",
    "subset = gyp[gyp.actual == 'dog']\n",
    "recall_1 = (subset.model1 == subset.actual).mean()\n",
    "# precision\n",
    "subset = gyp[gyp.model1 == 'dog']\n",
    "precision_1 = (subset.model1 == subset.actual).mean()\n",
    "# specificity\n",
    "subset = gyp[gyp.actual == 'cat']\n",
    "specificity_1 = (subset.model1 == subset.actual).mean()\n",
    "# precision for cats\n",
    "subset = gyp[gyp.model1 == 'cat']\n",
    "precision_1c = (subset.model1 == subset.actual).mean()\n",
    "\n",
    "print(f'Accuracy for model 1 is {accuracy_1:.2%}')\n",
    "print(f'Recall for model 1 is {recall_1:.2%}')\n",
    "print(f'Precision for model 1 is {precision_1:.2%}')\n",
    "print(f'Specificity for model 1 is {specificity_1:.2%}')\n",
    "print(f'Precision of cats for model 1 is {precision_1c:.2%}')"
   ]
  },
  {
   "cell_type": "code",
   "execution_count": 86,
   "metadata": {},
   "outputs": [
    {
     "name": "stdout",
     "output_type": "stream",
     "text": [
      "Accuracy for model 2 is 63.04%\n",
      "Recall for model 2 is 49.08%\n",
      "Precision for model 2 is 89.32%\n",
      "Specificity for model 2 is 89.06%\n",
      "Precision of cats for model 2 is 48.41%\n"
     ]
    }
   ],
   "source": [
    "# now look at model 2\n",
    "# accuracy\n",
    "accuracy_2 = (gyp.actual == gyp.model2).mean()\n",
    "# recall\n",
    "subset = gyp[gyp.actual == 'dog']\n",
    "recall_2 = (subset.model2 == subset.actual).mean()\n",
    "# precision\n",
    "subset = gyp[gyp.model2 == 'dog']\n",
    "precision_2 = (subset.model2 == subset.actual).mean()\n",
    "# specificity\n",
    "subset = gyp[gyp.actual == 'cat']\n",
    "specificity_2 = (subset.model2 == subset.actual).mean()\n",
    "# precision for cats\n",
    "subset = gyp[gyp.model2 == 'cat']\n",
    "precision_2c = (subset.model2 == subset.actual).mean()\n",
    "\n",
    "print(f'Accuracy for model 2 is {accuracy_2:.2%}')\n",
    "print(f'Recall for model 2 is {recall_2:.2%}')\n",
    "print(f'Precision for model 2 is {precision_2:.2%}')\n",
    "print(f'Specificity for model 2 is {specificity_2:.2%}')\n",
    "print(f'Precision of cats for model 2 is {precision_2c:.2%}')"
   ]
  },
  {
   "cell_type": "code",
   "execution_count": 87,
   "metadata": {},
   "outputs": [
    {
     "name": "stdout",
     "output_type": "stream",
     "text": [
      "Accuracy for model 3 is 50.96%\n",
      "Recall for model 3 is 50.86%\n",
      "Precision for model 3 is 65.99%\n",
      "Specificity for model 3 is 51.15%\n",
      "Precision of cats for model 3 is 35.83%\n"
     ]
    }
   ],
   "source": [
    "# now look at model 3\n",
    "# accuracy\n",
    "accuracy_3 = (gyp.actual == gyp.model3).mean()\n",
    "# recall\n",
    "subset = gyp[gyp.actual == 'dog']\n",
    "recall_3 = (subset.model3 == subset.actual).mean()\n",
    "# precision\n",
    "subset = gyp[gyp.model3 == 'dog']\n",
    "precision_3 = (subset.model3 == subset.actual).mean()\n",
    "# specificity\n",
    "subset = gyp[gyp.actual == 'cat']\n",
    "specificity_3 = (subset.model3 == subset.actual).mean()\n",
    "# precision for cats\n",
    "subset = gyp[gyp.model3 == 'cat']\n",
    "precision_3c = (subset.model3 == subset.actual).mean()\n",
    "\n",
    "print(f'Accuracy for model 3 is {accuracy_3:.2%}')\n",
    "print(f'Recall for model 3 is {recall_3:.2%}')\n",
    "print(f'Precision for model 3 is {precision_3:.2%}')\n",
    "print(f'Specificity for model 3 is {specificity_3:.2%}')\n",
    "print(f'Precision of cats for model 3 is {precision_3c:.2%}')"
   ]
  },
  {
   "cell_type": "code",
   "execution_count": 88,
   "metadata": {},
   "outputs": [
    {
     "name": "stdout",
     "output_type": "stream",
     "text": [
      "Accuracy for model 4 is 74.26%\n",
      "Recall for model 4 is 95.57%\n",
      "Precision for model 4 is 73.12%\n",
      "Specificity for model 4 is 34.54%\n",
      "Precision of cats for model 4 is 80.72%\n"
     ]
    }
   ],
   "source": [
    "# now look at model 4\n",
    "# accuracy\n",
    "accuracy_4 = (gyp.actual == gyp.model4).mean()\n",
    "# recall\n",
    "subset = gyp[gyp.actual == 'dog']\n",
    "recall_4 = (subset.model4 == subset.actual).mean()\n",
    "# precision\n",
    "subset = gyp[gyp.model4 == 'dog']\n",
    "precision_4 = (subset.model4 == subset.actual).mean()\n",
    "# specificity\n",
    "subset = gyp[gyp.actual == 'cat']\n",
    "specificity_4 = (subset.model4 == subset.actual).mean()\n",
    "# precision for cats\n",
    "subset = gyp[gyp.model4 == 'cat']\n",
    "precision_4c = (subset.model4 == subset.actual).mean()\n",
    "\n",
    "print(f'Accuracy for model 4 is {accuracy_4:.2%}')\n",
    "print(f'Recall for model 4 is {recall_4:.2%}')\n",
    "print(f'Precision for model 4 is {precision_4:.2%}')\n",
    "print(f'Specificity for model 4 is {specificity_4:.2%}')\n",
    "print(f'Precision of cats for model 4 is {precision_4c:.2%}')"
   ]
  },
  {
   "cell_type": "code",
   "execution_count": 89,
   "metadata": {},
   "outputs": [
    {
     "name": "stdout",
     "output_type": "stream",
     "text": [
      "Baseline accuracy is 65.08%\n",
      "Model 1 accuracy is 80.74%\n",
      "Model 2 accuracy is 63.04%\n",
      "Model 3 accuracy is 50.96%\n",
      "Model 4 accuracy is 74.26%\n"
     ]
    }
   ],
   "source": [
    "# how do the models compare to baseline accuracy?\n",
    "\n",
    "print(f'Baseline accuracy is {accuracy_b:.2%}')\n",
    "print(f'Model 1 accuracy is {accuracy_1:.2%}')\n",
    "print(f'Model 2 accuracy is {accuracy_2:.2%}')\n",
    "print(f'Model 3 accuracy is {accuracy_3:.2%}')\n",
    "print(f'Model 4 accuracy is {accuracy_4:.2%}')"
   ]
  },
  {
   "cell_type": "code",
   "execution_count": 90,
   "metadata": {},
   "outputs": [],
   "source": [
    "# model 1 has a 15% better accuracy rate than the baseline\n",
    "# model 2 is roughly the same accuracy as baseline\n",
    "# model 3 is roughly 15% less accurate than baseline\n",
    "# model 4 has 10% better accuracy than baseline"
   ]
  },
  {
   "cell_type": "code",
   "execution_count": 101,
   "metadata": {},
   "outputs": [],
   "source": [
    "positive = 'dog'\n",
    "accuracy = 'overall accuracy'\n",
    "recall = 'rate of catching actual positives'\n",
    "precision = 'how good are our positive predictions?'\n",
    "specificity = 'rate of catching actual negatives'\n",
    "pre4cats = 'how good are our negative predictions?'"
   ]
  },
  {
   "cell_type": "code",
   "execution_count": 113,
   "metadata": {},
   "outputs": [
    {
     "name": "stdout",
     "output_type": "stream",
     "text": [
      "\n",
      "   positive: dog\n",
      "   accuracy: overall accuracy\n",
      "     recall: rate of catching actual positives\n",
      "  precision: how good are our positive predictions?\n",
      "specificity: rate of catching actual negatives\n",
      "   pre4cats: how good are our negative predictions?\n",
      "\n",
      "         | accuracy | recall | precision | specificity | pre4cats |\n",
      "         | -------- | ------ | --------- | ----------- | -------- |\n",
      "baseline |    65.1% | 100.0% |     65.1% |        0.0% |     nan% |\n",
      " model 1 |    80.7% |  80.3% |     89.0% |       81.5% |    69.0% |\n",
      " model 2 |    63.0% |  49.1% |     89.3% |       89.1% |    48.4% |\n",
      " model 3 |    51.0% |  50.9% |     66.0% |       51.1% |    35.8% |\n",
      " model 4 |    74.3% |  95.6% |     73.1% |       34.5% |    80.7% |\n",
      "\n"
     ]
    }
   ],
   "source": [
    "# put it all together, by hand-ish...\n",
    "print(f'''\n",
    "   positive: {positive}\n",
    "   accuracy: {accuracy}\n",
    "     recall: {recall}\n",
    "  precision: {precision}\n",
    "specificity: {specificity}\n",
    "   pre4cats: {pre4cats:}\n",
    "\n",
    "         | accuracy | recall | precision | specificity | pre4cats |\n",
    "         | -------- | ------ | --------- | ----------- | -------- |\n",
    "baseline | {accuracy_b:8.1%} | {recall_b:6.1%} | {precision_b:9.1%} | {specificity_b:11.1%} | {precision_bc:8.1%} |\n",
    " model 1 | {accuracy_1:8.1%} | {recall_1:6.1%} | {precision_1:9.1%} | {specificity_1:11.1%} | {precision_1c:8.1%} |\n",
    " model 2 | {accuracy_2:8.1%} | {recall_2:6.1%} | {precision_2:9.1%} | {specificity_2:11.1%} | {precision_2c:8.1%} |\n",
    " model 3 | {accuracy_3:8.1%} | {recall_3:6.1%} | {precision_3:9.1%} | {specificity_3:11.1%} | {precision_3c:8.1%} |\n",
    " model 4 | {accuracy_4:8.1%} | {recall_4:6.1%} | {precision_4:9.1%} | {specificity_4:11.1%} | {precision_4c:8.1%} |\n",
    "''')\n"
   ]
  },
  {
   "cell_type": "code",
   "execution_count": 110,
   "metadata": {},
   "outputs": [],
   "source": [
    "# highest accuracy model 1\n",
    "# highest recall baseline\n",
    "# highest precision 2/1\n",
    "# highest specificity 2\n",
    "# highest pre4cats 4"
   ]
  },
  {
   "cell_type": "code",
   "execution_count": null,
   "metadata": {},
   "outputs": [],
   "source": []
  },
  {
   "cell_type": "code",
   "execution_count": null,
   "metadata": {},
   "outputs": [],
   "source": []
  },
  {
   "cell_type": "code",
   "execution_count": null,
   "metadata": {},
   "outputs": [],
   "source": []
  },
  {
   "cell_type": "markdown",
   "metadata": {},
   "source": [
    "4b. Suppose you are working on a team that solely deals with dog pictures. Which of these models would you recomend for Phase I? For Phase II?"
   ]
  },
  {
   "cell_type": "code",
   "execution_count": null,
   "metadata": {},
   "outputs": [],
   "source": [
    "# phase one should use model 1 since it is most accurate\n",
    "# model 1 will give the most accurate subsets of dogs and cats\n",
    "\n",
    "# phase 2 - worst case scenario is model predicts a \n",
    "# dog, but we let a cat slip through\n",
    "# so... I would use model 2, since it has the highest specificity"
   ]
  },
  {
   "cell_type": "markdown",
   "metadata": {},
   "source": [
    "4c. Suppose you are working on a team that solely deals with cat pictures. Which of these models would you recomend for Phase I? For Phase II?\n"
   ]
  },
  {
   "cell_type": "code",
   "execution_count": null,
   "metadata": {},
   "outputs": [],
   "source": [
    "# phase one - I would still want model 1, due to its high accuracy\n",
    "\n",
    "# phase 2 - worst case scenario is model predicts a cat, \n",
    "# but we let a dog slip through\n",
    "# so... I would use model 4 since it has the highest recall"
   ]
  },
  {
   "cell_type": "markdown",
   "metadata": {},
   "source": [
    "5. Follow the links below to read the documentation about each function, then apply those functions to the data from the previous problem."
   ]
  },
  {
   "cell_type": "code",
   "execution_count": null,
   "metadata": {},
   "outputs": [],
   "source": []
  },
  {
   "cell_type": "markdown",
   "metadata": {},
   "source": [
    "5a. sklearn.metrics.accuracy_score"
   ]
  },
  {
   "cell_type": "code",
   "execution_count": 40,
   "metadata": {},
   "outputs": [
    {
     "name": "stdout",
     "output_type": "stream",
     "text": [
      "0.6508\n",
      "0.8074\n",
      "0.6304\n",
      "0.5096\n"
     ]
    }
   ],
   "source": [
    "# let's check accuracy for each model\n",
    "print(accuracy_score(gyp.actual, gyp.baseline))\n",
    "print(accuracy_score(gyp.actual, gyp.model1))\n",
    "print(accuracy_score(gyp.actual, gyp.model2))\n",
    "print(accuracy_score(gyp.actual, gyp.model3))"
   ]
  },
  {
   "cell_type": "code",
   "execution_count": 52,
   "metadata": {},
   "outputs": [
    {
     "name": "stdout",
     "output_type": "stream",
     "text": [
      "Accuracy score for baseline is 65.08%\n",
      "Accuracy score for model1 is 80.74%\n",
      "Accuracy score for model2 is 63.04%\n",
      "Accuracy score for model3 is 50.96%\n",
      "Accuracy score for model4 is 74.26%\n"
     ]
    }
   ],
   "source": [
    "model_list = ['baseline', 'model1', 'model2', 'model3', 'model4']\n",
    "\n",
    "for model in model_list:\n",
    "    accuracy = accuracy_score(gyp.actual, gyp[model])\n",
    "    print(f'Accuracy score for {model} is {accuracy:.2%}')"
   ]
  },
  {
   "cell_type": "markdown",
   "metadata": {},
   "source": [
    "5b. sklearn.metrics.precision_score"
   ]
  },
  {
   "cell_type": "code",
   "execution_count": 53,
   "metadata": {},
   "outputs": [
    {
     "name": "stdout",
     "output_type": "stream",
     "text": [
      "Precision score for baseline is 65.08%\n",
      "Precision score for model1 is 89.00%\n",
      "Precision score for model2 is 89.32%\n",
      "Precision score for model3 is 65.99%\n",
      "Precision score for model4 is 73.12%\n"
     ]
    }
   ],
   "source": [
    "for model in model_list:\n",
    "    precision = precision_score(gyp.actual, gyp[model], pos_label='dog')\n",
    "    print(f'Precision score for {model} is {precision:.2%}')"
   ]
  },
  {
   "cell_type": "code",
   "execution_count": 67,
   "metadata": {},
   "outputs": [
    {
     "name": "stdout",
     "output_type": "stream",
     "text": [
      "Precision score of cats for baseline is 0.00%\n",
      "Precision score of cats for model1 is 68.98%\n",
      "Precision score of cats for model2 is 48.41%\n",
      "Precision score of cats for model3 is 35.83%\n",
      "Precision score of cats for model4 is 80.72%\n"
     ]
    }
   ],
   "source": [
    "# what if we're looking for cats...\n",
    "for model in model_list:\n",
    "    precision = precision_score(gyp.actual, gyp[model], pos_label='cat')\n",
    "    print(f'Precision score of cats for {model} is {precision:.2%}')"
   ]
  },
  {
   "cell_type": "markdown",
   "metadata": {},
   "source": [
    "5c. sklearn.metrics.recall_score"
   ]
  },
  {
   "cell_type": "code",
   "execution_count": 54,
   "metadata": {},
   "outputs": [
    {
     "name": "stdout",
     "output_type": "stream",
     "text": [
      "Recall score for baseline is 100.00%\n",
      "Recall score for model1 is 80.33%\n",
      "Recall score for model2 is 49.08%\n",
      "Recall score for model3 is 50.86%\n",
      "Recall score for model4 is 95.57%\n"
     ]
    }
   ],
   "source": [
    "for model in model_list:\n",
    "    recall = recall_score(gyp.actual, gyp[model], pos_label='dog')\n",
    "    print(f'Recall score for {model} is {recall:.2%}')"
   ]
  },
  {
   "cell_type": "code",
   "execution_count": 66,
   "metadata": {},
   "outputs": [
    {
     "name": "stdout",
     "output_type": "stream",
     "text": [
      "Specificity score for baseline is 0.00%\n",
      "Specificity score for model1 is 81.50%\n",
      "Specificity score for model2 is 89.06%\n",
      "Specificity score for model3 is 51.15%\n",
      "Specificity score for model4 is 34.54%\n"
     ]
    }
   ],
   "source": [
    "# what about specificity?\n",
    "for model in model_list:\n",
    "    recall = recall_score(gyp.actual, gyp[model], pos_label='cat')\n",
    "    print(f'Specificity score for {model} is {recall:.2%}')"
   ]
  },
  {
   "cell_type": "markdown",
   "metadata": {},
   "source": [
    "5d. sklearn.metrics.classification_report"
   ]
  },
  {
   "cell_type": "code",
   "execution_count": 55,
   "metadata": {},
   "outputs": [
    {
     "name": "stdout",
     "output_type": "stream",
     "text": [
      "Classification report for baseline is:\n",
      "              precision    recall  f1-score   support\n",
      "\n",
      "         dog       0.00      0.00      0.00      1746\n",
      "         cat       0.65      1.00      0.79      3254\n",
      "\n",
      "    accuracy                           0.65      5000\n",
      "   macro avg       0.33      0.50      0.39      5000\n",
      "weighted avg       0.42      0.65      0.51      5000\n",
      "\n",
      "------------------------------------------------------------\n",
      "Classification report for model1 is:\n",
      "              precision    recall  f1-score   support\n",
      "\n",
      "         dog       0.69      0.82      0.75      1746\n",
      "         cat       0.89      0.80      0.84      3254\n",
      "\n",
      "    accuracy                           0.81      5000\n",
      "   macro avg       0.79      0.81      0.80      5000\n",
      "weighted avg       0.82      0.81      0.81      5000\n",
      "\n",
      "------------------------------------------------------------\n",
      "Classification report for model2 is:\n",
      "              precision    recall  f1-score   support\n",
      "\n",
      "         dog       0.48      0.89      0.63      1746\n",
      "         cat       0.89      0.49      0.63      3254\n",
      "\n",
      "    accuracy                           0.63      5000\n",
      "   macro avg       0.69      0.69      0.63      5000\n",
      "weighted avg       0.75      0.63      0.63      5000\n",
      "\n",
      "------------------------------------------------------------\n",
      "Classification report for model3 is:\n",
      "              precision    recall  f1-score   support\n",
      "\n",
      "         dog       0.36      0.51      0.42      1746\n",
      "         cat       0.66      0.51      0.57      3254\n",
      "\n",
      "    accuracy                           0.51      5000\n",
      "   macro avg       0.51      0.51      0.50      5000\n",
      "weighted avg       0.55      0.51      0.52      5000\n",
      "\n",
      "------------------------------------------------------------\n",
      "Classification report for model4 is:\n",
      "              precision    recall  f1-score   support\n",
      "\n",
      "         dog       0.81      0.35      0.48      1746\n",
      "         cat       0.73      0.96      0.83      3254\n",
      "\n",
      "    accuracy                           0.74      5000\n",
      "   macro avg       0.77      0.65      0.66      5000\n",
      "weighted avg       0.76      0.74      0.71      5000\n",
      "\n",
      "------------------------------------------------------------\n"
     ]
    }
   ],
   "source": [
    "for model in model_list:\n",
    "    classification = classification_report(gyp.actual, gyp[model], target_names=['dog', 'cat'])\n",
    "    print(f'Classification report for {model} is:')\n",
    "    print(classification)\n",
    "    print('------------------------------------------------------------')"
   ]
  },
  {
   "cell_type": "code",
   "execution_count": 114,
   "metadata": {},
   "outputs": [
    {
     "name": "stdout",
     "output_type": "stream",
     "text": [
      "Baseline\n"
     ]
    },
    {
     "data": {
      "text/html": [
       "<div>\n",
       "<style scoped>\n",
       "    .dataframe tbody tr th:only-of-type {\n",
       "        vertical-align: middle;\n",
       "    }\n",
       "\n",
       "    .dataframe tbody tr th {\n",
       "        vertical-align: top;\n",
       "    }\n",
       "\n",
       "    .dataframe thead th {\n",
       "        text-align: right;\n",
       "    }\n",
       "</style>\n",
       "<table border=\"1\" class=\"dataframe\">\n",
       "  <thead>\n",
       "    <tr style=\"text-align: right;\">\n",
       "      <th></th>\n",
       "      <th>cat</th>\n",
       "      <th>dog</th>\n",
       "      <th>accuracy</th>\n",
       "      <th>macro avg</th>\n",
       "      <th>weighted avg</th>\n",
       "    </tr>\n",
       "  </thead>\n",
       "  <tbody>\n",
       "    <tr>\n",
       "      <th>precision</th>\n",
       "      <td>0.0</td>\n",
       "      <td>0.650800</td>\n",
       "      <td>0.6508</td>\n",
       "      <td>0.325400</td>\n",
       "      <td>0.423541</td>\n",
       "    </tr>\n",
       "    <tr>\n",
       "      <th>recall</th>\n",
       "      <td>0.0</td>\n",
       "      <td>1.000000</td>\n",
       "      <td>0.6508</td>\n",
       "      <td>0.500000</td>\n",
       "      <td>0.650800</td>\n",
       "    </tr>\n",
       "    <tr>\n",
       "      <th>f1-score</th>\n",
       "      <td>0.0</td>\n",
       "      <td>0.788466</td>\n",
       "      <td>0.6508</td>\n",
       "      <td>0.394233</td>\n",
       "      <td>0.513134</td>\n",
       "    </tr>\n",
       "    <tr>\n",
       "      <th>support</th>\n",
       "      <td>1746.0</td>\n",
       "      <td>3254.000000</td>\n",
       "      <td>0.6508</td>\n",
       "      <td>5000.000000</td>\n",
       "      <td>5000.000000</td>\n",
       "    </tr>\n",
       "  </tbody>\n",
       "</table>\n",
       "</div>"
      ],
      "text/plain": [
       "              cat          dog  accuracy    macro avg  weighted avg\n",
       "precision     0.0     0.650800    0.6508     0.325400      0.423541\n",
       "recall        0.0     1.000000    0.6508     0.500000      0.650800\n",
       "f1-score      0.0     0.788466    0.6508     0.394233      0.513134\n",
       "support    1746.0  3254.000000    0.6508  5000.000000   5000.000000"
      ]
     },
     "execution_count": 114,
     "metadata": {},
     "output_type": "execute_result"
    }
   ],
   "source": [
    "print('Baseline')\n",
    "pd.DataFrame(classification_report(gyp.actual, gyp.baseline, output_dict=True))"
   ]
  },
  {
   "cell_type": "code",
   "execution_count": null,
   "metadata": {},
   "outputs": [],
   "source": []
  }
 ],
 "metadata": {
  "kernelspec": {
   "display_name": "Python 3.8.5 64-bit ('base': conda)",
   "language": "python",
   "name": "python385jvsc74a57bd0b64057e63add2b45b1ffc7eab9b09c8889b419c878e2fdf0d08f837f0fc857a7"
  },
  "language_info": {
   "codemirror_mode": {
    "name": "ipython",
    "version": 3
   },
   "file_extension": ".py",
   "mimetype": "text/x-python",
   "name": "python",
   "nbconvert_exporter": "python",
   "pygments_lexer": "ipython3",
   "version": "3.8.5"
  }
 },
 "nbformat": 4,
 "nbformat_minor": 4
}
