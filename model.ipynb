{
 "cells": [
  {
   "cell_type": "code",
   "execution_count": 112,
   "metadata": {},
   "outputs": [],
   "source": [
    "# imports...\n",
    "import pandas as pd\n",
    "import numpy as np\n",
    "import os\n",
    "from scipy import stats\n",
    "# visualize\n",
    "import seaborn as sns\n",
    "import matplotlib.pyplot as plt\n",
    "plt.rc('figure', figsize=(11, 9))\n",
    "plt.rc('font', size=13)\n",
    "# turn off pink warning boxes\n",
    "import warnings\n",
    "warnings.filterwarnings(\"ignore\")\n",
    "# acquire\n",
    "from env import host, user, password\n",
    "from pydataset import data\n",
    "from sklearn.dummy import DummyClassifier\n",
    "from sklearn.metrics import accuracy_score\n",
    "from sklearn.metrics import precision_score\n",
    "from sklearn.metrics import recall_score\n",
    "from sklearn.metrics import classification_report\n",
    "from sklearn.metrics import confusion_matrix\n",
    "from sklearn.tree import DecisionTreeClassifier, plot_tree, export_text\n",
    "# my fancy docs\n",
    "import acquire\n",
    "import prepare\n",
    "import explore"
   ]
  },
  {
   "cell_type": "code",
   "execution_count": null,
   "metadata": {},
   "outputs": [],
   "source": [
    "# need to convert"
   ]
  },
  {
   "cell_type": "markdown",
   "metadata": {},
   "source": [
    "## Exercises\n",
    "Using the titanic data, in your classification-exercises repository, create a notebook, model.ipynb where you will do the following:"
   ]
  },
  {
   "cell_type": "code",
   "execution_count": 2,
   "metadata": {},
   "outputs": [],
   "source": [
    "# positive: survives\n",
    "# negative: dies\n",
    "# TP: predict survival, and the passenger actually survived\n",
    "# TN: predict death, and passenger actually died\n",
    "# FN: predict death, but passenger actually survived\n",
    "# FP: predict survival, but passenger actually died"
   ]
  },
  {
   "cell_type": "code",
   "execution_count": 3,
   "metadata": {},
   "outputs": [
    {
     "data": {
      "text/plain": [
       "((498, 11), (214, 11), (179, 11))"
      ]
     },
     "execution_count": 3,
     "metadata": {},
     "output_type": "execute_result"
    }
   ],
   "source": [
    "# lets bring in the data set\n",
    "# titanic_df = acquire.new_titanic_data()\n",
    "# now let's prep it\n",
    "train, validate, test = prepare.prep_titanic_data(acquire.new_titanic_data(), column = 'age', method = 'median', dummies = ['embarked', 'sex'])\n",
    "# split it\n",
    "# train, validate, test = prepare.titanic_split(titanic_df)\n",
    "# what do they look like?\n",
    "train.shape, validate.shape, test.shape"
   ]
  },
  {
   "cell_type": "code",
   "execution_count": 4,
   "metadata": {},
   "outputs": [
    {
     "name": "stdout",
     "output_type": "stream",
     "text": [
      "<class 'pandas.core.frame.DataFrame'>\n",
      "Int64Index: 498 entries, 583 to 744\n",
      "Data columns (total 11 columns):\n",
      " #   Column        Non-Null Count  Dtype  \n",
      "---  ------        --------------  -----  \n",
      " 0   passenger_id  498 non-null    int64  \n",
      " 1   survived      498 non-null    int64  \n",
      " 2   pclass        498 non-null    int64  \n",
      " 3   age           498 non-null    float64\n",
      " 4   sibsp         498 non-null    int64  \n",
      " 5   parch         498 non-null    int64  \n",
      " 6   fare          498 non-null    float64\n",
      " 7   alone         498 non-null    int64  \n",
      " 8   embarked_Q    498 non-null    uint8  \n",
      " 9   embarked_S    498 non-null    uint8  \n",
      " 10  sex_male      498 non-null    uint8  \n",
      "dtypes: float64(2), int64(6), uint8(3)\n",
      "memory usage: 36.5 KB\n"
     ]
    }
   ],
   "source": [
    "train.info()"
   ]
  },
  {
   "cell_type": "code",
   "execution_count": 5,
   "metadata": {},
   "outputs": [
    {
     "name": "stdout",
     "output_type": "stream",
     "text": [
      "chi^2 = 55.2252\n",
      "p     = 0.0000\n"
     ]
    }
   ],
   "source": [
    "# i want to see relationships between each column and 'survived'\n",
    "# 'pclass' - chi2\n",
    "\n",
    "observed1 = pd.crosstab(train.survived, train.pclass)\n",
    "chi2, p, degf, expected = stats.chi2_contingency(observed1)\n",
    "print(f'chi^2 = {chi2:.4f}')\n",
    "print(f'p     = {p:.4f}')"
   ]
  },
  {
   "cell_type": "code",
   "execution_count": 6,
   "metadata": {},
   "outputs": [
    {
     "name": "stdout",
     "output_type": "stream",
     "text": [
      "chi^2 = 24.8926\n",
      "p     = 0.0004\n"
     ]
    }
   ],
   "source": [
    "# i want to see relationships between each column and 'survived'\n",
    "# 'sibsp' - chi2\n",
    "\n",
    "observed2 = pd.crosstab(train.survived, train.sibsp)\n",
    "chi2, p, degf, expected = stats.chi2_contingency(observed2)\n",
    "print(f'chi^2 = {chi2:.4f}')\n",
    "print(f'p     = {p:.4f}')"
   ]
  },
  {
   "cell_type": "code",
   "execution_count": 7,
   "metadata": {},
   "outputs": [
    {
     "name": "stdout",
     "output_type": "stream",
     "text": [
      "chi^2 = 24.8926\n",
      "p     = 0.0004\n"
     ]
    }
   ],
   "source": [
    "# i want to see relationships between each column and 'survived'\n",
    "# 'sibsp' - chi2\n",
    "\n",
    "observed2 = pd.crosstab(train.survived, train.sibsp)\n",
    "chi2, p, degf, expected = stats.chi2_contingency(observed2)\n",
    "print(f'chi^2 = {chi2:.4f}')\n",
    "print(f'p     = {p:.4f}')"
   ]
  },
  {
   "cell_type": "code",
   "execution_count": 8,
   "metadata": {},
   "outputs": [
    {
     "name": "stdout",
     "output_type": "stream",
     "text": [
      "chi^2 = 15.4412\n",
      "p     = 0.0086\n"
     ]
    }
   ],
   "source": [
    "# i want to see relationships between each column and 'survived'\n",
    "# 'parch' - chi2\n",
    "\n",
    "observed3 = pd.crosstab(train.survived, train.parch)\n",
    "chi2, p, degf, expected = stats.chi2_contingency(observed3)\n",
    "print(f'chi^2 = {chi2:.4f}')\n",
    "print(f'p     = {p:.4f}')"
   ]
  },
  {
   "cell_type": "code",
   "execution_count": 9,
   "metadata": {},
   "outputs": [
    {
     "name": "stdout",
     "output_type": "stream",
     "text": [
      "chi^2 = 18.1920\n",
      "p     = 0.0000\n"
     ]
    }
   ],
   "source": [
    "# i want to see relationships between each column and 'survived'\n",
    "# 'alone' - chi2\n",
    "\n",
    "observed4 = pd.crosstab(train.survived, train.alone)\n",
    "chi2, p, degf, expected = stats.chi2_contingency(observed4)\n",
    "print(f'chi^2 = {chi2:.4f}')\n",
    "print(f'p     = {p:.4f}')"
   ]
  },
  {
   "cell_type": "code",
   "execution_count": 10,
   "metadata": {},
   "outputs": [
    {
     "name": "stdout",
     "output_type": "stream",
     "text": [
      "chi^2 = 0.3542\n",
      "p     = 0.5517\n"
     ]
    }
   ],
   "source": [
    "# i want to see relationships between each column and 'survived'\n",
    "# 'embarked_Q' - chi2\n",
    "\n",
    "observed5 = pd.crosstab(train.survived, train.embarked_Q)\n",
    "chi2, p, degf, expected = stats.chi2_contingency(observed5)\n",
    "print(f'chi^2 = {chi2:.4f}')\n",
    "print(f'p     = {p:.4f}')"
   ]
  },
  {
   "cell_type": "code",
   "execution_count": 11,
   "metadata": {},
   "outputs": [
    {
     "name": "stdout",
     "output_type": "stream",
     "text": [
      "chi^2 = 12.3251\n",
      "p     = 0.0004\n"
     ]
    }
   ],
   "source": [
    "# i want to see relationships between each column and 'survived'\n",
    "# 'embarked_S' - chi2\n",
    "\n",
    "observed6 = pd.crosstab(train.survived, train.embarked_S)\n",
    "chi2, p, degf, expected = stats.chi2_contingency(observed6)\n",
    "print(f'chi^2 = {chi2:.4f}')\n",
    "print(f'p     = {p:.4f}')"
   ]
  },
  {
   "cell_type": "code",
   "execution_count": 12,
   "metadata": {},
   "outputs": [
    {
     "name": "stdout",
     "output_type": "stream",
     "text": [
      "chi^2 = 159.2890\n",
      "p     = 0.0000\n"
     ]
    }
   ],
   "source": [
    "# i want to see relationships between each column and 'survived'\n",
    "# 'sex_male' - chi2\n",
    "\n",
    "observed7 = pd.crosstab(train.survived, train.sex_male)\n",
    "chi2, p, degf, expected = stats.chi2_contingency(observed7)\n",
    "print(f'chi^2 = {chi2:.4f}')\n",
    "print(f'p     = {p:.4f}')"
   ]
  },
  {
   "cell_type": "code",
   "execution_count": 13,
   "metadata": {},
   "outputs": [
    {
     "data": {
      "text/plain": [
       "0.38353413654618473"
      ]
     },
     "execution_count": 13,
     "metadata": {},
     "output_type": "execute_result"
    }
   ],
   "source": [
    "# now the continuous...\n",
    "# 'age'\n",
    "# 'fare'\n",
    "\n",
    "# create survival_rate\n",
    "survival_rate = train['survived'].mean()\n",
    "survival_rate"
   ]
  },
  {
   "cell_type": "code",
   "execution_count": 14,
   "metadata": {},
   "outputs": [],
   "source": [
    "# create age variable for ttest\n",
    "age = train['age']"
   ]
  },
  {
   "cell_type": "code",
   "execution_count": 15,
   "metadata": {},
   "outputs": [
    {
     "data": {
      "text/plain": [
       "(49.391473076033655, 3.8085496775045816e-194, 0.01)"
      ]
     },
     "execution_count": 15,
     "metadata": {},
     "output_type": "execute_result"
    }
   ],
   "source": [
    "# ttest for age\n",
    "alpha = 0.01\n",
    "t, p = stats.ttest_1samp(age, survival_rate)\n",
    "t, p/2, alpha"
   ]
  },
  {
   "cell_type": "code",
   "execution_count": 16,
   "metadata": {},
   "outputs": [],
   "source": [
    "# create fare variable for ttest\n",
    "fare = train['fare']"
   ]
  },
  {
   "cell_type": "code",
   "execution_count": 17,
   "metadata": {},
   "outputs": [
    {
     "data": {
      "text/plain": [
       "(14.548430746098049, 1.6753909571183626e-40, 0.01)"
      ]
     },
     "execution_count": 17,
     "metadata": {},
     "output_type": "execute_result"
    }
   ],
   "source": [
    "# ttest for fare\n",
    "alpha = 0.01\n",
    "t, p = stats.ttest_1samp(fare, survival_rate)\n",
    "t, p/2, alpha"
   ]
  },
  {
   "cell_type": "code",
   "execution_count": 18,
   "metadata": {},
   "outputs": [],
   "source": [
    "# so which columns do I want to keep for my model?????\n",
    "# 'sex_male', 'pclass', 'age', 'sibsp'\n",
    "# and maybe 'alone'"
   ]
  },
  {
   "cell_type": "code",
   "execution_count": 19,
   "metadata": {},
   "outputs": [],
   "source": [
    "X_cols = ['sex_male', 'pclass', 'age', 'sibsp']\n",
    "y_col = 'survived'\n",
    "\n",
    "X_train, y_train = train[X_cols], train[y_col]\n",
    "X_validate, y_validate = validate[X_cols], validate[y_col]\n",
    "X_test, y_test = test[X_cols], test[y_col]"
   ]
  },
  {
   "cell_type": "code",
   "execution_count": null,
   "metadata": {},
   "outputs": [],
   "source": []
  },
  {
   "cell_type": "code",
   "execution_count": 20,
   "metadata": {},
   "outputs": [],
   "source": [
    "# X_train is the DF w/o the 'survived' column\n",
    "# y_train is the 'survived' column as a Series"
   ]
  },
  {
   "cell_type": "markdown",
   "metadata": {},
   "source": [
    "1. What is your baseline prediction? What is your baseline accuracy? remember: your baseline prediction for a classification problem is predicting the most prevelant class in the training dataset (the mode). When you make those predictions, what is your accuracy? This is your baseline accuracy."
   ]
  },
  {
   "cell_type": "code",
   "execution_count": 21,
   "metadata": {},
   "outputs": [
    {
     "data": {
      "text/plain": [
       "0    307\n",
       "1    191\n",
       "Name: survived, dtype: int64"
      ]
     },
     "execution_count": 21,
     "metadata": {},
     "output_type": "execute_result"
    }
   ],
   "source": [
    "# what is the mode of 'survived'?\n",
    "y_train.value_counts()\n",
    "# death wins"
   ]
  },
  {
   "cell_type": "code",
   "execution_count": 22,
   "metadata": {},
   "outputs": [
    {
     "name": "stdout",
     "output_type": "stream",
     "text": [
      "Baseline accuracy: 0.6165\n"
     ]
    }
   ],
   "source": [
    "# 1. Create the object\n",
    "baseline = DummyClassifier(strategy='constant', constant=0)\n",
    "# 2. Fit the object\n",
    "baseline.fit(X_train, y_train)\n",
    "# how does it do on training data set?\n",
    "print('Baseline accuracy: %.4f' % baseline.score(X_train, y_train))"
   ]
  },
  {
   "cell_type": "markdown",
   "metadata": {},
   "source": [
    "2. Fit the decision tree classifier to your training sample and transform (i.e. make predictions on the training sample)"
   ]
  },
  {
   "cell_type": "code",
   "execution_count": 23,
   "metadata": {},
   "outputs": [
    {
     "data": {
      "text/plain": [
       "DecisionTreeClassifier()"
      ]
     },
     "execution_count": 23,
     "metadata": {},
     "output_type": "execute_result"
    }
   ],
   "source": [
    "# let's look w/ default hyperparameters\n",
    "tree = DecisionTreeClassifier()\n",
    "tree.fit(X_train, y_train)"
   ]
  },
  {
   "cell_type": "code",
   "execution_count": 25,
   "metadata": {},
   "outputs": [
    {
     "name": "stdout",
     "output_type": "stream",
     "text": [
      "training score: 91.57%\n",
      "validate score: 77.10%\n"
     ]
    }
   ],
   "source": [
    "# how does the DT perform w/ default hyperparameters?\n",
    "print(f'training score: {tree.score(X_train, y_train):.2%}')\n",
    "print(f'validate score: {tree.score(X_validate, y_validate):.2%}')"
   ]
  },
  {
   "cell_type": "code",
   "execution_count": 26,
   "metadata": {},
   "outputs": [
    {
     "name": "stdout",
     "output_type": "stream",
     "text": [
      "|--- sex_male <= 0.50\n",
      "|   |--- pclass <= 2.50\n",
      "|   |   |--- age <= 3.00\n",
      "|   |   |   |--- weights: [1.00, 0.00] class: 0\n",
      "|   |   |--- age >  3.00\n",
      "|   |   |   |--- age <= 23.50\n",
      "|   |   |   |   |--- weights: [0.00, 26.00] class: 1\n",
      "|   |   |   |--- age >  23.50\n",
      "|   |   |   |   |--- age <= 27.50\n",
      "|   |   |   |   |   |--- age <= 26.50\n",
      "|   |   |   |   |   |   |--- sibsp <= 0.50\n",
      "|   |   |   |   |   |   |   |--- pclass <= 1.50\n",
      "|   |   |   |   |   |   |   |   |--- weights: [0.00, 3.00] class: 1\n",
      "|   |   |   |   |   |   |   |--- pclass >  1.50\n",
      "|   |   |   |   |   |   |   |   |--- weights: [1.00, 1.00] class: 0\n",
      "|   |   |   |   |   |   |--- sibsp >  0.50\n",
      "|   |   |   |   |   |   |   |--- weights: [0.00, 4.00] class: 1\n",
      "|   |   |   |   |   |--- age >  26.50\n",
      "|   |   |   |   |   |   |--- weights: [1.00, 1.00] class: 0\n",
      "|   |   |   |   |--- age >  27.50\n",
      "|   |   |   |   |   |--- age <= 48.50\n",
      "|   |   |   |   |   |   |--- weights: [0.00, 43.00] class: 1\n",
      "|   |   |   |   |   |--- age >  48.50\n",
      "|   |   |   |   |   |   |--- age <= 52.00\n",
      "|   |   |   |   |   |   |   |--- pclass <= 1.50\n",
      "|   |   |   |   |   |   |   |   |--- weights: [1.00, 1.00] class: 0\n",
      "|   |   |   |   |   |   |   |--- pclass >  1.50\n",
      "|   |   |   |   |   |   |   |   |--- weights: [0.00, 3.00] class: 1\n",
      "|   |   |   |   |   |   |--- age >  52.00\n",
      "|   |   |   |   |   |   |   |--- weights: [0.00, 8.00] class: 1\n",
      "|   |--- pclass >  2.50\n",
      "|   |   |--- sibsp <= 2.50\n",
      "|   |   |   |--- age <= 39.00\n",
      "|   |   |   |   |--- age <= 7.00\n",
      "|   |   |   |   |   |--- weights: [0.00, 6.00] class: 1\n",
      "|   |   |   |   |--- age >  7.00\n",
      "|   |   |   |   |   |--- sibsp <= 1.50\n",
      "|   |   |   |   |   |   |--- age <= 11.00\n",
      "|   |   |   |   |   |   |   |--- weights: [1.00, 0.00] class: 0\n",
      "|   |   |   |   |   |   |--- age >  11.00\n",
      "|   |   |   |   |   |   |   |--- age <= 17.00\n",
      "|   |   |   |   |   |   |   |   |--- weights: [0.00, 4.00] class: 1\n",
      "|   |   |   |   |   |   |   |--- age >  17.00\n",
      "|   |   |   |   |   |   |   |   |--- age <= 37.50\n",
      "|   |   |   |   |   |   |   |   |   |--- age <= 34.00\n",
      "|   |   |   |   |   |   |   |   |   |   |--- age <= 30.50\n",
      "|   |   |   |   |   |   |   |   |   |   |   |--- truncated branch of depth 8\n",
      "|   |   |   |   |   |   |   |   |   |   |--- age >  30.50\n",
      "|   |   |   |   |   |   |   |   |   |   |   |--- weights: [0.00, 2.00] class: 1\n",
      "|   |   |   |   |   |   |   |   |   |--- age >  34.00\n",
      "|   |   |   |   |   |   |   |   |   |   |--- weights: [1.00, 0.00] class: 0\n",
      "|   |   |   |   |   |   |   |   |--- age >  37.50\n",
      "|   |   |   |   |   |   |   |   |   |--- weights: [0.00, 1.00] class: 1\n",
      "|   |   |   |   |   |--- sibsp >  1.50\n",
      "|   |   |   |   |   |   |--- weights: [2.00, 0.00] class: 0\n",
      "|   |   |   |--- age >  39.00\n",
      "|   |   |   |   |--- age <= 55.50\n",
      "|   |   |   |   |   |--- weights: [6.00, 0.00] class: 0\n",
      "|   |   |   |   |--- age >  55.50\n",
      "|   |   |   |   |   |--- weights: [0.00, 1.00] class: 1\n",
      "|   |   |--- sibsp >  2.50\n",
      "|   |   |   |--- age <= 30.50\n",
      "|   |   |   |   |--- weights: [9.00, 0.00] class: 0\n",
      "|   |   |   |--- age >  30.50\n",
      "|   |   |   |   |--- weights: [0.00, 1.00] class: 1\n",
      "|--- sex_male >  0.50\n",
      "|   |--- age <= 3.50\n",
      "|   |   |--- sibsp <= 2.50\n",
      "|   |   |   |--- weights: [0.00, 7.00] class: 1\n",
      "|   |   |--- sibsp >  2.50\n",
      "|   |   |   |--- age <= 2.50\n",
      "|   |   |   |   |--- weights: [4.00, 0.00] class: 0\n",
      "|   |   |   |--- age >  2.50\n",
      "|   |   |   |   |--- weights: [0.00, 1.00] class: 1\n",
      "|   |--- age >  3.50\n",
      "|   |   |--- pclass <= 1.50\n",
      "|   |   |   |--- age <= 53.00\n",
      "|   |   |   |   |--- sibsp <= 1.50\n",
      "|   |   |   |   |   |--- age <= 31.50\n",
      "|   |   |   |   |   |   |--- age <= 27.50\n",
      "|   |   |   |   |   |   |   |--- age <= 24.50\n",
      "|   |   |   |   |   |   |   |   |--- age <= 17.50\n",
      "|   |   |   |   |   |   |   |   |   |--- weights: [0.00, 1.00] class: 1\n",
      "|   |   |   |   |   |   |   |   |--- age >  17.50\n",
      "|   |   |   |   |   |   |   |   |   |--- age <= 22.50\n",
      "|   |   |   |   |   |   |   |   |   |   |--- weights: [3.00, 0.00] class: 0\n",
      "|   |   |   |   |   |   |   |   |   |--- age >  22.50\n",
      "|   |   |   |   |   |   |   |   |   |   |--- age <= 23.50\n",
      "|   |   |   |   |   |   |   |   |   |   |   |--- weights: [0.00, 1.00] class: 1\n",
      "|   |   |   |   |   |   |   |   |   |   |--- age >  23.50\n",
      "|   |   |   |   |   |   |   |   |   |   |   |--- weights: [2.00, 0.00] class: 0\n",
      "|   |   |   |   |   |   |   |--- age >  24.50\n",
      "|   |   |   |   |   |   |   |   |--- sibsp <= 0.50\n",
      "|   |   |   |   |   |   |   |   |   |--- age <= 26.50\n",
      "|   |   |   |   |   |   |   |   |   |   |--- weights: [0.00, 1.00] class: 1\n",
      "|   |   |   |   |   |   |   |   |   |--- age >  26.50\n",
      "|   |   |   |   |   |   |   |   |   |   |--- weights: [1.00, 1.00] class: 0\n",
      "|   |   |   |   |   |   |   |   |--- sibsp >  0.50\n",
      "|   |   |   |   |   |   |   |   |   |--- weights: [0.00, 3.00] class: 1\n",
      "|   |   |   |   |   |   |--- age >  27.50\n",
      "|   |   |   |   |   |   |   |--- age <= 28.50\n",
      "|   |   |   |   |   |   |   |   |--- weights: [9.00, 4.00] class: 0\n",
      "|   |   |   |   |   |   |   |--- age >  28.50\n",
      "|   |   |   |   |   |   |   |   |--- weights: [3.00, 0.00] class: 0\n",
      "|   |   |   |   |   |--- age >  31.50\n",
      "|   |   |   |   |   |   |--- age <= 35.50\n",
      "|   |   |   |   |   |   |   |--- weights: [0.00, 3.00] class: 1\n",
      "|   |   |   |   |   |   |--- age >  35.50\n",
      "|   |   |   |   |   |   |   |--- age <= 47.50\n",
      "|   |   |   |   |   |   |   |   |--- age <= 43.50\n",
      "|   |   |   |   |   |   |   |   |   |--- age <= 39.00\n",
      "|   |   |   |   |   |   |   |   |   |   |--- age <= 37.50\n",
      "|   |   |   |   |   |   |   |   |   |   |   |--- truncated branch of depth 3\n",
      "|   |   |   |   |   |   |   |   |   |   |--- age >  37.50\n",
      "|   |   |   |   |   |   |   |   |   |   |   |--- weights: [2.00, 0.00] class: 0\n",
      "|   |   |   |   |   |   |   |   |   |--- age >  39.00\n",
      "|   |   |   |   |   |   |   |   |   |   |--- weights: [0.00, 3.00] class: 1\n",
      "|   |   |   |   |   |   |   |   |--- age >  43.50\n",
      "|   |   |   |   |   |   |   |   |   |--- weights: [5.00, 0.00] class: 0\n",
      "|   |   |   |   |   |   |   |--- age >  47.50\n",
      "|   |   |   |   |   |   |   |   |--- age <= 48.50\n",
      "|   |   |   |   |   |   |   |   |   |--- weights: [0.00, 1.00] class: 1\n",
      "|   |   |   |   |   |   |   |   |--- age >  48.50\n",
      "|   |   |   |   |   |   |   |   |   |--- age <= 51.50\n",
      "|   |   |   |   |   |   |   |   |   |   |--- sibsp <= 0.50\n",
      "|   |   |   |   |   |   |   |   |   |   |   |--- weights: [1.00, 1.00] class: 0\n",
      "|   |   |   |   |   |   |   |   |   |   |--- sibsp >  0.50\n",
      "|   |   |   |   |   |   |   |   |   |   |   |--- weights: [1.00, 1.00] class: 0\n",
      "|   |   |   |   |   |   |   |   |   |--- age >  51.50\n",
      "|   |   |   |   |   |   |   |   |   |   |--- weights: [0.00, 1.00] class: 1\n",
      "|   |   |   |   |--- sibsp >  1.50\n",
      "|   |   |   |   |   |--- weights: [2.00, 0.00] class: 0\n",
      "|   |   |   |--- age >  53.00\n",
      "|   |   |   |   |--- age <= 75.50\n",
      "|   |   |   |   |   |--- weights: [13.00, 0.00] class: 0\n",
      "|   |   |   |   |--- age >  75.50\n",
      "|   |   |   |   |   |--- weights: [0.00, 1.00] class: 1\n",
      "|   |   |--- pclass >  1.50\n",
      "|   |   |   |--- age <= 34.25\n",
      "|   |   |   |   |--- age <= 28.75\n",
      "|   |   |   |   |   |--- sibsp <= 2.50\n",
      "|   |   |   |   |   |   |--- age <= 12.00\n",
      "|   |   |   |   |   |   |   |--- weights: [0.00, 1.00] class: 1\n",
      "|   |   |   |   |   |   |--- age >  12.00\n",
      "|   |   |   |   |   |   |   |--- age <= 18.50\n",
      "|   |   |   |   |   |   |   |   |--- weights: [15.00, 0.00] class: 0\n",
      "|   |   |   |   |   |   |   |--- age >  18.50\n",
      "|   |   |   |   |   |   |   |   |--- age <= 20.25\n",
      "|   |   |   |   |   |   |   |   |   |--- pclass <= 2.50\n",
      "|   |   |   |   |   |   |   |   |   |   |--- sibsp <= 0.50\n",
      "|   |   |   |   |   |   |   |   |   |   |   |--- weights: [0.00, 1.00] class: 1\n",
      "|   |   |   |   |   |   |   |   |   |   |--- sibsp >  0.50\n",
      "|   |   |   |   |   |   |   |   |   |   |   |--- weights: [1.00, 0.00] class: 0\n",
      "|   |   |   |   |   |   |   |   |   |--- pclass >  2.50\n",
      "|   |   |   |   |   |   |   |   |   |   |--- sibsp <= 0.50\n",
      "|   |   |   |   |   |   |   |   |   |   |   |--- truncated branch of depth 2\n",
      "|   |   |   |   |   |   |   |   |   |   |--- sibsp >  0.50\n",
      "|   |   |   |   |   |   |   |   |   |   |   |--- weights: [0.00, 1.00] class: 1\n",
      "|   |   |   |   |   |   |   |   |--- age >  20.25\n",
      "|   |   |   |   |   |   |   |   |   |--- age <= 24.75\n",
      "|   |   |   |   |   |   |   |   |   |   |--- age <= 21.50\n",
      "|   |   |   |   |   |   |   |   |   |   |   |--- truncated branch of depth 3\n",
      "|   |   |   |   |   |   |   |   |   |   |--- age >  21.50\n",
      "|   |   |   |   |   |   |   |   |   |   |   |--- weights: [23.00, 0.00] class: 0\n",
      "|   |   |   |   |   |   |   |   |   |--- age >  24.75\n",
      "|   |   |   |   |   |   |   |   |   |   |--- age <= 27.50\n",
      "|   |   |   |   |   |   |   |   |   |   |   |--- truncated branch of depth 5\n",
      "|   |   |   |   |   |   |   |   |   |   |--- age >  27.50\n",
      "|   |   |   |   |   |   |   |   |   |   |   |--- truncated branch of depth 5\n",
      "|   |   |   |   |   |--- sibsp >  2.50\n",
      "|   |   |   |   |   |   |--- weights: [8.00, 0.00] class: 0\n",
      "|   |   |   |   |--- age >  28.75\n",
      "|   |   |   |   |   |--- age <= 29.50\n",
      "|   |   |   |   |   |   |--- weights: [0.00, 1.00] class: 1\n",
      "|   |   |   |   |   |--- age >  29.50\n",
      "|   |   |   |   |   |   |--- age <= 32.50\n",
      "|   |   |   |   |   |   |   |--- age <= 30.50\n",
      "|   |   |   |   |   |   |   |   |--- pclass <= 2.50\n",
      "|   |   |   |   |   |   |   |   |   |--- weights: [3.00, 0.00] class: 0\n",
      "|   |   |   |   |   |   |   |   |--- pclass >  2.50\n",
      "|   |   |   |   |   |   |   |   |   |--- weights: [4.00, 1.00] class: 0\n",
      "|   |   |   |   |   |   |   |--- age >  30.50\n",
      "|   |   |   |   |   |   |   |   |--- pclass <= 2.50\n",
      "|   |   |   |   |   |   |   |   |   |--- sibsp <= 1.50\n",
      "|   |   |   |   |   |   |   |   |   |   |--- weights: [0.00, 2.00] class: 1\n",
      "|   |   |   |   |   |   |   |   |   |--- sibsp >  1.50\n",
      "|   |   |   |   |   |   |   |   |   |   |--- weights: [1.00, 0.00] class: 0\n",
      "|   |   |   |   |   |   |   |   |--- pclass >  2.50\n",
      "|   |   |   |   |   |   |   |   |   |--- age <= 31.50\n",
      "|   |   |   |   |   |   |   |   |   |   |--- weights: [2.00, 1.00] class: 0\n",
      "|   |   |   |   |   |   |   |   |   |--- age >  31.50\n",
      "|   |   |   |   |   |   |   |   |   |   |--- weights: [4.00, 2.00] class: 0\n",
      "|   |   |   |   |   |   |--- age >  32.50\n",
      "|   |   |   |   |   |   |   |--- pclass <= 2.50\n",
      "|   |   |   |   |   |   |   |   |--- sibsp <= 0.50\n",
      "|   |   |   |   |   |   |   |   |   |--- age <= 33.50\n",
      "|   |   |   |   |   |   |   |   |   |   |--- weights: [1.00, 0.00] class: 0\n",
      "|   |   |   |   |   |   |   |   |   |--- age >  33.50\n",
      "|   |   |   |   |   |   |   |   |   |   |--- weights: [1.00, 1.00] class: 0\n",
      "|   |   |   |   |   |   |   |   |--- sibsp >  0.50\n",
      "|   |   |   |   |   |   |   |   |   |--- weights: [2.00, 0.00] class: 0\n",
      "|   |   |   |   |   |   |   |--- pclass >  2.50\n",
      "|   |   |   |   |   |   |   |   |--- weights: [6.00, 0.00] class: 0\n",
      "|   |   |   |--- age >  34.25\n",
      "|   |   |   |   |--- age <= 41.00\n",
      "|   |   |   |   |   |--- weights: [24.00, 0.00] class: 0\n",
      "|   |   |   |   |--- age >  41.00\n",
      "|   |   |   |   |   |--- age <= 45.25\n",
      "|   |   |   |   |   |   |--- age <= 44.50\n",
      "|   |   |   |   |   |   |   |--- pclass <= 2.50\n",
      "|   |   |   |   |   |   |   |   |--- sibsp <= 0.50\n",
      "|   |   |   |   |   |   |   |   |   |--- weights: [0.00, 1.00] class: 1\n",
      "|   |   |   |   |   |   |   |   |--- sibsp >  0.50\n",
      "|   |   |   |   |   |   |   |   |   |--- weights: [2.00, 0.00] class: 0\n",
      "|   |   |   |   |   |   |   |--- pclass >  2.50\n",
      "|   |   |   |   |   |   |   |   |--- weights: [5.00, 0.00] class: 0\n",
      "|   |   |   |   |   |   |--- age >  44.50\n",
      "|   |   |   |   |   |   |   |--- weights: [1.00, 1.00] class: 0\n",
      "|   |   |   |   |   |--- age >  45.25\n",
      "|   |   |   |   |   |   |--- weights: [13.00, 0.00] class: 0\n",
      "\n"
     ]
    }
   ],
   "source": [
    "# what does the tree look like?\n",
    "print(export_text(tree, feature_names=X_train.columns.tolist(), show_weights=True))"
   ]
  },
  {
   "cell_type": "code",
   "execution_count": 27,
   "metadata": {},
   "outputs": [
    {
     "data": {
      "text/plain": [
       "[Text(190.06732069672134, 476.36526315789473, 'X[0] <= 0.5\\ngini = 0.473\\nsamples = 498\\nvalue = [307, 191]'),\n",
       " Text(86.53573770491803, 450.61578947368423, 'X[1] <= 2.5\\ngini = 0.365\\nsamples = 175\\nvalue = [42, 133]'),\n",
       " Text(32.199344262295085, 424.8663157894737, 'X[2] <= 3.0\\ngini = 0.081\\nsamples = 94\\nvalue = [4, 90]'),\n",
       " Text(24.149508196721314, 399.1168421052632, 'gini = 0.0\\nsamples = 1\\nvalue = [1, 0]'),\n",
       " Text(40.24918032786886, 399.1168421052632, 'X[2] <= 23.5\\ngini = 0.062\\nsamples = 93\\nvalue = [3, 90]'),\n",
       " Text(32.199344262295085, 373.3673684210526, 'gini = 0.0\\nsamples = 26\\nvalue = [0, 26]'),\n",
       " Text(48.29901639344263, 373.3673684210526, 'X[2] <= 27.5\\ngini = 0.086\\nsamples = 67\\nvalue = [3, 64]'),\n",
       " Text(32.199344262295085, 347.6178947368421, 'X[2] <= 26.5\\ngini = 0.298\\nsamples = 11\\nvalue = [2, 9]'),\n",
       " Text(24.149508196721314, 321.86842105263156, 'X[3] <= 0.5\\ngini = 0.198\\nsamples = 9\\nvalue = [1, 8]'),\n",
       " Text(16.099672131147543, 296.11894736842106, 'X[1] <= 1.5\\ngini = 0.32\\nsamples = 5\\nvalue = [1, 4]'),\n",
       " Text(8.049836065573771, 270.3694736842105, 'gini = 0.0\\nsamples = 3\\nvalue = [0, 3]'),\n",
       " Text(24.149508196721314, 270.3694736842105, 'gini = 0.5\\nsamples = 2\\nvalue = [1, 1]'),\n",
       " Text(32.199344262295085, 296.11894736842106, 'gini = 0.0\\nsamples = 4\\nvalue = [0, 4]'),\n",
       " Text(40.24918032786886, 321.86842105263156, 'gini = 0.5\\nsamples = 2\\nvalue = [1, 1]'),\n",
       " Text(64.39868852459017, 347.6178947368421, 'X[2] <= 48.5\\ngini = 0.035\\nsamples = 56\\nvalue = [1, 55]'),\n",
       " Text(56.3488524590164, 321.86842105263156, 'gini = 0.0\\nsamples = 43\\nvalue = [0, 43]'),\n",
       " Text(72.44852459016394, 321.86842105263156, 'X[2] <= 52.0\\ngini = 0.142\\nsamples = 13\\nvalue = [1, 12]'),\n",
       " Text(64.39868852459017, 296.11894736842106, 'X[1] <= 1.5\\ngini = 0.32\\nsamples = 5\\nvalue = [1, 4]'),\n",
       " Text(56.3488524590164, 270.3694736842105, 'gini = 0.5\\nsamples = 2\\nvalue = [1, 1]'),\n",
       " Text(72.44852459016394, 270.3694736842105, 'gini = 0.0\\nsamples = 3\\nvalue = [0, 3]'),\n",
       " Text(80.49836065573771, 296.11894736842106, 'gini = 0.0\\nsamples = 8\\nvalue = [0, 8]'),\n",
       " Text(140.87213114754098, 424.8663157894737, 'X[3] <= 2.5\\ngini = 0.498\\nsamples = 81\\nvalue = [38, 43]'),\n",
       " Text(120.74754098360657, 399.1168421052632, 'X[2] <= 39.0\\ngini = 0.483\\nsamples = 71\\nvalue = [29, 42]'),\n",
       " Text(104.64786885245903, 373.3673684210526, 'X[2] <= 7.0\\ngini = 0.46\\nsamples = 64\\nvalue = [23, 41]'),\n",
       " Text(96.59803278688526, 347.6178947368421, 'gini = 0.0\\nsamples = 6\\nvalue = [0, 6]'),\n",
       " Text(112.6977049180328, 347.6178947368421, 'X[3] <= 1.5\\ngini = 0.479\\nsamples = 58\\nvalue = [23, 35]'),\n",
       " Text(104.64786885245903, 321.86842105263156, 'X[2] <= 11.0\\ngini = 0.469\\nsamples = 56\\nvalue = [21, 35]'),\n",
       " Text(96.59803278688526, 296.11894736842106, 'gini = 0.0\\nsamples = 1\\nvalue = [1, 0]'),\n",
       " Text(112.6977049180328, 296.11894736842106, 'X[2] <= 17.0\\ngini = 0.463\\nsamples = 55\\nvalue = [20, 35]'),\n",
       " Text(104.64786885245903, 270.3694736842105, 'gini = 0.0\\nsamples = 4\\nvalue = [0, 4]'),\n",
       " Text(120.74754098360657, 270.3694736842105, 'X[2] <= 37.5\\ngini = 0.477\\nsamples = 51\\nvalue = [20, 31]'),\n",
       " Text(112.6977049180328, 244.62, 'X[2] <= 34.0\\ngini = 0.48\\nsamples = 50\\nvalue = [20, 30]'),\n",
       " Text(104.64786885245903, 218.87052631578945, 'X[2] <= 30.5\\ngini = 0.475\\nsamples = 49\\nvalue = [19, 30]'),\n",
       " Text(96.59803278688526, 193.12105263157895, 'X[2] <= 28.5\\ngini = 0.482\\nsamples = 47\\nvalue = [19, 28]'),\n",
       " Text(88.54819672131148, 167.3715789473684, 'X[3] <= 0.5\\ngini = 0.47\\nsamples = 45\\nvalue = [17, 28]'),\n",
       " Text(68.42360655737706, 141.6221052631579, 'X[2] <= 21.5\\ngini = 0.451\\nsamples = 35\\nvalue = [12, 23]'),\n",
       " Text(52.32393442622951, 115.87263157894733, 'X[2] <= 19.5\\ngini = 0.5\\nsamples = 8\\nvalue = [4, 4]'),\n",
       " Text(44.27409836065574, 90.12315789473683, 'gini = 0.5\\nsamples = 6\\nvalue = [3, 3]'),\n",
       " Text(60.373770491803285, 90.12315789473683, 'gini = 0.5\\nsamples = 2\\nvalue = [1, 1]'),\n",
       " Text(84.5232786885246, 115.87263157894733, 'X[2] <= 22.5\\ngini = 0.417\\nsamples = 27\\nvalue = [8, 19]'),\n",
       " Text(76.47344262295083, 90.12315789473683, 'gini = 0.0\\nsamples = 2\\nvalue = [0, 2]'),\n",
       " Text(92.57311475409837, 90.12315789473683, 'X[2] <= 25.5\\ngini = 0.435\\nsamples = 25\\nvalue = [8, 17]'),\n",
       " Text(76.47344262295083, 64.37368421052628, 'X[2] <= 24.5\\ngini = 0.5\\nsamples = 4\\nvalue = [2, 2]'),\n",
       " Text(68.42360655737706, 38.62421052631578, 'X[2] <= 23.5\\ngini = 0.444\\nsamples = 3\\nvalue = [1, 2]'),\n",
       " Text(60.373770491803285, 12.874736842105222, 'gini = 0.5\\nsamples = 2\\nvalue = [1, 1]'),\n",
       " Text(76.47344262295083, 12.874736842105222, 'gini = 0.0\\nsamples = 1\\nvalue = [0, 1]'),\n",
       " Text(84.5232786885246, 38.62421052631578, 'gini = 0.0\\nsamples = 1\\nvalue = [1, 0]'),\n",
       " Text(108.67278688524591, 64.37368421052628, 'X[2] <= 27.5\\ngini = 0.408\\nsamples = 21\\nvalue = [6, 15]'),\n",
       " Text(100.62295081967214, 38.62421052631578, 'gini = 0.0\\nsamples = 3\\nvalue = [0, 3]'),\n",
       " Text(116.72262295081968, 38.62421052631578, 'gini = 0.444\\nsamples = 18\\nvalue = [6, 12]'),\n",
       " Text(108.67278688524591, 141.6221052631579, 'X[2] <= 24.5\\ngini = 0.5\\nsamples = 10\\nvalue = [5, 5]'),\n",
       " Text(100.62295081967214, 115.87263157894733, 'gini = 0.0\\nsamples = 1\\nvalue = [0, 1]'),\n",
       " Text(116.72262295081968, 115.87263157894733, 'X[2] <= 27.0\\ngini = 0.494\\nsamples = 9\\nvalue = [5, 4]'),\n",
       " Text(108.67278688524591, 90.12315789473683, 'gini = 0.0\\nsamples = 2\\nvalue = [2, 0]'),\n",
       " Text(124.77245901639346, 90.12315789473683, 'gini = 0.49\\nsamples = 7\\nvalue = [3, 4]'),\n",
       " Text(104.64786885245903, 167.3715789473684, 'gini = 0.0\\nsamples = 2\\nvalue = [2, 0]'),\n",
       " Text(112.6977049180328, 193.12105263157895, 'gini = 0.0\\nsamples = 2\\nvalue = [0, 2]'),\n",
       " Text(120.74754098360657, 218.87052631578945, 'gini = 0.0\\nsamples = 1\\nvalue = [1, 0]'),\n",
       " Text(128.79737704918034, 244.62, 'gini = 0.0\\nsamples = 1\\nvalue = [0, 1]'),\n",
       " Text(120.74754098360657, 321.86842105263156, 'gini = 0.0\\nsamples = 2\\nvalue = [2, 0]'),\n",
       " Text(136.8472131147541, 373.3673684210526, 'X[2] <= 55.5\\ngini = 0.245\\nsamples = 7\\nvalue = [6, 1]'),\n",
       " Text(128.79737704918034, 347.6178947368421, 'gini = 0.0\\nsamples = 6\\nvalue = [6, 0]'),\n",
       " Text(144.89704918032788, 347.6178947368421, 'gini = 0.0\\nsamples = 1\\nvalue = [0, 1]'),\n",
       " Text(160.99672131147543, 399.1168421052632, 'X[2] <= 30.5\\ngini = 0.18\\nsamples = 10\\nvalue = [9, 1]'),\n",
       " Text(152.94688524590165, 373.3673684210526, 'gini = 0.0\\nsamples = 9\\nvalue = [9, 0]'),\n",
       " Text(169.0465573770492, 373.3673684210526, 'gini = 0.0\\nsamples = 1\\nvalue = [0, 1]'),\n",
       " Text(293.5989036885246, 450.61578947368423, 'X[2] <= 3.5\\ngini = 0.295\\nsamples = 323\\nvalue = [265, 58]'),\n",
       " Text(205.27081967213115, 424.8663157894737, 'X[3] <= 2.5\\ngini = 0.444\\nsamples = 12\\nvalue = [4, 8]'),\n",
       " Text(197.2209836065574, 399.1168421052632, 'gini = 0.0\\nsamples = 7\\nvalue = [0, 7]'),\n",
       " Text(213.32065573770495, 399.1168421052632, 'X[2] <= 2.5\\ngini = 0.32\\nsamples = 5\\nvalue = [4, 1]'),\n",
       " Text(205.27081967213115, 373.3673684210526, 'gini = 0.0\\nsamples = 4\\nvalue = [4, 0]'),\n",
       " Text(221.3704918032787, 373.3673684210526, 'gini = 0.0\\nsamples = 1\\nvalue = [0, 1]'),\n",
       " Text(381.9269877049181, 424.8663157894737, 'X[1] <= 1.5\\ngini = 0.27\\nsamples = 311\\nvalue = [261, 50]'),\n",
       " Text(253.56983606557378, 399.1168421052632, 'X[2] <= 53.0\\ngini = 0.462\\nsamples = 69\\nvalue = [44, 25]'),\n",
       " Text(237.47016393442624, 373.3673684210526, 'X[3] <= 1.5\\ngini = 0.492\\nsamples = 55\\nvalue = [31, 24]'),\n",
       " Text(229.4203278688525, 347.6178947368421, 'X[2] <= 31.5\\ngini = 0.496\\nsamples = 53\\nvalue = [29, 24]'),\n",
       " Text(201.24590163934428, 321.86842105263156, 'X[2] <= 27.5\\ngini = 0.471\\nsamples = 29\\nvalue = [18, 11]'),\n",
       " Text(177.09639344262297, 296.11894736842106, 'X[2] <= 24.5\\ngini = 0.497\\nsamples = 13\\nvalue = [6, 7]'),\n",
       " Text(152.94688524590165, 270.3694736842105, 'X[2] <= 17.5\\ngini = 0.408\\nsamples = 7\\nvalue = [5, 2]'),\n",
       " Text(144.89704918032788, 244.62, 'gini = 0.0\\nsamples = 1\\nvalue = [0, 1]'),\n",
       " Text(160.99672131147543, 244.62, 'X[2] <= 22.5\\ngini = 0.278\\nsamples = 6\\nvalue = [5, 1]'),\n",
       " Text(152.94688524590165, 218.87052631578945, 'gini = 0.0\\nsamples = 3\\nvalue = [3, 0]'),\n",
       " Text(169.0465573770492, 218.87052631578945, 'X[2] <= 23.5\\ngini = 0.444\\nsamples = 3\\nvalue = [2, 1]'),\n",
       " Text(160.99672131147543, 193.12105263157895, 'gini = 0.0\\nsamples = 1\\nvalue = [0, 1]'),\n",
       " Text(177.09639344262297, 193.12105263157895, 'gini = 0.0\\nsamples = 2\\nvalue = [2, 0]'),\n",
       " Text(201.24590163934428, 270.3694736842105, 'X[3] <= 0.5\\ngini = 0.278\\nsamples = 6\\nvalue = [1, 5]'),\n",
       " Text(193.1960655737705, 244.62, 'X[2] <= 26.5\\ngini = 0.444\\nsamples = 3\\nvalue = [1, 2]'),\n",
       " Text(185.14622950819674, 218.87052631578945, 'gini = 0.0\\nsamples = 1\\nvalue = [0, 1]'),\n",
       " Text(201.24590163934428, 218.87052631578945, 'gini = 0.5\\nsamples = 2\\nvalue = [1, 1]'),\n",
       " Text(209.29573770491805, 244.62, 'gini = 0.0\\nsamples = 3\\nvalue = [0, 3]'),\n",
       " Text(225.3954098360656, 296.11894736842106, 'X[2] <= 28.5\\ngini = 0.375\\nsamples = 16\\nvalue = [12, 4]'),\n",
       " Text(217.34557377049182, 270.3694736842105, 'gini = 0.426\\nsamples = 13\\nvalue = [9, 4]'),\n",
       " Text(233.44524590163937, 270.3694736842105, 'gini = 0.0\\nsamples = 3\\nvalue = [3, 0]'),\n",
       " Text(257.5947540983607, 321.86842105263156, 'X[2] <= 35.5\\ngini = 0.497\\nsamples = 24\\nvalue = [11, 13]'),\n",
       " Text(249.5449180327869, 296.11894736842106, 'gini = 0.0\\nsamples = 3\\nvalue = [0, 3]'),\n",
       " Text(265.6445901639345, 296.11894736842106, 'X[2] <= 47.5\\ngini = 0.499\\nsamples = 21\\nvalue = [11, 10]'),\n",
       " Text(249.5449180327869, 270.3694736842105, 'X[2] <= 43.5\\ngini = 0.48\\nsamples = 15\\nvalue = [9, 6]'),\n",
       " Text(241.49508196721314, 244.62, 'X[2] <= 39.0\\ngini = 0.48\\nsamples = 10\\nvalue = [4, 6]'),\n",
       " Text(233.44524590163937, 218.87052631578945, 'X[2] <= 37.5\\ngini = 0.49\\nsamples = 7\\nvalue = [4, 3]'),\n",
       " Text(225.3954098360656, 193.12105263157895, 'X[2] <= 36.5\\ngini = 0.48\\nsamples = 5\\nvalue = [2, 3]'),\n",
       " Text(217.34557377049182, 167.3715789473684, 'X[3] <= 0.5\\ngini = 0.5\\nsamples = 4\\nvalue = [2, 2]'),\n",
       " Text(209.29573770491805, 141.6221052631579, 'gini = 0.444\\nsamples = 3\\nvalue = [1, 2]'),\n",
       " Text(225.3954098360656, 141.6221052631579, 'gini = 0.0\\nsamples = 1\\nvalue = [1, 0]'),\n",
       " Text(233.44524590163937, 167.3715789473684, 'gini = 0.0\\nsamples = 1\\nvalue = [0, 1]'),\n",
       " Text(241.49508196721314, 193.12105263157895, 'gini = 0.0\\nsamples = 2\\nvalue = [2, 0]'),\n",
       " Text(249.5449180327869, 218.87052631578945, 'gini = 0.0\\nsamples = 3\\nvalue = [0, 3]'),\n",
       " Text(257.5947540983607, 244.62, 'gini = 0.0\\nsamples = 5\\nvalue = [5, 0]'),\n",
       " Text(281.74426229508197, 270.3694736842105, 'X[2] <= 48.5\\ngini = 0.444\\nsamples = 6\\nvalue = [2, 4]'),\n",
       " Text(273.6944262295082, 244.62, 'gini = 0.0\\nsamples = 1\\nvalue = [0, 1]'),\n",
       " Text(289.79409836065577, 244.62, 'X[2] <= 51.5\\ngini = 0.48\\nsamples = 5\\nvalue = [2, 3]'),\n",
       " Text(281.74426229508197, 218.87052631578945, 'X[3] <= 0.5\\ngini = 0.5\\nsamples = 4\\nvalue = [2, 2]'),\n",
       " Text(273.6944262295082, 193.12105263157895, 'gini = 0.5\\nsamples = 2\\nvalue = [1, 1]'),\n",
       " Text(289.79409836065577, 193.12105263157895, 'gini = 0.5\\nsamples = 2\\nvalue = [1, 1]'),\n",
       " Text(297.84393442622957, 218.87052631578945, 'gini = 0.0\\nsamples = 1\\nvalue = [0, 1]'),\n",
       " Text(245.52000000000004, 347.6178947368421, 'gini = 0.0\\nsamples = 2\\nvalue = [2, 0]'),\n",
       " Text(269.6695081967213, 373.3673684210526, 'X[2] <= 75.5\\ngini = 0.133\\nsamples = 14\\nvalue = [13, 1]'),\n",
       " Text(261.6196721311476, 347.6178947368421, 'gini = 0.0\\nsamples = 13\\nvalue = [13, 0]'),\n",
       " Text(277.7193442622951, 347.6178947368421, 'gini = 0.0\\nsamples = 1\\nvalue = [0, 1]'),\n",
       " Text(510.28413934426237, 399.1168421052632, 'X[2] <= 34.25\\ngini = 0.185\\nsamples = 242\\nvalue = [217, 25]'),\n",
       " Text(430.91778688524596, 373.3673684210526, 'X[2] <= 28.75\\ngini = 0.208\\nsamples = 195\\nvalue = [172, 23]'),\n",
       " Text(362.74573770491804, 347.6178947368421, 'X[3] <= 2.5\\ngini = 0.167\\nsamples = 163\\nvalue = [148, 15]'),\n",
       " Text(354.6959016393443, 321.86842105263156, 'X[2] <= 12.0\\ngini = 0.175\\nsamples = 155\\nvalue = [140, 15]'),\n",
       " Text(346.6460655737705, 296.11894736842106, 'gini = 0.0\\nsamples = 1\\nvalue = [0, 1]'),\n",
       " Text(362.74573770491804, 296.11894736842106, 'X[2] <= 18.5\\ngini = 0.165\\nsamples = 154\\nvalue = [140, 14]'),\n",
       " Text(354.6959016393443, 270.3694736842105, 'gini = 0.0\\nsamples = 15\\nvalue = [15, 0]'),\n",
       " Text(370.79557377049184, 270.3694736842105, 'X[2] <= 20.25\\ngini = 0.181\\nsamples = 139\\nvalue = [125, 14]'),\n",
       " Text(330.04327868852465, 244.62, 'X[1] <= 2.5\\ngini = 0.32\\nsamples = 15\\nvalue = [12, 3]'),\n",
       " Text(313.94360655737705, 218.87052631578945, 'X[3] <= 0.5\\ngini = 0.5\\nsamples = 2\\nvalue = [1, 1]'),\n",
       " Text(305.8937704918033, 193.12105263157895, 'gini = 0.0\\nsamples = 1\\nvalue = [0, 1]'),\n",
       " Text(321.99344262295085, 193.12105263157895, 'gini = 0.0\\nsamples = 1\\nvalue = [1, 0]'),\n",
       " Text(346.14295081967214, 218.87052631578945, 'X[3] <= 0.5\\ngini = 0.26\\nsamples = 13\\nvalue = [11, 2]'),\n",
       " Text(338.0931147540984, 193.12105263157895, 'X[2] <= 19.5\\ngini = 0.153\\nsamples = 12\\nvalue = [11, 1]'),\n",
       " Text(330.04327868852465, 167.3715789473684, 'gini = 0.0\\nsamples = 6\\nvalue = [6, 0]'),\n",
       " Text(346.14295081967214, 167.3715789473684, 'gini = 0.278\\nsamples = 6\\nvalue = [5, 1]'),\n",
       " Text(354.19278688524594, 193.12105263157895, 'gini = 0.0\\nsamples = 1\\nvalue = [0, 1]'),\n",
       " Text(411.54786885245903, 244.62, 'X[2] <= 24.75\\ngini = 0.162\\nsamples = 124\\nvalue = [113, 11]'),\n",
       " Text(378.3422950819672, 218.87052631578945, 'X[2] <= 21.5\\ngini = 0.056\\nsamples = 35\\nvalue = [34, 1]'),\n",
       " Text(370.2924590163935, 193.12105263157895, 'X[1] <= 2.5\\ngini = 0.153\\nsamples = 12\\nvalue = [11, 1]'),\n",
       " Text(362.24262295081974, 167.3715789473684, 'gini = 0.0\\nsamples = 3\\nvalue = [3, 0]'),\n",
       " Text(378.3422950819672, 167.3715789473684, 'X[2] <= 20.75\\ngini = 0.198\\nsamples = 9\\nvalue = [8, 1]'),\n",
       " Text(370.2924590163935, 141.6221052631579, 'gini = 0.0\\nsamples = 1\\nvalue = [1, 0]'),\n",
       " Text(386.392131147541, 141.6221052631579, 'gini = 0.219\\nsamples = 8\\nvalue = [7, 1]'),\n",
       " Text(386.392131147541, 193.12105263157895, 'gini = 0.0\\nsamples = 23\\nvalue = [23, 0]'),\n",
       " Text(444.75344262295084, 218.87052631578945, 'X[2] <= 27.5\\ngini = 0.199\\nsamples = 89\\nvalue = [79, 10]'),\n",
       " Text(414.5665573770492, 193.12105263157895, 'X[1] <= 2.5\\ngini = 0.32\\nsamples = 25\\nvalue = [20, 5]'),\n",
       " Text(406.51672131147546, 167.3715789473684, 'gini = 0.0\\nsamples = 7\\nvalue = [7, 0]'),\n",
       " Text(422.616393442623, 167.3715789473684, 'X[2] <= 26.5\\ngini = 0.401\\nsamples = 18\\nvalue = [13, 5]'),\n",
       " Text(402.49180327868856, 141.6221052631579, 'X[2] <= 25.5\\ngini = 0.337\\nsamples = 14\\nvalue = [11, 3]'),\n",
       " Text(386.392131147541, 115.87263157894733, 'X[3] <= 0.5\\ngini = 0.408\\nsamples = 7\\nvalue = [5, 2]'),\n",
       " Text(378.3422950819672, 90.12315789473683, 'gini = 0.32\\nsamples = 5\\nvalue = [4, 1]'),\n",
       " Text(394.4419672131148, 90.12315789473683, 'gini = 0.5\\nsamples = 2\\nvalue = [1, 1]'),\n",
       " Text(418.5914754098361, 115.87263157894733, 'X[3] <= 0.5\\ngini = 0.245\\nsamples = 7\\nvalue = [6, 1]'),\n",
       " Text(410.5416393442623, 90.12315789473683, 'gini = 0.375\\nsamples = 4\\nvalue = [3, 1]'),\n",
       " Text(426.6413114754099, 90.12315789473683, 'gini = 0.0\\nsamples = 3\\nvalue = [3, 0]'),\n",
       " Text(442.7409836065574, 141.6221052631579, 'X[3] <= 0.5\\ngini = 0.5\\nsamples = 4\\nvalue = [2, 2]'),\n",
       " Text(434.69114754098365, 115.87263157894733, 'gini = 0.444\\nsamples = 3\\nvalue = [1, 2]'),\n",
       " Text(450.7908196721312, 115.87263157894733, 'gini = 0.0\\nsamples = 1\\nvalue = [1, 0]'),\n",
       " Text(474.9403278688525, 193.12105263157895, 'X[3] <= 1.5\\ngini = 0.144\\nsamples = 64\\nvalue = [59, 5]'),\n",
       " Text(466.89049180327874, 167.3715789473684, 'X[1] <= 2.5\\ngini = 0.123\\nsamples = 61\\nvalue = [57, 4]'),\n",
       " Text(458.840655737705, 141.6221052631579, 'gini = 0.198\\nsamples = 9\\nvalue = [8, 1]'),\n",
       " Text(474.9403278688525, 141.6221052631579, 'X[3] <= 0.5\\ngini = 0.109\\nsamples = 52\\nvalue = [49, 3]'),\n",
       " Text(466.89049180327874, 115.87263157894733, 'X[2] <= 28.25\\ngini = 0.115\\nsamples = 49\\nvalue = [46, 3]'),\n",
       " Text(458.840655737705, 90.12315789473683, 'gini = 0.12\\nsamples = 47\\nvalue = [44, 3]'),\n",
       " Text(474.9403278688525, 90.12315789473683, 'gini = 0.0\\nsamples = 2\\nvalue = [2, 0]'),\n",
       " Text(482.9901639344263, 115.87263157894733, 'gini = 0.0\\nsamples = 3\\nvalue = [3, 0]'),\n",
       " Text(482.9901639344263, 167.3715789473684, 'gini = 0.444\\nsamples = 3\\nvalue = [2, 1]'),\n",
       " Text(370.79557377049184, 321.86842105263156, 'gini = 0.0\\nsamples = 8\\nvalue = [8, 0]'),\n",
       " Text(499.0898360655738, 347.6178947368421, 'X[2] <= 29.5\\ngini = 0.375\\nsamples = 32\\nvalue = [24, 8]'),\n",
       " Text(491.0400000000001, 321.86842105263156, 'gini = 0.0\\nsamples = 1\\nvalue = [0, 1]'),\n",
       " Text(507.13967213114756, 321.86842105263156, 'X[2] <= 32.5\\ngini = 0.35\\nsamples = 31\\nvalue = [24, 7]'),\n",
       " Text(464.8780327868853, 296.11894736842106, 'X[2] <= 30.5\\ngini = 0.42\\nsamples = 20\\nvalue = [14, 6]'),\n",
       " Text(444.75344262295084, 270.3694736842105, 'X[1] <= 2.5\\ngini = 0.219\\nsamples = 8\\nvalue = [7, 1]'),\n",
       " Text(436.7036065573771, 244.62, 'gini = 0.0\\nsamples = 3\\nvalue = [3, 0]'),\n",
       " Text(452.80327868852464, 244.62, 'gini = 0.32\\nsamples = 5\\nvalue = [4, 1]'),\n",
       " Text(485.0026229508197, 270.3694736842105, 'X[1] <= 2.5\\ngini = 0.486\\nsamples = 12\\nvalue = [7, 5]'),\n",
       " Text(468.9029508196722, 244.62, 'X[3] <= 1.5\\ngini = 0.444\\nsamples = 3\\nvalue = [1, 2]'),\n",
       " Text(460.8531147540984, 218.87052631578945, 'gini = 0.0\\nsamples = 2\\nvalue = [0, 2]'),\n",
       " Text(476.9527868852459, 218.87052631578945, 'gini = 0.0\\nsamples = 1\\nvalue = [1, 0]'),\n",
       " Text(501.10229508196727, 244.62, 'X[2] <= 31.5\\ngini = 0.444\\nsamples = 9\\nvalue = [6, 3]'),\n",
       " Text(493.05245901639347, 218.87052631578945, 'gini = 0.444\\nsamples = 3\\nvalue = [2, 1]'),\n",
       " Text(509.152131147541, 218.87052631578945, 'gini = 0.444\\nsamples = 6\\nvalue = [4, 2]'),\n",
       " Text(549.4013114754099, 296.11894736842106, 'X[1] <= 2.5\\ngini = 0.165\\nsamples = 11\\nvalue = [10, 1]'),\n",
       " Text(541.3514754098361, 270.3694736842105, 'X[3] <= 0.5\\ngini = 0.32\\nsamples = 5\\nvalue = [4, 1]'),\n",
       " Text(533.3016393442623, 244.62, 'X[2] <= 33.5\\ngini = 0.444\\nsamples = 3\\nvalue = [2, 1]'),\n",
       " Text(525.2518032786886, 218.87052631578945, 'gini = 0.0\\nsamples = 1\\nvalue = [1, 0]'),\n",
       " Text(541.3514754098361, 218.87052631578945, 'gini = 0.5\\nsamples = 2\\nvalue = [1, 1]'),\n",
       " Text(549.4013114754099, 244.62, 'gini = 0.0\\nsamples = 2\\nvalue = [2, 0]'),\n",
       " Text(557.4511475409837, 270.3694736842105, 'gini = 0.0\\nsamples = 6\\nvalue = [6, 0]'),\n",
       " Text(589.6504918032788, 373.3673684210526, 'X[2] <= 41.0\\ngini = 0.081\\nsamples = 47\\nvalue = [45, 2]'),\n",
       " Text(581.600655737705, 347.6178947368421, 'gini = 0.0\\nsamples = 24\\nvalue = [24, 0]'),\n",
       " Text(597.7003278688525, 347.6178947368421, 'X[2] <= 45.25\\ngini = 0.159\\nsamples = 23\\nvalue = [21, 2]'),\n",
       " Text(589.6504918032788, 321.86842105263156, 'X[2] <= 44.5\\ngini = 0.32\\nsamples = 10\\nvalue = [8, 2]'),\n",
       " Text(581.600655737705, 296.11894736842106, 'X[1] <= 2.5\\ngini = 0.219\\nsamples = 8\\nvalue = [7, 1]'),\n",
       " Text(573.5508196721312, 270.3694736842105, 'X[3] <= 0.5\\ngini = 0.444\\nsamples = 3\\nvalue = [2, 1]'),\n",
       " Text(565.5009836065574, 244.62, 'gini = 0.0\\nsamples = 1\\nvalue = [0, 1]'),\n",
       " Text(581.600655737705, 244.62, 'gini = 0.0\\nsamples = 2\\nvalue = [2, 0]'),\n",
       " Text(589.6504918032788, 270.3694736842105, 'gini = 0.0\\nsamples = 5\\nvalue = [5, 0]'),\n",
       " Text(597.7003278688525, 296.11894736842106, 'gini = 0.5\\nsamples = 2\\nvalue = [1, 1]'),\n",
       " Text(605.7501639344263, 321.86842105263156, 'gini = 0.0\\nsamples = 13\\nvalue = [13, 0]')]"
      ]
     },
     "execution_count": 27,
     "metadata": {},
     "output_type": "execute_result"
    },
    {
     "data": {
      "image/png": "[encoded data removed]",
      "text/plain": [
       "<Figure size 792x648 with 1 Axes>"
      ]
     },
     "metadata": {
      "needs_background": "light"
     },
     "output_type": "display_data"
    }
   ],
   "source": [
    "# this is garbage\n",
    "\n",
    "plot_tree(tree, filled=True, rounded=True)"
   ]
  },
  {
   "cell_type": "code",
   "execution_count": 28,
   "metadata": {},
   "outputs": [],
   "source": [
    "# now let's dive in and take a close look once we add some hyperparameters\n",
    "\n"
   ]
  },
  {
   "cell_type": "code",
   "execution_count": 88,
   "metadata": {},
   "outputs": [
    {
     "data": {
      "text/plain": [
       "DecisionTreeClassifier(max_leaf_nodes=4)"
      ]
     },
     "execution_count": 88,
     "metadata": {},
     "output_type": "execute_result"
    }
   ],
   "source": [
    "tree1 = DecisionTreeClassifier(max_leaf_nodes=4)\n",
    "tree1.fit(X_train, y_train)"
   ]
  },
  {
   "cell_type": "code",
   "execution_count": 89,
   "metadata": {},
   "outputs": [
    {
     "name": "stdout",
     "output_type": "stream",
     "text": [
      "training score: 80.72%\n",
      "validate score: 77.57%\n"
     ]
    }
   ],
   "source": [
    "print(f'training score: {tree1.score(X_train, y_train):.2%}')\n",
    "print(f'validate score: {tree1.score(X_validate, y_validate):.2%}')"
   ]
  },
  {
   "cell_type": "code",
   "execution_count": 90,
   "metadata": {},
   "outputs": [
    {
     "data": {
      "text/plain": [
       "[Text(306.90000000000003, 407.7, 'X[0] <= 0.5\\ngini = 0.473\\nsamples = 498\\nvalue = [307, 191]'),\n",
       " Text(153.45000000000002, 244.62, 'X[1] <= 2.5\\ngini = 0.365\\nsamples = 175\\nvalue = [42, 133]'),\n",
       " Text(76.72500000000001, 81.53999999999996, 'gini = 0.081\\nsamples = 94\\nvalue = [4, 90]'),\n",
       " Text(230.175, 81.53999999999996, 'gini = 0.498\\nsamples = 81\\nvalue = [38, 43]'),\n",
       " Text(460.35, 244.62, 'X[2] <= 3.5\\ngini = 0.295\\nsamples = 323\\nvalue = [265, 58]'),\n",
       " Text(383.62500000000006, 81.53999999999996, 'gini = 0.444\\nsamples = 12\\nvalue = [4, 8]'),\n",
       " Text(537.075, 81.53999999999996, 'gini = 0.27\\nsamples = 311\\nvalue = [261, 50]')]"
      ]
     },
     "execution_count": 90,
     "metadata": {},
     "output_type": "execute_result"
    },
    {
     "data": {
      "image/png": "[encoded data removed]",
      "text/plain": [
       "<Figure size 792x648 with 1 Axes>"
      ]
     },
     "metadata": {
      "needs_background": "light"
     },
     "output_type": "display_data"
    }
   ],
   "source": [
    "plot_tree(tree1, filled=True, rounded=True)"
   ]
  },
  {
   "cell_type": "markdown",
   "metadata": {},
   "source": [
    "3. Evaluate your in-sample results using the model score, confusion matrix, and classification report."
   ]
  },
  {
   "cell_type": "code",
   "execution_count": 93,
   "metadata": {},
   "outputs": [
    {
     "name": "stdout",
     "output_type": "stream",
     "text": [
      "Tree 1 training score: 80.72%\n",
      "Tree 1 validate score: 77.57%\n"
     ]
    }
   ],
   "source": [
    "print(f'Tree 1 training score: {tree1.score(X_train, y_train):.2%}')\n",
    "print(f'Tree 1 validate score: {tree1.score(X_validate, y_validate):.2%}')"
   ]
  },
  {
   "cell_type": "markdown",
   "metadata": {},
   "source": [
    "4. Compute: Accuracy, true positive rate, false positive rate, true negative rate, false negative rate, precision, recall, f1-score, and support."
   ]
  },
  {
   "cell_type": "code",
   "execution_count": 148,
   "metadata": {},
   "outputs": [
    {
     "data": {
      "text/html": [
       "<div>\n",
       "<style scoped>\n",
       "    .dataframe tbody tr th:only-of-type {\n",
       "        vertical-align: middle;\n",
       "    }\n",
       "\n",
       "    .dataframe tbody tr th {\n",
       "        vertical-align: top;\n",
       "    }\n",
       "\n",
       "    .dataframe thead th {\n",
       "        text-align: right;\n",
       "    }\n",
       "</style>\n",
       "<table border=\"1\" class=\"dataframe\">\n",
       "  <thead>\n",
       "    <tr style=\"text-align: right;\">\n",
       "      <th></th>\n",
       "      <th>passenger_id</th>\n",
       "      <th>survived</th>\n",
       "      <th>pclass</th>\n",
       "      <th>age</th>\n",
       "      <th>sibsp</th>\n",
       "      <th>parch</th>\n",
       "      <th>fare</th>\n",
       "      <th>alone</th>\n",
       "      <th>embarked_Q</th>\n",
       "      <th>embarked_S</th>\n",
       "      <th>sex_male</th>\n",
       "      <th>prediction</th>\n",
       "    </tr>\n",
       "  </thead>\n",
       "  <tbody>\n",
       "    <tr>\n",
       "      <th>583</th>\n",
       "      <td>583</td>\n",
       "      <td>0</td>\n",
       "      <td>1</td>\n",
       "      <td>36.0</td>\n",
       "      <td>0</td>\n",
       "      <td>0</td>\n",
       "      <td>40.1250</td>\n",
       "      <td>1</td>\n",
       "      <td>0</td>\n",
       "      <td>0</td>\n",
       "      <td>1</td>\n",
       "      <td>0</td>\n",
       "    </tr>\n",
       "    <tr>\n",
       "      <th>165</th>\n",
       "      <td>165</td>\n",
       "      <td>1</td>\n",
       "      <td>3</td>\n",
       "      <td>9.0</td>\n",
       "      <td>0</td>\n",
       "      <td>2</td>\n",
       "      <td>20.5250</td>\n",
       "      <td>0</td>\n",
       "      <td>0</td>\n",
       "      <td>1</td>\n",
       "      <td>1</td>\n",
       "      <td>0</td>\n",
       "    </tr>\n",
       "    <tr>\n",
       "      <th>50</th>\n",
       "      <td>50</td>\n",
       "      <td>0</td>\n",
       "      <td>3</td>\n",
       "      <td>7.0</td>\n",
       "      <td>4</td>\n",
       "      <td>1</td>\n",
       "      <td>39.6875</td>\n",
       "      <td>0</td>\n",
       "      <td>0</td>\n",
       "      <td>1</td>\n",
       "      <td>1</td>\n",
       "      <td>0</td>\n",
       "    </tr>\n",
       "    <tr>\n",
       "      <th>259</th>\n",
       "      <td>259</td>\n",
       "      <td>1</td>\n",
       "      <td>2</td>\n",
       "      <td>50.0</td>\n",
       "      <td>0</td>\n",
       "      <td>1</td>\n",
       "      <td>26.0000</td>\n",
       "      <td>0</td>\n",
       "      <td>0</td>\n",
       "      <td>1</td>\n",
       "      <td>0</td>\n",
       "      <td>1</td>\n",
       "    </tr>\n",
       "    <tr>\n",
       "      <th>306</th>\n",
       "      <td>306</td>\n",
       "      <td>1</td>\n",
       "      <td>1</td>\n",
       "      <td>28.0</td>\n",
       "      <td>0</td>\n",
       "      <td>0</td>\n",
       "      <td>110.8833</td>\n",
       "      <td>1</td>\n",
       "      <td>0</td>\n",
       "      <td>0</td>\n",
       "      <td>0</td>\n",
       "      <td>1</td>\n",
       "    </tr>\n",
       "  </tbody>\n",
       "</table>\n",
       "</div>"
      ],
      "text/plain": [
       "     passenger_id  survived  pclass   age  sibsp  parch      fare  alone  \\\n",
       "583           583         0       1  36.0      0      0   40.1250      1   \n",
       "165           165         1       3   9.0      0      2   20.5250      0   \n",
       "50             50         0       3   7.0      4      1   39.6875      0   \n",
       "259           259         1       2  50.0      0      1   26.0000      0   \n",
       "306           306         1       1  28.0      0      0  110.8833      1   \n",
       "\n",
       "     embarked_Q  embarked_S  sex_male  prediction  \n",
       "583           0           0         1           0  \n",
       "165           0           1         1           0  \n",
       "50            0           1         1           0  \n",
       "259           0           1         0           1  \n",
       "306           0           0         0           1  "
      ]
     },
     "execution_count": 148,
     "metadata": {},
     "output_type": "execute_result"
    }
   ],
   "source": [
    "# let's add the predictions to the df\n",
    "\n",
    "train['prediction'] = tree1.predict(X_train)\n",
    "train.head()"
   ]
  },
  {
   "cell_type": "code",
   "execution_count": 150,
   "metadata": {},
   "outputs": [
    {
     "data": {
      "text/plain": [
       "array([[261,  46],\n",
       "       [ 50, 141]])"
      ]
     },
     "execution_count": 150,
     "metadata": {},
     "output_type": "execute_result"
    }
   ],
   "source": [
    "# confusion matrix\n",
    "confusion_matrix(train.survived, train.prediction)"
   ]
  },
  {
   "cell_type": "code",
   "execution_count": 151,
   "metadata": {},
   "outputs": [
    {
     "data": {
      "text/plain": [
       "0    307\n",
       "1    191\n",
       "Name: survived, dtype: int64"
      ]
     },
     "execution_count": 151,
     "metadata": {},
     "output_type": "execute_result"
    }
   ],
   "source": [
    "train['survived'].value_counts()"
   ]
  },
  {
   "cell_type": "code",
   "execution_count": 118,
   "metadata": {},
   "outputs": [
    {
     "data": {
      "text/plain": [
       "0    311\n",
       "1    187\n",
       "Name: prediction, dtype: int64"
      ]
     },
     "execution_count": 118,
     "metadata": {},
     "output_type": "execute_result"
    }
   ],
   "source": [
    "train.prediction.value_counts()"
   ]
  },
  {
   "cell_type": "code",
   "execution_count": 154,
   "metadata": {},
   "outputs": [
    {
     "data": {
      "text/html": [
       "<div>\n",
       "<style scoped>\n",
       "    .dataframe tbody tr th:only-of-type {\n",
       "        vertical-align: middle;\n",
       "    }\n",
       "\n",
       "    .dataframe tbody tr th {\n",
       "        vertical-align: top;\n",
       "    }\n",
       "\n",
       "    .dataframe thead th {\n",
       "        text-align: right;\n",
       "    }\n",
       "</style>\n",
       "<table border=\"1\" class=\"dataframe\">\n",
       "  <thead>\n",
       "    <tr style=\"text-align: right;\">\n",
       "      <th></th>\n",
       "      <th>pred death</th>\n",
       "      <th>pred survived</th>\n",
       "    </tr>\n",
       "  </thead>\n",
       "  <tbody>\n",
       "    <tr>\n",
       "      <th>actual death</th>\n",
       "      <td>261</td>\n",
       "      <td>46</td>\n",
       "    </tr>\n",
       "    <tr>\n",
       "      <th>actual survived</th>\n",
       "      <td>50</td>\n",
       "      <td>141</td>\n",
       "    </tr>\n",
       "  </tbody>\n",
       "</table>\n",
       "</div>"
      ],
      "text/plain": [
       "                 pred death  pred survived\n",
       "actual death            261             46\n",
       "actual survived          50            141"
      ]
     },
     "execution_count": 154,
     "metadata": {},
     "output_type": "execute_result"
    }
   ],
   "source": [
    "pd.DataFrame(confusion_matrix(train.survived, train.prediction), index=['actual death', 'actual survived'], columns=['pred death', 'pred survived'] )\n",
    "\n",
    "\n",
    "                "
   ]
  },
  {
   "cell_type": "code",
   "execution_count": 135,
   "metadata": {},
   "outputs": [],
   "source": [
    "tp = 141\n",
    "tn = 261\n",
    "fp = 46\n",
    "fn = 50\n",
    "tpr = tp/(tp+fn)\n",
    "fpr = fp/(fp+tn)\n",
    "tnr = tn/(tn+fp)\n",
    "fnr = fn/(fn+tp)"
   ]
  },
  {
   "cell_type": "code",
   "execution_count": 144,
   "metadata": {},
   "outputs": [],
   "source": [
    "# accuracy\n",
    "accuracy_1 = (train.survived == train.prediction).mean()\n",
    "# Precision\n",
    "subset = train[train.prediction == 1]\n",
    "precision_t1 = (subset.prediction == subset.survived).mean()\n",
    "# Recall\n",
    "subset = train[train.survived == 1]\n",
    "recall_t1 = (subset.prediction == subset.survived).mean()\n",
    "# f1-score\n",
    "\n",
    "\n",
    "class_report = pd.DataFrame(classification_report(train.survived, train.prediction, output_dict=True))"
   ]
  },
  {
   "cell_type": "code",
   "execution_count": 145,
   "metadata": {},
   "outputs": [
    {
     "name": "stdout",
     "output_type": "stream",
     "text": [
      "The overall Accuracy is 80.72%\n",
      "The True Positive rate is 73.82%\n",
      "The False Positive rate is 14.98%\n",
      "The True Negative rate is 85.02%\n",
      "The False Negative rate is 26.18%\n",
      "Precision for tree 1 is 75.40%\n",
      "Recall for tree 1 is 73.82%\n"
     ]
    }
   ],
   "source": [
    "print(f'The overall Accuracy is {accuracy_1:.2%}')\n",
    "print(f'The True Positive rate is {tpr:.2%}')\n",
    "print(f'The False Positive rate is {fpr:.2%}')\n",
    "print(f'The True Negative rate is {tnr:.2%}')\n",
    "print(f'The False Negative rate is {fnr:.2%}')\n",
    "print(f'Precision for tree 1 is {precision_t1:.2%}')\n",
    "print(f'Recall for tree 1 is {recall_t1:.2%}')"
   ]
  },
  {
   "cell_type": "code",
   "execution_count": 147,
   "metadata": {},
   "outputs": [
    {
     "data": {
      "text/html": [
       "<div>\n",
       "<style scoped>\n",
       "    .dataframe tbody tr th:only-of-type {\n",
       "        vertical-align: middle;\n",
       "    }\n",
       "\n",
       "    .dataframe tbody tr th {\n",
       "        vertical-align: top;\n",
       "    }\n",
       "\n",
       "    .dataframe thead th {\n",
       "        text-align: right;\n",
       "    }\n",
       "</style>\n",
       "<table border=\"1\" class=\"dataframe\">\n",
       "  <thead>\n",
       "    <tr style=\"text-align: right;\">\n",
       "      <th></th>\n",
       "      <th>0</th>\n",
       "      <th>1</th>\n",
       "      <th>accuracy</th>\n",
       "      <th>macro avg</th>\n",
       "      <th>weighted avg</th>\n",
       "    </tr>\n",
       "  </thead>\n",
       "  <tbody>\n",
       "    <tr>\n",
       "      <th>precision</th>\n",
       "      <td>0.839228</td>\n",
       "      <td>0.754011</td>\n",
       "      <td>0.807229</td>\n",
       "      <td>0.796619</td>\n",
       "      <td>0.806544</td>\n",
       "    </tr>\n",
       "    <tr>\n",
       "      <th>recall</th>\n",
       "      <td>0.850163</td>\n",
       "      <td>0.738220</td>\n",
       "      <td>0.807229</td>\n",
       "      <td>0.794191</td>\n",
       "      <td>0.807229</td>\n",
       "    </tr>\n",
       "    <tr>\n",
       "      <th>f1-score</th>\n",
       "      <td>0.844660</td>\n",
       "      <td>0.746032</td>\n",
       "      <td>0.807229</td>\n",
       "      <td>0.795346</td>\n",
       "      <td>0.806833</td>\n",
       "    </tr>\n",
       "    <tr>\n",
       "      <th>support</th>\n",
       "      <td>307.000000</td>\n",
       "      <td>191.000000</td>\n",
       "      <td>0.807229</td>\n",
       "      <td>498.000000</td>\n",
       "      <td>498.000000</td>\n",
       "    </tr>\n",
       "  </tbody>\n",
       "</table>\n",
       "</div>"
      ],
      "text/plain": [
       "                    0           1  accuracy   macro avg  weighted avg\n",
       "precision    0.839228    0.754011  0.807229    0.796619      0.806544\n",
       "recall       0.850163    0.738220  0.807229    0.794191      0.807229\n",
       "f1-score     0.844660    0.746032  0.807229    0.795346      0.806833\n",
       "support    307.000000  191.000000  0.807229  498.000000    498.000000"
      ]
     },
     "execution_count": 147,
     "metadata": {},
     "output_type": "execute_result"
    }
   ],
   "source": [
    "class_report\n",
    "\n"
   ]
  },
  {
   "cell_type": "markdown",
   "metadata": {},
   "source": [
    "5. Run through steps 2-4 using a different max_depth value."
   ]
  },
  {
   "cell_type": "code",
   "execution_count": null,
   "metadata": {},
   "outputs": [],
   "source": []
  },
  {
   "cell_type": "markdown",
   "metadata": {},
   "source": [
    "6. Which model performs better on your in-sample data?"
   ]
  },
  {
   "cell_type": "code",
   "execution_count": null,
   "metadata": {},
   "outputs": [],
   "source": []
  },
  {
   "cell_type": "markdown",
   "metadata": {},
   "source": [
    "7. Which model performs best on your out-of-sample data, the validate set?"
   ]
  },
  {
   "cell_type": "code",
   "execution_count": null,
   "metadata": {},
   "outputs": [],
   "source": []
  }
 ],
 "metadata": {
  "kernelspec": {
   "display_name": "Python 3.8.5 64-bit ('base': conda)",
   "language": "python",
   "name": "python385jvsc74a57bd0b64057e63add2b45b1ffc7eab9b09c8889b419c878e2fdf0d08f837f0fc857a7"
  },
  "language_info": {
   "codemirror_mode": {
    "name": "ipython",
    "version": 3
   },
   "file_extension": ".py",
   "mimetype": "text/x-python",
   "name": "python",
   "nbconvert_exporter": "python",
   "pygments_lexer": "ipython3",
   "version": "3.8.5"
  }
 },
 "nbformat": 4,
 "nbformat_minor": 4
}
