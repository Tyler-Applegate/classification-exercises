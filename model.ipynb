{
 "cells": [
  {
   "cell_type": "code",
   "execution_count": 92,
   "metadata": {},
   "outputs": [],
   "source": [
    "# imports...\n",
    "import pandas as pd\n",
    "import numpy as np\n",
    "import os\n",
    "from scipy import stats\n",
    "# visualize\n",
    "import seaborn as sns\n",
    "import matplotlib.pyplot as plt\n",
    "plt.rc('figure', figsize=(11, 9))\n",
    "plt.rc('font', size=13)\n",
    "# turn off pink warning boxes\n",
    "import warnings\n",
    "warnings.filterwarnings(\"ignore\")\n",
    "# acquire\n",
    "from env import host, user, password\n",
    "from pydataset import data\n",
    "from sklearn.dummy import DummyClassifier\n",
    "from sklearn.metrics import accuracy_score\n",
    "from sklearn.metrics import precision_score\n",
    "from sklearn.metrics import recall_score\n",
    "from sklearn.metrics import classification_report\n",
    "from sklearn.metrics import confusion_matrix\n",
    "from sklearn.tree import DecisionTreeClassifier, plot_tree, export_text\n",
    "from sklearn.ensemble import RandomForestClassifier\n",
    "from sklearn.neighbors import KNeighborsClassifier\n",
    "from sklearn.linear_model import LogisticRegression\n",
    "# my fancy docs\n",
    "import acquire\n",
    "import prepare\n",
    "import explore\n",
    "import model_func\n",
    "import mf"
   ]
  },
  {
   "cell_type": "code",
   "execution_count": 2,
   "metadata": {},
   "outputs": [],
   "source": [
    "# need to convert"
   ]
  },
  {
   "cell_type": "markdown",
   "metadata": {},
   "source": [
    "## Exercises\n",
    "Using the titanic data, in your classification-exercises repository, create a notebook, model.ipynb where you will do the following:"
   ]
  },
  {
   "cell_type": "code",
   "execution_count": 3,
   "metadata": {},
   "outputs": [],
   "source": [
    "# positive: survives\n",
    "# negative: dies\n",
    "# TP: predict survival, and the passenger actually survived\n",
    "# TN: predict death, and passenger actually died\n",
    "# FN: predict death, but passenger actually survived\n",
    "# FP: predict survival, but passenger actually died"
   ]
  },
  {
   "cell_type": "code",
   "execution_count": 4,
   "metadata": {},
   "outputs": [
    {
     "data": {
      "text/plain": [
       "((498, 11), (214, 11), (179, 11))"
      ]
     },
     "execution_count": 4,
     "metadata": {},
     "output_type": "execute_result"
    }
   ],
   "source": [
    "# lets bring in the data set\n",
    "# titanic_df = acquire.new_titanic_data()\n",
    "# now let's prep it\n",
    "train, validate, test = prepare.prep_titanic_data(acquire.new_titanic_data(), column = 'age', method = 'median', dummies = ['embarked', 'sex'])\n",
    "# split it\n",
    "# train, validate, test = prepare.titanic_split(titanic_df)\n",
    "# what do they look like?\n",
    "train.shape, validate.shape, test.shape"
   ]
  },
  {
   "cell_type": "code",
   "execution_count": 5,
   "metadata": {},
   "outputs": [
    {
     "name": "stdout",
     "output_type": "stream",
     "text": [
      "<class 'pandas.core.frame.DataFrame'>\n",
      "Int64Index: 498 entries, 583 to 744\n",
      "Data columns (total 11 columns):\n",
      " #   Column        Non-Null Count  Dtype  \n",
      "---  ------        --------------  -----  \n",
      " 0   passenger_id  498 non-null    int64  \n",
      " 1   survived      498 non-null    int64  \n",
      " 2   pclass        498 non-null    int64  \n",
      " 3   age           498 non-null    float64\n",
      " 4   sibsp         498 non-null    int64  \n",
      " 5   parch         498 non-null    int64  \n",
      " 6   fare          498 non-null    float64\n",
      " 7   alone         498 non-null    int64  \n",
      " 8   embarked_Q    498 non-null    uint8  \n",
      " 9   embarked_S    498 non-null    uint8  \n",
      " 10  sex_male      498 non-null    uint8  \n",
      "dtypes: float64(2), int64(6), uint8(3)\n",
      "memory usage: 36.5 KB\n"
     ]
    }
   ],
   "source": [
    "train.info()"
   ]
  },
  {
   "cell_type": "code",
   "execution_count": 6,
   "metadata": {},
   "outputs": [],
   "source": [
    "X_train, y_train = train.drop(columns='survived'), train.survived\n",
    "X_validate, y_validate = validate.drop(columns='survived'), validate.survived\n",
    "X_test, y_test = test.drop(columns='survived'), test.survived"
   ]
  },
  {
   "cell_type": "code",
   "execution_count": 7,
   "metadata": {},
   "outputs": [
    {
     "name": "stdout",
     "output_type": "stream",
     "text": [
      "     pclass\n",
      "\n",
      "chi^2 = 55.2252\n",
      "p     = 0.0000\n",
      "------------------------------------\n",
      "     sibsp\n",
      "\n",
      "chi^2 = 24.8926\n",
      "p     = 0.0004\n",
      "------------------------------------\n",
      "     parch\n",
      "\n",
      "chi^2 = 15.4412\n",
      "p     = 0.0086\n",
      "-------------------------------------\n",
      "     alone\n",
      "\n",
      "chi^2 = 18.1920\n",
      "p     = 0.0000\n",
      "-------------------------------------\n",
      "     embarked_Q\n",
      "\n",
      "chi^2 = 0.3542\n",
      "p     = 0.5517\n",
      "-------------------------------------\n",
      "     embarked_S\n",
      "\n",
      "chi^2 = 12.3251\n",
      "p     = 0.0004\n",
      "-------------------------------------\n",
      "     sex_male\n",
      "\n",
      "chi^2 = 159.2890\n",
      "p     = 0.0000\n",
      "-------------------------------------\n"
     ]
    }
   ],
   "source": [
    "# i want to see relationships between each column and 'survived'\n",
    "# 'pclass' - chi2\n",
    "observed1 = pd.crosstab(train.survived, train.pclass)\n",
    "chi2, p, degf, expected = stats.chi2_contingency(observed1)\n",
    "print('     pclass')\n",
    "print('')\n",
    "print(f'chi^2 = {chi2:.4f}')\n",
    "print(f'p     = {p:.4f}')\n",
    "print('------------------------------------')\n",
    "# 'sibsp' - chi2\n",
    "observed2 = pd.crosstab(train.survived, train.sibsp)\n",
    "chi2, p, degf, expected = stats.chi2_contingency(observed2)\n",
    "print('     sibsp')\n",
    "print('')\n",
    "print(f'chi^2 = {chi2:.4f}')\n",
    "print(f'p     = {p:.4f}')\n",
    "print('------------------------------------')\n",
    "# 'parch' - chi2\n",
    "observed3 = pd.crosstab(train.survived, train.parch)\n",
    "chi2, p, degf, expected = stats.chi2_contingency(observed3)\n",
    "print('     parch')\n",
    "print('')\n",
    "print(f'chi^2 = {chi2:.4f}')\n",
    "print(f'p     = {p:.4f}')\n",
    "print('-------------------------------------')\n",
    "# 'alone' - chi2\n",
    "observed4 = pd.crosstab(train.survived, train.alone)\n",
    "chi2, p, degf, expected = stats.chi2_contingency(observed4)\n",
    "print('     alone')\n",
    "print('')\n",
    "print(f'chi^2 = {chi2:.4f}')\n",
    "print(f'p     = {p:.4f}')\n",
    "print('-------------------------------------')\n",
    "# 'embarked_Q' - chi2\n",
    "observed5 = pd.crosstab(train.survived, train.embarked_Q)\n",
    "chi2, p, degf, expected = stats.chi2_contingency(observed5)\n",
    "print('     embarked_Q')\n",
    "print('')\n",
    "print(f'chi^2 = {chi2:.4f}')\n",
    "print(f'p     = {p:.4f}')\n",
    "print('-------------------------------------')\n",
    "# 'embarked_S' - chi2\n",
    "observed6 = pd.crosstab(train.survived, train.embarked_S)\n",
    "chi2, p, degf, expected = stats.chi2_contingency(observed6)\n",
    "print('     embarked_S')\n",
    "print('')\n",
    "print(f'chi^2 = {chi2:.4f}')\n",
    "print(f'p     = {p:.4f}')\n",
    "print('-------------------------------------')\n",
    "# 'sex_male' - chi2\n",
    "observed7 = pd.crosstab(train.survived, train.sex_male)\n",
    "chi2, p, degf, expected = stats.chi2_contingency(observed7)\n",
    "print('     sex_male')\n",
    "print('')\n",
    "print(f'chi^2 = {chi2:.4f}')\n",
    "print(f'p     = {p:.4f}')\n",
    "print('-------------------------------------')"
   ]
  },
  {
   "cell_type": "code",
   "execution_count": null,
   "metadata": {},
   "outputs": [],
   "source": []
  },
  {
   "cell_type": "code",
   "execution_count": null,
   "metadata": {},
   "outputs": [],
   "source": []
  },
  {
   "cell_type": "code",
   "execution_count": null,
   "metadata": {},
   "outputs": [],
   "source": []
  },
  {
   "cell_type": "code",
   "execution_count": null,
   "metadata": {},
   "outputs": [],
   "source": []
  },
  {
   "cell_type": "code",
   "execution_count": 10,
   "metadata": {},
   "outputs": [
    {
     "name": "stdout",
     "output_type": "stream",
     "text": [
      "     age\n",
      "\n",
      "tscore: 49.39\n",
      "p/2:    3.8085496775045816e-194\n",
      "alpha:  0.01\n",
      "-------------------------------------\n",
      "     fare\n",
      "\n",
      "tscore: 14.55\n",
      "p/2:    1.6753909571183626e-40\n",
      "alpha:  0.01\n",
      "-------------------------------------\n"
     ]
    }
   ],
   "source": [
    "# now the continuous...\n",
    "# 'age'\n",
    "# 'fare'\n",
    "\n",
    "# create survival_rate\n",
    "survival_rate = train['survived'].mean()\n",
    "# create age variable for ttest\n",
    "age = train['age']\n",
    "# ttest for age\n",
    "alpha = 0.01\n",
    "t, p = stats.ttest_1samp(age, survival_rate)\n",
    "print('     age')\n",
    "print('')\n",
    "print('tscore:', t.round(2))\n",
    "print('p/2:   ', p/2)\n",
    "print('alpha: ', alpha)\n",
    "print('-------------------------------------')\n",
    "# create fare variable for ttest\n",
    "fare = train['fare']\n",
    "# ttest for fare\n",
    "t, p = stats.ttest_1samp(fare, survival_rate)\n",
    "print('     fare')\n",
    "print('')\n",
    "print('tscore:', t.round(2))\n",
    "print('p/2:   ', p/2)\n",
    "print('alpha: ', alpha)\n",
    "print('-------------------------------------')"
   ]
  },
  {
   "cell_type": "code",
   "execution_count": 11,
   "metadata": {},
   "outputs": [],
   "source": [
    "# so which columns do I want to keep for my model?????\n",
    "# 'sex_male', 'pclass', 'age', 'sibsp'\n",
    "# and maybe 'alone'"
   ]
  },
  {
   "cell_type": "code",
   "execution_count": 12,
   "metadata": {},
   "outputs": [],
   "source": [
    "X_cols = ['sex_male', 'pclass', 'age', 'sibsp']\n",
    "y_col = 'survived'\n",
    "\n",
    "X_train, y_train = train[X_cols], train[y_col]\n",
    "X_validate, y_validate = validate[X_cols], validate[y_col]\n",
    "X_test, y_test = test[X_cols], test[y_col]"
   ]
  },
  {
   "cell_type": "code",
   "execution_count": null,
   "metadata": {},
   "outputs": [],
   "source": []
  },
  {
   "cell_type": "code",
   "execution_count": 13,
   "metadata": {},
   "outputs": [],
   "source": [
    "# X_train is the DF w/o the 'survived' column\n",
    "# y_train is the 'survived' column as a Series"
   ]
  },
  {
   "cell_type": "markdown",
   "metadata": {},
   "source": [
    "1. What is your baseline prediction? What is your baseline accuracy? remember: your baseline prediction for a classification problem is predicting the most prevelant class in the training dataset (the mode). When you make those predictions, what is your accuracy? This is your baseline accuracy."
   ]
  },
  {
   "cell_type": "code",
   "execution_count": 14,
   "metadata": {},
   "outputs": [
    {
     "data": {
      "text/plain": [
       "0    307\n",
       "1    191\n",
       "Name: survived, dtype: int64"
      ]
     },
     "execution_count": 14,
     "metadata": {},
     "output_type": "execute_result"
    }
   ],
   "source": [
    "# what is the mode of 'survived'?\n",
    "y_train.value_counts()\n",
    "# death wins"
   ]
  },
  {
   "cell_type": "code",
   "execution_count": 15,
   "metadata": {},
   "outputs": [
    {
     "name": "stdout",
     "output_type": "stream",
     "text": [
      "Baseline accuracy: 0.6165\n"
     ]
    }
   ],
   "source": [
    "# 1. Create the object\n",
    "baseline = DummyClassifier(strategy='constant', constant=0)\n",
    "# 2. Fit the object\n",
    "baseline.fit(X_train, y_train)\n",
    "# how does it do on training data set?\n",
    "print('Baseline accuracy: %.4f' % baseline.score(X_train, y_train))"
   ]
  },
  {
   "cell_type": "markdown",
   "metadata": {},
   "source": [
    "2. Fit the decision tree classifier to your training sample and transform (i.e. make predictions on the training sample)"
   ]
  },
  {
   "cell_type": "code",
   "execution_count": 16,
   "metadata": {},
   "outputs": [
    {
     "data": {
      "text/plain": [
       "DecisionTreeClassifier()"
      ]
     },
     "execution_count": 16,
     "metadata": {},
     "output_type": "execute_result"
    }
   ],
   "source": [
    "# let's look w/ default hyperparameters\n",
    "tree = DecisionTreeClassifier()\n",
    "tree.fit(X_train, y_train)"
   ]
  },
  {
   "cell_type": "code",
   "execution_count": 17,
   "metadata": {},
   "outputs": [
    {
     "name": "stdout",
     "output_type": "stream",
     "text": [
      "training score: 91.57%\n",
      "validate score: 77.10%\n"
     ]
    }
   ],
   "source": [
    "# how does the DT perform w/ default hyperparameters?\n",
    "print(f'training score: {tree.score(X_train, y_train):.2%}')\n",
    "print(f'validate score: {tree.score(X_validate, y_validate):.2%}')"
   ]
  },
  {
   "cell_type": "code",
   "execution_count": 18,
   "metadata": {},
   "outputs": [
    {
     "name": "stdout",
     "output_type": "stream",
     "text": [
      "|--- sex_male <= 0.50\n",
      "|   |--- pclass <= 2.50\n",
      "|   |   |--- age <= 3.00\n",
      "|   |   |   |--- weights: [1.00, 0.00] class: 0\n",
      "|   |   |--- age >  3.00\n",
      "|   |   |   |--- age <= 23.50\n",
      "|   |   |   |   |--- weights: [0.00, 26.00] class: 1\n",
      "|   |   |   |--- age >  23.50\n",
      "|   |   |   |   |--- age <= 27.50\n",
      "|   |   |   |   |   |--- age <= 26.50\n",
      "|   |   |   |   |   |   |--- sibsp <= 0.50\n",
      "|   |   |   |   |   |   |   |--- pclass <= 1.50\n",
      "|   |   |   |   |   |   |   |   |--- weights: [0.00, 3.00] class: 1\n",
      "|   |   |   |   |   |   |   |--- pclass >  1.50\n",
      "|   |   |   |   |   |   |   |   |--- weights: [1.00, 1.00] class: 0\n",
      "|   |   |   |   |   |   |--- sibsp >  0.50\n",
      "|   |   |   |   |   |   |   |--- weights: [0.00, 4.00] class: 1\n",
      "|   |   |   |   |   |--- age >  26.50\n",
      "|   |   |   |   |   |   |--- weights: [1.00, 1.00] class: 0\n",
      "|   |   |   |   |--- age >  27.50\n",
      "|   |   |   |   |   |--- age <= 48.50\n",
      "|   |   |   |   |   |   |--- weights: [0.00, 43.00] class: 1\n",
      "|   |   |   |   |   |--- age >  48.50\n",
      "|   |   |   |   |   |   |--- age <= 52.00\n",
      "|   |   |   |   |   |   |   |--- pclass <= 1.50\n",
      "|   |   |   |   |   |   |   |   |--- weights: [1.00, 1.00] class: 0\n",
      "|   |   |   |   |   |   |   |--- pclass >  1.50\n",
      "|   |   |   |   |   |   |   |   |--- weights: [0.00, 3.00] class: 1\n",
      "|   |   |   |   |   |   |--- age >  52.00\n",
      "|   |   |   |   |   |   |   |--- weights: [0.00, 8.00] class: 1\n",
      "|   |--- pclass >  2.50\n",
      "|   |   |--- sibsp <= 2.50\n",
      "|   |   |   |--- age <= 39.00\n",
      "|   |   |   |   |--- age <= 7.00\n",
      "|   |   |   |   |   |--- weights: [0.00, 6.00] class: 1\n",
      "|   |   |   |   |--- age >  7.00\n",
      "|   |   |   |   |   |--- age <= 11.00\n",
      "|   |   |   |   |   |   |--- weights: [2.00, 0.00] class: 0\n",
      "|   |   |   |   |   |--- age >  11.00\n",
      "|   |   |   |   |   |   |--- age <= 17.00\n",
      "|   |   |   |   |   |   |   |--- weights: [0.00, 4.00] class: 1\n",
      "|   |   |   |   |   |   |--- age >  17.00\n",
      "|   |   |   |   |   |   |   |--- sibsp <= 1.50\n",
      "|   |   |   |   |   |   |   |   |--- age <= 37.50\n",
      "|   |   |   |   |   |   |   |   |   |--- age <= 34.00\n",
      "|   |   |   |   |   |   |   |   |   |   |--- age <= 30.50\n",
      "|   |   |   |   |   |   |   |   |   |   |   |--- truncated branch of depth 8\n",
      "|   |   |   |   |   |   |   |   |   |   |--- age >  30.50\n",
      "|   |   |   |   |   |   |   |   |   |   |   |--- weights: [0.00, 2.00] class: 1\n",
      "|   |   |   |   |   |   |   |   |   |--- age >  34.00\n",
      "|   |   |   |   |   |   |   |   |   |   |--- weights: [1.00, 0.00] class: 0\n",
      "|   |   |   |   |   |   |   |   |--- age >  37.50\n",
      "|   |   |   |   |   |   |   |   |   |--- weights: [0.00, 1.00] class: 1\n",
      "|   |   |   |   |   |   |   |--- sibsp >  1.50\n",
      "|   |   |   |   |   |   |   |   |--- weights: [1.00, 0.00] class: 0\n",
      "|   |   |   |--- age >  39.00\n",
      "|   |   |   |   |--- age <= 55.50\n",
      "|   |   |   |   |   |--- weights: [6.00, 0.00] class: 0\n",
      "|   |   |   |   |--- age >  55.50\n",
      "|   |   |   |   |   |--- weights: [0.00, 1.00] class: 1\n",
      "|   |   |--- sibsp >  2.50\n",
      "|   |   |   |--- age <= 30.50\n",
      "|   |   |   |   |--- weights: [9.00, 0.00] class: 0\n",
      "|   |   |   |--- age >  30.50\n",
      "|   |   |   |   |--- weights: [0.00, 1.00] class: 1\n",
      "|--- sex_male >  0.50\n",
      "|   |--- age <= 3.50\n",
      "|   |   |--- sibsp <= 2.50\n",
      "|   |   |   |--- weights: [0.00, 7.00] class: 1\n",
      "|   |   |--- sibsp >  2.50\n",
      "|   |   |   |--- age <= 2.50\n",
      "|   |   |   |   |--- weights: [4.00, 0.00] class: 0\n",
      "|   |   |   |--- age >  2.50\n",
      "|   |   |   |   |--- weights: [0.00, 1.00] class: 1\n",
      "|   |--- age >  3.50\n",
      "|   |   |--- pclass <= 1.50\n",
      "|   |   |   |--- age <= 53.00\n",
      "|   |   |   |   |--- sibsp <= 1.50\n",
      "|   |   |   |   |   |--- age <= 31.50\n",
      "|   |   |   |   |   |   |--- age <= 27.50\n",
      "|   |   |   |   |   |   |   |--- age <= 24.50\n",
      "|   |   |   |   |   |   |   |   |--- age <= 17.50\n",
      "|   |   |   |   |   |   |   |   |   |--- weights: [0.00, 1.00] class: 1\n",
      "|   |   |   |   |   |   |   |   |--- age >  17.50\n",
      "|   |   |   |   |   |   |   |   |   |--- age <= 22.50\n",
      "|   |   |   |   |   |   |   |   |   |   |--- weights: [3.00, 0.00] class: 0\n",
      "|   |   |   |   |   |   |   |   |   |--- age >  22.50\n",
      "|   |   |   |   |   |   |   |   |   |   |--- age <= 23.50\n",
      "|   |   |   |   |   |   |   |   |   |   |   |--- weights: [0.00, 1.00] class: 1\n",
      "|   |   |   |   |   |   |   |   |   |   |--- age >  23.50\n",
      "|   |   |   |   |   |   |   |   |   |   |   |--- weights: [2.00, 0.00] class: 0\n",
      "|   |   |   |   |   |   |   |--- age >  24.50\n",
      "|   |   |   |   |   |   |   |   |--- age <= 26.50\n",
      "|   |   |   |   |   |   |   |   |   |--- weights: [0.00, 3.00] class: 1\n",
      "|   |   |   |   |   |   |   |   |--- age >  26.50\n",
      "|   |   |   |   |   |   |   |   |   |--- sibsp <= 0.50\n",
      "|   |   |   |   |   |   |   |   |   |   |--- weights: [1.00, 1.00] class: 0\n",
      "|   |   |   |   |   |   |   |   |   |--- sibsp >  0.50\n",
      "|   |   |   |   |   |   |   |   |   |   |--- weights: [0.00, 1.00] class: 1\n",
      "|   |   |   |   |   |   |--- age >  27.50\n",
      "|   |   |   |   |   |   |   |--- age <= 28.50\n",
      "|   |   |   |   |   |   |   |   |--- weights: [9.00, 4.00] class: 0\n",
      "|   |   |   |   |   |   |   |--- age >  28.50\n",
      "|   |   |   |   |   |   |   |   |--- weights: [3.00, 0.00] class: 0\n",
      "|   |   |   |   |   |--- age >  31.50\n",
      "|   |   |   |   |   |   |--- age <= 35.50\n",
      "|   |   |   |   |   |   |   |--- weights: [0.00, 3.00] class: 1\n",
      "|   |   |   |   |   |   |--- age >  35.50\n",
      "|   |   |   |   |   |   |   |--- age <= 47.50\n",
      "|   |   |   |   |   |   |   |   |--- age <= 43.50\n",
      "|   |   |   |   |   |   |   |   |   |--- age <= 39.00\n",
      "|   |   |   |   |   |   |   |   |   |   |--- age <= 37.50\n",
      "|   |   |   |   |   |   |   |   |   |   |   |--- truncated branch of depth 3\n",
      "|   |   |   |   |   |   |   |   |   |   |--- age >  37.50\n",
      "|   |   |   |   |   |   |   |   |   |   |   |--- weights: [2.00, 0.00] class: 0\n",
      "|   |   |   |   |   |   |   |   |   |--- age >  39.00\n",
      "|   |   |   |   |   |   |   |   |   |   |--- weights: [0.00, 3.00] class: 1\n",
      "|   |   |   |   |   |   |   |   |--- age >  43.50\n",
      "|   |   |   |   |   |   |   |   |   |--- weights: [5.00, 0.00] class: 0\n",
      "|   |   |   |   |   |   |   |--- age >  47.50\n",
      "|   |   |   |   |   |   |   |   |--- age <= 48.50\n",
      "|   |   |   |   |   |   |   |   |   |--- weights: [0.00, 1.00] class: 1\n",
      "|   |   |   |   |   |   |   |   |--- age >  48.50\n",
      "|   |   |   |   |   |   |   |   |   |--- age <= 51.50\n",
      "|   |   |   |   |   |   |   |   |   |   |--- age <= 50.00\n",
      "|   |   |   |   |   |   |   |   |   |   |   |--- weights: [1.00, 1.00] class: 0\n",
      "|   |   |   |   |   |   |   |   |   |   |--- age >  50.00\n",
      "|   |   |   |   |   |   |   |   |   |   |   |--- weights: [1.00, 1.00] class: 0\n",
      "|   |   |   |   |   |   |   |   |   |--- age >  51.50\n",
      "|   |   |   |   |   |   |   |   |   |   |--- weights: [0.00, 1.00] class: 1\n",
      "|   |   |   |   |--- sibsp >  1.50\n",
      "|   |   |   |   |   |--- weights: [2.00, 0.00] class: 0\n",
      "|   |   |   |--- age >  53.00\n",
      "|   |   |   |   |--- age <= 75.50\n",
      "|   |   |   |   |   |--- weights: [13.00, 0.00] class: 0\n",
      "|   |   |   |   |--- age >  75.50\n",
      "|   |   |   |   |   |--- weights: [0.00, 1.00] class: 1\n",
      "|   |   |--- pclass >  1.50\n",
      "|   |   |   |--- age <= 34.25\n",
      "|   |   |   |   |--- age <= 28.75\n",
      "|   |   |   |   |   |--- sibsp <= 2.50\n",
      "|   |   |   |   |   |   |--- age <= 12.00\n",
      "|   |   |   |   |   |   |   |--- weights: [0.00, 1.00] class: 1\n",
      "|   |   |   |   |   |   |--- age >  12.00\n",
      "|   |   |   |   |   |   |   |--- age <= 18.50\n",
      "|   |   |   |   |   |   |   |   |--- weights: [15.00, 0.00] class: 0\n",
      "|   |   |   |   |   |   |   |--- age >  18.50\n",
      "|   |   |   |   |   |   |   |   |--- age <= 20.25\n",
      "|   |   |   |   |   |   |   |   |   |--- sibsp <= 0.50\n",
      "|   |   |   |   |   |   |   |   |   |   |--- pclass <= 2.50\n",
      "|   |   |   |   |   |   |   |   |   |   |   |--- weights: [0.00, 1.00] class: 1\n",
      "|   |   |   |   |   |   |   |   |   |   |--- pclass >  2.50\n",
      "|   |   |   |   |   |   |   |   |   |   |   |--- truncated branch of depth 2\n",
      "|   |   |   |   |   |   |   |   |   |--- sibsp >  0.50\n",
      "|   |   |   |   |   |   |   |   |   |   |--- age <= 19.50\n",
      "|   |   |   |   |   |   |   |   |   |   |   |--- weights: [1.00, 0.00] class: 0\n",
      "|   |   |   |   |   |   |   |   |   |   |--- age >  19.50\n",
      "|   |   |   |   |   |   |   |   |   |   |   |--- weights: [0.00, 1.00] class: 1\n",
      "|   |   |   |   |   |   |   |   |--- age >  20.25\n",
      "|   |   |   |   |   |   |   |   |   |--- age <= 24.75\n",
      "|   |   |   |   |   |   |   |   |   |   |--- age <= 21.50\n",
      "|   |   |   |   |   |   |   |   |   |   |   |--- truncated branch of depth 3\n",
      "|   |   |   |   |   |   |   |   |   |   |--- age >  21.50\n",
      "|   |   |   |   |   |   |   |   |   |   |   |--- weights: [23.00, 0.00] class: 0\n",
      "|   |   |   |   |   |   |   |   |   |--- age >  24.75\n",
      "|   |   |   |   |   |   |   |   |   |   |--- age <= 27.50\n",
      "|   |   |   |   |   |   |   |   |   |   |   |--- truncated branch of depth 5\n",
      "|   |   |   |   |   |   |   |   |   |   |--- age >  27.50\n",
      "|   |   |   |   |   |   |   |   |   |   |   |--- truncated branch of depth 5\n",
      "|   |   |   |   |   |--- sibsp >  2.50\n",
      "|   |   |   |   |   |   |--- weights: [8.00, 0.00] class: 0\n",
      "|   |   |   |   |--- age >  28.75\n",
      "|   |   |   |   |   |--- age <= 29.50\n",
      "|   |   |   |   |   |   |--- weights: [0.00, 1.00] class: 1\n",
      "|   |   |   |   |   |--- age >  29.50\n",
      "|   |   |   |   |   |   |--- age <= 32.50\n",
      "|   |   |   |   |   |   |   |--- age <= 30.50\n",
      "|   |   |   |   |   |   |   |   |--- pclass <= 2.50\n",
      "|   |   |   |   |   |   |   |   |   |--- weights: [3.00, 0.00] class: 0\n",
      "|   |   |   |   |   |   |   |   |--- pclass >  2.50\n",
      "|   |   |   |   |   |   |   |   |   |--- weights: [4.00, 1.00] class: 0\n",
      "|   |   |   |   |   |   |   |--- age >  30.50\n",
      "|   |   |   |   |   |   |   |   |--- pclass <= 2.50\n",
      "|   |   |   |   |   |   |   |   |   |--- sibsp <= 1.50\n",
      "|   |   |   |   |   |   |   |   |   |   |--- weights: [0.00, 2.00] class: 1\n",
      "|   |   |   |   |   |   |   |   |   |--- sibsp >  1.50\n",
      "|   |   |   |   |   |   |   |   |   |   |--- weights: [1.00, 0.00] class: 0\n",
      "|   |   |   |   |   |   |   |   |--- pclass >  2.50\n",
      "|   |   |   |   |   |   |   |   |   |--- age <= 31.50\n",
      "|   |   |   |   |   |   |   |   |   |   |--- weights: [2.00, 1.00] class: 0\n",
      "|   |   |   |   |   |   |   |   |   |--- age >  31.50\n",
      "|   |   |   |   |   |   |   |   |   |   |--- weights: [4.00, 2.00] class: 0\n",
      "|   |   |   |   |   |   |--- age >  32.50\n",
      "|   |   |   |   |   |   |   |--- pclass <= 2.50\n",
      "|   |   |   |   |   |   |   |   |--- sibsp <= 0.50\n",
      "|   |   |   |   |   |   |   |   |   |--- age <= 33.50\n",
      "|   |   |   |   |   |   |   |   |   |   |--- weights: [1.00, 0.00] class: 0\n",
      "|   |   |   |   |   |   |   |   |   |--- age >  33.50\n",
      "|   |   |   |   |   |   |   |   |   |   |--- weights: [1.00, 1.00] class: 0\n",
      "|   |   |   |   |   |   |   |   |--- sibsp >  0.50\n",
      "|   |   |   |   |   |   |   |   |   |--- weights: [2.00, 0.00] class: 0\n",
      "|   |   |   |   |   |   |   |--- pclass >  2.50\n",
      "|   |   |   |   |   |   |   |   |--- weights: [6.00, 0.00] class: 0\n",
      "|   |   |   |--- age >  34.25\n",
      "|   |   |   |   |--- age <= 41.00\n",
      "|   |   |   |   |   |--- weights: [24.00, 0.00] class: 0\n",
      "|   |   |   |   |--- age >  41.00\n",
      "|   |   |   |   |   |--- age <= 45.25\n",
      "|   |   |   |   |   |   |--- age <= 44.50\n",
      "|   |   |   |   |   |   |   |--- age <= 42.50\n",
      "|   |   |   |   |   |   |   |   |--- sibsp <= 0.50\n",
      "|   |   |   |   |   |   |   |   |   |--- pclass <= 2.50\n",
      "|   |   |   |   |   |   |   |   |   |   |--- weights: [0.00, 1.00] class: 1\n",
      "|   |   |   |   |   |   |   |   |   |--- pclass >  2.50\n",
      "|   |   |   |   |   |   |   |   |   |   |--- weights: [1.00, 0.00] class: 0\n",
      "|   |   |   |   |   |   |   |   |--- sibsp >  0.50\n",
      "|   |   |   |   |   |   |   |   |   |--- weights: [1.00, 0.00] class: 0\n",
      "|   |   |   |   |   |   |   |--- age >  42.50\n",
      "|   |   |   |   |   |   |   |   |--- weights: [5.00, 0.00] class: 0\n",
      "|   |   |   |   |   |   |--- age >  44.50\n",
      "|   |   |   |   |   |   |   |--- weights: [1.00, 1.00] class: 0\n",
      "|   |   |   |   |   |--- age >  45.25\n",
      "|   |   |   |   |   |   |--- weights: [13.00, 0.00] class: 0\n",
      "\n"
     ]
    }
   ],
   "source": [
    "# what does the tree look like?\n",
    "print(export_text(tree, feature_names=X_train.columns.tolist(), show_weights=True))"
   ]
  },
  {
   "cell_type": "code",
   "execution_count": 19,
   "metadata": {},
   "outputs": [
    {
     "data": {
      "text/plain": [
       "[Text(180.1477778979239, 476.36526315789473, 'X[0] <= 0.5\\ngini = 0.473\\nsamples = 498\\nvalue = [307, 191]'),\n",
       " Text(82.83114186851212, 450.61578947368423, 'X[1] <= 2.5\\ngini = 0.365\\nsamples = 175\\nvalue = [42, 133]'),\n",
       " Text(33.98200692041523, 424.8663157894737, 'X[2] <= 3.0\\ngini = 0.081\\nsamples = 94\\nvalue = [4, 90]'),\n",
       " Text(25.486505190311423, 399.1168421052632, 'gini = 0.0\\nsamples = 1\\nvalue = [1, 0]'),\n",
       " Text(42.47750865051904, 399.1168421052632, 'X[2] <= 23.5\\ngini = 0.062\\nsamples = 93\\nvalue = [3, 90]'),\n",
       " Text(33.98200692041523, 373.3673684210526, 'gini = 0.0\\nsamples = 26\\nvalue = [0, 26]'),\n",
       " Text(50.973010380622846, 373.3673684210526, 'X[2] <= 27.5\\ngini = 0.086\\nsamples = 67\\nvalue = [3, 64]'),\n",
       " Text(33.98200692041523, 347.6178947368421, 'X[2] <= 26.5\\ngini = 0.298\\nsamples = 11\\nvalue = [2, 9]'),\n",
       " Text(25.486505190311423, 321.86842105263156, 'X[3] <= 0.5\\ngini = 0.198\\nsamples = 9\\nvalue = [1, 8]'),\n",
       " Text(16.991003460207615, 296.11894736842106, 'X[1] <= 1.5\\ngini = 0.32\\nsamples = 5\\nvalue = [1, 4]'),\n",
       " Text(8.495501730103808, 270.3694736842105, 'gini = 0.0\\nsamples = 3\\nvalue = [0, 3]'),\n",
       " Text(25.486505190311423, 270.3694736842105, 'gini = 0.5\\nsamples = 2\\nvalue = [1, 1]'),\n",
       " Text(33.98200692041523, 296.11894736842106, 'gini = 0.0\\nsamples = 4\\nvalue = [0, 4]'),\n",
       " Text(42.47750865051904, 321.86842105263156, 'gini = 0.5\\nsamples = 2\\nvalue = [1, 1]'),\n",
       " Text(67.96401384083046, 347.6178947368421, 'X[2] <= 48.5\\ngini = 0.035\\nsamples = 56\\nvalue = [1, 55]'),\n",
       " Text(59.46851211072665, 321.86842105263156, 'gini = 0.0\\nsamples = 43\\nvalue = [0, 43]'),\n",
       " Text(76.45951557093427, 321.86842105263156, 'X[2] <= 52.0\\ngini = 0.142\\nsamples = 13\\nvalue = [1, 12]'),\n",
       " Text(67.96401384083046, 296.11894736842106, 'X[1] <= 1.5\\ngini = 0.32\\nsamples = 5\\nvalue = [1, 4]'),\n",
       " Text(59.46851211072665, 270.3694736842105, 'gini = 0.5\\nsamples = 2\\nvalue = [1, 1]'),\n",
       " Text(76.45951557093427, 270.3694736842105, 'gini = 0.0\\nsamples = 3\\nvalue = [0, 3]'),\n",
       " Text(84.95501730103808, 296.11894736842106, 'gini = 0.0\\nsamples = 8\\nvalue = [0, 8]'),\n",
       " Text(131.68027681660902, 424.8663157894737, 'X[3] <= 2.5\\ngini = 0.498\\nsamples = 81\\nvalue = [38, 43]'),\n",
       " Text(110.4415224913495, 399.1168421052632, 'X[2] <= 39.0\\ngini = 0.483\\nsamples = 71\\nvalue = [29, 42]'),\n",
       " Text(93.45051903114188, 373.3673684210526, 'X[2] <= 7.0\\ngini = 0.46\\nsamples = 64\\nvalue = [23, 41]'),\n",
       " Text(84.95501730103808, 347.6178947368421, 'gini = 0.0\\nsamples = 6\\nvalue = [0, 6]'),\n",
       " Text(101.94602076124569, 347.6178947368421, 'X[2] <= 11.0\\ngini = 0.479\\nsamples = 58\\nvalue = [23, 35]'),\n",
       " Text(93.45051903114188, 321.86842105263156, 'gini = 0.0\\nsamples = 2\\nvalue = [2, 0]'),\n",
       " Text(110.4415224913495, 321.86842105263156, 'X[2] <= 17.0\\ngini = 0.469\\nsamples = 56\\nvalue = [21, 35]'),\n",
       " Text(101.94602076124569, 296.11894736842106, 'gini = 0.0\\nsamples = 4\\nvalue = [0, 4]'),\n",
       " Text(118.9370242214533, 296.11894736842106, 'X[3] <= 1.5\\ngini = 0.482\\nsamples = 52\\nvalue = [21, 31]'),\n",
       " Text(110.4415224913495, 270.3694736842105, 'X[2] <= 37.5\\ngini = 0.477\\nsamples = 51\\nvalue = [20, 31]'),\n",
       " Text(101.94602076124569, 244.62, 'X[2] <= 34.0\\ngini = 0.48\\nsamples = 50\\nvalue = [20, 30]'),\n",
       " Text(93.45051903114188, 218.87052631578945, 'X[2] <= 30.5\\ngini = 0.475\\nsamples = 49\\nvalue = [19, 30]'),\n",
       " Text(84.95501730103808, 193.12105263157895, 'X[2] <= 28.5\\ngini = 0.482\\nsamples = 47\\nvalue = [19, 28]'),\n",
       " Text(76.45951557093427, 167.3715789473684, 'X[3] <= 0.5\\ngini = 0.47\\nsamples = 45\\nvalue = [17, 28]'),\n",
       " Text(55.22076124567475, 141.6221052631579, 'X[2] <= 21.5\\ngini = 0.451\\nsamples = 35\\nvalue = [12, 23]'),\n",
       " Text(38.229757785467136, 115.87263157894733, 'X[2] <= 19.5\\ngini = 0.5\\nsamples = 8\\nvalue = [4, 4]'),\n",
       " Text(29.734256055363325, 90.12315789473683, 'gini = 0.5\\nsamples = 6\\nvalue = [3, 3]'),\n",
       " Text(46.72525951557094, 90.12315789473683, 'gini = 0.5\\nsamples = 2\\nvalue = [1, 1]'),\n",
       " Text(72.21176470588236, 115.87263157894733, 'X[2] <= 22.5\\ngini = 0.417\\nsamples = 27\\nvalue = [8, 19]'),\n",
       " Text(63.716262975778555, 90.12315789473683, 'gini = 0.0\\nsamples = 2\\nvalue = [0, 2]'),\n",
       " Text(80.70726643598617, 90.12315789473683, 'X[2] <= 25.5\\ngini = 0.435\\nsamples = 25\\nvalue = [8, 17]'),\n",
       " Text(63.716262975778555, 64.37368421052628, 'X[2] <= 24.5\\ngini = 0.5\\nsamples = 4\\nvalue = [2, 2]'),\n",
       " Text(55.22076124567475, 38.62421052631578, 'X[2] <= 23.5\\ngini = 0.444\\nsamples = 3\\nvalue = [1, 2]'),\n",
       " Text(46.72525951557094, 12.874736842105222, 'gini = 0.5\\nsamples = 2\\nvalue = [1, 1]'),\n",
       " Text(63.716262975778555, 12.874736842105222, 'gini = 0.0\\nsamples = 1\\nvalue = [0, 1]'),\n",
       " Text(72.21176470588236, 38.62421052631578, 'gini = 0.0\\nsamples = 1\\nvalue = [1, 0]'),\n",
       " Text(97.69826989619379, 64.37368421052628, 'X[2] <= 27.5\\ngini = 0.408\\nsamples = 21\\nvalue = [6, 15]'),\n",
       " Text(89.20276816608998, 38.62421052631578, 'gini = 0.0\\nsamples = 3\\nvalue = [0, 3]'),\n",
       " Text(106.19377162629759, 38.62421052631578, 'gini = 0.444\\nsamples = 18\\nvalue = [6, 12]'),\n",
       " Text(97.69826989619379, 141.6221052631579, 'X[2] <= 24.5\\ngini = 0.5\\nsamples = 10\\nvalue = [5, 5]'),\n",
       " Text(89.20276816608998, 115.87263157894733, 'gini = 0.0\\nsamples = 1\\nvalue = [0, 1]'),\n",
       " Text(106.19377162629759, 115.87263157894733, 'X[2] <= 27.0\\ngini = 0.494\\nsamples = 9\\nvalue = [5, 4]'),\n",
       " Text(97.69826989619379, 90.12315789473683, 'gini = 0.0\\nsamples = 2\\nvalue = [2, 0]'),\n",
       " Text(114.6892733564014, 90.12315789473683, 'gini = 0.49\\nsamples = 7\\nvalue = [3, 4]'),\n",
       " Text(93.45051903114188, 167.3715789473684, 'gini = 0.0\\nsamples = 2\\nvalue = [2, 0]'),\n",
       " Text(101.94602076124569, 193.12105263157895, 'gini = 0.0\\nsamples = 2\\nvalue = [0, 2]'),\n",
       " Text(110.4415224913495, 218.87052631578945, 'gini = 0.0\\nsamples = 1\\nvalue = [1, 0]'),\n",
       " Text(118.9370242214533, 244.62, 'gini = 0.0\\nsamples = 1\\nvalue = [0, 1]'),\n",
       " Text(127.43252595155711, 270.3694736842105, 'gini = 0.0\\nsamples = 1\\nvalue = [1, 0]'),\n",
       " Text(127.43252595155711, 373.3673684210526, 'X[2] <= 55.5\\ngini = 0.245\\nsamples = 7\\nvalue = [6, 1]'),\n",
       " Text(118.9370242214533, 347.6178947368421, 'gini = 0.0\\nsamples = 6\\nvalue = [6, 0]'),\n",
       " Text(135.92802768166092, 347.6178947368421, 'gini = 0.0\\nsamples = 1\\nvalue = [0, 1]'),\n",
       " Text(152.91903114186854, 399.1168421052632, 'X[2] <= 30.5\\ngini = 0.18\\nsamples = 10\\nvalue = [9, 1]'),\n",
       " Text(144.42352941176472, 373.3673684210526, 'gini = 0.0\\nsamples = 9\\nvalue = [9, 0]'),\n",
       " Text(161.41453287197234, 373.3673684210526, 'gini = 0.0\\nsamples = 1\\nvalue = [0, 1]'),\n",
       " Text(277.46441392733567, 450.61578947368423, 'X[2] <= 3.5\\ngini = 0.295\\nsamples = 323\\nvalue = [265, 58]'),\n",
       " Text(184.7771626297578, 424.8663157894737, 'X[3] <= 2.5\\ngini = 0.444\\nsamples = 12\\nvalue = [4, 8]'),\n",
       " Text(176.281660899654, 399.1168421052632, 'gini = 0.0\\nsamples = 7\\nvalue = [0, 7]'),\n",
       " Text(193.27266435986164, 399.1168421052632, 'X[2] <= 2.5\\ngini = 0.32\\nsamples = 5\\nvalue = [4, 1]'),\n",
       " Text(184.7771626297578, 373.3673684210526, 'gini = 0.0\\nsamples = 4\\nvalue = [4, 0]'),\n",
       " Text(201.76816608996543, 373.3673684210526, 'gini = 0.0\\nsamples = 1\\nvalue = [0, 1]'),\n",
       " Text(370.15166522491353, 424.8663157894737, 'X[1] <= 1.5\\ngini = 0.27\\nsamples = 311\\nvalue = [261, 50]'),\n",
       " Text(235.75017301038065, 399.1168421052632, 'X[2] <= 53.0\\ngini = 0.462\\nsamples = 69\\nvalue = [44, 25]'),\n",
       " Text(218.75916955017306, 373.3673684210526, 'X[3] <= 1.5\\ngini = 0.492\\nsamples = 55\\nvalue = [31, 24]'),\n",
       " Text(210.26366782006923, 347.6178947368421, 'X[2] <= 31.5\\ngini = 0.496\\nsamples = 53\\nvalue = [29, 24]'),\n",
       " Text(182.65328719723186, 321.86842105263156, 'X[2] <= 27.5\\ngini = 0.471\\nsamples = 29\\nvalue = [18, 11]'),\n",
       " Text(161.41453287197234, 296.11894736842106, 'X[2] <= 24.5\\ngini = 0.497\\nsamples = 13\\nvalue = [6, 7]'),\n",
       " Text(144.42352941176472, 270.3694736842105, 'X[2] <= 17.5\\ngini = 0.408\\nsamples = 7\\nvalue = [5, 2]'),\n",
       " Text(135.92802768166092, 244.62, 'gini = 0.0\\nsamples = 1\\nvalue = [0, 1]'),\n",
       " Text(152.91903114186854, 244.62, 'X[2] <= 22.5\\ngini = 0.278\\nsamples = 6\\nvalue = [5, 1]'),\n",
       " Text(144.42352941176472, 218.87052631578945, 'gini = 0.0\\nsamples = 3\\nvalue = [3, 0]'),\n",
       " Text(161.41453287197234, 218.87052631578945, 'X[2] <= 23.5\\ngini = 0.444\\nsamples = 3\\nvalue = [2, 1]'),\n",
       " Text(152.91903114186854, 193.12105263157895, 'gini = 0.0\\nsamples = 1\\nvalue = [0, 1]'),\n",
       " Text(169.91003460207617, 193.12105263157895, 'gini = 0.0\\nsamples = 2\\nvalue = [2, 0]'),\n",
       " Text(178.40553633217996, 270.3694736842105, 'X[2] <= 26.5\\ngini = 0.278\\nsamples = 6\\nvalue = [1, 5]'),\n",
       " Text(169.91003460207617, 244.62, 'gini = 0.0\\nsamples = 3\\nvalue = [0, 3]'),\n",
       " Text(186.90103806228376, 244.62, 'X[3] <= 0.5\\ngini = 0.444\\nsamples = 3\\nvalue = [1, 2]'),\n",
       " Text(178.40553633217996, 218.87052631578945, 'gini = 0.5\\nsamples = 2\\nvalue = [1, 1]'),\n",
       " Text(195.39653979238759, 218.87052631578945, 'gini = 0.0\\nsamples = 1\\nvalue = [0, 1]'),\n",
       " Text(203.89204152249138, 296.11894736842106, 'X[2] <= 28.5\\ngini = 0.375\\nsamples = 16\\nvalue = [12, 4]'),\n",
       " Text(195.39653979238759, 270.3694736842105, 'gini = 0.426\\nsamples = 13\\nvalue = [9, 4]'),\n",
       " Text(212.38754325259518, 270.3694736842105, 'gini = 0.0\\nsamples = 3\\nvalue = [3, 0]'),\n",
       " Text(237.8740484429066, 321.86842105263156, 'X[2] <= 35.5\\ngini = 0.497\\nsamples = 24\\nvalue = [11, 13]'),\n",
       " Text(229.3785467128028, 296.11894736842106, 'gini = 0.0\\nsamples = 3\\nvalue = [0, 3]'),\n",
       " Text(246.36955017301042, 296.11894736842106, 'X[2] <= 47.5\\ngini = 0.499\\nsamples = 21\\nvalue = [11, 10]'),\n",
       " Text(229.3785467128028, 270.3694736842105, 'X[2] <= 43.5\\ngini = 0.48\\nsamples = 15\\nvalue = [9, 6]'),\n",
       " Text(220.883044982699, 244.62, 'X[2] <= 39.0\\ngini = 0.48\\nsamples = 10\\nvalue = [4, 6]'),\n",
       " Text(212.38754325259518, 218.87052631578945, 'X[2] <= 37.5\\ngini = 0.49\\nsamples = 7\\nvalue = [4, 3]'),\n",
       " Text(203.89204152249138, 193.12105263157895, 'X[2] <= 36.5\\ngini = 0.48\\nsamples = 5\\nvalue = [2, 3]'),\n",
       " Text(195.39653979238759, 167.3715789473684, 'X[3] <= 0.5\\ngini = 0.5\\nsamples = 4\\nvalue = [2, 2]'),\n",
       " Text(186.90103806228376, 141.6221052631579, 'gini = 0.444\\nsamples = 3\\nvalue = [1, 2]'),\n",
       " Text(203.89204152249138, 141.6221052631579, 'gini = 0.0\\nsamples = 1\\nvalue = [1, 0]'),\n",
       " Text(212.38754325259518, 167.3715789473684, 'gini = 0.0\\nsamples = 1\\nvalue = [0, 1]'),\n",
       " Text(220.883044982699, 193.12105263157895, 'gini = 0.0\\nsamples = 2\\nvalue = [2, 0]'),\n",
       " Text(229.3785467128028, 218.87052631578945, 'gini = 0.0\\nsamples = 3\\nvalue = [0, 3]'),\n",
       " Text(237.8740484429066, 244.62, 'gini = 0.0\\nsamples = 5\\nvalue = [5, 0]'),\n",
       " Text(263.36055363321805, 270.3694736842105, 'X[2] <= 48.5\\ngini = 0.444\\nsamples = 6\\nvalue = [2, 4]'),\n",
       " Text(254.86505190311422, 244.62, 'gini = 0.0\\nsamples = 1\\nvalue = [0, 1]'),\n",
       " Text(271.85605536332184, 244.62, 'X[2] <= 51.5\\ngini = 0.48\\nsamples = 5\\nvalue = [2, 3]'),\n",
       " Text(263.36055363321805, 218.87052631578945, 'X[2] <= 50.0\\ngini = 0.5\\nsamples = 4\\nvalue = [2, 2]'),\n",
       " Text(254.86505190311422, 193.12105263157895, 'gini = 0.5\\nsamples = 2\\nvalue = [1, 1]'),\n",
       " Text(271.85605536332184, 193.12105263157895, 'gini = 0.5\\nsamples = 2\\nvalue = [1, 1]'),\n",
       " Text(280.35155709342564, 218.87052631578945, 'gini = 0.0\\nsamples = 1\\nvalue = [0, 1]'),\n",
       " Text(227.25467128027685, 347.6178947368421, 'gini = 0.0\\nsamples = 2\\nvalue = [2, 0]'),\n",
       " Text(252.74117647058827, 373.3673684210526, 'X[2] <= 75.5\\ngini = 0.133\\nsamples = 14\\nvalue = [13, 1]'),\n",
       " Text(244.24567474048447, 347.6178947368421, 'gini = 0.0\\nsamples = 13\\nvalue = [13, 0]'),\n",
       " Text(261.2366782006921, 347.6178947368421, 'gini = 0.0\\nsamples = 1\\nvalue = [0, 1]'),\n",
       " Text(504.55315743944647, 399.1168421052632, 'X[2] <= 34.25\\ngini = 0.185\\nsamples = 242\\nvalue = [217, 25]'),\n",
       " Text(420.7928200692042, 373.3673684210526, 'X[2] <= 28.75\\ngini = 0.208\\nsamples = 195\\nvalue = [172, 23]'),\n",
       " Text(348.8465397923876, 347.6178947368421, 'X[3] <= 2.5\\ngini = 0.167\\nsamples = 163\\nvalue = [148, 15]'),\n",
       " Text(340.3510380622838, 321.86842105263156, 'X[2] <= 12.0\\ngini = 0.175\\nsamples = 155\\nvalue = [140, 15]'),\n",
       " Text(331.85553633218, 296.11894736842106, 'gini = 0.0\\nsamples = 1\\nvalue = [0, 1]'),\n",
       " Text(348.8465397923876, 296.11894736842106, 'X[2] <= 18.5\\ngini = 0.165\\nsamples = 154\\nvalue = [140, 14]'),\n",
       " Text(340.3510380622838, 270.3694736842105, 'gini = 0.0\\nsamples = 15\\nvalue = [15, 0]'),\n",
       " Text(357.3420415224914, 270.3694736842105, 'X[2] <= 20.25\\ngini = 0.181\\nsamples = 139\\nvalue = [125, 14]'),\n",
       " Text(314.3335640138409, 244.62, 'X[3] <= 0.5\\ngini = 0.32\\nsamples = 15\\nvalue = [12, 3]'),\n",
       " Text(297.3425605536333, 218.87052631578945, 'X[1] <= 2.5\\ngini = 0.26\\nsamples = 13\\nvalue = [11, 2]'),\n",
       " Text(288.84705882352944, 193.12105263157895, 'gini = 0.0\\nsamples = 1\\nvalue = [0, 1]'),\n",
       " Text(305.8380622837371, 193.12105263157895, 'X[2] <= 19.5\\ngini = 0.153\\nsamples = 12\\nvalue = [11, 1]'),\n",
       " Text(297.3425605536333, 167.3715789473684, 'gini = 0.0\\nsamples = 6\\nvalue = [6, 0]'),\n",
       " Text(314.3335640138409, 167.3715789473684, 'gini = 0.278\\nsamples = 6\\nvalue = [5, 1]'),\n",
       " Text(331.3245674740485, 218.87052631578945, 'X[2] <= 19.5\\ngini = 0.5\\nsamples = 2\\nvalue = [1, 1]'),\n",
       " Text(322.8290657439447, 193.12105263157895, 'gini = 0.0\\nsamples = 1\\nvalue = [1, 0]'),\n",
       " Text(339.82006920415233, 193.12105263157895, 'gini = 0.0\\nsamples = 1\\nvalue = [0, 1]'),\n",
       " Text(400.3505190311419, 244.62, 'X[2] <= 24.75\\ngini = 0.162\\nsamples = 124\\nvalue = [113, 11]'),\n",
       " Text(365.3065743944637, 218.87052631578945, 'X[2] <= 21.5\\ngini = 0.056\\nsamples = 35\\nvalue = [34, 1]'),\n",
       " Text(356.8110726643599, 193.12105263157895, 'X[1] <= 2.5\\ngini = 0.153\\nsamples = 12\\nvalue = [11, 1]'),\n",
       " Text(348.31557093425613, 167.3715789473684, 'gini = 0.0\\nsamples = 3\\nvalue = [3, 0]'),\n",
       " Text(365.3065743944637, 167.3715789473684, 'X[2] <= 20.75\\ngini = 0.198\\nsamples = 9\\nvalue = [8, 1]'),\n",
       " Text(356.8110726643599, 141.6221052631579, 'gini = 0.0\\nsamples = 1\\nvalue = [1, 0]'),\n",
       " Text(373.8020761245675, 141.6221052631579, 'gini = 0.219\\nsamples = 8\\nvalue = [7, 1]'),\n",
       " Text(373.8020761245675, 193.12105263157895, 'gini = 0.0\\nsamples = 23\\nvalue = [23, 0]'),\n",
       " Text(435.39446366782016, 218.87052631578945, 'X[2] <= 27.5\\ngini = 0.199\\nsamples = 89\\nvalue = [79, 10]'),\n",
       " Text(403.53633217993087, 193.12105263157895, 'X[1] <= 2.5\\ngini = 0.32\\nsamples = 25\\nvalue = [20, 5]'),\n",
       " Text(395.04083044982707, 167.3715789473684, 'gini = 0.0\\nsamples = 7\\nvalue = [7, 0]'),\n",
       " Text(412.03183391003466, 167.3715789473684, 'X[2] <= 26.5\\ngini = 0.401\\nsamples = 18\\nvalue = [13, 5]'),\n",
       " Text(390.79307958477517, 141.6221052631579, 'X[2] <= 25.5\\ngini = 0.337\\nsamples = 14\\nvalue = [11, 3]'),\n",
       " Text(373.8020761245675, 115.87263157894733, 'X[3] <= 0.5\\ngini = 0.408\\nsamples = 7\\nvalue = [5, 2]'),\n",
       " Text(365.3065743944637, 90.12315789473683, 'gini = 0.32\\nsamples = 5\\nvalue = [4, 1]'),\n",
       " Text(382.2975778546713, 90.12315789473683, 'gini = 0.5\\nsamples = 2\\nvalue = [1, 1]'),\n",
       " Text(407.78408304498276, 115.87263157894733, 'X[3] <= 0.5\\ngini = 0.245\\nsamples = 7\\nvalue = [6, 1]'),\n",
       " Text(399.28858131487897, 90.12315789473683, 'gini = 0.375\\nsamples = 4\\nvalue = [3, 1]'),\n",
       " Text(416.27958477508656, 90.12315789473683, 'gini = 0.0\\nsamples = 3\\nvalue = [3, 0]'),\n",
       " Text(433.2705882352942, 141.6221052631579, 'X[3] <= 0.5\\ngini = 0.5\\nsamples = 4\\nvalue = [2, 2]'),\n",
       " Text(424.77508650519036, 115.87263157894733, 'gini = 0.444\\nsamples = 3\\nvalue = [1, 2]'),\n",
       " Text(441.766089965398, 115.87263157894733, 'gini = 0.0\\nsamples = 1\\nvalue = [1, 0]'),\n",
       " Text(467.2525951557094, 193.12105263157895, 'X[3] <= 1.5\\ngini = 0.144\\nsamples = 64\\nvalue = [59, 5]'),\n",
       " Text(458.7570934256056, 167.3715789473684, 'X[1] <= 2.5\\ngini = 0.123\\nsamples = 61\\nvalue = [57, 4]'),\n",
       " Text(450.2615916955018, 141.6221052631579, 'gini = 0.198\\nsamples = 9\\nvalue = [8, 1]'),\n",
       " Text(467.2525951557094, 141.6221052631579, 'X[3] <= 0.5\\ngini = 0.109\\nsamples = 52\\nvalue = [49, 3]'),\n",
       " Text(458.7570934256056, 115.87263157894733, 'X[2] <= 28.25\\ngini = 0.115\\nsamples = 49\\nvalue = [46, 3]'),\n",
       " Text(450.2615916955018, 90.12315789473683, 'gini = 0.12\\nsamples = 47\\nvalue = [44, 3]'),\n",
       " Text(467.2525951557094, 90.12315789473683, 'gini = 0.0\\nsamples = 2\\nvalue = [2, 0]'),\n",
       " Text(475.7480968858132, 115.87263157894733, 'gini = 0.0\\nsamples = 3\\nvalue = [3, 0]'),\n",
       " Text(475.7480968858132, 167.3715789473684, 'gini = 0.444\\nsamples = 3\\nvalue = [2, 1]'),\n",
       " Text(357.3420415224914, 321.86842105263156, 'gini = 0.0\\nsamples = 8\\nvalue = [8, 0]'),\n",
       " Text(492.73910034602085, 347.6178947368421, 'X[2] <= 29.5\\ngini = 0.375\\nsamples = 32\\nvalue = [24, 8]'),\n",
       " Text(484.24359861591705, 321.86842105263156, 'gini = 0.0\\nsamples = 1\\nvalue = [0, 1]'),\n",
       " Text(501.23460207612465, 321.86842105263156, 'X[2] <= 32.5\\ngini = 0.35\\nsamples = 31\\nvalue = [24, 7]'),\n",
       " Text(456.63321799307965, 296.11894736842106, 'X[2] <= 30.5\\ngini = 0.42\\nsamples = 20\\nvalue = [14, 6]'),\n",
       " Text(435.39446366782016, 270.3694736842105, 'X[1] <= 2.5\\ngini = 0.219\\nsamples = 8\\nvalue = [7, 1]'),\n",
       " Text(426.8989619377163, 244.62, 'gini = 0.0\\nsamples = 3\\nvalue = [3, 0]'),\n",
       " Text(443.88996539792396, 244.62, 'gini = 0.32\\nsamples = 5\\nvalue = [4, 1]'),\n",
       " Text(477.8719723183392, 270.3694736842105, 'X[1] <= 2.5\\ngini = 0.486\\nsamples = 12\\nvalue = [7, 5]'),\n",
       " Text(460.88096885813155, 244.62, 'X[3] <= 1.5\\ngini = 0.444\\nsamples = 3\\nvalue = [1, 2]'),\n",
       " Text(452.38546712802776, 218.87052631578945, 'gini = 0.0\\nsamples = 2\\nvalue = [0, 2]'),\n",
       " Text(469.37647058823535, 218.87052631578945, 'gini = 0.0\\nsamples = 1\\nvalue = [1, 0]'),\n",
       " Text(494.8629757785468, 244.62, 'X[2] <= 31.5\\ngini = 0.444\\nsamples = 9\\nvalue = [6, 3]'),\n",
       " Text(486.367474048443, 218.87052631578945, 'gini = 0.444\\nsamples = 3\\nvalue = [2, 1]'),\n",
       " Text(503.3584775086506, 218.87052631578945, 'gini = 0.444\\nsamples = 6\\nvalue = [4, 2]'),\n",
       " Text(545.8359861591697, 296.11894736842106, 'X[1] <= 2.5\\ngini = 0.165\\nsamples = 11\\nvalue = [10, 1]'),\n",
       " Text(537.3404844290658, 270.3694736842105, 'X[3] <= 0.5\\ngini = 0.32\\nsamples = 5\\nvalue = [4, 1]'),\n",
       " Text(528.844982698962, 244.62, 'X[2] <= 33.5\\ngini = 0.444\\nsamples = 3\\nvalue = [2, 1]'),\n",
       " Text(520.3494809688582, 218.87052631578945, 'gini = 0.0\\nsamples = 1\\nvalue = [1, 0]'),\n",
       " Text(537.3404844290658, 218.87052631578945, 'gini = 0.5\\nsamples = 2\\nvalue = [1, 1]'),\n",
       " Text(545.8359861591697, 244.62, 'gini = 0.0\\nsamples = 2\\nvalue = [2, 0]'),\n",
       " Text(554.3314878892735, 270.3694736842105, 'gini = 0.0\\nsamples = 6\\nvalue = [6, 0]'),\n",
       " Text(588.3134948096887, 373.3673684210526, 'X[2] <= 41.0\\ngini = 0.081\\nsamples = 47\\nvalue = [45, 2]'),\n",
       " Text(579.8179930795849, 347.6178947368421, 'gini = 0.0\\nsamples = 24\\nvalue = [24, 0]'),\n",
       " Text(596.8089965397925, 347.6178947368421, 'X[2] <= 45.25\\ngini = 0.159\\nsamples = 23\\nvalue = [21, 2]'),\n",
       " Text(588.3134948096887, 321.86842105263156, 'X[2] <= 44.5\\ngini = 0.32\\nsamples = 10\\nvalue = [8, 2]'),\n",
       " Text(579.8179930795849, 296.11894736842106, 'X[2] <= 42.5\\ngini = 0.219\\nsamples = 8\\nvalue = [7, 1]'),\n",
       " Text(571.3224913494811, 270.3694736842105, 'X[3] <= 0.5\\ngini = 0.444\\nsamples = 3\\nvalue = [2, 1]'),\n",
       " Text(562.8269896193773, 244.62, 'X[1] <= 2.5\\ngini = 0.5\\nsamples = 2\\nvalue = [1, 1]'),\n",
       " Text(554.3314878892735, 218.87052631578945, 'gini = 0.0\\nsamples = 1\\nvalue = [0, 1]'),\n",
       " Text(571.3224913494811, 218.87052631578945, 'gini = 0.0\\nsamples = 1\\nvalue = [1, 0]'),\n",
       " Text(579.8179930795849, 244.62, 'gini = 0.0\\nsamples = 1\\nvalue = [1, 0]'),\n",
       " Text(588.3134948096887, 270.3694736842105, 'gini = 0.0\\nsamples = 5\\nvalue = [5, 0]'),\n",
       " Text(596.8089965397925, 296.11894736842106, 'gini = 0.5\\nsamples = 2\\nvalue = [1, 1]'),\n",
       " Text(605.3044982698963, 321.86842105263156, 'gini = 0.0\\nsamples = 13\\nvalue = [13, 0]')]"
      ]
     },
     "execution_count": 19,
     "metadata": {},
     "output_type": "execute_result"
    },
    {
     "data": {
      "image/png": "[encoded data removed]",
      "text/plain": [
       "<Figure size 792x648 with 1 Axes>"
      ]
     },
     "metadata": {
      "needs_background": "light"
     },
     "output_type": "display_data"
    }
   ],
   "source": [
    "# this is garbage\n",
    "\n",
    "plot_tree(tree, filled=True, rounded=True)"
   ]
  },
  {
   "cell_type": "code",
   "execution_count": 20,
   "metadata": {},
   "outputs": [],
   "source": [
    "# now let's dive in and take a close look once we add some hyperparameters\n",
    "\n"
   ]
  },
  {
   "cell_type": "code",
   "execution_count": 21,
   "metadata": {},
   "outputs": [
    {
     "data": {
      "text/plain": [
       "DecisionTreeClassifier(max_leaf_nodes=4)"
      ]
     },
     "execution_count": 21,
     "metadata": {},
     "output_type": "execute_result"
    }
   ],
   "source": [
    "tree1 = DecisionTreeClassifier(max_leaf_nodes=4)\n",
    "tree1.fit(X_train, y_train)"
   ]
  },
  {
   "cell_type": "code",
   "execution_count": 22,
   "metadata": {},
   "outputs": [
    {
     "name": "stdout",
     "output_type": "stream",
     "text": [
      "training score: 80.72%\n",
      "validate score: 77.57%\n"
     ]
    }
   ],
   "source": [
    "print(f'training score: {tree1.score(X_train, y_train):.2%}')\n",
    "print(f'validate score: {tree1.score(X_validate, y_validate):.2%}')"
   ]
  },
  {
   "cell_type": "code",
   "execution_count": 23,
   "metadata": {},
   "outputs": [
    {
     "data": {
      "text/plain": [
       "[Text(306.90000000000003, 407.7, 'X[0] <= 0.5\\ngini = 0.473\\nsamples = 498\\nvalue = [307, 191]'),\n",
       " Text(153.45000000000002, 244.62, 'X[1] <= 2.5\\ngini = 0.365\\nsamples = 175\\nvalue = [42, 133]'),\n",
       " Text(76.72500000000001, 81.53999999999996, 'gini = 0.081\\nsamples = 94\\nvalue = [4, 90]'),\n",
       " Text(230.175, 81.53999999999996, 'gini = 0.498\\nsamples = 81\\nvalue = [38, 43]'),\n",
       " Text(460.35, 244.62, 'X[2] <= 3.5\\ngini = 0.295\\nsamples = 323\\nvalue = [265, 58]'),\n",
       " Text(383.62500000000006, 81.53999999999996, 'gini = 0.444\\nsamples = 12\\nvalue = [4, 8]'),\n",
       " Text(537.075, 81.53999999999996, 'gini = 0.27\\nsamples = 311\\nvalue = [261, 50]')]"
      ]
     },
     "execution_count": 23,
     "metadata": {},
     "output_type": "execute_result"
    },
    {
     "data": {
      "image/png": "[encoded data removed]",
      "text/plain": [
       "<Figure size 792x648 with 1 Axes>"
      ]
     },
     "metadata": {
      "needs_background": "light"
     },
     "output_type": "display_data"
    }
   ],
   "source": [
    "plot_tree(tree1, filled=True, rounded=True)"
   ]
  },
  {
   "cell_type": "markdown",
   "metadata": {},
   "source": [
    "3. Evaluate your in-sample results using the model score, confusion matrix, and classification report."
   ]
  },
  {
   "cell_type": "code",
   "execution_count": 24,
   "metadata": {},
   "outputs": [
    {
     "name": "stdout",
     "output_type": "stream",
     "text": [
      "Tree 1 training score: 80.72%\n",
      "Tree 1 validate score: 77.57%\n"
     ]
    }
   ],
   "source": [
    "print(f'Tree 1 training score: {tree1.score(X_train, y_train):.2%}')\n",
    "print(f'Tree 1 validate score: {tree1.score(X_validate, y_validate):.2%}')"
   ]
  },
  {
   "cell_type": "markdown",
   "metadata": {},
   "source": [
    "4. Compute: Accuracy, true positive rate, false positive rate, true negative rate, false negative rate, precision, recall, f1-score, and support."
   ]
  },
  {
   "cell_type": "code",
   "execution_count": 25,
   "metadata": {},
   "outputs": [
    {
     "data": {
      "text/html": [
       "<div>\n",
       "<style scoped>\n",
       "    .dataframe tbody tr th:only-of-type {\n",
       "        vertical-align: middle;\n",
       "    }\n",
       "\n",
       "    .dataframe tbody tr th {\n",
       "        vertical-align: top;\n",
       "    }\n",
       "\n",
       "    .dataframe thead th {\n",
       "        text-align: right;\n",
       "    }\n",
       "</style>\n",
       "<table border=\"1\" class=\"dataframe\">\n",
       "  <thead>\n",
       "    <tr style=\"text-align: right;\">\n",
       "      <th></th>\n",
       "      <th>passenger_id</th>\n",
       "      <th>survived</th>\n",
       "      <th>pclass</th>\n",
       "      <th>age</th>\n",
       "      <th>sibsp</th>\n",
       "      <th>parch</th>\n",
       "      <th>fare</th>\n",
       "      <th>alone</th>\n",
       "      <th>embarked_Q</th>\n",
       "      <th>embarked_S</th>\n",
       "      <th>sex_male</th>\n",
       "      <th>prediction</th>\n",
       "    </tr>\n",
       "  </thead>\n",
       "  <tbody>\n",
       "    <tr>\n",
       "      <th>583</th>\n",
       "      <td>583</td>\n",
       "      <td>0</td>\n",
       "      <td>1</td>\n",
       "      <td>36.0</td>\n",
       "      <td>0</td>\n",
       "      <td>0</td>\n",
       "      <td>40.1250</td>\n",
       "      <td>1</td>\n",
       "      <td>0</td>\n",
       "      <td>0</td>\n",
       "      <td>1</td>\n",
       "      <td>0</td>\n",
       "    </tr>\n",
       "    <tr>\n",
       "      <th>165</th>\n",
       "      <td>165</td>\n",
       "      <td>1</td>\n",
       "      <td>3</td>\n",
       "      <td>9.0</td>\n",
       "      <td>0</td>\n",
       "      <td>2</td>\n",
       "      <td>20.5250</td>\n",
       "      <td>0</td>\n",
       "      <td>0</td>\n",
       "      <td>1</td>\n",
       "      <td>1</td>\n",
       "      <td>0</td>\n",
       "    </tr>\n",
       "    <tr>\n",
       "      <th>50</th>\n",
       "      <td>50</td>\n",
       "      <td>0</td>\n",
       "      <td>3</td>\n",
       "      <td>7.0</td>\n",
       "      <td>4</td>\n",
       "      <td>1</td>\n",
       "      <td>39.6875</td>\n",
       "      <td>0</td>\n",
       "      <td>0</td>\n",
       "      <td>1</td>\n",
       "      <td>1</td>\n",
       "      <td>0</td>\n",
       "    </tr>\n",
       "    <tr>\n",
       "      <th>259</th>\n",
       "      <td>259</td>\n",
       "      <td>1</td>\n",
       "      <td>2</td>\n",
       "      <td>50.0</td>\n",
       "      <td>0</td>\n",
       "      <td>1</td>\n",
       "      <td>26.0000</td>\n",
       "      <td>0</td>\n",
       "      <td>0</td>\n",
       "      <td>1</td>\n",
       "      <td>0</td>\n",
       "      <td>1</td>\n",
       "    </tr>\n",
       "    <tr>\n",
       "      <th>306</th>\n",
       "      <td>306</td>\n",
       "      <td>1</td>\n",
       "      <td>1</td>\n",
       "      <td>28.0</td>\n",
       "      <td>0</td>\n",
       "      <td>0</td>\n",
       "      <td>110.8833</td>\n",
       "      <td>1</td>\n",
       "      <td>0</td>\n",
       "      <td>0</td>\n",
       "      <td>0</td>\n",
       "      <td>1</td>\n",
       "    </tr>\n",
       "  </tbody>\n",
       "</table>\n",
       "</div>"
      ],
      "text/plain": [
       "     passenger_id  survived  pclass   age  sibsp  parch      fare  alone  \\\n",
       "583           583         0       1  36.0      0      0   40.1250      1   \n",
       "165           165         1       3   9.0      0      2   20.5250      0   \n",
       "50             50         0       3   7.0      4      1   39.6875      0   \n",
       "259           259         1       2  50.0      0      1   26.0000      0   \n",
       "306           306         1       1  28.0      0      0  110.8833      1   \n",
       "\n",
       "     embarked_Q  embarked_S  sex_male  prediction  \n",
       "583           0           0         1           0  \n",
       "165           0           1         1           0  \n",
       "50            0           1         1           0  \n",
       "259           0           1         0           1  \n",
       "306           0           0         0           1  "
      ]
     },
     "execution_count": 25,
     "metadata": {},
     "output_type": "execute_result"
    }
   ],
   "source": [
    "# let's add the predictions to the df\n",
    "\n",
    "train['prediction'] = tree1.predict(X_train)\n",
    "train.head()"
   ]
  },
  {
   "cell_type": "code",
   "execution_count": 26,
   "metadata": {},
   "outputs": [
    {
     "data": {
      "text/plain": [
       "array([[261,  46],\n",
       "       [ 50, 141]])"
      ]
     },
     "execution_count": 26,
     "metadata": {},
     "output_type": "execute_result"
    }
   ],
   "source": [
    "# confusion matrix\n",
    "confusion_matrix(train.survived, train.prediction)"
   ]
  },
  {
   "cell_type": "code",
   "execution_count": 27,
   "metadata": {},
   "outputs": [
    {
     "data": {
      "text/plain": [
       "0    307\n",
       "1    191\n",
       "Name: survived, dtype: int64"
      ]
     },
     "execution_count": 27,
     "metadata": {},
     "output_type": "execute_result"
    }
   ],
   "source": [
    "train['survived'].value_counts()"
   ]
  },
  {
   "cell_type": "code",
   "execution_count": 28,
   "metadata": {},
   "outputs": [
    {
     "data": {
      "text/plain": [
       "0    311\n",
       "1    187\n",
       "Name: prediction, dtype: int64"
      ]
     },
     "execution_count": 28,
     "metadata": {},
     "output_type": "execute_result"
    }
   ],
   "source": [
    "train.prediction.value_counts()"
   ]
  },
  {
   "cell_type": "code",
   "execution_count": 29,
   "metadata": {},
   "outputs": [],
   "source": [
    "pre1_df = pd.DataFrame([['TN', 'FP'],['FN', 'TP']], index=['actual death', 'actual survived'], columns=['pred death', 'pred survived'])"
   ]
  },
  {
   "cell_type": "code",
   "execution_count": 30,
   "metadata": {},
   "outputs": [
    {
     "data": {
      "text/html": [
       "<div>\n",
       "<style scoped>\n",
       "    .dataframe tbody tr th:only-of-type {\n",
       "        vertical-align: middle;\n",
       "    }\n",
       "\n",
       "    .dataframe tbody tr th {\n",
       "        vertical-align: top;\n",
       "    }\n",
       "\n",
       "    .dataframe thead th {\n",
       "        text-align: right;\n",
       "    }\n",
       "</style>\n",
       "<table border=\"1\" class=\"dataframe\">\n",
       "  <thead>\n",
       "    <tr style=\"text-align: right;\">\n",
       "      <th></th>\n",
       "      <th>pred death</th>\n",
       "      <th>pred survived</th>\n",
       "    </tr>\n",
       "  </thead>\n",
       "  <tbody>\n",
       "    <tr>\n",
       "      <th>actual death</th>\n",
       "      <td>TN : 261</td>\n",
       "      <td>FP : 46</td>\n",
       "    </tr>\n",
       "    <tr>\n",
       "      <th>actual survived</th>\n",
       "      <td>FN : 50</td>\n",
       "      <td>TP : 141</td>\n",
       "    </tr>\n",
       "  </tbody>\n",
       "</table>\n",
       "</div>"
      ],
      "text/plain": [
       "                pred death pred survived\n",
       "actual death      TN : 261       FP : 46\n",
       "actual survived    FN : 50      TP : 141"
      ]
     },
     "execution_count": 30,
     "metadata": {},
     "output_type": "execute_result"
    }
   ],
   "source": [
    "# Carl Sagan went to outer space to find Madeleine's code...\n",
    "pre1_df + ' : ' + confusion_matrix(train.survived, train.prediction).astype(str)"
   ]
  },
  {
   "cell_type": "code",
   "execution_count": null,
   "metadata": {},
   "outputs": [],
   "source": [
    "\n",
    "\n",
    "                "
   ]
  },
  {
   "cell_type": "code",
   "execution_count": 31,
   "metadata": {},
   "outputs": [],
   "source": [
    "# 1st 4 create the variables\n",
    "tp = 141\n",
    "tn = 261\n",
    "fp = 46\n",
    "fn = 50\n",
    "# these calculate the rates\n",
    "tpr = tp/(tp+fn)\n",
    "fpr = fp/(fp+tn)\n",
    "tnr = tn/(tn+fp)\n",
    "fnr = fn/(fn+tp)"
   ]
  },
  {
   "cell_type": "code",
   "execution_count": 32,
   "metadata": {},
   "outputs": [
    {
     "data": {
      "text/html": [
       "<div>\n",
       "<style scoped>\n",
       "    .dataframe tbody tr th:only-of-type {\n",
       "        vertical-align: middle;\n",
       "    }\n",
       "\n",
       "    .dataframe tbody tr th {\n",
       "        vertical-align: top;\n",
       "    }\n",
       "\n",
       "    .dataframe thead th {\n",
       "        text-align: right;\n",
       "    }\n",
       "</style>\n",
       "<table border=\"1\" class=\"dataframe\">\n",
       "  <thead>\n",
       "    <tr style=\"text-align: right;\">\n",
       "      <th></th>\n",
       "      <th>precision</th>\n",
       "      <th>recall</th>\n",
       "      <th>f1-score</th>\n",
       "      <th>support</th>\n",
       "    </tr>\n",
       "  </thead>\n",
       "  <tbody>\n",
       "    <tr>\n",
       "      <th>0</th>\n",
       "      <td>0.839228</td>\n",
       "      <td>0.850163</td>\n",
       "      <td>0.844660</td>\n",
       "      <td>307.000000</td>\n",
       "    </tr>\n",
       "    <tr>\n",
       "      <th>1</th>\n",
       "      <td>0.754011</td>\n",
       "      <td>0.738220</td>\n",
       "      <td>0.746032</td>\n",
       "      <td>191.000000</td>\n",
       "    </tr>\n",
       "    <tr>\n",
       "      <th>accuracy</th>\n",
       "      <td>0.807229</td>\n",
       "      <td>0.807229</td>\n",
       "      <td>0.807229</td>\n",
       "      <td>0.807229</td>\n",
       "    </tr>\n",
       "    <tr>\n",
       "      <th>macro avg</th>\n",
       "      <td>0.796619</td>\n",
       "      <td>0.794191</td>\n",
       "      <td>0.795346</td>\n",
       "      <td>498.000000</td>\n",
       "    </tr>\n",
       "    <tr>\n",
       "      <th>weighted avg</th>\n",
       "      <td>0.806544</td>\n",
       "      <td>0.807229</td>\n",
       "      <td>0.806833</td>\n",
       "      <td>498.000000</td>\n",
       "    </tr>\n",
       "  </tbody>\n",
       "</table>\n",
       "</div>"
      ],
      "text/plain": [
       "              precision    recall  f1-score     support\n",
       "0              0.839228  0.850163  0.844660  307.000000\n",
       "1              0.754011  0.738220  0.746032  191.000000\n",
       "accuracy       0.807229  0.807229  0.807229    0.807229\n",
       "macro avg      0.796619  0.794191  0.795346  498.000000\n",
       "weighted avg   0.806544  0.807229  0.806833  498.000000"
      ]
     },
     "execution_count": 32,
     "metadata": {},
     "output_type": "execute_result"
    }
   ],
   "source": [
    "# accuracy\n",
    "accuracy_1 = (train.survived == train.prediction).mean()\n",
    "# Precision\n",
    "subset = train[train.prediction == 1]\n",
    "precision_t1 = (subset.prediction == subset.survived).mean()\n",
    "# Recall\n",
    "subset = train[train.survived == 1]\n",
    "recall_t1 = (subset.prediction == subset.survived).mean()\n",
    "# f1-score\n",
    "\n",
    "\n",
    "pd.DataFrame(classification_report(train.survived, train.prediction, output_dict=True)).T"
   ]
  },
  {
   "cell_type": "code",
   "execution_count": 33,
   "metadata": {},
   "outputs": [
    {
     "name": "stdout",
     "output_type": "stream",
     "text": [
      "The overall Accuracy is 80.72%\n",
      "The True Positive rate is 73.82%\n",
      "The False Positive rate is 14.98%\n",
      "The True Negative rate is 85.02%\n",
      "The False Negative rate is 26.18%\n",
      "Precision for tree 1 is 75.40%\n",
      "Recall for tree 1 is 73.82%\n"
     ]
    }
   ],
   "source": [
    "print(f'The overall Accuracy is {accuracy_1:.2%}')\n",
    "print(f'The True Positive rate is {tpr:.2%}')\n",
    "print(f'The False Positive rate is {fpr:.2%}')\n",
    "print(f'The True Negative rate is {tnr:.2%}')\n",
    "print(f'The False Negative rate is {fnr:.2%}')\n",
    "print(f'Precision for tree 1 is {precision_t1:.2%}')\n",
    "print(f'Recall for tree 1 is {recall_t1:.2%}')"
   ]
  },
  {
   "cell_type": "code",
   "execution_count": 34,
   "metadata": {},
   "outputs": [],
   "source": [
    "classification = classification_report(train.survived, train.prediction, target_names=['Survive', 'Death'])"
   ]
  },
  {
   "cell_type": "code",
   "execution_count": 35,
   "metadata": {},
   "outputs": [
    {
     "data": {
      "text/html": [
       "<div>\n",
       "<style scoped>\n",
       "    .dataframe tbody tr th:only-of-type {\n",
       "        vertical-align: middle;\n",
       "    }\n",
       "\n",
       "    .dataframe tbody tr th {\n",
       "        vertical-align: top;\n",
       "    }\n",
       "\n",
       "    .dataframe thead th {\n",
       "        text-align: right;\n",
       "    }\n",
       "</style>\n",
       "<table border=\"1\" class=\"dataframe\">\n",
       "  <thead>\n",
       "    <tr style=\"text-align: right;\">\n",
       "      <th></th>\n",
       "      <th>0</th>\n",
       "      <th>1</th>\n",
       "      <th>accuracy</th>\n",
       "      <th>macro avg</th>\n",
       "      <th>weighted avg</th>\n",
       "    </tr>\n",
       "  </thead>\n",
       "  <tbody>\n",
       "    <tr>\n",
       "      <th>precision</th>\n",
       "      <td>0.839228</td>\n",
       "      <td>0.754011</td>\n",
       "      <td>0.807229</td>\n",
       "      <td>0.796619</td>\n",
       "      <td>0.806544</td>\n",
       "    </tr>\n",
       "    <tr>\n",
       "      <th>recall</th>\n",
       "      <td>0.850163</td>\n",
       "      <td>0.738220</td>\n",
       "      <td>0.807229</td>\n",
       "      <td>0.794191</td>\n",
       "      <td>0.807229</td>\n",
       "    </tr>\n",
       "    <tr>\n",
       "      <th>f1-score</th>\n",
       "      <td>0.844660</td>\n",
       "      <td>0.746032</td>\n",
       "      <td>0.807229</td>\n",
       "      <td>0.795346</td>\n",
       "      <td>0.806833</td>\n",
       "    </tr>\n",
       "    <tr>\n",
       "      <th>support</th>\n",
       "      <td>307.000000</td>\n",
       "      <td>191.000000</td>\n",
       "      <td>0.807229</td>\n",
       "      <td>498.000000</td>\n",
       "      <td>498.000000</td>\n",
       "    </tr>\n",
       "  </tbody>\n",
       "</table>\n",
       "</div>"
      ],
      "text/plain": [
       "                    0           1  accuracy   macro avg  weighted avg\n",
       "precision    0.839228    0.754011  0.807229    0.796619      0.806544\n",
       "recall       0.850163    0.738220  0.807229    0.794191      0.807229\n",
       "f1-score     0.844660    0.746032  0.807229    0.795346      0.806833\n",
       "support    307.000000  191.000000  0.807229  498.000000    498.000000"
      ]
     },
     "execution_count": 35,
     "metadata": {},
     "output_type": "execute_result"
    }
   ],
   "source": [
    "accuracy = accuracy_score(train.survived, train.prediction)\n",
    "precision = precision_score(train.survived, train.prediction, pos_label=1)\n",
    "recall = recall_score(train.survived, train.prediction, pos_label=1)\n",
    "classification = classification_report(train.survived, train.prediction, output_dict=True)\n",
    "pd.DataFrame(classification)"
   ]
  },
  {
   "cell_type": "markdown",
   "metadata": {},
   "source": [
    "5. Run through steps 2-4 using a different max_depth value."
   ]
  },
  {
   "cell_type": "code",
   "execution_count": 36,
   "metadata": {},
   "outputs": [
    {
     "data": {
      "text/plain": [
       "DecisionTreeClassifier(max_depth=4)"
      ]
     },
     "execution_count": 36,
     "metadata": {},
     "output_type": "execute_result"
    }
   ],
   "source": [
    "tree2 = DecisionTreeClassifier(max_depth=4)\n",
    "tree2.fit(X_train, y_train)"
   ]
  },
  {
   "cell_type": "code",
   "execution_count": 37,
   "metadata": {},
   "outputs": [
    {
     "name": "stdout",
     "output_type": "stream",
     "text": [
      "training score: 84.54%\n",
      "validate score: 79.44%\n"
     ]
    }
   ],
   "source": [
    "print(f'training score: {tree2.score(X_train, y_train):.2%}')\n",
    "print(f'validate score: {tree2.score(X_validate, y_validate):.2%}')"
   ]
  },
  {
   "cell_type": "code",
   "execution_count": 38,
   "metadata": {},
   "outputs": [],
   "source": [
    "train['prediction_2'] = tree2.predict(X_train)"
   ]
  },
  {
   "cell_type": "code",
   "execution_count": 39,
   "metadata": {},
   "outputs": [],
   "source": [
    "pre2_df = pd.DataFrame([['TN', 'FP'],['FN', 'TP']], index=['actual death', 'actual survived'], columns=['pred_2 death', 'pred_2 survived'])"
   ]
  },
  {
   "cell_type": "code",
   "execution_count": 40,
   "metadata": {},
   "outputs": [
    {
     "data": {
      "text/html": [
       "<div>\n",
       "<style scoped>\n",
       "    .dataframe tbody tr th:only-of-type {\n",
       "        vertical-align: middle;\n",
       "    }\n",
       "\n",
       "    .dataframe tbody tr th {\n",
       "        vertical-align: top;\n",
       "    }\n",
       "\n",
       "    .dataframe thead th {\n",
       "        text-align: right;\n",
       "    }\n",
       "</style>\n",
       "<table border=\"1\" class=\"dataframe\">\n",
       "  <thead>\n",
       "    <tr style=\"text-align: right;\">\n",
       "      <th></th>\n",
       "      <th>pred_2 death</th>\n",
       "      <th>pred_2 survived</th>\n",
       "    </tr>\n",
       "  </thead>\n",
       "  <tbody>\n",
       "    <tr>\n",
       "      <th>actual death</th>\n",
       "      <td>TN : 281</td>\n",
       "      <td>FP : 26</td>\n",
       "    </tr>\n",
       "    <tr>\n",
       "      <th>actual survived</th>\n",
       "      <td>FN : 51</td>\n",
       "      <td>TP : 140</td>\n",
       "    </tr>\n",
       "  </tbody>\n",
       "</table>\n",
       "</div>"
      ],
      "text/plain": [
       "                pred_2 death pred_2 survived\n",
       "actual death        TN : 281         FP : 26\n",
       "actual survived      FN : 51        TP : 140"
      ]
     },
     "execution_count": 40,
     "metadata": {},
     "output_type": "execute_result"
    }
   ],
   "source": [
    "pre2_df + ' : ' + confusion_matrix(train.survived, train.prediction_2).astype(str)"
   ]
  },
  {
   "cell_type": "code",
   "execution_count": 41,
   "metadata": {},
   "outputs": [],
   "source": [
    "tp = 140\n",
    "tn = 281\n",
    "fp = 26\n",
    "fn = 51\n",
    "tpr = tp/(tp+fn)\n",
    "fpr = fp/(fp+tn)\n",
    "tnr = tn/(tn+fp)\n",
    "fnr = fn/(fn+tp)"
   ]
  },
  {
   "cell_type": "code",
   "execution_count": 42,
   "metadata": {},
   "outputs": [],
   "source": [
    "# accuracy\n",
    "accuracy_2 = (train.survived == train.prediction_2).mean()\n",
    "# Precision\n",
    "subset = train[train.prediction_2 == 1]\n",
    "precision_t2 = (subset.prediction_2 == subset.survived).mean()\n",
    "# Recall\n",
    "subset = train[train.survived == 1]\n",
    "recall_t2 = (subset.prediction_2 == subset.survived).mean()\n",
    "# f1-score\n",
    "\n",
    "\n",
    "class_report = pd.DataFrame(classification_report(train.survived, train.prediction_2, output_dict=True)).T"
   ]
  },
  {
   "cell_type": "code",
   "execution_count": 43,
   "metadata": {},
   "outputs": [],
   "source": [
    "class_report = class_report.rename(index={'0': 'Died', '1': 'Survived'})"
   ]
  },
  {
   "cell_type": "code",
   "execution_count": 44,
   "metadata": {},
   "outputs": [
    {
     "data": {
      "text/html": [
       "<div>\n",
       "<style scoped>\n",
       "    .dataframe tbody tr th:only-of-type {\n",
       "        vertical-align: middle;\n",
       "    }\n",
       "\n",
       "    .dataframe tbody tr th {\n",
       "        vertical-align: top;\n",
       "    }\n",
       "\n",
       "    .dataframe thead th {\n",
       "        text-align: right;\n",
       "    }\n",
       "</style>\n",
       "<table border=\"1\" class=\"dataframe\">\n",
       "  <thead>\n",
       "    <tr style=\"text-align: right;\">\n",
       "      <th></th>\n",
       "      <th>precision</th>\n",
       "      <th>recall</th>\n",
       "      <th>f1-score</th>\n",
       "      <th>support</th>\n",
       "    </tr>\n",
       "  </thead>\n",
       "  <tbody>\n",
       "    <tr>\n",
       "      <th>Died</th>\n",
       "      <td>0.846386</td>\n",
       "      <td>0.915309</td>\n",
       "      <td>0.879499</td>\n",
       "      <td>307.000000</td>\n",
       "    </tr>\n",
       "    <tr>\n",
       "      <th>Survived</th>\n",
       "      <td>0.843373</td>\n",
       "      <td>0.732984</td>\n",
       "      <td>0.784314</td>\n",
       "      <td>191.000000</td>\n",
       "    </tr>\n",
       "    <tr>\n",
       "      <th>accuracy</th>\n",
       "      <td>0.845382</td>\n",
       "      <td>0.845382</td>\n",
       "      <td>0.845382</td>\n",
       "      <td>0.845382</td>\n",
       "    </tr>\n",
       "    <tr>\n",
       "      <th>macro avg</th>\n",
       "      <td>0.844880</td>\n",
       "      <td>0.824147</td>\n",
       "      <td>0.831906</td>\n",
       "      <td>498.000000</td>\n",
       "    </tr>\n",
       "    <tr>\n",
       "      <th>weighted avg</th>\n",
       "      <td>0.845230</td>\n",
       "      <td>0.845382</td>\n",
       "      <td>0.842992</td>\n",
       "      <td>498.000000</td>\n",
       "    </tr>\n",
       "  </tbody>\n",
       "</table>\n",
       "</div>"
      ],
      "text/plain": [
       "              precision    recall  f1-score     support\n",
       "Died           0.846386  0.915309  0.879499  307.000000\n",
       "Survived       0.843373  0.732984  0.784314  191.000000\n",
       "accuracy       0.845382  0.845382  0.845382    0.845382\n",
       "macro avg      0.844880  0.824147  0.831906  498.000000\n",
       "weighted avg   0.845230  0.845382  0.842992  498.000000"
      ]
     },
     "execution_count": 44,
     "metadata": {},
     "output_type": "execute_result"
    }
   ],
   "source": [
    "class_report"
   ]
  },
  {
   "cell_type": "code",
   "execution_count": null,
   "metadata": {},
   "outputs": [],
   "source": []
  },
  {
   "cell_type": "code",
   "execution_count": 45,
   "metadata": {},
   "outputs": [
    {
     "name": "stdout",
     "output_type": "stream",
     "text": [
      "The overall Accuracy of Tree 2 is 84.54%\n",
      "The True Positive rate of Tree 2 is 73.30%\n",
      "The False Positive rate Tree 2 is 8.47%\n",
      "The True Negative rate of Tree 2 is 91.53%\n",
      "The False Negative rate of Tree 2 is 26.70%\n",
      "Precision for tree 2 is 84.34%\n",
      "Recall for tree 2 is 73.30%\n"
     ]
    }
   ],
   "source": [
    "print(f'The overall Accuracy of Tree 2 is {accuracy_2:.2%}')\n",
    "print(f'The True Positive rate of Tree 2 is {tpr:.2%}')\n",
    "print(f'The False Positive rate Tree 2 is {fpr:.2%}')\n",
    "print(f'The True Negative rate of Tree 2 is {tnr:.2%}')\n",
    "print(f'The False Negative rate of Tree 2 is {fnr:.2%}')\n",
    "print(f'Precision for tree 2 is {precision_t2:.2%}')\n",
    "print(f'Recall for tree 2 is {recall_t2:.2%}')"
   ]
  },
  {
   "cell_type": "markdown",
   "metadata": {},
   "source": [
    "6. Which model performs better on your in-sample data?"
   ]
  },
  {
   "cell_type": "code",
   "execution_count": 46,
   "metadata": {},
   "outputs": [],
   "source": [
    "# model 2 performs better on my train set\n",
    "# it is (at least slightly) overfit"
   ]
  },
  {
   "cell_type": "markdown",
   "metadata": {},
   "source": [
    "7. Which model performs best on your out-of-sample data, the validate set?"
   ]
  },
  {
   "cell_type": "code",
   "execution_count": 47,
   "metadata": {},
   "outputs": [],
   "source": [
    "# model 2 also performs better on the validate set"
   ]
  },
  {
   "cell_type": "code",
   "execution_count": 48,
   "metadata": {},
   "outputs": [],
   "source": [
    "# save for later... Thanks Heather, and Parker, and Chad\n",
    "\n",
    "def run_metrics(model, data_set):\n",
    "    \"\"\"\n",
    "    This function takes in a model and ouputs metrics. \n",
    "    model = name of class model\n",
    "    data_set = train, validate, test (AS A STRING)\n",
    "    Will output the Precision Score, the classification report, and the confusion matrix\n",
    "    It is advisable to print the name of the model you're working with before hand for clarity\n",
    "    i.e. print('Metrics for Model 1 with Train data\\n')\n",
    "    \"\"\"\n",
    "    if data_set == 'train':\n",
    "        X = X_train\n",
    "        y = y_train\n",
    "        df = train\n",
    "    if data_set == 'validate':\n",
    "        X = X_validate\n",
    "        y = y_validate\n",
    "        df = validate\n",
    "    if data_set == 'test':\n",
    "        X = X_test\n",
    "        y = y_test\n",
    "        df = test\n",
    "    score = model.score(X, y)\n",
    "    matrix = confusion_matrix(y, model.predict(X))\n",
    "    tpr = matrix[1,1] / (matrix[1,1] + matrix[1,0])\n",
    "    fpr = matrix[0,1] / (matrix[0,1] + matrix[0,0])\n",
    "    tnr = matrix[0,0] / (matrix[0,0] + matrix[0,1])\n",
    "    fnr = matrix[1,0] / (matrix[1,1] + matrix[1,0])\n",
    "    print(f'{data_set} data set accuracy score: {score:.2%}')\n",
    "    class_report = classification_report(y, model.predict(X), zero_division=True)\n",
    "    print('-------------------------------')\n",
    "    print(f'classification report')\n",
    "    print(class_report)\n",
    "    print ('-------------------------------')\n",
    "    print('')\n",
    "    print('confusion matrix')\n",
    "    print(matrix)\n",
    "    print(' ')\n",
    "    print(f'{data_set} data set model metrics')\n",
    "    print('---------------------------------')\n",
    "    print(f'True positive rate for the model is {tpr:.2%}')\n",
    "    print(f'False positive rate for the model is  {fpr:.2%}')\n",
    "    print(f'True negative rate for the model is {tnr:.2%}')\n",
    "    print(f'False negative rate for the model is {fnr:.2%}')"
   ]
  },
  {
   "cell_type": "markdown",
   "metadata": {},
   "source": [
    "1. Fit the Random Forest classifier to your training sample and transform (i.e. make predictions on the training sample) setting the random_state accordingly and setting min_samples_leaf = 1 and max_depth = 10.\n",
    "\n"
   ]
  },
  {
   "cell_type": "code",
   "execution_count": 49,
   "metadata": {},
   "outputs": [],
   "source": [
    "rf1 = RandomForestClassifier(bootstrap=True, \n",
    "                            class_weight=None, \n",
    "                            criterion='gini',\n",
    "                            min_samples_leaf=1,\n",
    "                            n_estimators=100,\n",
    "                            max_depth=10, \n",
    "                            random_state=1221)"
   ]
  },
  {
   "cell_type": "code",
   "execution_count": 50,
   "metadata": {},
   "outputs": [
    {
     "data": {
      "text/plain": [
       "RandomForestClassifier(max_depth=10, random_state=1221)"
      ]
     },
     "execution_count": 50,
     "metadata": {},
     "output_type": "execute_result"
    }
   ],
   "source": [
    "rf1.fit(X_train, y_train)"
   ]
  },
  {
   "cell_type": "code",
   "execution_count": 51,
   "metadata": {},
   "outputs": [],
   "source": [
    "y_pred = rf1.predict(X_train)"
   ]
  },
  {
   "cell_type": "code",
   "execution_count": 52,
   "metadata": {},
   "outputs": [],
   "source": [
    "y_pred_proba = rf1.predict_proba(X_train)"
   ]
  },
  {
   "cell_type": "code",
   "execution_count": 53,
   "metadata": {},
   "outputs": [
    {
     "name": "stdout",
     "output_type": "stream",
     "text": [
      "Accuracy of random forest classifier on training set: 0.91\n"
     ]
    }
   ],
   "source": [
    "print('Accuracy of random forest classifier on training set: {:.2f}'\n",
    "     .format(rf1.score(X_train, y_train)))"
   ]
  },
  {
   "cell_type": "code",
   "execution_count": 54,
   "metadata": {},
   "outputs": [
    {
     "name": "stdout",
     "output_type": "stream",
     "text": [
      "[[287  20]\n",
      " [ 24 167]]\n"
     ]
    }
   ],
   "source": [
    "print(confusion_matrix(y_train, y_pred))"
   ]
  },
  {
   "cell_type": "code",
   "execution_count": 55,
   "metadata": {},
   "outputs": [
    {
     "name": "stdout",
     "output_type": "stream",
     "text": [
      "train data set accuracy score: 91.16%\n",
      "-------------------------------\n",
      "classification report\n",
      "              precision    recall  f1-score   support\n",
      "\n",
      "           0       0.92      0.93      0.93       307\n",
      "           1       0.89      0.87      0.88       191\n",
      "\n",
      "    accuracy                           0.91       498\n",
      "   macro avg       0.91      0.90      0.91       498\n",
      "weighted avg       0.91      0.91      0.91       498\n",
      "\n",
      "-------------------------------\n",
      "\n",
      "confusion matrix\n",
      "[[287  20]\n",
      " [ 24 167]]\n",
      " \n",
      "train data set model metrics\n",
      "---------------------------------\n",
      "True positive rate for the model is 87.43%\n",
      "False positive rate for the model is  6.51%\n",
      "True negative rate for the model is 93.49%\n",
      "False negative rate for the model is 12.57%\n"
     ]
    }
   ],
   "source": [
    "run_metrics(rf1, 'train')"
   ]
  },
  {
   "cell_type": "code",
   "execution_count": null,
   "metadata": {},
   "outputs": [],
   "source": []
  },
  {
   "cell_type": "markdown",
   "metadata": {},
   "source": [
    "2. Evaluate your results using the model score, confusion matrix, and classification report."
   ]
  },
  {
   "cell_type": "code",
   "execution_count": null,
   "metadata": {},
   "outputs": [],
   "source": []
  },
  {
   "cell_type": "markdown",
   "metadata": {},
   "source": [
    "3. Print and clearly label the following: Accuracy, true positive rate, false positive rate, true negative rate, false negative rate, precision, recall, f1-score, and support."
   ]
  },
  {
   "cell_type": "code",
   "execution_count": null,
   "metadata": {},
   "outputs": [],
   "source": []
  },
  {
   "cell_type": "markdown",
   "metadata": {},
   "source": [
    "4. Run through steps increasing your min_samples_leaf and decreasing your max_depth."
   ]
  },
  {
   "cell_type": "code",
   "execution_count": 56,
   "metadata": {},
   "outputs": [],
   "source": [
    "rf2 = RandomForestClassifier(bootstrap=True, \n",
    "                            class_weight=None, \n",
    "                            criterion='gini',\n",
    "                            min_samples_leaf=3,\n",
    "                            n_estimators=100,\n",
    "                            max_depth=8, \n",
    "                            random_state=1221)"
   ]
  },
  {
   "cell_type": "code",
   "execution_count": 57,
   "metadata": {},
   "outputs": [
    {
     "name": "stdout",
     "output_type": "stream",
     "text": [
      "train data set accuracy score: 87.15%\n",
      "-------------------------------\n",
      "classification report\n",
      "              precision    recall  f1-score   support\n",
      "\n",
      "           0       0.87      0.93      0.90       307\n",
      "           1       0.87      0.79      0.82       191\n",
      "\n",
      "    accuracy                           0.87       498\n",
      "   macro avg       0.87      0.86      0.86       498\n",
      "weighted avg       0.87      0.87      0.87       498\n",
      "\n",
      "-------------------------------\n",
      "\n",
      "confusion matrix\n",
      "[[284  23]\n",
      " [ 41 150]]\n",
      " \n",
      "train data set model metrics\n",
      "---------------------------------\n",
      "True positive rate for the model is 78.53%\n",
      "False positive rate for the model is  7.49%\n",
      "True negative rate for the model is 92.51%\n",
      "False negative rate for the model is 21.47%\n"
     ]
    }
   ],
   "source": [
    "rf2.fit(X_train, y_train)\n",
    "y_pred = rf1.predict(X_train)\n",
    "y_pred_proba = rf1.predict_proba(X_train)\n",
    "run_metrics(rf2, 'train')\n",
    "\n"
   ]
  },
  {
   "cell_type": "code",
   "execution_count": 58,
   "metadata": {},
   "outputs": [],
   "source": [
    "rf3 = RandomForestClassifier(bootstrap=True, \n",
    "                            class_weight=None, \n",
    "                            criterion='gini',\n",
    "                            min_samples_leaf=5,\n",
    "                            n_estimators=100,\n",
    "                            max_depth=8, \n",
    "                            random_state=1221)"
   ]
  },
  {
   "cell_type": "code",
   "execution_count": 59,
   "metadata": {},
   "outputs": [
    {
     "name": "stdout",
     "output_type": "stream",
     "text": [
      "train data set accuracy score: 85.74%\n",
      "-------------------------------\n",
      "classification report\n",
      "              precision    recall  f1-score   support\n",
      "\n",
      "           0       0.86      0.92      0.89       307\n",
      "           1       0.85      0.76      0.80       191\n",
      "\n",
      "    accuracy                           0.86       498\n",
      "   macro avg       0.86      0.84      0.85       498\n",
      "weighted avg       0.86      0.86      0.86       498\n",
      "\n",
      "-------------------------------\n",
      "\n",
      "confusion matrix\n",
      "[[282  25]\n",
      " [ 46 145]]\n",
      " \n",
      "train data set model metrics\n",
      "---------------------------------\n",
      "True positive rate for the model is 75.92%\n",
      "False positive rate for the model is  8.14%\n",
      "True negative rate for the model is 91.86%\n",
      "False negative rate for the model is 24.08%\n"
     ]
    }
   ],
   "source": [
    "rf3.fit(X_train, y_train)\n",
    "y_pred = rf3.predict(X_train)\n",
    "y_pred_proba = rf3.predict_proba(X_train)\n",
    "run_metrics(rf3, 'train')"
   ]
  },
  {
   "cell_type": "code",
   "execution_count": 60,
   "metadata": {},
   "outputs": [
    {
     "name": "stdout",
     "output_type": "stream",
     "text": [
      "validate data set accuracy score: 79.44%\n",
      "-------------------------------\n",
      "classification report\n",
      "              precision    recall  f1-score   support\n",
      "\n",
      "           0       0.84      0.82      0.83       132\n",
      "           1       0.72      0.76      0.74        82\n",
      "\n",
      "    accuracy                           0.79       214\n",
      "   macro avg       0.78      0.79      0.78       214\n",
      "weighted avg       0.80      0.79      0.80       214\n",
      "\n",
      "-------------------------------\n",
      "\n",
      "confusion matrix\n",
      "[[108  24]\n",
      " [ 20  62]]\n",
      " \n",
      "validate data set model metrics\n",
      "---------------------------------\n",
      "True positive rate for the model is 75.61%\n",
      "False positive rate for the model is  18.18%\n",
      "True negative rate for the model is 81.82%\n",
      "False negative rate for the model is 24.39%\n"
     ]
    }
   ],
   "source": [
    "# rf 1 train vs validate\n",
    "run_metrics(rf1, 'validate')"
   ]
  },
  {
   "cell_type": "code",
   "execution_count": 61,
   "metadata": {},
   "outputs": [
    {
     "name": "stdout",
     "output_type": "stream",
     "text": [
      "validate data set accuracy score: 81.31%\n",
      "-------------------------------\n",
      "classification report\n",
      "              precision    recall  f1-score   support\n",
      "\n",
      "           0       0.83      0.87      0.85       132\n",
      "           1       0.78      0.72      0.75        82\n",
      "\n",
      "    accuracy                           0.81       214\n",
      "   macro avg       0.80      0.80      0.80       214\n",
      "weighted avg       0.81      0.81      0.81       214\n",
      "\n",
      "-------------------------------\n",
      "\n",
      "confusion matrix\n",
      "[[115  17]\n",
      " [ 23  59]]\n",
      " \n",
      "validate data set model metrics\n",
      "---------------------------------\n",
      "True positive rate for the model is 71.95%\n",
      "False positive rate for the model is  12.88%\n",
      "True negative rate for the model is 87.12%\n",
      "False negative rate for the model is 28.05%\n"
     ]
    }
   ],
   "source": [
    "run_metrics(rf2, 'validate')"
   ]
  },
  {
   "cell_type": "code",
   "execution_count": 62,
   "metadata": {},
   "outputs": [
    {
     "name": "stdout",
     "output_type": "stream",
     "text": [
      "validate data set accuracy score: 79.44%\n",
      "-------------------------------\n",
      "classification report\n",
      "              precision    recall  f1-score   support\n",
      "\n",
      "           0       0.82      0.86      0.84       132\n",
      "           1       0.75      0.70      0.72        82\n",
      "\n",
      "    accuracy                           0.79       214\n",
      "   macro avg       0.78      0.78      0.78       214\n",
      "weighted avg       0.79      0.79      0.79       214\n",
      "\n",
      "-------------------------------\n",
      "\n",
      "confusion matrix\n",
      "[[113  19]\n",
      " [ 25  57]]\n",
      " \n",
      "validate data set model metrics\n",
      "---------------------------------\n",
      "True positive rate for the model is 69.51%\n",
      "False positive rate for the model is  14.39%\n",
      "True negative rate for the model is 85.61%\n",
      "False negative rate for the model is 30.49%\n"
     ]
    }
   ],
   "source": [
    "run_metrics(rf3, 'validate')"
   ]
  },
  {
   "cell_type": "code",
   "execution_count": 63,
   "metadata": {},
   "outputs": [],
   "source": [
    "rf4 = RandomForestClassifier(bootstrap=True, \n",
    "                            class_weight=None, \n",
    "                            criterion='gini',\n",
    "                            min_samples_leaf=3,\n",
    "                            n_estimators=100,\n",
    "                            max_depth=6, \n",
    "                            random_state=1221)"
   ]
  },
  {
   "cell_type": "code",
   "execution_count": 64,
   "metadata": {},
   "outputs": [
    {
     "name": "stdout",
     "output_type": "stream",
     "text": [
      "train data set accuracy score: 85.54%\n",
      "-------------------------------\n",
      "classification report\n",
      "              precision    recall  f1-score   support\n",
      "\n",
      "           0       0.85      0.93      0.89       307\n",
      "           1       0.87      0.74      0.80       191\n",
      "\n",
      "    accuracy                           0.86       498\n",
      "   macro avg       0.86      0.83      0.84       498\n",
      "weighted avg       0.86      0.86      0.85       498\n",
      "\n",
      "-------------------------------\n",
      "\n",
      "confusion matrix\n",
      "[[285  22]\n",
      " [ 50 141]]\n",
      " \n",
      "train data set model metrics\n",
      "---------------------------------\n",
      "True positive rate for the model is 73.82%\n",
      "False positive rate for the model is  7.17%\n",
      "True negative rate for the model is 92.83%\n",
      "False negative rate for the model is 26.18%\n"
     ]
    }
   ],
   "source": [
    "rf4.fit(X_train, y_train)\n",
    "y_pred = rf4.predict(X_train)\n",
    "y_pred_proba = rf4.predict_proba(X_train)\n",
    "run_metrics(rf4, 'train')"
   ]
  },
  {
   "cell_type": "code",
   "execution_count": 65,
   "metadata": {},
   "outputs": [
    {
     "name": "stdout",
     "output_type": "stream",
     "text": [
      "validate data set accuracy score: 81.31%\n",
      "-------------------------------\n",
      "classification report\n",
      "              precision    recall  f1-score   support\n",
      "\n",
      "           0       0.83      0.88      0.85       132\n",
      "           1       0.78      0.71      0.74        82\n",
      "\n",
      "    accuracy                           0.81       214\n",
      "   macro avg       0.81      0.79      0.80       214\n",
      "weighted avg       0.81      0.81      0.81       214\n",
      "\n",
      "-------------------------------\n",
      "\n",
      "confusion matrix\n",
      "[[116  16]\n",
      " [ 24  58]]\n",
      " \n",
      "validate data set model metrics\n",
      "---------------------------------\n",
      "True positive rate for the model is 70.73%\n",
      "False positive rate for the model is  12.12%\n",
      "True negative rate for the model is 87.88%\n",
      "False negative rate for the model is 29.27%\n"
     ]
    }
   ],
   "source": [
    "run_metrics(rf4, 'validate')"
   ]
  },
  {
   "cell_type": "code",
   "execution_count": null,
   "metadata": {},
   "outputs": [],
   "source": []
  },
  {
   "cell_type": "markdown",
   "metadata": {},
   "source": [
    "5. What are the differences in the evaluation metrics? Which performs better on your in-sample data? Why?"
   ]
  },
  {
   "cell_type": "code",
   "execution_count": null,
   "metadata": {},
   "outputs": [],
   "source": []
  },
  {
   "cell_type": "markdown",
   "metadata": {},
   "source": [
    "Final Thoughts... After making a few models, which one has the best performance (or closest metrics) on both train and validate?"
   ]
  },
  {
   "cell_type": "code",
   "execution_count": 66,
   "metadata": {},
   "outputs": [],
   "source": [
    "# model 1 is way overfit\n",
    "# 91% accuracy on train, 79% on validate\n",
    "\n",
    "# model 2 is still too overfit\n",
    "# 87% accuracy on train, 81% on validate\n",
    "\n",
    "# model 3 is tsimilar to model 2\n",
    "# 86% accuracy on train, 79% on validate\n",
    "\n",
    "# model 4 is the best so far...\n",
    "# 86% accuracy on train, 81% on validate"
   ]
  },
  {
   "cell_type": "code",
   "execution_count": 67,
   "metadata": {},
   "outputs": [
    {
     "name": "stdout",
     "output_type": "stream",
     "text": [
      "train data set accuracy score: 84.54%\n",
      "-------------------------------\n",
      "classification report\n",
      "              precision    recall  f1-score   support\n",
      "\n",
      "           0       0.85      0.92      0.88       307\n",
      "           1       0.84      0.73      0.78       191\n",
      "\n",
      "    accuracy                           0.85       498\n",
      "   macro avg       0.84      0.82      0.83       498\n",
      "weighted avg       0.85      0.85      0.84       498\n",
      "\n",
      "-------------------------------\n",
      "\n",
      "confusion matrix\n",
      "[[281  26]\n",
      " [ 51 140]]\n",
      " \n",
      "train data set model metrics\n",
      "---------------------------------\n",
      "True positive rate for the model is 73.30%\n",
      "False positive rate for the model is  8.47%\n",
      "True negative rate for the model is 91.53%\n",
      "False negative rate for the model is 26.70%\n"
     ]
    }
   ],
   "source": [
    "run_metrics(tree2, 'train')"
   ]
  },
  {
   "cell_type": "code",
   "execution_count": 68,
   "metadata": {},
   "outputs": [
    {
     "name": "stdout",
     "output_type": "stream",
     "text": [
      "train data set accuracy score: 80.72%\n",
      "-------------------------------\n",
      "classification report\n",
      "              precision    recall  f1-score   support\n",
      "\n",
      "           0       0.84      0.85      0.84       307\n",
      "           1       0.75      0.74      0.75       191\n",
      "\n",
      "    accuracy                           0.81       498\n",
      "   macro avg       0.80      0.79      0.80       498\n",
      "weighted avg       0.81      0.81      0.81       498\n",
      "\n",
      "-------------------------------\n",
      "\n",
      "confusion matrix\n",
      "[[261  46]\n",
      " [ 50 141]]\n",
      " \n",
      "train data set model metrics\n",
      "---------------------------------\n",
      "True positive rate for the model is 73.82%\n",
      "False positive rate for the model is  14.98%\n",
      "True negative rate for the model is 85.02%\n",
      "False negative rate for the model is 26.18%\n"
     ]
    }
   ],
   "source": [
    "run_metrics(tree1, 'train')"
   ]
  },
  {
   "cell_type": "code",
   "execution_count": 69,
   "metadata": {},
   "outputs": [
    {
     "name": "stdout",
     "output_type": "stream",
     "text": [
      "\n",
      "    The accuracy for our model is 80.7229%\n",
      "\n",
      "    The True Positive Rate is 73.822%,    The False Positive Rate is 14.984%,\n",
      "    The True Negative Rate is 85.016%,    The False Negative Rate is 26.178%\n",
      "\n",
      "    ________________________________________________________________________________\n",
      "    \n",
      "\n",
      "    The positive is  'survived'\n",
      "\n",
      "    Confusion Matrix\n",
      "    \n"
     ]
    },
    {
     "data": {
      "text/html": [
       "<div>\n",
       "<style scoped>\n",
       "    .dataframe tbody tr th:only-of-type {\n",
       "        vertical-align: middle;\n",
       "    }\n",
       "\n",
       "    .dataframe tbody tr th {\n",
       "        vertical-align: top;\n",
       "    }\n",
       "\n",
       "    .dataframe thead th {\n",
       "        text-align: right;\n",
       "    }\n",
       "</style>\n",
       "<table border=\"1\" class=\"dataframe\">\n",
       "  <thead>\n",
       "    <tr style=\"text-align: right;\">\n",
       "      <th></th>\n",
       "      <th>pred_dead</th>\n",
       "      <th>pred_survived</th>\n",
       "    </tr>\n",
       "  </thead>\n",
       "  <tbody>\n",
       "    <tr>\n",
       "      <th>actual_dead</th>\n",
       "      <td>True Negative: 261</td>\n",
       "      <td>False positive: 46</td>\n",
       "    </tr>\n",
       "    <tr>\n",
       "      <th>actual_survived</th>\n",
       "      <td>False Negative: 50</td>\n",
       "      <td>True Positive: 141</td>\n",
       "    </tr>\n",
       "  </tbody>\n",
       "</table>\n",
       "</div>"
      ],
      "text/plain": [
       "                          pred_dead       pred_survived\n",
       "actual_dead      True Negative: 261  False positive: 46\n",
       "actual_survived  False Negative: 50  True Positive: 141"
      ]
     },
     "metadata": {},
     "output_type": "display_data"
    },
    {
     "name": "stdout",
     "output_type": "stream",
     "text": [
      "\n",
      "\n",
      "    ________________________________________________________________________________\n",
      "    \n",
      "    Classification Report:\n",
      "    \n"
     ]
    },
    {
     "data": {
      "text/html": [
       "<div>\n",
       "<style scoped>\n",
       "    .dataframe tbody tr th:only-of-type {\n",
       "        vertical-align: middle;\n",
       "    }\n",
       "\n",
       "    .dataframe tbody tr th {\n",
       "        vertical-align: top;\n",
       "    }\n",
       "\n",
       "    .dataframe thead th {\n",
       "        text-align: right;\n",
       "    }\n",
       "</style>\n",
       "<table border=\"1\" class=\"dataframe\">\n",
       "  <thead>\n",
       "    <tr style=\"text-align: right;\">\n",
       "      <th></th>\n",
       "      <th>precision</th>\n",
       "      <th>recall</th>\n",
       "      <th>f1-score</th>\n",
       "      <th>support</th>\n",
       "    </tr>\n",
       "  </thead>\n",
       "  <tbody>\n",
       "    <tr>\n",
       "      <th>dead</th>\n",
       "      <td>0.839228</td>\n",
       "      <td>0.850163</td>\n",
       "      <td>0.844660</td>\n",
       "      <td>307.000000</td>\n",
       "    </tr>\n",
       "    <tr>\n",
       "      <th>survived</th>\n",
       "      <td>0.754011</td>\n",
       "      <td>0.738220</td>\n",
       "      <td>0.746032</td>\n",
       "      <td>191.000000</td>\n",
       "    </tr>\n",
       "    <tr>\n",
       "      <th>accuracy</th>\n",
       "      <td>0.807229</td>\n",
       "      <td>0.807229</td>\n",
       "      <td>0.807229</td>\n",
       "      <td>0.807229</td>\n",
       "    </tr>\n",
       "    <tr>\n",
       "      <th>macro avg</th>\n",
       "      <td>0.796619</td>\n",
       "      <td>0.794191</td>\n",
       "      <td>0.795346</td>\n",
       "      <td>498.000000</td>\n",
       "    </tr>\n",
       "    <tr>\n",
       "      <th>weighted avg</th>\n",
       "      <td>0.806544</td>\n",
       "      <td>0.807229</td>\n",
       "      <td>0.806833</td>\n",
       "      <td>498.000000</td>\n",
       "    </tr>\n",
       "  </tbody>\n",
       "</table>\n",
       "</div>"
      ],
      "text/plain": [
       "              precision    recall  f1-score     support\n",
       "dead           0.839228  0.850163  0.844660  307.000000\n",
       "survived       0.754011  0.738220  0.746032  191.000000\n",
       "accuracy       0.807229  0.807229  0.807229    0.807229\n",
       "macro avg      0.796619  0.794191  0.795346  498.000000\n",
       "weighted avg   0.806544  0.807229  0.806833  498.000000"
      ]
     },
     "metadata": {},
     "output_type": "display_data"
    }
   ],
   "source": [
    "# I like this function better...\n",
    "model_func.model_performs(X_train, y_train, tree1)"
   ]
  },
  {
   "cell_type": "markdown",
   "metadata": {},
   "source": [
    "## KNN Exercises"
   ]
  },
  {
   "cell_type": "markdown",
   "metadata": {},
   "source": [
    "1. Fit a K-Nearest Neighbors classifier to your training sample and transform (i.e. make predictions on the training sample)"
   ]
  },
  {
   "cell_type": "code",
   "execution_count": 70,
   "metadata": {},
   "outputs": [],
   "source": [
    "X_train = train[['pclass', 'sex_male', 'age']]\n",
    "X_validate = validate[['pclass', 'sex_male', 'age']]\n",
    "y_train = train.survived\n",
    "y_validate = validate.survived"
   ]
  },
  {
   "cell_type": "code",
   "execution_count": 71,
   "metadata": {},
   "outputs": [
    {
     "data": {
      "text/plain": [
       "0.8795180722891566"
      ]
     },
     "execution_count": 71,
     "metadata": {},
     "output_type": "execute_result"
    }
   ],
   "source": [
    "knn_1 = KNeighborsClassifier(n_neighbors=1)\n",
    "knn_1.fit(X_train, y_train)\n",
    "knn_1.score(X_train, y_train)"
   ]
  },
  {
   "cell_type": "markdown",
   "metadata": {},
   "source": [
    "2. Evaluate your results using the model score, confusion matrix, and classification report."
   ]
  },
  {
   "cell_type": "code",
   "execution_count": 72,
   "metadata": {},
   "outputs": [
    {
     "name": "stdout",
     "output_type": "stream",
     "text": [
      "\n",
      "    The accuracy for our model is 87.9518%\n",
      "\n",
      "    The True Positive Rate is 84.293%,    The False Positive Rate is 9.772%,\n",
      "    The True Negative Rate is 90.228%,    The False Negative Rate is 15.707%\n",
      "\n",
      "    ________________________________________________________________________________\n",
      "    \n",
      "\n",
      "    The positive is  'survived'\n",
      "\n",
      "    Confusion Matrix\n",
      "    \n"
     ]
    },
    {
     "data": {
      "text/html": [
       "<div>\n",
       "<style scoped>\n",
       "    .dataframe tbody tr th:only-of-type {\n",
       "        vertical-align: middle;\n",
       "    }\n",
       "\n",
       "    .dataframe tbody tr th {\n",
       "        vertical-align: top;\n",
       "    }\n",
       "\n",
       "    .dataframe thead th {\n",
       "        text-align: right;\n",
       "    }\n",
       "</style>\n",
       "<table border=\"1\" class=\"dataframe\">\n",
       "  <thead>\n",
       "    <tr style=\"text-align: right;\">\n",
       "      <th></th>\n",
       "      <th>pred_dead</th>\n",
       "      <th>pred_survived</th>\n",
       "    </tr>\n",
       "  </thead>\n",
       "  <tbody>\n",
       "    <tr>\n",
       "      <th>actual_dead</th>\n",
       "      <td>True Negative: 277</td>\n",
       "      <td>False positive: 30</td>\n",
       "    </tr>\n",
       "    <tr>\n",
       "      <th>actual_survived</th>\n",
       "      <td>False Negative: 30</td>\n",
       "      <td>True Positive: 161</td>\n",
       "    </tr>\n",
       "  </tbody>\n",
       "</table>\n",
       "</div>"
      ],
      "text/plain": [
       "                          pred_dead       pred_survived\n",
       "actual_dead      True Negative: 277  False positive: 30\n",
       "actual_survived  False Negative: 30  True Positive: 161"
      ]
     },
     "metadata": {},
     "output_type": "display_data"
    },
    {
     "name": "stdout",
     "output_type": "stream",
     "text": [
      "\n",
      "\n",
      "    ________________________________________________________________________________\n",
      "    \n",
      "    Classification Report:\n",
      "    \n"
     ]
    },
    {
     "data": {
      "text/html": [
       "<div>\n",
       "<style scoped>\n",
       "    .dataframe tbody tr th:only-of-type {\n",
       "        vertical-align: middle;\n",
       "    }\n",
       "\n",
       "    .dataframe tbody tr th {\n",
       "        vertical-align: top;\n",
       "    }\n",
       "\n",
       "    .dataframe thead th {\n",
       "        text-align: right;\n",
       "    }\n",
       "</style>\n",
       "<table border=\"1\" class=\"dataframe\">\n",
       "  <thead>\n",
       "    <tr style=\"text-align: right;\">\n",
       "      <th></th>\n",
       "      <th>precision</th>\n",
       "      <th>recall</th>\n",
       "      <th>f1-score</th>\n",
       "      <th>support</th>\n",
       "    </tr>\n",
       "  </thead>\n",
       "  <tbody>\n",
       "    <tr>\n",
       "      <th>dead</th>\n",
       "      <td>0.902280</td>\n",
       "      <td>0.902280</td>\n",
       "      <td>0.902280</td>\n",
       "      <td>307.000000</td>\n",
       "    </tr>\n",
       "    <tr>\n",
       "      <th>survived</th>\n",
       "      <td>0.842932</td>\n",
       "      <td>0.842932</td>\n",
       "      <td>0.842932</td>\n",
       "      <td>191.000000</td>\n",
       "    </tr>\n",
       "    <tr>\n",
       "      <th>accuracy</th>\n",
       "      <td>0.879518</td>\n",
       "      <td>0.879518</td>\n",
       "      <td>0.879518</td>\n",
       "      <td>0.879518</td>\n",
       "    </tr>\n",
       "    <tr>\n",
       "      <th>macro avg</th>\n",
       "      <td>0.872606</td>\n",
       "      <td>0.872606</td>\n",
       "      <td>0.872606</td>\n",
       "      <td>498.000000</td>\n",
       "    </tr>\n",
       "    <tr>\n",
       "      <th>weighted avg</th>\n",
       "      <td>0.879518</td>\n",
       "      <td>0.879518</td>\n",
       "      <td>0.879518</td>\n",
       "      <td>498.000000</td>\n",
       "    </tr>\n",
       "  </tbody>\n",
       "</table>\n",
       "</div>"
      ],
      "text/plain": [
       "              precision    recall  f1-score     support\n",
       "dead           0.902280  0.902280  0.902280  307.000000\n",
       "survived       0.842932  0.842932  0.842932  191.000000\n",
       "accuracy       0.879518  0.879518  0.879518    0.879518\n",
       "macro avg      0.872606  0.872606  0.872606  498.000000\n",
       "weighted avg   0.879518  0.879518  0.879518  498.000000"
      ]
     },
     "metadata": {},
     "output_type": "display_data"
    }
   ],
   "source": [
    "model_func.model_performs(X_train, y_train, knn_1)"
   ]
  },
  {
   "cell_type": "code",
   "execution_count": 73,
   "metadata": {},
   "outputs": [
    {
     "name": "stdout",
     "output_type": "stream",
     "text": [
      "training score: 87.95%\n",
      "validate score: 73.83%\n"
     ]
    }
   ],
   "source": [
    "print(f'training score: {knn_1.score(X_train, y_train):.2%}')\n",
    "print(f'validate score: {knn_1.score(X_validate, y_validate):.2%}')"
   ]
  },
  {
   "cell_type": "markdown",
   "metadata": {},
   "source": [
    "3. Print and clearly label the following: Accuracy, true positive rate, false positive rate, true negative rate, false negative rate, precision, recall, f1-score, and support."
   ]
  },
  {
   "cell_type": "code",
   "execution_count": null,
   "metadata": {},
   "outputs": [],
   "source": []
  },
  {
   "cell_type": "markdown",
   "metadata": {},
   "source": [
    "4. Run through steps 2-4 setting k to 10"
   ]
  },
  {
   "cell_type": "code",
   "execution_count": 74,
   "metadata": {},
   "outputs": [
    {
     "data": {
      "text/plain": [
       "0.7891566265060241"
      ]
     },
     "execution_count": 74,
     "metadata": {},
     "output_type": "execute_result"
    }
   ],
   "source": [
    "knn_10 = KNeighborsClassifier(n_neighbors=10)\n",
    "knn_10.fit(X_train, y_train)\n",
    "knn_10.score(X_train, y_train)\n"
   ]
  },
  {
   "cell_type": "code",
   "execution_count": 75,
   "metadata": {},
   "outputs": [
    {
     "name": "stdout",
     "output_type": "stream",
     "text": [
      "\n",
      "    The accuracy for our model is 78.9157%\n",
      "\n",
      "    The True Positive Rate is 57.592%,    The False Positive Rate is 7.818%,\n",
      "    The True Negative Rate is 92.182%,    The False Negative Rate is 42.408%\n",
      "\n",
      "    ________________________________________________________________________________\n",
      "    \n",
      "\n",
      "    The positive is  'survived'\n",
      "\n",
      "    Confusion Matrix\n",
      "    \n"
     ]
    },
    {
     "data": {
      "text/html": [
       "<div>\n",
       "<style scoped>\n",
       "    .dataframe tbody tr th:only-of-type {\n",
       "        vertical-align: middle;\n",
       "    }\n",
       "\n",
       "    .dataframe tbody tr th {\n",
       "        vertical-align: top;\n",
       "    }\n",
       "\n",
       "    .dataframe thead th {\n",
       "        text-align: right;\n",
       "    }\n",
       "</style>\n",
       "<table border=\"1\" class=\"dataframe\">\n",
       "  <thead>\n",
       "    <tr style=\"text-align: right;\">\n",
       "      <th></th>\n",
       "      <th>pred_dead</th>\n",
       "      <th>pred_survived</th>\n",
       "    </tr>\n",
       "  </thead>\n",
       "  <tbody>\n",
       "    <tr>\n",
       "      <th>actual_dead</th>\n",
       "      <td>True Negative: 283</td>\n",
       "      <td>False positive: 24</td>\n",
       "    </tr>\n",
       "    <tr>\n",
       "      <th>actual_survived</th>\n",
       "      <td>False Negative: 81</td>\n",
       "      <td>True Positive: 110</td>\n",
       "    </tr>\n",
       "  </tbody>\n",
       "</table>\n",
       "</div>"
      ],
      "text/plain": [
       "                          pred_dead       pred_survived\n",
       "actual_dead      True Negative: 283  False positive: 24\n",
       "actual_survived  False Negative: 81  True Positive: 110"
      ]
     },
     "metadata": {},
     "output_type": "display_data"
    },
    {
     "name": "stdout",
     "output_type": "stream",
     "text": [
      "\n",
      "\n",
      "    ________________________________________________________________________________\n",
      "    \n",
      "    Classification Report:\n",
      "    \n"
     ]
    },
    {
     "data": {
      "text/html": [
       "<div>\n",
       "<style scoped>\n",
       "    .dataframe tbody tr th:only-of-type {\n",
       "        vertical-align: middle;\n",
       "    }\n",
       "\n",
       "    .dataframe tbody tr th {\n",
       "        vertical-align: top;\n",
       "    }\n",
       "\n",
       "    .dataframe thead th {\n",
       "        text-align: right;\n",
       "    }\n",
       "</style>\n",
       "<table border=\"1\" class=\"dataframe\">\n",
       "  <thead>\n",
       "    <tr style=\"text-align: right;\">\n",
       "      <th></th>\n",
       "      <th>precision</th>\n",
       "      <th>recall</th>\n",
       "      <th>f1-score</th>\n",
       "      <th>support</th>\n",
       "    </tr>\n",
       "  </thead>\n",
       "  <tbody>\n",
       "    <tr>\n",
       "      <th>dead</th>\n",
       "      <td>0.777473</td>\n",
       "      <td>0.921824</td>\n",
       "      <td>0.843517</td>\n",
       "      <td>307.000000</td>\n",
       "    </tr>\n",
       "    <tr>\n",
       "      <th>survived</th>\n",
       "      <td>0.820896</td>\n",
       "      <td>0.575916</td>\n",
       "      <td>0.676923</td>\n",
       "      <td>191.000000</td>\n",
       "    </tr>\n",
       "    <tr>\n",
       "      <th>accuracy</th>\n",
       "      <td>0.789157</td>\n",
       "      <td>0.789157</td>\n",
       "      <td>0.789157</td>\n",
       "      <td>0.789157</td>\n",
       "    </tr>\n",
       "    <tr>\n",
       "      <th>macro avg</th>\n",
       "      <td>0.799184</td>\n",
       "      <td>0.748870</td>\n",
       "      <td>0.760220</td>\n",
       "      <td>498.000000</td>\n",
       "    </tr>\n",
       "    <tr>\n",
       "      <th>weighted avg</th>\n",
       "      <td>0.794127</td>\n",
       "      <td>0.789157</td>\n",
       "      <td>0.779623</td>\n",
       "      <td>498.000000</td>\n",
       "    </tr>\n",
       "  </tbody>\n",
       "</table>\n",
       "</div>"
      ],
      "text/plain": [
       "              precision    recall  f1-score     support\n",
       "dead           0.777473  0.921824  0.843517  307.000000\n",
       "survived       0.820896  0.575916  0.676923  191.000000\n",
       "accuracy       0.789157  0.789157  0.789157    0.789157\n",
       "macro avg      0.799184  0.748870  0.760220  498.000000\n",
       "weighted avg   0.794127  0.789157  0.779623  498.000000"
      ]
     },
     "metadata": {},
     "output_type": "display_data"
    }
   ],
   "source": [
    "model_func.model_performs(X_train, y_train, knn_10)"
   ]
  },
  {
   "cell_type": "code",
   "execution_count": 76,
   "metadata": {},
   "outputs": [
    {
     "name": "stdout",
     "output_type": "stream",
     "text": [
      "training score: 78.92%\n",
      "validate score: 75.23%\n"
     ]
    }
   ],
   "source": [
    "print(f'training score: {knn_10.score(X_train, y_train):.2%}')\n",
    "print(f'validate score: {knn_10.score(X_validate, y_validate):.2%}')"
   ]
  },
  {
   "cell_type": "markdown",
   "metadata": {},
   "source": [
    "5. Run through setps 2-4 setting k to 20"
   ]
  },
  {
   "cell_type": "code",
   "execution_count": 77,
   "metadata": {},
   "outputs": [
    {
     "data": {
      "text/plain": [
       "0.7309236947791165"
      ]
     },
     "execution_count": 77,
     "metadata": {},
     "output_type": "execute_result"
    }
   ],
   "source": [
    "knn_20 = KNeighborsClassifier(n_neighbors=20)\n",
    "knn_20.fit(X_train, y_train)\n",
    "knn_20.score(X_train, y_train)"
   ]
  },
  {
   "cell_type": "code",
   "execution_count": 78,
   "metadata": {},
   "outputs": [
    {
     "name": "stdout",
     "output_type": "stream",
     "text": [
      "\n",
      "    The accuracy for our model is 73.0924%\n",
      "\n",
      "    The True Positive Rate is 39.267%,    The False Positive Rate is 5.863%,\n",
      "    The True Negative Rate is 94.137%,    The False Negative Rate is 60.733%\n",
      "\n",
      "    ________________________________________________________________________________\n",
      "    \n",
      "\n",
      "    The positive is  'survived'\n",
      "\n",
      "    Confusion Matrix\n",
      "    \n"
     ]
    },
    {
     "data": {
      "text/html": [
       "<div>\n",
       "<style scoped>\n",
       "    .dataframe tbody tr th:only-of-type {\n",
       "        vertical-align: middle;\n",
       "    }\n",
       "\n",
       "    .dataframe tbody tr th {\n",
       "        vertical-align: top;\n",
       "    }\n",
       "\n",
       "    .dataframe thead th {\n",
       "        text-align: right;\n",
       "    }\n",
       "</style>\n",
       "<table border=\"1\" class=\"dataframe\">\n",
       "  <thead>\n",
       "    <tr style=\"text-align: right;\">\n",
       "      <th></th>\n",
       "      <th>pred_dead</th>\n",
       "      <th>pred_survived</th>\n",
       "    </tr>\n",
       "  </thead>\n",
       "  <tbody>\n",
       "    <tr>\n",
       "      <th>actual_dead</th>\n",
       "      <td>True Negative: 289</td>\n",
       "      <td>False positive: 18</td>\n",
       "    </tr>\n",
       "    <tr>\n",
       "      <th>actual_survived</th>\n",
       "      <td>False Negative: 116</td>\n",
       "      <td>True Positive: 75</td>\n",
       "    </tr>\n",
       "  </tbody>\n",
       "</table>\n",
       "</div>"
      ],
      "text/plain": [
       "                           pred_dead       pred_survived\n",
       "actual_dead       True Negative: 289  False positive: 18\n",
       "actual_survived  False Negative: 116   True Positive: 75"
      ]
     },
     "metadata": {},
     "output_type": "display_data"
    },
    {
     "name": "stdout",
     "output_type": "stream",
     "text": [
      "\n",
      "\n",
      "    ________________________________________________________________________________\n",
      "    \n",
      "    Classification Report:\n",
      "    \n"
     ]
    },
    {
     "data": {
      "text/html": [
       "<div>\n",
       "<style scoped>\n",
       "    .dataframe tbody tr th:only-of-type {\n",
       "        vertical-align: middle;\n",
       "    }\n",
       "\n",
       "    .dataframe tbody tr th {\n",
       "        vertical-align: top;\n",
       "    }\n",
       "\n",
       "    .dataframe thead th {\n",
       "        text-align: right;\n",
       "    }\n",
       "</style>\n",
       "<table border=\"1\" class=\"dataframe\">\n",
       "  <thead>\n",
       "    <tr style=\"text-align: right;\">\n",
       "      <th></th>\n",
       "      <th>precision</th>\n",
       "      <th>recall</th>\n",
       "      <th>f1-score</th>\n",
       "      <th>support</th>\n",
       "    </tr>\n",
       "  </thead>\n",
       "  <tbody>\n",
       "    <tr>\n",
       "      <th>dead</th>\n",
       "      <td>0.713580</td>\n",
       "      <td>0.941368</td>\n",
       "      <td>0.811798</td>\n",
       "      <td>307.000000</td>\n",
       "    </tr>\n",
       "    <tr>\n",
       "      <th>survived</th>\n",
       "      <td>0.806452</td>\n",
       "      <td>0.392670</td>\n",
       "      <td>0.528169</td>\n",
       "      <td>191.000000</td>\n",
       "    </tr>\n",
       "    <tr>\n",
       "      <th>accuracy</th>\n",
       "      <td>0.730924</td>\n",
       "      <td>0.730924</td>\n",
       "      <td>0.730924</td>\n",
       "      <td>0.730924</td>\n",
       "    </tr>\n",
       "    <tr>\n",
       "      <th>macro avg</th>\n",
       "      <td>0.760016</td>\n",
       "      <td>0.667019</td>\n",
       "      <td>0.669983</td>\n",
       "      <td>498.000000</td>\n",
       "    </tr>\n",
       "    <tr>\n",
       "      <th>weighted avg</th>\n",
       "      <td>0.749200</td>\n",
       "      <td>0.730924</td>\n",
       "      <td>0.703016</td>\n",
       "      <td>498.000000</td>\n",
       "    </tr>\n",
       "  </tbody>\n",
       "</table>\n",
       "</div>"
      ],
      "text/plain": [
       "              precision    recall  f1-score     support\n",
       "dead           0.713580  0.941368  0.811798  307.000000\n",
       "survived       0.806452  0.392670  0.528169  191.000000\n",
       "accuracy       0.730924  0.730924  0.730924    0.730924\n",
       "macro avg      0.760016  0.667019  0.669983  498.000000\n",
       "weighted avg   0.749200  0.730924  0.703016  498.000000"
      ]
     },
     "metadata": {},
     "output_type": "display_data"
    }
   ],
   "source": [
    "model_func.model_performs(X_train, y_train, knn_20)"
   ]
  },
  {
   "cell_type": "code",
   "execution_count": 79,
   "metadata": {},
   "outputs": [
    {
     "name": "stdout",
     "output_type": "stream",
     "text": [
      "training score: 73.09%\n",
      "validate score: 73.36%\n"
     ]
    }
   ],
   "source": [
    "print(f'training score: {knn_20.score(X_train, y_train):.2%}')\n",
    "print(f'validate score: {knn_20.score(X_validate, y_validate):.2%}')"
   ]
  },
  {
   "cell_type": "code",
   "execution_count": 80,
   "metadata": {},
   "outputs": [
    {
     "name": "stdout",
     "output_type": "stream",
     "text": [
      "\n",
      "       Overall Accuracy:  73.09%\n",
      "\n",
      "     True Positive Rate:  39.27%  \n",
      "     True Negative Rate:  94.14%   \n",
      "    False Positive Rate:  5.86%\n",
      "    False Negative Rate:  60.73%\n",
      "\n",
      "    ---------------------------------------------------\n",
      "    \n",
      "\n",
      "    Positive =  'survived'\n",
      "\n",
      "    Confusion Matrix:\n",
      "    \n"
     ]
    },
    {
     "data": {
      "text/html": [
       "<div>\n",
       "<style scoped>\n",
       "    .dataframe tbody tr th:only-of-type {\n",
       "        vertical-align: middle;\n",
       "    }\n",
       "\n",
       "    .dataframe tbody tr th {\n",
       "        vertical-align: top;\n",
       "    }\n",
       "\n",
       "    .dataframe thead th {\n",
       "        text-align: right;\n",
       "    }\n",
       "</style>\n",
       "<table border=\"1\" class=\"dataframe\">\n",
       "  <thead>\n",
       "    <tr style=\"text-align: right;\">\n",
       "      <th></th>\n",
       "      <th>pred_dead</th>\n",
       "      <th>pred_survived</th>\n",
       "    </tr>\n",
       "  </thead>\n",
       "  <tbody>\n",
       "    <tr>\n",
       "      <th>actual_dead</th>\n",
       "      <td>True Negative: 289</td>\n",
       "      <td>False positive: 18</td>\n",
       "    </tr>\n",
       "    <tr>\n",
       "      <th>actual_survived</th>\n",
       "      <td>False Negative: 116</td>\n",
       "      <td>True Positive: 75</td>\n",
       "    </tr>\n",
       "  </tbody>\n",
       "</table>\n",
       "</div>"
      ],
      "text/plain": [
       "                           pred_dead       pred_survived\n",
       "actual_dead       True Negative: 289  False positive: 18\n",
       "actual_survived  False Negative: 116   True Positive: 75"
      ]
     },
     "metadata": {},
     "output_type": "display_data"
    },
    {
     "name": "stdout",
     "output_type": "stream",
     "text": [
      "\n",
      "\n",
      "    \n",
      "    ---------------------------------------------------\n",
      "    Classification Report:\n",
      "    \n"
     ]
    },
    {
     "data": {
      "text/html": [
       "<div>\n",
       "<style scoped>\n",
       "    .dataframe tbody tr th:only-of-type {\n",
       "        vertical-align: middle;\n",
       "    }\n",
       "\n",
       "    .dataframe tbody tr th {\n",
       "        vertical-align: top;\n",
       "    }\n",
       "\n",
       "    .dataframe thead th {\n",
       "        text-align: right;\n",
       "    }\n",
       "</style>\n",
       "<table border=\"1\" class=\"dataframe\">\n",
       "  <thead>\n",
       "    <tr style=\"text-align: right;\">\n",
       "      <th></th>\n",
       "      <th>precision</th>\n",
       "      <th>recall</th>\n",
       "      <th>f1-score</th>\n",
       "      <th>support</th>\n",
       "    </tr>\n",
       "  </thead>\n",
       "  <tbody>\n",
       "    <tr>\n",
       "      <th>dead</th>\n",
       "      <td>0.713580</td>\n",
       "      <td>0.941368</td>\n",
       "      <td>0.811798</td>\n",
       "      <td>307.000000</td>\n",
       "    </tr>\n",
       "    <tr>\n",
       "      <th>survived</th>\n",
       "      <td>0.806452</td>\n",
       "      <td>0.392670</td>\n",
       "      <td>0.528169</td>\n",
       "      <td>191.000000</td>\n",
       "    </tr>\n",
       "    <tr>\n",
       "      <th>accuracy</th>\n",
       "      <td>0.730924</td>\n",
       "      <td>0.730924</td>\n",
       "      <td>0.730924</td>\n",
       "      <td>0.730924</td>\n",
       "    </tr>\n",
       "    <tr>\n",
       "      <th>macro avg</th>\n",
       "      <td>0.760016</td>\n",
       "      <td>0.667019</td>\n",
       "      <td>0.669983</td>\n",
       "      <td>498.000000</td>\n",
       "    </tr>\n",
       "    <tr>\n",
       "      <th>weighted avg</th>\n",
       "      <td>0.749200</td>\n",
       "      <td>0.730924</td>\n",
       "      <td>0.703016</td>\n",
       "      <td>498.000000</td>\n",
       "    </tr>\n",
       "  </tbody>\n",
       "</table>\n",
       "</div>"
      ],
      "text/plain": [
       "              precision    recall  f1-score     support\n",
       "dead           0.713580  0.941368  0.811798  307.000000\n",
       "survived       0.806452  0.392670  0.528169  191.000000\n",
       "accuracy       0.730924  0.730924  0.730924    0.730924\n",
       "macro avg      0.760016  0.667019  0.669983  498.000000\n",
       "weighted avg   0.749200  0.730924  0.703016  498.000000"
      ]
     },
     "metadata": {},
     "output_type": "display_data"
    }
   ],
   "source": [
    "mf.model_performs(X_train, y_train, knn_20)"
   ]
  },
  {
   "cell_type": "code",
   "execution_count": 81,
   "metadata": {},
   "outputs": [
    {
     "name": "stdout",
     "output_type": "stream",
     "text": [
      " 2: 72.90%\n",
      " 4: 73.83%\n",
      " 6: 78.50%\n",
      " 8: 77.57%\n",
      "10: 75.23%\n",
      "12: 75.70%\n",
      "14: 72.90%\n",
      "16: 74.77%\n",
      "18: 72.43%\n",
      "20: 73.36%\n",
      "22: 70.56%\n",
      "24: 69.63%\n",
      "26: 67.76%\n",
      "28: 67.29%\n",
      "30: 68.69%\n",
      "32: 66.82%\n",
      "34: 67.29%\n",
      "36: 66.36%\n",
      "38: 66.82%\n"
     ]
    }
   ],
   "source": [
    "for k in range(2,40,2):\n",
    "    knn = KNeighborsClassifier(n_neighbors=k)\n",
    "    knn.fit(X_train, y_train)\n",
    "    accuracy = knn.score(X_validate, y_validate)\n",
    "    print(f'{k:2d}: {accuracy:.2%}')"
   ]
  },
  {
   "cell_type": "code",
   "execution_count": 82,
   "metadata": {},
   "outputs": [
    {
     "name": "stdout",
     "output_type": "stream",
     "text": [
      "Model: 2\n",
      "Training score: 83.73%\n",
      "Validate Score: 72.90%\n",
      "----------------------------------------------------\n",
      "Model: 4\n",
      "Training score: 82.33%\n",
      "Validate Score: 73.83%\n",
      "----------------------------------------------------\n",
      "Model: 6\n",
      "Training score: 81.33%\n",
      "Validate Score: 78.50%\n",
      "----------------------------------------------------\n",
      "Model: 8\n",
      "Training score: 80.12%\n",
      "Validate Score: 77.57%\n",
      "----------------------------------------------------\n",
      "Model: 10\n",
      "Training score: 78.92%\n",
      "Validate Score: 75.23%\n",
      "----------------------------------------------------\n",
      "Model: 12\n",
      "Training score: 78.51%\n",
      "Validate Score: 75.70%\n",
      "----------------------------------------------------\n",
      "Model: 14\n",
      "Training score: 76.10%\n",
      "Validate Score: 72.90%\n",
      "----------------------------------------------------\n",
      "Model: 16\n",
      "Training score: 76.51%\n",
      "Validate Score: 74.77%\n",
      "----------------------------------------------------\n",
      "Model: 18\n",
      "Training score: 75.50%\n",
      "Validate Score: 72.43%\n",
      "----------------------------------------------------\n",
      "Model: 20\n",
      "Training score: 73.09%\n",
      "Validate Score: 73.36%\n",
      "----------------------------------------------------\n",
      "Model: 22\n",
      "Training score: 73.09%\n",
      "Validate Score: 70.56%\n",
      "----------------------------------------------------\n",
      "Model: 24\n",
      "Training score: 72.29%\n",
      "Validate Score: 69.63%\n",
      "----------------------------------------------------\n",
      "Model: 26\n",
      "Training score: 71.08%\n",
      "Validate Score: 67.76%\n",
      "----------------------------------------------------\n",
      "Model: 28\n",
      "Training score: 68.88%\n",
      "Validate Score: 67.29%\n",
      "----------------------------------------------------\n",
      "Model: 30\n",
      "Training score: 68.27%\n",
      "Validate Score: 68.69%\n",
      "----------------------------------------------------\n",
      "Model: 32\n",
      "Training score: 70.08%\n",
      "Validate Score: 66.82%\n",
      "----------------------------------------------------\n",
      "Model: 34\n",
      "Training score: 70.08%\n",
      "Validate Score: 67.29%\n",
      "----------------------------------------------------\n",
      "Model: 36\n",
      "Training score: 68.67%\n",
      "Validate Score: 66.36%\n",
      "----------------------------------------------------\n",
      "Model: 38\n",
      "Training score: 67.27%\n",
      "Validate Score: 66.82%\n",
      "----------------------------------------------------\n"
     ]
    }
   ],
   "source": [
    "for k in range(2,40,2):\n",
    "    knn = KNeighborsClassifier(n_neighbors=k)\n",
    "    knn.fit(X_train, y_train)\n",
    "    print(f'Model: {k}')\n",
    "    print(f'Training score: {knn.score(X_train, y_train):.2%}')\n",
    "    print(f'Validate Score: {knn.score(X_validate, y_validate):.2%}')\n",
    "    print('----------------------------------------------------')"
   ]
  },
  {
   "cell_type": "code",
   "execution_count": 83,
   "metadata": {},
   "outputs": [
    {
     "name": "stdout",
     "output_type": "stream",
     "text": [
      "Model: 5\n",
      "Training score: 83.13%\n",
      "Validate Score: 77.57%\n",
      "----------------------------------------------------\n",
      "Model: 6\n",
      "Training score: 81.33%\n",
      "Validate Score: 78.50%\n",
      "----------------------------------------------------\n",
      "Model: 7\n",
      "Training score: 81.12%\n",
      "Validate Score: 77.10%\n",
      "----------------------------------------------------\n",
      "Model: 8\n",
      "Training score: 80.12%\n",
      "Validate Score: 77.57%\n",
      "----------------------------------------------------\n",
      "Model: 9\n",
      "Training score: 80.52%\n",
      "Validate Score: 77.10%\n",
      "----------------------------------------------------\n",
      "Model: 10\n",
      "Training score: 78.92%\n",
      "Validate Score: 75.23%\n",
      "----------------------------------------------------\n",
      "Model: 11\n",
      "Training score: 78.92%\n",
      "Validate Score: 78.50%\n",
      "----------------------------------------------------\n",
      "Model: 12\n",
      "Training score: 78.51%\n",
      "Validate Score: 75.70%\n",
      "----------------------------------------------------\n",
      "Model: 13\n",
      "Training score: 76.51%\n",
      "Validate Score: 76.17%\n",
      "----------------------------------------------------\n",
      "Model: 14\n",
      "Training score: 76.10%\n",
      "Validate Score: 72.90%\n",
      "----------------------------------------------------\n"
     ]
    }
   ],
   "source": [
    "# now that we have an overview, lets tighten it up...\n",
    "\n",
    "for k in range(5,15):\n",
    "    knn = KNeighborsClassifier(n_neighbors=k)\n",
    "    knn.fit(X_train, y_train)\n",
    "    print(f'Model: {k}')\n",
    "    print(f'Training score: {knn.score(X_train, y_train):.2%}')\n",
    "    print(f'Validate Score: {knn.score(X_validate, y_validate):.2%}')\n",
    "    print('----------------------------------------------------')"
   ]
  },
  {
   "cell_type": "markdown",
   "metadata": {},
   "source": [
    "6. What are the differences in the evaluation metrics? Which performs better on your in-sample data? Why?"
   ]
  },
  {
   "cell_type": "markdown",
   "metadata": {},
   "source": [
    "- The higher k, the better it performs on in-sample data (overfit)\n",
    "- up until k = 12"
   ]
  },
  {
   "cell_type": "markdown",
   "metadata": {},
   "source": [
    "7. Which model performs best on our out-of-sample data from validate?"
   ]
  },
  {
   "cell_type": "markdown",
   "metadata": {},
   "source": [
    "- I think k=11 performs the best...\n",
    "- on train= 78.92%\n",
    "- on validate= 78.50%"
   ]
  },
  {
   "cell_type": "code",
   "execution_count": 84,
   "metadata": {},
   "outputs": [
    {
     "data": {
      "text/plain": [
       "0.7891566265060241"
      ]
     },
     "execution_count": 84,
     "metadata": {},
     "output_type": "execute_result"
    }
   ],
   "source": [
    "knn_11 = KNeighborsClassifier(n_neighbors=11)\n",
    "knn_11.fit(X_train, y_train)\n",
    "knn_11.score(X_train, y_train)"
   ]
  },
  {
   "cell_type": "code",
   "execution_count": 85,
   "metadata": {},
   "outputs": [
    {
     "name": "stdout",
     "output_type": "stream",
     "text": [
      "\n",
      "    The accuracy for our model is 78.9157%\n",
      "\n",
      "    The True Positive Rate is 63.351%,    The False Positive Rate is 11.401%,\n",
      "    The True Negative Rate is 88.599%,    The False Negative Rate is 36.649%\n",
      "\n",
      "    ________________________________________________________________________________\n",
      "    \n",
      "\n",
      "    The positive is  'survived'\n",
      "\n",
      "    Confusion Matrix\n",
      "    \n"
     ]
    },
    {
     "data": {
      "text/html": [
       "<div>\n",
       "<style scoped>\n",
       "    .dataframe tbody tr th:only-of-type {\n",
       "        vertical-align: middle;\n",
       "    }\n",
       "\n",
       "    .dataframe tbody tr th {\n",
       "        vertical-align: top;\n",
       "    }\n",
       "\n",
       "    .dataframe thead th {\n",
       "        text-align: right;\n",
       "    }\n",
       "</style>\n",
       "<table border=\"1\" class=\"dataframe\">\n",
       "  <thead>\n",
       "    <tr style=\"text-align: right;\">\n",
       "      <th></th>\n",
       "      <th>pred_dead</th>\n",
       "      <th>pred_survived</th>\n",
       "    </tr>\n",
       "  </thead>\n",
       "  <tbody>\n",
       "    <tr>\n",
       "      <th>actual_dead</th>\n",
       "      <td>True Negative: 272</td>\n",
       "      <td>False positive: 35</td>\n",
       "    </tr>\n",
       "    <tr>\n",
       "      <th>actual_survived</th>\n",
       "      <td>False Negative: 70</td>\n",
       "      <td>True Positive: 121</td>\n",
       "    </tr>\n",
       "  </tbody>\n",
       "</table>\n",
       "</div>"
      ],
      "text/plain": [
       "                          pred_dead       pred_survived\n",
       "actual_dead      True Negative: 272  False positive: 35\n",
       "actual_survived  False Negative: 70  True Positive: 121"
      ]
     },
     "metadata": {},
     "output_type": "display_data"
    },
    {
     "name": "stdout",
     "output_type": "stream",
     "text": [
      "\n",
      "\n",
      "    ________________________________________________________________________________\n",
      "    \n",
      "    Classification Report:\n",
      "    \n"
     ]
    },
    {
     "data": {
      "text/html": [
       "<div>\n",
       "<style scoped>\n",
       "    .dataframe tbody tr th:only-of-type {\n",
       "        vertical-align: middle;\n",
       "    }\n",
       "\n",
       "    .dataframe tbody tr th {\n",
       "        vertical-align: top;\n",
       "    }\n",
       "\n",
       "    .dataframe thead th {\n",
       "        text-align: right;\n",
       "    }\n",
       "</style>\n",
       "<table border=\"1\" class=\"dataframe\">\n",
       "  <thead>\n",
       "    <tr style=\"text-align: right;\">\n",
       "      <th></th>\n",
       "      <th>precision</th>\n",
       "      <th>recall</th>\n",
       "      <th>f1-score</th>\n",
       "      <th>support</th>\n",
       "    </tr>\n",
       "  </thead>\n",
       "  <tbody>\n",
       "    <tr>\n",
       "      <th>dead</th>\n",
       "      <td>0.795322</td>\n",
       "      <td>0.885993</td>\n",
       "      <td>0.838213</td>\n",
       "      <td>307.000000</td>\n",
       "    </tr>\n",
       "    <tr>\n",
       "      <th>survived</th>\n",
       "      <td>0.775641</td>\n",
       "      <td>0.633508</td>\n",
       "      <td>0.697406</td>\n",
       "      <td>191.000000</td>\n",
       "    </tr>\n",
       "    <tr>\n",
       "      <th>accuracy</th>\n",
       "      <td>0.789157</td>\n",
       "      <td>0.789157</td>\n",
       "      <td>0.789157</td>\n",
       "      <td>0.789157</td>\n",
       "    </tr>\n",
       "    <tr>\n",
       "      <th>macro avg</th>\n",
       "      <td>0.785481</td>\n",
       "      <td>0.759751</td>\n",
       "      <td>0.767809</td>\n",
       "      <td>498.000000</td>\n",
       "    </tr>\n",
       "    <tr>\n",
       "      <th>weighted avg</th>\n",
       "      <td>0.787773</td>\n",
       "      <td>0.789157</td>\n",
       "      <td>0.784209</td>\n",
       "      <td>498.000000</td>\n",
       "    </tr>\n",
       "  </tbody>\n",
       "</table>\n",
       "</div>"
      ],
      "text/plain": [
       "              precision    recall  f1-score     support\n",
       "dead           0.795322  0.885993  0.838213  307.000000\n",
       "survived       0.775641  0.633508  0.697406  191.000000\n",
       "accuracy       0.789157  0.789157  0.789157    0.789157\n",
       "macro avg      0.785481  0.759751  0.767809  498.000000\n",
       "weighted avg   0.787773  0.789157  0.784209  498.000000"
      ]
     },
     "metadata": {},
     "output_type": "display_data"
    }
   ],
   "source": [
    "model_func.model_performs(X_train, y_train, knn_11)"
   ]
  },
  {
   "cell_type": "code",
   "execution_count": 86,
   "metadata": {},
   "outputs": [],
   "source": [
    "# # what if I simplified...\n",
    "# X_train = train[['sex_male', 'pclass']]\n",
    "# X_validate = validate[['sex_male', 'pclass']]\n",
    "# y_train = train.survived\n",
    "# y_validate = validate.survived\n",
    "\n",
    "\n"
   ]
  },
  {
   "cell_type": "code",
   "execution_count": 87,
   "metadata": {},
   "outputs": [],
   "source": [
    "# for k in range(2,40,2):\n",
    "#     knn = KNeighborsClassifier(n_neighbors=k)\n",
    "#     knn.fit(X_train, y_train)\n",
    "#     print(f'Model: {k}')\n",
    "#     print(f'Training score: {knn.score(X_train, y_train):.2%}')\n",
    "#     print(f'Validate Score: {knn.score(X_validate, y_validate):.2%}')\n",
    "#     print('----------------------------------------------------')"
   ]
  },
  {
   "cell_type": "code",
   "execution_count": 88,
   "metadata": {},
   "outputs": [
    {
     "name": "stdout",
     "output_type": "stream",
     "text": [
      "\n",
      "    ******       Model 1  ******                                ******     Model 2  ****** \n",
      "       Overall Accuracy:  78.92%              |                Overall Accuracy:  73.09%  \n",
      "                                                \n",
      "     True Positive Rate:  63.35%              |          The True Positive Rate:  39.27%  \n",
      "    False Positive Rate:  11.40%              |         The False Positive Rate:  5.86% \n",
      "     True Negative Rate:  88.60%              |          The True Negative Rate:  94.14% \n",
      "    False Negative Rate:  36.65%              |         The False Negative Rate:  60.73%\n",
      "\n",
      "    _____________________________________________________________________________________________________________\n",
      "    \n",
      "\n",
      "    Positive =  'survived'\n",
      "\n",
      "    Confusion Matrix\n",
      "    \n"
     ]
    },
    {
     "data": {
      "text/html": [
       "<style  type=\"text/css\" >\n",
       "</style><table id=\"T_fd067a02_bcc6_11eb_bfb4_1e00623a1639\" style='display:inline'><caption>Model 1 Confusion Matrix</caption><thead>    <tr>        <th class=\"blank level0\" ></th>        <th class=\"col_heading level0 col0\" >pred_dead</th>        <th class=\"col_heading level0 col1\" >pred_survived</th>    </tr></thead><tbody>\n",
       "                <tr>\n",
       "                        <th id=\"T_fd067a02_bcc6_11eb_bfb4_1e00623a1639level0_row0\" class=\"row_heading level0 row0\" >actual_dead</th>\n",
       "                        <td id=\"T_fd067a02_bcc6_11eb_bfb4_1e00623a1639row0_col0\" class=\"data row0 col0\" >True Negative: 272</td>\n",
       "                        <td id=\"T_fd067a02_bcc6_11eb_bfb4_1e00623a1639row0_col1\" class=\"data row0 col1\" >False positive: 35</td>\n",
       "            </tr>\n",
       "            <tr>\n",
       "                        <th id=\"T_fd067a02_bcc6_11eb_bfb4_1e00623a1639level0_row1\" class=\"row_heading level0 row1\" >actual_survived</th>\n",
       "                        <td id=\"T_fd067a02_bcc6_11eb_bfb4_1e00623a1639row1_col0\" class=\"data row1 col0\" >False Negative: 70</td>\n",
       "                        <td id=\"T_fd067a02_bcc6_11eb_bfb4_1e00623a1639row1_col1\" class=\"data row1 col1\" >True Positive: 121</td>\n",
       "            </tr>\n",
       "    </tbody></table>                    <style  type=\"text/css\" >\n",
       "</style><table id=\"T_fd06905a_bcc6_11eb_bfb4_1e00623a1639\" style='display:inline'><caption>Model 2 Confusion Matrix</caption><thead>    <tr>        <th class=\"blank level0\" ></th>        <th class=\"col_heading level0 col0\" >pred_dead</th>        <th class=\"col_heading level0 col1\" >pred_survived</th>    </tr></thead><tbody>\n",
       "                <tr>\n",
       "                        <th id=\"T_fd06905a_bcc6_11eb_bfb4_1e00623a1639level0_row0\" class=\"row_heading level0 row0\" >actual_dead</th>\n",
       "                        <td id=\"T_fd06905a_bcc6_11eb_bfb4_1e00623a1639row0_col0\" class=\"data row0 col0\" >True Negative: 289</td>\n",
       "                        <td id=\"T_fd06905a_bcc6_11eb_bfb4_1e00623a1639row0_col1\" class=\"data row0 col1\" >False positive: 18</td>\n",
       "            </tr>\n",
       "            <tr>\n",
       "                        <th id=\"T_fd06905a_bcc6_11eb_bfb4_1e00623a1639level0_row1\" class=\"row_heading level0 row1\" >actual_survived</th>\n",
       "                        <td id=\"T_fd06905a_bcc6_11eb_bfb4_1e00623a1639row1_col0\" class=\"data row1 col0\" >False Negative: 116</td>\n",
       "                        <td id=\"T_fd06905a_bcc6_11eb_bfb4_1e00623a1639row1_col1\" class=\"data row1 col1\" >True Positive: 75</td>\n",
       "            </tr>\n",
       "    </tbody></table>"
      ]
     },
     "metadata": {},
     "output_type": "display_data"
    },
    {
     "name": "stdout",
     "output_type": "stream",
     "text": [
      "\n",
      "\n",
      "    ________________________________________________________________________________\n",
      "    \n",
      "    Classification Report:\n",
      "    \n"
     ]
    },
    {
     "data": {
      "text/html": [
       "<style  type=\"text/css\" >\n",
       "</style><table id=\"T_fd06b31e_bcc6_11eb_bfb4_1e00623a1639\" style='display:inline'><caption>Model 1 Classification Report</caption><thead>    <tr>        <th class=\"blank level0\" ></th>        <th class=\"col_heading level0 col0\" >precision</th>        <th class=\"col_heading level0 col1\" >recall</th>        <th class=\"col_heading level0 col2\" >f1-score</th>        <th class=\"col_heading level0 col3\" >support</th>    </tr></thead><tbody>\n",
       "                <tr>\n",
       "                        <th id=\"T_fd06b31e_bcc6_11eb_bfb4_1e00623a1639level0_row0\" class=\"row_heading level0 row0\" >dead</th>\n",
       "                        <td id=\"T_fd06b31e_bcc6_11eb_bfb4_1e00623a1639row0_col0\" class=\"data row0 col0\" >0.795322</td>\n",
       "                        <td id=\"T_fd06b31e_bcc6_11eb_bfb4_1e00623a1639row0_col1\" class=\"data row0 col1\" >0.885993</td>\n",
       "                        <td id=\"T_fd06b31e_bcc6_11eb_bfb4_1e00623a1639row0_col2\" class=\"data row0 col2\" >0.838213</td>\n",
       "                        <td id=\"T_fd06b31e_bcc6_11eb_bfb4_1e00623a1639row0_col3\" class=\"data row0 col3\" >307.000000</td>\n",
       "            </tr>\n",
       "            <tr>\n",
       "                        <th id=\"T_fd06b31e_bcc6_11eb_bfb4_1e00623a1639level0_row1\" class=\"row_heading level0 row1\" >survived</th>\n",
       "                        <td id=\"T_fd06b31e_bcc6_11eb_bfb4_1e00623a1639row1_col0\" class=\"data row1 col0\" >0.775641</td>\n",
       "                        <td id=\"T_fd06b31e_bcc6_11eb_bfb4_1e00623a1639row1_col1\" class=\"data row1 col1\" >0.633508</td>\n",
       "                        <td id=\"T_fd06b31e_bcc6_11eb_bfb4_1e00623a1639row1_col2\" class=\"data row1 col2\" >0.697406</td>\n",
       "                        <td id=\"T_fd06b31e_bcc6_11eb_bfb4_1e00623a1639row1_col3\" class=\"data row1 col3\" >191.000000</td>\n",
       "            </tr>\n",
       "            <tr>\n",
       "                        <th id=\"T_fd06b31e_bcc6_11eb_bfb4_1e00623a1639level0_row2\" class=\"row_heading level0 row2\" >accuracy</th>\n",
       "                        <td id=\"T_fd06b31e_bcc6_11eb_bfb4_1e00623a1639row2_col0\" class=\"data row2 col0\" >0.789157</td>\n",
       "                        <td id=\"T_fd06b31e_bcc6_11eb_bfb4_1e00623a1639row2_col1\" class=\"data row2 col1\" >0.789157</td>\n",
       "                        <td id=\"T_fd06b31e_bcc6_11eb_bfb4_1e00623a1639row2_col2\" class=\"data row2 col2\" >0.789157</td>\n",
       "                        <td id=\"T_fd06b31e_bcc6_11eb_bfb4_1e00623a1639row2_col3\" class=\"data row2 col3\" >0.789157</td>\n",
       "            </tr>\n",
       "            <tr>\n",
       "                        <th id=\"T_fd06b31e_bcc6_11eb_bfb4_1e00623a1639level0_row3\" class=\"row_heading level0 row3\" >macro avg</th>\n",
       "                        <td id=\"T_fd06b31e_bcc6_11eb_bfb4_1e00623a1639row3_col0\" class=\"data row3 col0\" >0.785481</td>\n",
       "                        <td id=\"T_fd06b31e_bcc6_11eb_bfb4_1e00623a1639row3_col1\" class=\"data row3 col1\" >0.759751</td>\n",
       "                        <td id=\"T_fd06b31e_bcc6_11eb_bfb4_1e00623a1639row3_col2\" class=\"data row3 col2\" >0.767809</td>\n",
       "                        <td id=\"T_fd06b31e_bcc6_11eb_bfb4_1e00623a1639row3_col3\" class=\"data row3 col3\" >498.000000</td>\n",
       "            </tr>\n",
       "            <tr>\n",
       "                        <th id=\"T_fd06b31e_bcc6_11eb_bfb4_1e00623a1639level0_row4\" class=\"row_heading level0 row4\" >weighted avg</th>\n",
       "                        <td id=\"T_fd06b31e_bcc6_11eb_bfb4_1e00623a1639row4_col0\" class=\"data row4 col0\" >0.787773</td>\n",
       "                        <td id=\"T_fd06b31e_bcc6_11eb_bfb4_1e00623a1639row4_col1\" class=\"data row4 col1\" >0.789157</td>\n",
       "                        <td id=\"T_fd06b31e_bcc6_11eb_bfb4_1e00623a1639row4_col2\" class=\"data row4 col2\" >0.784209</td>\n",
       "                        <td id=\"T_fd06b31e_bcc6_11eb_bfb4_1e00623a1639row4_col3\" class=\"data row4 col3\" >498.000000</td>\n",
       "            </tr>\n",
       "    </tbody></table>                    <style  type=\"text/css\" >\n",
       "</style><table id=\"T_fd06d470_bcc6_11eb_bfb4_1e00623a1639\" style='display:inline'><caption>Model 2 Classification Report</caption><thead>    <tr>        <th class=\"blank level0\" ></th>        <th class=\"col_heading level0 col0\" >precision</th>        <th class=\"col_heading level0 col1\" >recall</th>        <th class=\"col_heading level0 col2\" >f1-score</th>        <th class=\"col_heading level0 col3\" >support</th>    </tr></thead><tbody>\n",
       "                <tr>\n",
       "                        <th id=\"T_fd06d470_bcc6_11eb_bfb4_1e00623a1639level0_row0\" class=\"row_heading level0 row0\" >dead</th>\n",
       "                        <td id=\"T_fd06d470_bcc6_11eb_bfb4_1e00623a1639row0_col0\" class=\"data row0 col0\" >0.713580</td>\n",
       "                        <td id=\"T_fd06d470_bcc6_11eb_bfb4_1e00623a1639row0_col1\" class=\"data row0 col1\" >0.941368</td>\n",
       "                        <td id=\"T_fd06d470_bcc6_11eb_bfb4_1e00623a1639row0_col2\" class=\"data row0 col2\" >0.811798</td>\n",
       "                        <td id=\"T_fd06d470_bcc6_11eb_bfb4_1e00623a1639row0_col3\" class=\"data row0 col3\" >307.000000</td>\n",
       "            </tr>\n",
       "            <tr>\n",
       "                        <th id=\"T_fd06d470_bcc6_11eb_bfb4_1e00623a1639level0_row1\" class=\"row_heading level0 row1\" >survived</th>\n",
       "                        <td id=\"T_fd06d470_bcc6_11eb_bfb4_1e00623a1639row1_col0\" class=\"data row1 col0\" >0.806452</td>\n",
       "                        <td id=\"T_fd06d470_bcc6_11eb_bfb4_1e00623a1639row1_col1\" class=\"data row1 col1\" >0.392670</td>\n",
       "                        <td id=\"T_fd06d470_bcc6_11eb_bfb4_1e00623a1639row1_col2\" class=\"data row1 col2\" >0.528169</td>\n",
       "                        <td id=\"T_fd06d470_bcc6_11eb_bfb4_1e00623a1639row1_col3\" class=\"data row1 col3\" >191.000000</td>\n",
       "            </tr>\n",
       "            <tr>\n",
       "                        <th id=\"T_fd06d470_bcc6_11eb_bfb4_1e00623a1639level0_row2\" class=\"row_heading level0 row2\" >accuracy</th>\n",
       "                        <td id=\"T_fd06d470_bcc6_11eb_bfb4_1e00623a1639row2_col0\" class=\"data row2 col0\" >0.730924</td>\n",
       "                        <td id=\"T_fd06d470_bcc6_11eb_bfb4_1e00623a1639row2_col1\" class=\"data row2 col1\" >0.730924</td>\n",
       "                        <td id=\"T_fd06d470_bcc6_11eb_bfb4_1e00623a1639row2_col2\" class=\"data row2 col2\" >0.730924</td>\n",
       "                        <td id=\"T_fd06d470_bcc6_11eb_bfb4_1e00623a1639row2_col3\" class=\"data row2 col3\" >0.730924</td>\n",
       "            </tr>\n",
       "            <tr>\n",
       "                        <th id=\"T_fd06d470_bcc6_11eb_bfb4_1e00623a1639level0_row3\" class=\"row_heading level0 row3\" >macro avg</th>\n",
       "                        <td id=\"T_fd06d470_bcc6_11eb_bfb4_1e00623a1639row3_col0\" class=\"data row3 col0\" >0.760016</td>\n",
       "                        <td id=\"T_fd06d470_bcc6_11eb_bfb4_1e00623a1639row3_col1\" class=\"data row3 col1\" >0.667019</td>\n",
       "                        <td id=\"T_fd06d470_bcc6_11eb_bfb4_1e00623a1639row3_col2\" class=\"data row3 col2\" >0.669983</td>\n",
       "                        <td id=\"T_fd06d470_bcc6_11eb_bfb4_1e00623a1639row3_col3\" class=\"data row3 col3\" >498.000000</td>\n",
       "            </tr>\n",
       "            <tr>\n",
       "                        <th id=\"T_fd06d470_bcc6_11eb_bfb4_1e00623a1639level0_row4\" class=\"row_heading level0 row4\" >weighted avg</th>\n",
       "                        <td id=\"T_fd06d470_bcc6_11eb_bfb4_1e00623a1639row4_col0\" class=\"data row4 col0\" >0.749200</td>\n",
       "                        <td id=\"T_fd06d470_bcc6_11eb_bfb4_1e00623a1639row4_col1\" class=\"data row4 col1\" >0.730924</td>\n",
       "                        <td id=\"T_fd06d470_bcc6_11eb_bfb4_1e00623a1639row4_col2\" class=\"data row4 col2\" >0.703016</td>\n",
       "                        <td id=\"T_fd06d470_bcc6_11eb_bfb4_1e00623a1639row4_col3\" class=\"data row4 col3\" >498.000000</td>\n",
       "            </tr>\n",
       "    </tbody></table>"
      ]
     },
     "metadata": {},
     "output_type": "display_data"
    }
   ],
   "source": [
    "mf.compare(knn_11, knn_20, X_train, y_train)"
   ]
  },
  {
   "cell_type": "code",
   "execution_count": 89,
   "metadata": {},
   "outputs": [
    {
     "name": "stdout",
     "output_type": "stream",
     "text": [
      "\n",
      "    ******       Train    ******                                ******     Validate    ****** \n",
      "       Overall Accuracy:  78.92%              |                Overall Accuracy:  78.50%  \n",
      "                                                \n",
      "     True Positive Rate:  63.35%              |          The True Positive Rate:  63.41%  \n",
      "    False Positive Rate:  11.40%              |         The False Positive Rate:  12.12% \n",
      "     True Negative Rate:  88.60%              |          The True Negative Rate:  87.88% \n",
      "    False Negative Rate:  36.65%              |         The False Negative Rate:  36.59%\n",
      "\n",
      "    _________________________________________________________________________________\n",
      "    \n",
      "\n",
      "    Positive =  'survived'\n",
      "\n",
      "    Confusion Matrix\n",
      "    \n"
     ]
    },
    {
     "data": {
      "text/html": [
       "<style  type=\"text/css\" >\n",
       "</style><table id=\"T_fd0de9e0_bcc6_11eb_bfb4_1e00623a1639\" style='display:inline'><caption>Train Confusion Matrix</caption><thead>    <tr>        <th class=\"blank level0\" ></th>        <th class=\"col_heading level0 col0\" >pred_dead</th>        <th class=\"col_heading level0 col1\" >pred_survived</th>    </tr></thead><tbody>\n",
       "                <tr>\n",
       "                        <th id=\"T_fd0de9e0_bcc6_11eb_bfb4_1e00623a1639level0_row0\" class=\"row_heading level0 row0\" >actual_dead</th>\n",
       "                        <td id=\"T_fd0de9e0_bcc6_11eb_bfb4_1e00623a1639row0_col0\" class=\"data row0 col0\" >TN : 272</td>\n",
       "                        <td id=\"T_fd0de9e0_bcc6_11eb_bfb4_1e00623a1639row0_col1\" class=\"data row0 col1\" >FP : 35</td>\n",
       "            </tr>\n",
       "            <tr>\n",
       "                        <th id=\"T_fd0de9e0_bcc6_11eb_bfb4_1e00623a1639level0_row1\" class=\"row_heading level0 row1\" >actual_survived</th>\n",
       "                        <td id=\"T_fd0de9e0_bcc6_11eb_bfb4_1e00623a1639row1_col0\" class=\"data row1 col0\" >FN : 70</td>\n",
       "                        <td id=\"T_fd0de9e0_bcc6_11eb_bfb4_1e00623a1639row1_col1\" class=\"data row1 col1\" >TP : 121</td>\n",
       "            </tr>\n",
       "    </tbody></table>                              <style  type=\"text/css\" >\n",
       "</style><table id=\"T_fd0dfd5e_bcc6_11eb_bfb4_1e00623a1639\" style='display:inline'><caption>Validate Confusion Matrix</caption><thead>    <tr>        <th class=\"blank level0\" ></th>        <th class=\"col_heading level0 col0\" >pred_dead</th>        <th class=\"col_heading level0 col1\" >pred_survived</th>    </tr></thead><tbody>\n",
       "                <tr>\n",
       "                        <th id=\"T_fd0dfd5e_bcc6_11eb_bfb4_1e00623a1639level0_row0\" class=\"row_heading level0 row0\" >actual_dead</th>\n",
       "                        <td id=\"T_fd0dfd5e_bcc6_11eb_bfb4_1e00623a1639row0_col0\" class=\"data row0 col0\" >TN : 116</td>\n",
       "                        <td id=\"T_fd0dfd5e_bcc6_11eb_bfb4_1e00623a1639row0_col1\" class=\"data row0 col1\" >FP : 16</td>\n",
       "            </tr>\n",
       "            <tr>\n",
       "                        <th id=\"T_fd0dfd5e_bcc6_11eb_bfb4_1e00623a1639level0_row1\" class=\"row_heading level0 row1\" >actual_survived</th>\n",
       "                        <td id=\"T_fd0dfd5e_bcc6_11eb_bfb4_1e00623a1639row1_col0\" class=\"data row1 col0\" >FN : 30</td>\n",
       "                        <td id=\"T_fd0dfd5e_bcc6_11eb_bfb4_1e00623a1639row1_col1\" class=\"data row1 col1\" >TP : 52</td>\n",
       "            </tr>\n",
       "    </tbody></table>"
      ]
     },
     "metadata": {},
     "output_type": "display_data"
    },
    {
     "name": "stdout",
     "output_type": "stream",
     "text": [
      "\n",
      "\n",
      "    ________________________________________________________________________________\n",
      "    \n",
      "    Classification Report:\n",
      "    \n"
     ]
    },
    {
     "data": {
      "text/html": [
       "<style  type=\"text/css\" >\n",
       "</style><table id=\"T_fd0e29a0_bcc6_11eb_bfb4_1e00623a1639\" style='display:inline'><caption>Train Classification Report</caption><thead>    <tr>        <th class=\"blank level0\" ></th>        <th class=\"col_heading level0 col0\" >precision</th>        <th class=\"col_heading level0 col1\" >recall</th>        <th class=\"col_heading level0 col2\" >f1-score</th>        <th class=\"col_heading level0 col3\" >support</th>    </tr></thead><tbody>\n",
       "                <tr>\n",
       "                        <th id=\"T_fd0e29a0_bcc6_11eb_bfb4_1e00623a1639level0_row0\" class=\"row_heading level0 row0\" >dead</th>\n",
       "                        <td id=\"T_fd0e29a0_bcc6_11eb_bfb4_1e00623a1639row0_col0\" class=\"data row0 col0\" >0.795322</td>\n",
       "                        <td id=\"T_fd0e29a0_bcc6_11eb_bfb4_1e00623a1639row0_col1\" class=\"data row0 col1\" >0.885993</td>\n",
       "                        <td id=\"T_fd0e29a0_bcc6_11eb_bfb4_1e00623a1639row0_col2\" class=\"data row0 col2\" >0.838213</td>\n",
       "                        <td id=\"T_fd0e29a0_bcc6_11eb_bfb4_1e00623a1639row0_col3\" class=\"data row0 col3\" >307.000000</td>\n",
       "            </tr>\n",
       "            <tr>\n",
       "                        <th id=\"T_fd0e29a0_bcc6_11eb_bfb4_1e00623a1639level0_row1\" class=\"row_heading level0 row1\" >survived</th>\n",
       "                        <td id=\"T_fd0e29a0_bcc6_11eb_bfb4_1e00623a1639row1_col0\" class=\"data row1 col0\" >0.775641</td>\n",
       "                        <td id=\"T_fd0e29a0_bcc6_11eb_bfb4_1e00623a1639row1_col1\" class=\"data row1 col1\" >0.633508</td>\n",
       "                        <td id=\"T_fd0e29a0_bcc6_11eb_bfb4_1e00623a1639row1_col2\" class=\"data row1 col2\" >0.697406</td>\n",
       "                        <td id=\"T_fd0e29a0_bcc6_11eb_bfb4_1e00623a1639row1_col3\" class=\"data row1 col3\" >191.000000</td>\n",
       "            </tr>\n",
       "            <tr>\n",
       "                        <th id=\"T_fd0e29a0_bcc6_11eb_bfb4_1e00623a1639level0_row2\" class=\"row_heading level0 row2\" >accuracy</th>\n",
       "                        <td id=\"T_fd0e29a0_bcc6_11eb_bfb4_1e00623a1639row2_col0\" class=\"data row2 col0\" >0.789157</td>\n",
       "                        <td id=\"T_fd0e29a0_bcc6_11eb_bfb4_1e00623a1639row2_col1\" class=\"data row2 col1\" >0.789157</td>\n",
       "                        <td id=\"T_fd0e29a0_bcc6_11eb_bfb4_1e00623a1639row2_col2\" class=\"data row2 col2\" >0.789157</td>\n",
       "                        <td id=\"T_fd0e29a0_bcc6_11eb_bfb4_1e00623a1639row2_col3\" class=\"data row2 col3\" >0.789157</td>\n",
       "            </tr>\n",
       "            <tr>\n",
       "                        <th id=\"T_fd0e29a0_bcc6_11eb_bfb4_1e00623a1639level0_row3\" class=\"row_heading level0 row3\" >macro avg</th>\n",
       "                        <td id=\"T_fd0e29a0_bcc6_11eb_bfb4_1e00623a1639row3_col0\" class=\"data row3 col0\" >0.785481</td>\n",
       "                        <td id=\"T_fd0e29a0_bcc6_11eb_bfb4_1e00623a1639row3_col1\" class=\"data row3 col1\" >0.759751</td>\n",
       "                        <td id=\"T_fd0e29a0_bcc6_11eb_bfb4_1e00623a1639row3_col2\" class=\"data row3 col2\" >0.767809</td>\n",
       "                        <td id=\"T_fd0e29a0_bcc6_11eb_bfb4_1e00623a1639row3_col3\" class=\"data row3 col3\" >498.000000</td>\n",
       "            </tr>\n",
       "            <tr>\n",
       "                        <th id=\"T_fd0e29a0_bcc6_11eb_bfb4_1e00623a1639level0_row4\" class=\"row_heading level0 row4\" >weighted avg</th>\n",
       "                        <td id=\"T_fd0e29a0_bcc6_11eb_bfb4_1e00623a1639row4_col0\" class=\"data row4 col0\" >0.787773</td>\n",
       "                        <td id=\"T_fd0e29a0_bcc6_11eb_bfb4_1e00623a1639row4_col1\" class=\"data row4 col1\" >0.789157</td>\n",
       "                        <td id=\"T_fd0e29a0_bcc6_11eb_bfb4_1e00623a1639row4_col2\" class=\"data row4 col2\" >0.784209</td>\n",
       "                        <td id=\"T_fd0e29a0_bcc6_11eb_bfb4_1e00623a1639row4_col3\" class=\"data row4 col3\" >498.000000</td>\n",
       "            </tr>\n",
       "    </tbody></table>          <style  type=\"text/css\" >\n",
       "</style><table id=\"T_fd0e4bf6_bcc6_11eb_bfb4_1e00623a1639\" style='display:inline'><caption>Validate Classification Report</caption><thead>    <tr>        <th class=\"blank level0\" ></th>        <th class=\"col_heading level0 col0\" >precision</th>        <th class=\"col_heading level0 col1\" >recall</th>        <th class=\"col_heading level0 col2\" >f1-score</th>        <th class=\"col_heading level0 col3\" >support</th>    </tr></thead><tbody>\n",
       "                <tr>\n",
       "                        <th id=\"T_fd0e4bf6_bcc6_11eb_bfb4_1e00623a1639level0_row0\" class=\"row_heading level0 row0\" >dead</th>\n",
       "                        <td id=\"T_fd0e4bf6_bcc6_11eb_bfb4_1e00623a1639row0_col0\" class=\"data row0 col0\" >0.794521</td>\n",
       "                        <td id=\"T_fd0e4bf6_bcc6_11eb_bfb4_1e00623a1639row0_col1\" class=\"data row0 col1\" >0.878788</td>\n",
       "                        <td id=\"T_fd0e4bf6_bcc6_11eb_bfb4_1e00623a1639row0_col2\" class=\"data row0 col2\" >0.834532</td>\n",
       "                        <td id=\"T_fd0e4bf6_bcc6_11eb_bfb4_1e00623a1639row0_col3\" class=\"data row0 col3\" >132.000000</td>\n",
       "            </tr>\n",
       "            <tr>\n",
       "                        <th id=\"T_fd0e4bf6_bcc6_11eb_bfb4_1e00623a1639level0_row1\" class=\"row_heading level0 row1\" >survived</th>\n",
       "                        <td id=\"T_fd0e4bf6_bcc6_11eb_bfb4_1e00623a1639row1_col0\" class=\"data row1 col0\" >0.764706</td>\n",
       "                        <td id=\"T_fd0e4bf6_bcc6_11eb_bfb4_1e00623a1639row1_col1\" class=\"data row1 col1\" >0.634146</td>\n",
       "                        <td id=\"T_fd0e4bf6_bcc6_11eb_bfb4_1e00623a1639row1_col2\" class=\"data row1 col2\" >0.693333</td>\n",
       "                        <td id=\"T_fd0e4bf6_bcc6_11eb_bfb4_1e00623a1639row1_col3\" class=\"data row1 col3\" >82.000000</td>\n",
       "            </tr>\n",
       "            <tr>\n",
       "                        <th id=\"T_fd0e4bf6_bcc6_11eb_bfb4_1e00623a1639level0_row2\" class=\"row_heading level0 row2\" >accuracy</th>\n",
       "                        <td id=\"T_fd0e4bf6_bcc6_11eb_bfb4_1e00623a1639row2_col0\" class=\"data row2 col0\" >0.785047</td>\n",
       "                        <td id=\"T_fd0e4bf6_bcc6_11eb_bfb4_1e00623a1639row2_col1\" class=\"data row2 col1\" >0.785047</td>\n",
       "                        <td id=\"T_fd0e4bf6_bcc6_11eb_bfb4_1e00623a1639row2_col2\" class=\"data row2 col2\" >0.785047</td>\n",
       "                        <td id=\"T_fd0e4bf6_bcc6_11eb_bfb4_1e00623a1639row2_col3\" class=\"data row2 col3\" >0.785047</td>\n",
       "            </tr>\n",
       "            <tr>\n",
       "                        <th id=\"T_fd0e4bf6_bcc6_11eb_bfb4_1e00623a1639level0_row3\" class=\"row_heading level0 row3\" >macro avg</th>\n",
       "                        <td id=\"T_fd0e4bf6_bcc6_11eb_bfb4_1e00623a1639row3_col0\" class=\"data row3 col0\" >0.779613</td>\n",
       "                        <td id=\"T_fd0e4bf6_bcc6_11eb_bfb4_1e00623a1639row3_col1\" class=\"data row3 col1\" >0.756467</td>\n",
       "                        <td id=\"T_fd0e4bf6_bcc6_11eb_bfb4_1e00623a1639row3_col2\" class=\"data row3 col2\" >0.763933</td>\n",
       "                        <td id=\"T_fd0e4bf6_bcc6_11eb_bfb4_1e00623a1639row3_col3\" class=\"data row3 col3\" >214.000000</td>\n",
       "            </tr>\n",
       "            <tr>\n",
       "                        <th id=\"T_fd0e4bf6_bcc6_11eb_bfb4_1e00623a1639level0_row4\" class=\"row_heading level0 row4\" >weighted avg</th>\n",
       "                        <td id=\"T_fd0e4bf6_bcc6_11eb_bfb4_1e00623a1639row4_col0\" class=\"data row4 col0\" >0.783096</td>\n",
       "                        <td id=\"T_fd0e4bf6_bcc6_11eb_bfb4_1e00623a1639row4_col1\" class=\"data row4 col1\" >0.785047</td>\n",
       "                        <td id=\"T_fd0e4bf6_bcc6_11eb_bfb4_1e00623a1639row4_col2\" class=\"data row4 col2\" >0.780428</td>\n",
       "                        <td id=\"T_fd0e4bf6_bcc6_11eb_bfb4_1e00623a1639row4_col3\" class=\"data row4 col3\" >214.000000</td>\n",
       "            </tr>\n",
       "    </tbody></table>"
      ]
     },
     "metadata": {},
     "output_type": "display_data"
    }
   ],
   "source": [
    "mf.compare_train_validate(knn_11, X_train, y_train, X_validate, y_validate)"
   ]
  },
  {
   "cell_type": "code",
   "execution_count": null,
   "metadata": {},
   "outputs": [],
   "source": []
  },
  {
   "cell_type": "code",
   "execution_count": null,
   "metadata": {},
   "outputs": [],
   "source": []
  },
  {
   "cell_type": "markdown",
   "metadata": {},
   "source": [
    "## Logically Logistic "
   ]
  },
  {
   "cell_type": "markdown",
   "metadata": {},
   "source": [
    "1. Create a model that includes age in addition to fare and pclass. Does this model perform better than your baseline?\n",
    "\n"
   ]
  },
  {
   "cell_type": "code",
   "execution_count": 105,
   "metadata": {},
   "outputs": [],
   "source": [
    "X_train = train[['pclass', 'fare', 'age']]\n",
    "X_validate = validate[['pclass', 'fare', 'age']]\n",
    "y_train = train.survived\n",
    "y_validate = validate.survived"
   ]
  },
  {
   "cell_type": "code",
   "execution_count": 140,
   "metadata": {},
   "outputs": [],
   "source": [
    "logit_1 = LogisticRegression(C=1, class_weight={0:61, 1:39}, random_state = 1221, intercept_scaling = 1, solver = 'lbfgs')"
   ]
  },
  {
   "cell_type": "code",
   "execution_count": 141,
   "metadata": {},
   "outputs": [
    {
     "data": {
      "text/plain": [
       "LogisticRegression(C=1, class_weight={0: 61, 1: 39}, random_state=1221)"
      ]
     },
     "execution_count": 141,
     "metadata": {},
     "output_type": "execute_result"
    }
   ],
   "source": [
    "logit_1.fit(X_train, y_train)"
   ]
  },
  {
   "cell_type": "code",
   "execution_count": 142,
   "metadata": {},
   "outputs": [
    {
     "name": "stdout",
     "output_type": "stream",
     "text": [
      "Coefficient: \n",
      " [[-1.36342027 -0.00320546 -0.02960175 -2.98486306]]\n",
      "Intercept: \n",
      " [4.91678062]\n"
     ]
    }
   ],
   "source": [
    "print('Coefficient: \\n', logit_1.coef_)\n",
    "print('Intercept: \\n', logit_1.intercept_)"
   ]
  },
  {
   "cell_type": "code",
   "execution_count": 143,
   "metadata": {},
   "outputs": [],
   "source": [
    "y_pred = logit_1.predict(X_train)"
   ]
  },
  {
   "cell_type": "code",
   "execution_count": 144,
   "metadata": {},
   "outputs": [],
   "source": [
    "y_pred_proba = logit_1.predict_proba(X_train)"
   ]
  },
  {
   "cell_type": "code",
   "execution_count": 145,
   "metadata": {},
   "outputs": [
    {
     "name": "stdout",
     "output_type": "stream",
     "text": [
      "Accuracy of Logistic Regression classifier 1 on training set: 79.72%\n"
     ]
    }
   ],
   "source": [
    "print('Accuracy of Logistic Regression classifier 1 on training set: {:.2%}'.format(logit_1.score(X_train, y_train)))"
   ]
  },
  {
   "cell_type": "markdown",
   "metadata": {},
   "source": [
    "2. Include sex in your model as well. Note that you'll need to encode or create a dummy variable of this feature before including it in a model."
   ]
  },
  {
   "cell_type": "code",
   "execution_count": 112,
   "metadata": {},
   "outputs": [],
   "source": [
    "X_train = train[['pclass', 'fare', 'age', 'sex_male']]\n",
    "X_validate = validate[['pclass', 'fare', 'age', 'sex_male']]\n",
    "y_train = train.survived\n",
    "y_validate = validate.survived"
   ]
  },
  {
   "cell_type": "code",
   "execution_count": 146,
   "metadata": {},
   "outputs": [],
   "source": [
    "logit_2 = LogisticRegression(C=1, class_weight={0:61, 1:39}, random_state = 1221, intercept_scaling = 1, solver = 'lbfgs')"
   ]
  },
  {
   "cell_type": "code",
   "execution_count": 147,
   "metadata": {},
   "outputs": [
    {
     "data": {
      "text/plain": [
       "LogisticRegression(C=1, class_weight={0: 61, 1: 39}, random_state=1221)"
      ]
     },
     "execution_count": 147,
     "metadata": {},
     "output_type": "execute_result"
    }
   ],
   "source": [
    "logit_2.fit(X_train, y_train)"
   ]
  },
  {
   "cell_type": "code",
   "execution_count": 148,
   "metadata": {},
   "outputs": [
    {
     "name": "stdout",
     "output_type": "stream",
     "text": [
      "Coefficient: \n",
      " [[-1.36342027 -0.00320546 -0.02960175 -2.98486306]]\n",
      "Intercept: \n",
      " [4.91678062]\n"
     ]
    }
   ],
   "source": [
    "print('Coefficient: \\n', logit_2.coef_)\n",
    "print('Intercept: \\n', logit_2.intercept_)"
   ]
  },
  {
   "cell_type": "code",
   "execution_count": 149,
   "metadata": {},
   "outputs": [],
   "source": [
    "y_pred = logit_2.predict(X_train)\n",
    "y_pred_proba = logit_2.predict_proba(X_train)"
   ]
  },
  {
   "cell_type": "code",
   "execution_count": 150,
   "metadata": {},
   "outputs": [
    {
     "name": "stdout",
     "output_type": "stream",
     "text": [
      "Accuracy of Logistic Regression classifier 2 on training set: 79.72%\n"
     ]
    }
   ],
   "source": [
    "print('Accuracy of Logistic Regression classifier 2 on training set: {:.2%}'.format(logit_2.score(X_train, y_train)))"
   ]
  },
  {
   "cell_type": "markdown",
   "metadata": {},
   "source": [
    "3. Try out other combinations of features and models."
   ]
  },
  {
   "cell_type": "code",
   "execution_count": 157,
   "metadata": {},
   "outputs": [],
   "source": [
    "X_train = train[['pclass', 'fare', 'age', 'sex_male']]\n",
    "X_validate = validate[['pclass', 'fare', 'age', 'sex_male']]\n",
    "y_train = train.survived\n",
    "y_validate = validate.survived"
   ]
  },
  {
   "cell_type": "code",
   "execution_count": 163,
   "metadata": {},
   "outputs": [],
   "source": [
    "logit_3 = LogisticRegression(C=0.5, random_state = 1221, solver = 'liblinear')"
   ]
  },
  {
   "cell_type": "code",
   "execution_count": 164,
   "metadata": {},
   "outputs": [
    {
     "data": {
      "text/plain": [
       "LogisticRegression(C=0.5, random_state=1221, solver='liblinear')"
      ]
     },
     "execution_count": 164,
     "metadata": {},
     "output_type": "execute_result"
    }
   ],
   "source": [
    "logit_3.fit(X_train, y_train)"
   ]
  },
  {
   "cell_type": "code",
   "execution_count": 165,
   "metadata": {},
   "outputs": [
    {
     "name": "stdout",
     "output_type": "stream",
     "text": [
      "Coefficient: \n",
      " [[-0.67021752  0.00288618 -0.00860613 -2.30266373]]\n",
      "Intercept: \n",
      " [2.54728987]\n"
     ]
    }
   ],
   "source": [
    "print('Coefficient: \\n', logit_3.coef_)\n",
    "print('Intercept: \\n', logit_3.intercept_)"
   ]
  },
  {
   "cell_type": "code",
   "execution_count": 166,
   "metadata": {},
   "outputs": [],
   "source": [
    "y_pred = logit_3.predict(X_train)\n",
    "y_pred_proba = logit_3.predict_proba(X_train)"
   ]
  },
  {
   "cell_type": "code",
   "execution_count": 167,
   "metadata": {},
   "outputs": [
    {
     "name": "stdout",
     "output_type": "stream",
     "text": [
      "Accuracy of Logistic Regression classifier 3 on training set: 79.72%\n"
     ]
    }
   ],
   "source": [
    "print('Accuracy of Logistic Regression classifier 3 on training set: {:.2%}'.format(logit_3.score(X_train, y_train)))"
   ]
  },
  {
   "cell_type": "code",
   "execution_count": 170,
   "metadata": {},
   "outputs": [
    {
     "name": "stdout",
     "output_type": "stream",
     "text": [
      "Coefficient: \n",
      " [[-0.67021752  0.00288618 -0.00860613 -2.30266373]]\n",
      "Intercept: \n",
      " [2.54728987]\n",
      "Accuracy of Logistic Regression classifier 4 on training set: 79.72%\n"
     ]
    }
   ],
   "source": [
    "X_train = train[['pclass', 'fare', 'age', 'sex_male']]\n",
    "X_validate = validate[['pclass', 'fare', 'age', 'sex_male']]\n",
    "y_train = train.survived\n",
    "y_validate = validate.survived\n",
    "logit_4 = LogisticRegression(C=0.5, random_state = 1221, fit_intercept=True, intercept_scaling=1, solver = 'liblinear')\n",
    "logit_4.fit(X_train, y_train)\n",
    "y_pred = logit_4.predict(X_train)\n",
    "y_pred_proba = logit_4.predict_proba(X_train)\n",
    "print('Coefficient: \\n', logit_4.coef_)\n",
    "print('Intercept: \\n', logit_4.intercept_)\n",
    "print('Accuracy of Logistic Regression classifier 4 on training set: {:.2%}'.format(logit_4.score(X_train, y_train)))"
   ]
  },
  {
   "cell_type": "code",
   "execution_count": 174,
   "metadata": {},
   "outputs": [
    {
     "name": "stdout",
     "output_type": "stream",
     "text": [
      "Coefficient: \n",
      " [[-1.21154022e+00 -2.00493198e-03 -2.93615278e-02 -2.71427548e+00]]\n",
      "Intercept: \n",
      " [4.82137425]\n",
      "Accuracy of Logistic Regression classifier 4 on training set: 80.72%\n"
     ]
    }
   ],
   "source": [
    "X_train = train[['pclass', 'fare', 'age', 'sex_male']]\n",
    "X_validate = validate[['pclass', 'fare', 'age', 'sex_male']]\n",
    "y_train = train.survived\n",
    "y_validate = validate.survived\n",
    "logit_5 = LogisticRegression(C=1, random_state = 1221, fit_intercept=True, intercept_scaling=1, solver = 'lbfgs')\n",
    "logit_5.fit(X_train, y_train)\n",
    "y_pred = logit_5.predict(X_train)\n",
    "y_pred_proba = logit_5.predict_proba(X_train)\n",
    "print('Coefficient: \\n', logit_5.coef_)\n",
    "print('Intercept: \\n', logit_5.intercept_)\n",
    "print('Accuracy of Logistic Regression classifier 4 on training set: {:.2%}'.format(logit_5.score(X_train, y_train)))"
   ]
  },
  {
   "cell_type": "code",
   "execution_count": 175,
   "metadata": {},
   "outputs": [
    {
     "name": "stdout",
     "output_type": "stream",
     "text": [
      "Coefficient: \n",
      " [[-1.14712915 -0.02853996 -2.69795316]]\n",
      "Intercept: \n",
      " [4.58075647]\n",
      "Accuracy of Logistic Regression classifier 4 on training set: 80.52%\n"
     ]
    }
   ],
   "source": [
    "X_train = train[['pclass', 'age', 'sex_male']]\n",
    "X_validate = validate[['pclass', 'age', 'sex_male']]\n",
    "y_train = train.survived\n",
    "y_validate = validate.survived\n",
    "logit_6 = LogisticRegression(C=1, random_state = 1221, fit_intercept=True, intercept_scaling=1, solver = 'lbfgs')\n",
    "logit_6.fit(X_train, y_train)\n",
    "y_pred = logit_6.predict(X_train)\n",
    "y_pred_proba = logit_6.predict_proba(X_train)\n",
    "print('Coefficient: \\n', logit_6.coef_)\n",
    "print('Intercept: \\n', logit_6.intercept_)\n",
    "print('Accuracy of Logistic Regression classifier 4 on training set: {:.2%}'.format(logit_6.score(X_train, y_train)))"
   ]
  },
  {
   "cell_type": "markdown",
   "metadata": {},
   "source": [
    "4. Use you best 3 models to predict and evaluate on your validate sample."
   ]
  },
  {
   "cell_type": "code",
   "execution_count": 176,
   "metadata": {},
   "outputs": [],
   "source": [
    "# what are my top three models?\n",
    "# 5, 6, 4"
   ]
  },
  {
   "cell_type": "code",
   "execution_count": 177,
   "metadata": {},
   "outputs": [
    {
     "name": "stdout",
     "output_type": "stream",
     "text": [
      "Coefficient: \n",
      " [[-1.21154022e+00 -2.00493198e-03 -2.93615278e-02 -2.71427548e+00]]\n",
      "Intercept: \n",
      " [4.82137425]\n",
      "Accuracy of Logistic Regression classifier 4 on training set: 78.04%\n"
     ]
    }
   ],
   "source": [
    "# 5 - 80.72% on train, 78.04% on validate\n",
    "X_train = train[['pclass', 'fare', 'age', 'sex_male']]\n",
    "X_validate = validate[['pclass', 'fare', 'age', 'sex_male']]\n",
    "y_train = train.survived\n",
    "y_validate = validate.survived\n",
    "logit_5 = LogisticRegression(C=1, random_state = 1221, fit_intercept=True, intercept_scaling=1, solver = 'lbfgs')\n",
    "logit_5.fit(X_train, y_train)\n",
    "y_pred = logit_5.predict(X_validate)\n",
    "y_pred_proba = logit_5.predict_proba(X_validate)\n",
    "print('Coefficient: \\n', logit_5.coef_)\n",
    "print('Intercept: \\n', logit_5.intercept_)\n",
    "print('Accuracy of Logistic Regression classifier 4 on training set: {:.2%}'.format(logit_5.score(X_validate, y_validate)))\n"
   ]
  },
  {
   "cell_type": "code",
   "execution_count": 178,
   "metadata": {},
   "outputs": [
    {
     "name": "stdout",
     "output_type": "stream",
     "text": [
      "Coefficient: \n",
      " [[-1.14712915 -0.02853996 -2.69795316]]\n",
      "Intercept: \n",
      " [4.58075647]\n",
      "Accuracy of Logistic Regression classifier 4 on training set: 77.10%\n"
     ]
    }
   ],
   "source": [
    "X_train = train[['pclass', 'age', 'sex_male']]\n",
    "X_validate = validate[['pclass', 'age', 'sex_male']]\n",
    "y_train = train.survived\n",
    "y_validate = validate.survived\n",
    "logit_6 = LogisticRegression(C=1, random_state = 1221, fit_intercept=True, intercept_scaling=1, solver = 'lbfgs')\n",
    "logit_6.fit(X_train, y_train)\n",
    "y_pred = logit_6.predict(X_validate)\n",
    "y_pred_proba = logit_6.predict_proba(X_validate)\n",
    "print('Coefficient: \\n', logit_6.coef_)\n",
    "print('Intercept: \\n', logit_6.intercept_)\n",
    "print('Accuracy of Logistic Regression classifier 4 on training set: {:.2%}'.format(logit_6.score(X_validate, y_validate)))"
   ]
  },
  {
   "cell_type": "code",
   "execution_count": 179,
   "metadata": {},
   "outputs": [
    {
     "name": "stdout",
     "output_type": "stream",
     "text": [
      "Coefficient: \n",
      " [[-0.67021752  0.00288618 -0.00860613 -2.30266373]]\n",
      "Intercept: \n",
      " [2.54728987]\n",
      "Accuracy of Logistic Regression classifier 4 on training set: 77.10%\n"
     ]
    }
   ],
   "source": [
    "# 4\n",
    "X_train = train[['pclass', 'fare', 'age', 'sex_male']]\n",
    "X_validate = validate[['pclass', 'fare', 'age', 'sex_male']]\n",
    "y_train = train.survived\n",
    "y_validate = validate.survived\n",
    "logit_4 = LogisticRegression(C=0.5, random_state = 1221, fit_intercept=True, intercept_scaling=1, solver = 'liblinear')\n",
    "logit_4.fit(X_train, y_train)\n",
    "y_pred = logit_4.predict(X_validate)\n",
    "y_pred_proba = logit_4.predict_proba(X_validate)\n",
    "print('Coefficient: \\n', logit_4.coef_)\n",
    "print('Intercept: \\n', logit_4.intercept_)\n",
    "print('Accuracy of Logistic Regression classifier 4 on training set: {:.2%}'.format(logit_4.score(X_validate, y_validate)))"
   ]
  },
  {
   "cell_type": "code",
   "execution_count": null,
   "metadata": {},
   "outputs": [],
   "source": []
  },
  {
   "cell_type": "code",
   "execution_count": null,
   "metadata": {},
   "outputs": [],
   "source": []
  },
  {
   "cell_type": "code",
   "execution_count": null,
   "metadata": {},
   "outputs": [],
   "source": []
  },
  {
   "cell_type": "code",
   "execution_count": null,
   "metadata": {},
   "outputs": [],
   "source": []
  },
  {
   "cell_type": "markdown",
   "metadata": {},
   "source": [
    "5. Choose you best model from the validation performation, and evaluate it on the test dataset. How do the performance metrics compare to validate? to train?"
   ]
  },
  {
   "cell_type": "code",
   "execution_count": 180,
   "metadata": {},
   "outputs": [
    {
     "name": "stdout",
     "output_type": "stream",
     "text": [
      "Coefficient: \n",
      " [[-1.21154022e+00 -2.00493198e-03 -2.93615278e-02 -2.71427548e+00]]\n",
      "Intercept: \n",
      " [4.82137425]\n",
      "Accuracy of Logistic Regression classifier 5 on test set: 44.13%\n"
     ]
    }
   ],
   "source": [
    "# 5 made it this far...\n",
    "X_train = train[['pclass', 'fare', 'age', 'sex_male']]\n",
    "X_validate = validate[['pclass', 'fare', 'age', 'sex_male']]\n",
    "y_train = train.survived\n",
    "y_validate = validate.survived\n",
    "logit_5 = LogisticRegression(C=1, random_state = 1221, fit_intercept=True, intercept_scaling=1, solver = 'lbfgs')\n",
    "logit_5.fit(X_train, y_train)\n",
    "y_pred = logit_5.predict(X_test)\n",
    "y_pred_proba = logit_5.predict_proba(X_test)\n",
    "print('Coefficient: \\n', logit_5.coef_)\n",
    "print('Intercept: \\n', logit_5.intercept_)\n",
    "print('Accuracy of Logistic Regression classifier 5 on test set: {:.2%}'.format(logit_5.score(X_test, y_test)))"
   ]
  },
  {
   "cell_type": "code",
   "execution_count": 181,
   "metadata": {},
   "outputs": [],
   "source": [
    "# Holy Coyote!!!!! That was big time overfit"
   ]
  },
  {
   "cell_type": "code",
   "execution_count": 193,
   "metadata": {},
   "outputs": [
    {
     "name": "stdout",
     "output_type": "stream",
     "text": [
      "Coefficient: \n",
      " [[-8.64965376e-01  1.11976175e-03 -1.52930621e-02 -2.50566993e+00]]\n",
      "Intercept: \n",
      " [3.37381257]\n",
      "Accuracy of Logistic Regression classifier 4 on training set: 46.37%\n"
     ]
    }
   ],
   "source": [
    "# 4\n",
    "X_train = train[['pclass', 'fare', 'age', 'sex_male']]\n",
    "X_validate = validate[['pclass', 'fare', 'age', 'sex_male']]\n",
    "y_train = train.survived\n",
    "y_validate = validate.survived\n",
    "logit_4 = LogisticRegression(C=1, random_state = 1221, fit_intercept=True, intercept_scaling=1, solver = 'liblinear')\n",
    "logit_4.fit(X_train, y_train)\n",
    "y_pred = logit_4.predict(X_test)\n",
    "y_pred_proba = logit_4.predict_proba(X_test)\n",
    "print('Coefficient: \\n', logit_4.coef_)\n",
    "print('Intercept: \\n', logit_4.intercept_)\n",
    "print('Accuracy of Logistic Regression classifier 4 on training set: {:.2%}'.format(logit_4.score(X_test, y_test)))"
   ]
  },
  {
   "cell_type": "code",
   "execution_count": null,
   "metadata": {},
   "outputs": [],
   "source": []
  },
  {
   "cell_type": "code",
   "execution_count": null,
   "metadata": {},
   "outputs": [],
   "source": []
  }
 ],
 "metadata": {
  "kernelspec": {
   "display_name": "Python 3.8.5 64-bit ('base': conda)",
   "language": "python",
   "name": "python385jvsc74a57bd0b64057e63add2b45b1ffc7eab9b09c8889b419c878e2fdf0d08f837f0fc857a7"
  },
  "language_info": {
   "codemirror_mode": {
    "name": "ipython",
    "version": 3
   },
   "file_extension": ".py",
   "mimetype": "text/x-python",
   "name": "python",
   "nbconvert_exporter": "python",
   "pygments_lexer": "ipython3",
   "version": "3.8.5"
  }
 },
 "nbformat": 4,
 "nbformat_minor": 4
}
