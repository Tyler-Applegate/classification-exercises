{
 "cells": [
  {
   "cell_type": "code",
   "execution_count": 1,
   "metadata": {},
   "outputs": [],
   "source": [
    "# imports...\n",
    "import pandas as pd\n",
    "import numpy as np\n",
    "import os\n",
    "from scipy import stats\n",
    "# visualize\n",
    "import seaborn as sns\n",
    "import matplotlib.pyplot as plt\n",
    "plt.rc('figure', figsize=(11, 9))\n",
    "plt.rc('font', size=13)\n",
    "# turn off pink warning boxes\n",
    "import warnings\n",
    "warnings.filterwarnings(\"ignore\")\n",
    "# acquire\n",
    "from env import host, user, password\n",
    "from pydataset import data\n",
    "from sklearn.dummy import DummyClassifier\n",
    "from sklearn.metrics import accuracy_score\n",
    "from sklearn.metrics import precision_score\n",
    "from sklearn.metrics import recall_score\n",
    "from sklearn.metrics import classification_report\n",
    "from sklearn.tree import DecisionTreeClassifier, plot_tree, export_text\n",
    "# my fancy docs\n",
    "import acquire\n",
    "import prepare\n",
    "import explore"
   ]
  },
  {
   "cell_type": "markdown",
   "metadata": {},
   "source": [
    "## Exercises\n",
    "Using the titanic data, in your classification-exercises repository, create a notebook, model.ipynb where you will do the following:"
   ]
  },
  {
   "cell_type": "code",
   "execution_count": 2,
   "metadata": {},
   "outputs": [],
   "source": [
    "# positive: survives\n",
    "# negative: dies\n",
    "# TP: predict survival, and the passenger actually survived\n",
    "# TN: predict death, and passenger actually died\n",
    "# FN: predict death, but passenger actually survived\n",
    "# FP: predict survival, but passenger actually died"
   ]
  },
  {
   "cell_type": "code",
   "execution_count": 3,
   "metadata": {},
   "outputs": [
    {
     "data": {
      "text/plain": [
       "((498, 11), (214, 11), (179, 11))"
      ]
     },
     "execution_count": 3,
     "metadata": {},
     "output_type": "execute_result"
    }
   ],
   "source": [
    "# lets bring in the data set\n",
    "# titanic_df = acquire.new_titanic_data()\n",
    "# now let's prep it\n",
    "train, validate, test = prepare.prep_titanic_data(acquire.new_titanic_data(), column = 'age', method = 'median', dummies = ['embarked', 'sex'])\n",
    "# split it\n",
    "# train, validate, test = prepare.titanic_split(titanic_df)\n",
    "# what do they look like?\n",
    "train.shape, validate.shape, test.shape"
   ]
  },
  {
   "cell_type": "code",
   "execution_count": 4,
   "metadata": {},
   "outputs": [
    {
     "name": "stdout",
     "output_type": "stream",
     "text": [
      "<class 'pandas.core.frame.DataFrame'>\n",
      "Int64Index: 498 entries, 583 to 744\n",
      "Data columns (total 11 columns):\n",
      " #   Column        Non-Null Count  Dtype  \n",
      "---  ------        --------------  -----  \n",
      " 0   passenger_id  498 non-null    int64  \n",
      " 1   survived      498 non-null    int64  \n",
      " 2   pclass        498 non-null    int64  \n",
      " 3   age           498 non-null    float64\n",
      " 4   sibsp         498 non-null    int64  \n",
      " 5   parch         498 non-null    int64  \n",
      " 6   fare          498 non-null    float64\n",
      " 7   alone         498 non-null    int64  \n",
      " 8   embarked_Q    498 non-null    uint8  \n",
      " 9   embarked_S    498 non-null    uint8  \n",
      " 10  sex_male      498 non-null    uint8  \n",
      "dtypes: float64(2), int64(6), uint8(3)\n",
      "memory usage: 36.5 KB\n"
     ]
    }
   ],
   "source": [
    "train.info()"
   ]
  },
  {
   "cell_type": "code",
   "execution_count": 37,
   "metadata": {},
   "outputs": [
    {
     "data": {
      "text/plain": [
       "0    385\n",
       "1     65\n",
       "2     40\n",
       "3      4\n",
       "5      3\n",
       "4      1\n",
       "Name: parch, dtype: int64"
      ]
     },
     "execution_count": 37,
     "metadata": {},
     "output_type": "execute_result"
    }
   ],
   "source": [
    "train.parch.value_counts()"
   ]
  },
  {
   "cell_type": "code",
   "execution_count": 35,
   "metadata": {},
   "outputs": [
    {
     "name": "stdout",
     "output_type": "stream",
     "text": [
      "chi^2 = 55.2252\n",
      "p     = 0.0000\n"
     ]
    }
   ],
   "source": [
    "# i want to see relationships between each column and 'survived'\n",
    "# 'pclass' - chi2\n",
    "\n",
    "observed1 = pd.crosstab(train.survived, train.pclass)\n",
    "chi2, p, degf, expected = stats.chi2_contingency(observed1)\n",
    "print(f'chi^2 = {chi2:.4f}')\n",
    "print(f'p     = {p:.4f}')"
   ]
  },
  {
   "cell_type": "code",
   "execution_count": 36,
   "metadata": {},
   "outputs": [
    {
     "name": "stdout",
     "output_type": "stream",
     "text": [
      "chi^2 = 24.8926\n",
      "p     = 0.0004\n"
     ]
    }
   ],
   "source": [
    "# i want to see relationships between each column and 'survived'\n",
    "# 'sibsp' - chi2\n",
    "\n",
    "observed2 = pd.crosstab(train.survived, train.sibsp)\n",
    "chi2, p, degf, expected = stats.chi2_contingency(observed2)\n",
    "print(f'chi^2 = {chi2:.4f}')\n",
    "print(f'p     = {p:.4f}')"
   ]
  },
  {
   "cell_type": "code",
   "execution_count": 44,
   "metadata": {},
   "outputs": [
    {
     "name": "stdout",
     "output_type": "stream",
     "text": [
      "chi^2 = 24.8926\n",
      "p     = 0.0004\n"
     ]
    }
   ],
   "source": [
    "# i want to see relationships between each column and 'survived'\n",
    "# 'sibsp' - chi2\n",
    "\n",
    "observed2 = pd.crosstab(train.survived, train.sibsp)\n",
    "chi2, p, degf, expected = stats.chi2_contingency(observed2)\n",
    "print(f'chi^2 = {chi2:.4f}')\n",
    "print(f'p     = {p:.4f}')"
   ]
  },
  {
   "cell_type": "code",
   "execution_count": 38,
   "metadata": {},
   "outputs": [
    {
     "name": "stdout",
     "output_type": "stream",
     "text": [
      "chi^2 = 15.4412\n",
      "p     = 0.0086\n"
     ]
    }
   ],
   "source": [
    "# i want to see relationships between each column and 'survived'\n",
    "# 'parch' - chi2\n",
    "\n",
    "observed3 = pd.crosstab(train.survived, train.parch)\n",
    "chi2, p, degf, expected = stats.chi2_contingency(observed3)\n",
    "print(f'chi^2 = {chi2:.4f}')\n",
    "print(f'p     = {p:.4f}')"
   ]
  },
  {
   "cell_type": "code",
   "execution_count": 39,
   "metadata": {},
   "outputs": [
    {
     "name": "stdout",
     "output_type": "stream",
     "text": [
      "chi^2 = 18.1920\n",
      "p     = 0.0000\n"
     ]
    }
   ],
   "source": [
    "# i want to see relationships between each column and 'survived'\n",
    "# 'alone' - chi2\n",
    "\n",
    "observed4 = pd.crosstab(train.survived, train.alone)\n",
    "chi2, p, degf, expected = stats.chi2_contingency(observed4)\n",
    "print(f'chi^2 = {chi2:.4f}')\n",
    "print(f'p     = {p:.4f}')"
   ]
  },
  {
   "cell_type": "code",
   "execution_count": 40,
   "metadata": {},
   "outputs": [
    {
     "name": "stdout",
     "output_type": "stream",
     "text": [
      "chi^2 = 0.3542\n",
      "p     = 0.5517\n"
     ]
    }
   ],
   "source": [
    "# i want to see relationships between each column and 'survived'\n",
    "# 'embarked_Q' - chi2\n",
    "\n",
    "observed5 = pd.crosstab(train.survived, train.embarked_Q)\n",
    "chi2, p, degf, expected = stats.chi2_contingency(observed5)\n",
    "print(f'chi^2 = {chi2:.4f}')\n",
    "print(f'p     = {p:.4f}')"
   ]
  },
  {
   "cell_type": "code",
   "execution_count": 41,
   "metadata": {},
   "outputs": [
    {
     "name": "stdout",
     "output_type": "stream",
     "text": [
      "chi^2 = 12.3251\n",
      "p     = 0.0004\n"
     ]
    }
   ],
   "source": [
    "# i want to see relationships between each column and 'survived'\n",
    "# 'embarked_S' - chi2\n",
    "\n",
    "observed6 = pd.crosstab(train.survived, train.embarked_S)\n",
    "chi2, p, degf, expected = stats.chi2_contingency(observed6)\n",
    "print(f'chi^2 = {chi2:.4f}')\n",
    "print(f'p     = {p:.4f}')"
   ]
  },
  {
   "cell_type": "code",
   "execution_count": 42,
   "metadata": {},
   "outputs": [
    {
     "name": "stdout",
     "output_type": "stream",
     "text": [
      "chi^2 = 159.2890\n",
      "p     = 0.0000\n"
     ]
    }
   ],
   "source": [
    "# i want to see relationships between each column and 'survived'\n",
    "# 'sex_male' - chi2\n",
    "\n",
    "observed7 = pd.crosstab(train.survived, train.sex_male)\n",
    "chi2, p, degf, expected = stats.chi2_contingency(observed7)\n",
    "print(f'chi^2 = {chi2:.4f}')\n",
    "print(f'p     = {p:.4f}')"
   ]
  },
  {
   "cell_type": "code",
   "execution_count": 46,
   "metadata": {},
   "outputs": [
    {
     "data": {
      "text/plain": [
       "0.38353413654618473"
      ]
     },
     "execution_count": 46,
     "metadata": {},
     "output_type": "execute_result"
    }
   ],
   "source": [
    "# now the continuous...\n",
    "# 'age'\n",
    "# 'fare'\n",
    "\n",
    "# create survival_rate\n",
    "survival_rate = train['survived'].mean()\n",
    "survival_rate"
   ]
  },
  {
   "cell_type": "code",
   "execution_count": 47,
   "metadata": {},
   "outputs": [
    {
     "data": {
      "text/plain": [
       "583    36.0\n",
       "165     9.0\n",
       "50      7.0\n",
       "259    50.0\n",
       "306    28.0\n",
       "Name: age, dtype: float64"
      ]
     },
     "execution_count": 47,
     "metadata": {},
     "output_type": "execute_result"
    }
   ],
   "source": [
    "# create age variable for ttest\n",
    "age = train['age']"
   ]
  },
  {
   "cell_type": "code",
   "execution_count": 49,
   "metadata": {},
   "outputs": [
    {
     "data": {
      "text/plain": [
       "(49.391473076033655, 3.8085496775045816e-194, 0.01)"
      ]
     },
     "execution_count": 49,
     "metadata": {},
     "output_type": "execute_result"
    }
   ],
   "source": [
    "# ttest for age\n",
    "alpha = 0.01\n",
    "t, p = stats.ttest_1samp(age, survival_rate)\n",
    "t, p/2, alpha"
   ]
  },
  {
   "cell_type": "code",
   "execution_count": 50,
   "metadata": {},
   "outputs": [],
   "source": [
    "# create fare variable for ttest\n",
    "fare = train['fare']"
   ]
  },
  {
   "cell_type": "code",
   "execution_count": 51,
   "metadata": {},
   "outputs": [
    {
     "data": {
      "text/plain": [
       "(14.548430746098049, 1.6753909571183626e-40, 0.01)"
      ]
     },
     "execution_count": 51,
     "metadata": {},
     "output_type": "execute_result"
    }
   ],
   "source": [
    "# ttest for fare\n",
    "alpha = 0.01\n",
    "t, p = stats.ttest_1samp(fare, survival_rate)\n",
    "t, p/2, alpha"
   ]
  },
  {
   "cell_type": "code",
   "execution_count": 52,
   "metadata": {},
   "outputs": [],
   "source": [
    "# so which columns do I want to keep for my model?????\n",
    "# 'sex_male', 'pclass', 'age', 'sibsp'\n",
    "# and maybe 'alone'"
   ]
  },
  {
   "cell_type": "code",
   "execution_count": null,
   "metadata": {},
   "outputs": [],
   "source": []
  },
  {
   "cell_type": "code",
   "execution_count": 5,
   "metadata": {},
   "outputs": [],
   "source": [
    "# getting ready to test our models...\n",
    "X_train, y_train = train.drop(columns='survived'), train.survived\n",
    "X_validate, y_validate = validate.drop(columns='survived'), validate.survived\n",
    "X_test, y_test = test.drop(columns='survived'), test.survived"
   ]
  },
  {
   "cell_type": "code",
   "execution_count": 6,
   "metadata": {},
   "outputs": [],
   "source": [
    "# X_train is the DF w/o the 'survived' column\n",
    "# y_train is the 'survived' column as a Series"
   ]
  },
  {
   "cell_type": "markdown",
   "metadata": {},
   "source": [
    "1. What is your baseline prediction? What is your baseline accuracy? remember: your baseline prediction for a classification problem is predicting the most prevelant class in the training dataset (the mode). When you make those predictions, what is your accuracy? This is your baseline accuracy."
   ]
  },
  {
   "cell_type": "code",
   "execution_count": 7,
   "metadata": {},
   "outputs": [
    {
     "data": {
      "text/plain": [
       "0    307\n",
       "1    191\n",
       "Name: survived, dtype: int64"
      ]
     },
     "execution_count": 7,
     "metadata": {},
     "output_type": "execute_result"
    }
   ],
   "source": [
    "# what is the mode of 'survived'?\n",
    "y_train.value_counts()\n",
    "# death wins"
   ]
  },
  {
   "cell_type": "code",
   "execution_count": 8,
   "metadata": {},
   "outputs": [
    {
     "name": "stdout",
     "output_type": "stream",
     "text": [
      "Baseline accuracy: 0.6165\n"
     ]
    }
   ],
   "source": [
    "# 1. Create the object\n",
    "baseline = DummyClassifier(strategy='constant', constant=0)\n",
    "# 2. Fit the object\n",
    "baseline.fit(X_train, y_train)\n",
    "# how does it do on training data set?\n",
    "print('Baseline accuracy: %.4f' % baseline.score(X_train, y_train))"
   ]
  },
  {
   "cell_type": "markdown",
   "metadata": {},
   "source": [
    "2. Fit the decision tree classifier to your training sample and transform (i.e. make predictions on the training sample)"
   ]
  },
  {
   "cell_type": "code",
   "execution_count": 12,
   "metadata": {},
   "outputs": [
    {
     "data": {
      "text/plain": [
       "DecisionTreeClassifier()"
      ]
     },
     "execution_count": 12,
     "metadata": {},
     "output_type": "execute_result"
    }
   ],
   "source": [
    "# let's look w/ default hyperparameters\n",
    "tree = DecisionTreeClassifier()\n",
    "tree.fit(X_train, y_train)"
   ]
  },
  {
   "cell_type": "code",
   "execution_count": 16,
   "metadata": {},
   "outputs": [
    {
     "name": "stdout",
     "output_type": "stream",
     "text": [
      "training score: 99.40%\n",
      "validate score: 78.97%\n"
     ]
    }
   ],
   "source": [
    "# how does the DT perform w/ default hyperparameters?\n",
    "print(f'training score: {tree1.score(X_train, y_train):.2%}')\n",
    "print(f'validate score: {tree1.score(X_validate, y_validate):.2%}')"
   ]
  },
  {
   "cell_type": "code",
   "execution_count": 11,
   "metadata": {},
   "outputs": [
    {
     "name": "stdout",
     "output_type": "stream",
     "text": [
      "|--- sex_male <= 0.50\n",
      "|   |--- pclass <= 2.50\n",
      "|   |   |--- age <= 3.00\n",
      "|   |   |   |--- weights: [1.00, 0.00] class: 0\n",
      "|   |   |--- age >  3.00\n",
      "|   |   |   |--- passenger_id <= 205.00\n",
      "|   |   |   |   |--- passenger_id <= 197.00\n",
      "|   |   |   |   |   |--- age <= 24.50\n",
      "|   |   |   |   |   |   |--- weights: [0.00, 6.00] class: 1\n",
      "|   |   |   |   |   |--- age >  24.50\n",
      "|   |   |   |   |   |   |--- age <= 27.50\n",
      "|   |   |   |   |   |   |   |--- weights: [1.00, 0.00] class: 0\n",
      "|   |   |   |   |   |   |--- age >  27.50\n",
      "|   |   |   |   |   |   |   |--- age <= 47.00\n",
      "|   |   |   |   |   |   |   |   |--- weights: [0.00, 5.00] class: 1\n",
      "|   |   |   |   |   |   |   |--- age >  47.00\n",
      "|   |   |   |   |   |   |   |   |--- age <= 52.50\n",
      "|   |   |   |   |   |   |   |   |   |--- weights: [1.00, 0.00] class: 0\n",
      "|   |   |   |   |   |   |   |   |--- age >  52.50\n",
      "|   |   |   |   |   |   |   |   |   |--- weights: [0.00, 2.00] class: 1\n",
      "|   |   |   |   |--- passenger_id >  197.00\n",
      "|   |   |   |   |   |--- weights: [1.00, 0.00] class: 0\n",
      "|   |   |   |--- passenger_id >  205.00\n",
      "|   |   |   |   |--- weights: [0.00, 77.00] class: 1\n",
      "|   |--- pclass >  2.50\n",
      "|   |   |--- fare <= 23.91\n",
      "|   |   |   |--- age <= 35.00\n",
      "|   |   |   |   |--- passenger_id <= 485.00\n",
      "|   |   |   |   |   |--- embarked_Q <= 0.50\n",
      "|   |   |   |   |   |   |--- age <= 24.50\n",
      "|   |   |   |   |   |   |   |--- passenger_id <= 38.50\n",
      "|   |   |   |   |   |   |   |   |--- weights: [1.00, 0.00] class: 0\n",
      "|   |   |   |   |   |   |   |--- passenger_id >  38.50\n",
      "|   |   |   |   |   |   |   |   |--- sibsp <= 2.50\n",
      "|   |   |   |   |   |   |   |   |   |--- weights: [0.00, 10.00] class: 1\n",
      "|   |   |   |   |   |   |   |   |--- sibsp >  2.50\n",
      "|   |   |   |   |   |   |   |   |   |--- weights: [1.00, 0.00] class: 0\n",
      "|   |   |   |   |   |   |--- age >  24.50\n",
      "|   |   |   |   |   |   |   |--- fare <= 15.55\n",
      "|   |   |   |   |   |   |   |   |--- age <= 27.50\n",
      "|   |   |   |   |   |   |   |   |   |--- fare <= 7.81\n",
      "|   |   |   |   |   |   |   |   |   |   |--- weights: [1.00, 0.00] class: 0\n",
      "|   |   |   |   |   |   |   |   |   |--- fare >  7.81\n",
      "|   |   |   |   |   |   |   |   |   |   |--- weights: [0.00, 2.00] class: 1\n",
      "|   |   |   |   |   |   |   |   |--- age >  27.50\n",
      "|   |   |   |   |   |   |   |   |   |--- fare <= 7.39\n",
      "|   |   |   |   |   |   |   |   |   |   |--- weights: [0.00, 1.00] class: 1\n",
      "|   |   |   |   |   |   |   |   |   |--- fare >  7.39\n",
      "|   |   |   |   |   |   |   |   |   |   |--- weights: [5.00, 0.00] class: 0\n",
      "|   |   |   |   |   |   |   |--- fare >  15.55\n",
      "|   |   |   |   |   |   |   |   |--- weights: [0.00, 4.00] class: 1\n",
      "|   |   |   |   |   |--- embarked_Q >  0.50\n",
      "|   |   |   |   |   |   |--- weights: [0.00, 12.00] class: 1\n",
      "|   |   |   |   |--- passenger_id >  485.00\n",
      "|   |   |   |   |   |--- passenger_id <= 570.00\n",
      "|   |   |   |   |   |   |--- weights: [5.00, 0.00] class: 0\n",
      "|   |   |   |   |   |--- passenger_id >  570.00\n",
      "|   |   |   |   |   |   |--- fare <= 7.76\n",
      "|   |   |   |   |   |   |   |--- fare <= 6.99\n",
      "|   |   |   |   |   |   |   |   |--- weights: [1.00, 0.00] class: 0\n",
      "|   |   |   |   |   |   |   |--- fare >  6.99\n",
      "|   |   |   |   |   |   |   |   |--- weights: [0.00, 6.00] class: 1\n",
      "|   |   |   |   |   |   |--- fare >  7.76\n",
      "|   |   |   |   |   |   |   |--- fare <= 8.41\n",
      "|   |   |   |   |   |   |   |   |--- weights: [4.00, 0.00] class: 0\n",
      "|   |   |   |   |   |   |   |--- fare >  8.41\n",
      "|   |   |   |   |   |   |   |   |--- fare <= 13.46\n",
      "|   |   |   |   |   |   |   |   |   |--- weights: [0.00, 4.00] class: 1\n",
      "|   |   |   |   |   |   |   |   |--- fare >  13.46\n",
      "|   |   |   |   |   |   |   |   |   |--- fare <= 15.37\n",
      "|   |   |   |   |   |   |   |   |   |   |--- weights: [3.00, 0.00] class: 0\n",
      "|   |   |   |   |   |   |   |   |   |--- fare >  15.37\n",
      "|   |   |   |   |   |   |   |   |   |   |--- embarked_S <= 0.50\n",
      "|   |   |   |   |   |   |   |   |   |   |   |--- weights: [0.00, 2.00] class: 1\n",
      "|   |   |   |   |   |   |   |   |   |   |--- embarked_S >  0.50\n",
      "|   |   |   |   |   |   |   |   |   |   |   |--- weights: [1.00, 0.00] class: 0\n",
      "|   |   |   |--- age >  35.00\n",
      "|   |   |   |   |--- age <= 55.00\n",
      "|   |   |   |   |   |--- weights: [5.00, 0.00] class: 0\n",
      "|   |   |   |   |--- age >  55.00\n",
      "|   |   |   |   |   |--- weights: [0.00, 1.00] class: 1\n",
      "|   |   |--- fare >  23.91\n",
      "|   |   |   |--- passenger_id <= 48.00\n",
      "|   |   |   |   |--- weights: [0.00, 1.00] class: 1\n",
      "|   |   |   |--- passenger_id >  48.00\n",
      "|   |   |   |   |--- weights: [11.00, 0.00] class: 0\n",
      "|--- sex_male >  0.50\n",
      "|   |--- fare <= 18.27\n",
      "|   |   |--- age <= 7.84\n",
      "|   |   |   |--- weights: [0.00, 2.00] class: 1\n",
      "|   |   |--- age >  7.84\n",
      "|   |   |   |--- passenger_id <= 36.50\n",
      "|   |   |   |   |--- fare <= 11.75\n",
      "|   |   |   |   |   |--- fare <= 7.24\n",
      "|   |   |   |   |   |   |--- weights: [0.00, 1.00] class: 1\n",
      "|   |   |   |   |   |--- fare >  7.24\n",
      "|   |   |   |   |   |   |--- weights: [2.00, 0.00] class: 0\n",
      "|   |   |   |   |--- fare >  11.75\n",
      "|   |   |   |   |   |--- weights: [0.00, 2.00] class: 1\n",
      "|   |   |   |--- passenger_id >  36.50\n",
      "|   |   |   |   |--- passenger_id <= 224.50\n",
      "|   |   |   |   |   |--- weights: [43.00, 0.00] class: 0\n",
      "|   |   |   |   |--- passenger_id >  224.50\n",
      "|   |   |   |   |   |--- passenger_id <= 226.50\n",
      "|   |   |   |   |   |   |--- weights: [0.00, 1.00] class: 1\n",
      "|   |   |   |   |   |--- passenger_id >  226.50\n",
      "|   |   |   |   |   |   |--- passenger_id <= 340.00\n",
      "|   |   |   |   |   |   |   |--- age <= 37.50\n",
      "|   |   |   |   |   |   |   |   |--- sibsp <= 0.50\n",
      "|   |   |   |   |   |   |   |   |   |--- fare <= 3.56\n",
      "|   |   |   |   |   |   |   |   |   |   |--- passenger_id <= 274.00\n",
      "|   |   |   |   |   |   |   |   |   |   |   |--- weights: [0.00, 1.00] class: 1\n",
      "|   |   |   |   |   |   |   |   |   |   |--- passenger_id >  274.00\n",
      "|   |   |   |   |   |   |   |   |   |   |   |--- weights: [1.00, 0.00] class: 0\n",
      "|   |   |   |   |   |   |   |   |   |--- fare >  3.56\n",
      "|   |   |   |   |   |   |   |   |   |   |--- age <= 29.00\n",
      "|   |   |   |   |   |   |   |   |   |   |   |--- weights: [13.00, 0.00] class: 0\n",
      "|   |   |   |   |   |   |   |   |   |   |--- age >  29.00\n",
      "|   |   |   |   |   |   |   |   |   |   |   |--- truncated branch of depth 2\n",
      "|   |   |   |   |   |   |   |   |--- sibsp >  0.50\n",
      "|   |   |   |   |   |   |   |   |   |--- weights: [0.00, 1.00] class: 1\n",
      "|   |   |   |   |   |   |   |--- age >  37.50\n",
      "|   |   |   |   |   |   |   |   |--- passenger_id <= 260.00\n",
      "|   |   |   |   |   |   |   |   |   |--- weights: [1.00, 0.00] class: 0\n",
      "|   |   |   |   |   |   |   |   |--- passenger_id >  260.00\n",
      "|   |   |   |   |   |   |   |   |   |--- weights: [0.00, 2.00] class: 1\n",
      "|   |   |   |   |   |   |--- passenger_id >  340.00\n",
      "|   |   |   |   |   |   |   |--- age <= 33.00\n",
      "|   |   |   |   |   |   |   |   |--- age <= 28.75\n",
      "|   |   |   |   |   |   |   |   |   |--- fare <= 8.69\n",
      "|   |   |   |   |   |   |   |   |   |   |--- fare <= 8.08\n",
      "|   |   |   |   |   |   |   |   |   |   |   |--- truncated branch of depth 5\n",
      "|   |   |   |   |   |   |   |   |   |   |--- fare >  8.08\n",
      "|   |   |   |   |   |   |   |   |   |   |   |--- truncated branch of depth 2\n",
      "|   |   |   |   |   |   |   |   |   |--- fare >  8.69\n",
      "|   |   |   |   |   |   |   |   |   |   |--- weights: [29.00, 0.00] class: 0\n",
      "|   |   |   |   |   |   |   |   |--- age >  28.75\n",
      "|   |   |   |   |   |   |   |   |   |--- passenger_id <= 746.50\n",
      "|   |   |   |   |   |   |   |   |   |   |--- passenger_id <= 499.00\n",
      "|   |   |   |   |   |   |   |   |   |   |   |--- weights: [2.00, 0.00] class: 0\n",
      "|   |   |   |   |   |   |   |   |   |   |--- passenger_id >  499.00\n",
      "|   |   |   |   |   |   |   |   |   |   |   |--- truncated branch of depth 3\n",
      "|   |   |   |   |   |   |   |   |   |--- passenger_id >  746.50\n",
      "|   |   |   |   |   |   |   |   |   |   |--- weights: [5.00, 0.00] class: 0\n",
      "|   |   |   |   |   |   |   |--- age >  33.00\n",
      "|   |   |   |   |   |   |   |   |--- weights: [28.00, 0.00] class: 0\n",
      "|   |--- fare >  18.27\n",
      "|   |   |--- passenger_id <= 164.50\n",
      "|   |   |   |--- sibsp <= 0.50\n",
      "|   |   |   |   |--- passenger_id <= 59.50\n",
      "|   |   |   |   |   |--- age <= 31.50\n",
      "|   |   |   |   |   |   |--- weights: [0.00, 2.00] class: 1\n",
      "|   |   |   |   |   |--- age >  31.50\n",
      "|   |   |   |   |   |   |--- weights: [1.00, 0.00] class: 0\n",
      "|   |   |   |   |--- passenger_id >  59.50\n",
      "|   |   |   |   |   |--- age <= 23.50\n",
      "|   |   |   |   |   |   |--- fare <= 68.43\n",
      "|   |   |   |   |   |   |   |--- weights: [0.00, 1.00] class: 1\n",
      "|   |   |   |   |   |   |--- fare >  68.43\n",
      "|   |   |   |   |   |   |   |--- weights: [2.00, 0.00] class: 0\n",
      "|   |   |   |   |   |--- age >  23.50\n",
      "|   |   |   |   |   |   |--- weights: [7.00, 0.00] class: 0\n",
      "|   |   |   |--- sibsp >  0.50\n",
      "|   |   |   |   |--- weights: [15.00, 0.00] class: 0\n",
      "|   |   |--- passenger_id >  164.50\n",
      "|   |   |   |--- age <= 5.50\n",
      "|   |   |   |   |--- fare <= 39.34\n",
      "|   |   |   |   |   |--- weights: [0.00, 6.00] class: 1\n",
      "|   |   |   |   |--- fare >  39.34\n",
      "|   |   |   |   |   |--- weights: [1.00, 0.00] class: 0\n",
      "|   |   |   |--- age >  5.50\n",
      "|   |   |   |   |--- age <= 53.00\n",
      "|   |   |   |   |   |--- pclass <= 1.50\n",
      "|   |   |   |   |   |   |--- passenger_id <= 403.50\n",
      "|   |   |   |   |   |   |   |--- fare <= 61.02\n",
      "|   |   |   |   |   |   |   |   |--- fare <= 51.28\n",
      "|   |   |   |   |   |   |   |   |   |--- age <= 34.00\n",
      "|   |   |   |   |   |   |   |   |   |   |--- weights: [4.00, 0.00] class: 0\n",
      "|   |   |   |   |   |   |   |   |   |--- age >  34.00\n",
      "|   |   |   |   |   |   |   |   |   |   |--- embarked_S <= 0.50\n",
      "|   |   |   |   |   |   |   |   |   |   |   |--- weights: [0.00, 1.00] class: 1\n",
      "|   |   |   |   |   |   |   |   |   |   |--- embarked_S >  0.50\n",
      "|   |   |   |   |   |   |   |   |   |   |   |--- weights: [1.00, 0.00] class: 0\n",
      "|   |   |   |   |   |   |   |   |--- fare >  51.28\n",
      "|   |   |   |   |   |   |   |   |   |--- weights: [0.00, 2.00] class: 1\n",
      "|   |   |   |   |   |   |   |--- fare >  61.02\n",
      "|   |   |   |   |   |   |   |   |--- weights: [5.00, 0.00] class: 0\n",
      "|   |   |   |   |   |   |--- passenger_id >  403.50\n",
      "|   |   |   |   |   |   |   |--- fare <= 30.60\n",
      "|   |   |   |   |   |   |   |   |--- passenger_id <= 554.00\n",
      "|   |   |   |   |   |   |   |   |   |--- passenger_id <= 450.50\n",
      "|   |   |   |   |   |   |   |   |   |   |--- weights: [0.00, 3.00] class: 1\n",
      "|   |   |   |   |   |   |   |   |   |--- passenger_id >  450.50\n",
      "|   |   |   |   |   |   |   |   |   |   |--- age <= 29.00\n",
      "|   |   |   |   |   |   |   |   |   |   |   |--- weights: [0.00, 1.00] class: 1\n",
      "|   |   |   |   |   |   |   |   |   |   |--- age >  29.00\n",
      "|   |   |   |   |   |   |   |   |   |   |   |--- weights: [2.00, 0.00] class: 0\n",
      "|   |   |   |   |   |   |   |   |--- passenger_id >  554.00\n",
      "|   |   |   |   |   |   |   |   |   |--- weights: [0.00, 6.00] class: 1\n",
      "|   |   |   |   |   |   |   |--- fare >  30.60\n",
      "|   |   |   |   |   |   |   |   |--- fare <= 51.25\n",
      "|   |   |   |   |   |   |   |   |   |--- weights: [5.00, 0.00] class: 0\n",
      "|   |   |   |   |   |   |   |   |--- fare >  51.25\n",
      "|   |   |   |   |   |   |   |   |   |--- fare <= 77.79\n",
      "|   |   |   |   |   |   |   |   |   |   |--- weights: [0.00, 4.00] class: 1\n",
      "|   |   |   |   |   |   |   |   |   |--- fare >  77.79\n",
      "|   |   |   |   |   |   |   |   |   |   |--- passenger_id <= 494.50\n",
      "|   |   |   |   |   |   |   |   |   |   |   |--- weights: [0.00, 2.00] class: 1\n",
      "|   |   |   |   |   |   |   |   |   |   |--- passenger_id >  494.50\n",
      "|   |   |   |   |   |   |   |   |   |   |   |--- truncated branch of depth 3\n",
      "|   |   |   |   |   |--- pclass >  1.50\n",
      "|   |   |   |   |   |   |--- sibsp <= 0.50\n",
      "|   |   |   |   |   |   |   |--- pclass <= 2.50\n",
      "|   |   |   |   |   |   |   |   |--- weights: [4.00, 0.00] class: 0\n",
      "|   |   |   |   |   |   |   |--- pclass >  2.50\n",
      "|   |   |   |   |   |   |   |   |--- embarked_Q <= 0.50\n",
      "|   |   |   |   |   |   |   |   |   |--- weights: [0.00, 4.00] class: 1\n",
      "|   |   |   |   |   |   |   |   |--- embarked_Q >  0.50\n",
      "|   |   |   |   |   |   |   |   |   |--- weights: [1.00, 0.00] class: 0\n",
      "|   |   |   |   |   |   |--- sibsp >  0.50\n",
      "|   |   |   |   |   |   |   |--- embarked_Q <= 0.50\n",
      "|   |   |   |   |   |   |   |   |--- passenger_id <= 545.50\n",
      "|   |   |   |   |   |   |   |   |   |--- passenger_id <= 511.50\n",
      "|   |   |   |   |   |   |   |   |   |   |--- weights: [6.00, 0.00] class: 0\n",
      "|   |   |   |   |   |   |   |   |   |--- passenger_id >  511.50\n",
      "|   |   |   |   |   |   |   |   |   |   |--- weights: [0.00, 1.00] class: 1\n",
      "|   |   |   |   |   |   |   |   |--- passenger_id >  545.50\n",
      "|   |   |   |   |   |   |   |   |   |--- weights: [10.00, 0.00] class: 0\n",
      "|   |   |   |   |   |   |   |--- embarked_Q >  0.50\n",
      "|   |   |   |   |   |   |   |   |--- parch <= 0.50\n",
      "|   |   |   |   |   |   |   |   |   |--- weights: [0.00, 1.00] class: 1\n",
      "|   |   |   |   |   |   |   |   |--- parch >  0.50\n",
      "|   |   |   |   |   |   |   |   |   |--- weights: [1.00, 0.00] class: 0\n",
      "|   |   |   |   |--- age >  53.00\n",
      "|   |   |   |   |   |--- age <= 75.50\n",
      "|   |   |   |   |   |   |--- weights: [12.00, 0.00] class: 0\n",
      "|   |   |   |   |   |--- age >  75.50\n",
      "|   |   |   |   |   |   |--- weights: [0.00, 1.00] class: 1\n",
      "\n"
     ]
    }
   ],
   "source": [
    "# what does the tree look like?\n",
    "print(export_text(tree, feature_names=X_train.columns.tolist(), show_weights=True))"
   ]
  },
  {
   "cell_type": "code",
   "execution_count": 19,
   "metadata": {},
   "outputs": [
    {
     "data": {
      "text/plain": [
       "[Text(239.51971153846156, 473.95125, 'X[9] <= 0.5\\ngini = 0.473\\nsamples = 498\\nvalue = [307, 191]'),\n",
       " Text(102.05408653846155, 443.37375000000003, 'X[1] <= 2.5\\ngini = 0.365\\nsamples = 175\\nvalue = [42, 133]'),\n",
       " Text(23.60769230769231, 412.79625, 'X[2] <= 3.0\\ngini = 0.081\\nsamples = 94\\nvalue = [4, 90]'),\n",
       " Text(15.73846153846154, 382.21875, 'gini = 0.0\\nsamples = 1\\nvalue = [1, 0]'),\n",
       " Text(31.47692307692308, 382.21875, 'X[0] <= 205.0\\ngini = 0.062\\nsamples = 93\\nvalue = [3, 90]'),\n",
       " Text(23.60769230769231, 351.64125, 'X[0] <= 197.0\\ngini = 0.305\\nsamples = 16\\nvalue = [3, 13]'),\n",
       " Text(15.73846153846154, 321.06375, 'X[2] <= 24.5\\ngini = 0.231\\nsamples = 15\\nvalue = [2, 13]'),\n",
       " Text(7.86923076923077, 290.48625000000004, 'gini = 0.0\\nsamples = 6\\nvalue = [0, 6]'),\n",
       " Text(23.60769230769231, 290.48625000000004, 'X[2] <= 27.5\\ngini = 0.346\\nsamples = 9\\nvalue = [2, 7]'),\n",
       " Text(15.73846153846154, 259.90875, 'gini = 0.0\\nsamples = 1\\nvalue = [1, 0]'),\n",
       " Text(31.47692307692308, 259.90875, 'X[0] <= 171.5\\ngini = 0.219\\nsamples = 8\\nvalue = [1, 7]'),\n",
       " Text(23.60769230769231, 229.33125, 'gini = 0.0\\nsamples = 5\\nvalue = [0, 5]'),\n",
       " Text(39.34615384615385, 229.33125, 'X[0] <= 185.5\\ngini = 0.444\\nsamples = 3\\nvalue = [1, 2]'),\n",
       " Text(31.47692307692308, 198.75375000000003, 'gini = 0.0\\nsamples = 1\\nvalue = [1, 0]'),\n",
       " Text(47.21538461538462, 198.75375000000003, 'gini = 0.0\\nsamples = 2\\nvalue = [0, 2]'),\n",
       " Text(31.47692307692308, 321.06375, 'gini = 0.0\\nsamples = 1\\nvalue = [1, 0]'),\n",
       " Text(39.34615384615385, 351.64125, 'gini = 0.0\\nsamples = 77\\nvalue = [0, 77]'),\n",
       " Text(180.5004807692308, 412.79625, 'X[5] <= 23.912\\ngini = 0.498\\nsamples = 81\\nvalue = [38, 43]'),\n",
       " Text(156.40096153846156, 382.21875, 'X[2] <= 35.0\\ngini = 0.476\\nsamples = 69\\nvalue = [27, 42]'),\n",
       " Text(131.8096153846154, 351.64125, 'X[0] <= 485.0\\ngini = 0.455\\nsamples = 63\\nvalue = [22, 41]'),\n",
       " Text(106.2346153846154, 321.06375, 'X[7] <= 0.5\\ngini = 0.339\\nsamples = 37\\nvalue = [8, 29]'),\n",
       " Text(98.36538461538463, 290.48625000000004, 'X[2] <= 24.5\\ngini = 0.435\\nsamples = 25\\nvalue = [8, 17]'),\n",
       " Text(78.6923076923077, 259.90875, 'X[3] <= 2.5\\ngini = 0.278\\nsamples = 12\\nvalue = [2, 10]'),\n",
       " Text(70.82307692307693, 229.33125, 'X[0] <= 38.5\\ngini = 0.165\\nsamples = 11\\nvalue = [1, 10]'),\n",
       " Text(62.95384615384616, 198.75375000000003, 'gini = 0.0\\nsamples = 1\\nvalue = [1, 0]'),\n",
       " Text(78.6923076923077, 198.75375000000003, 'gini = 0.0\\nsamples = 10\\nvalue = [0, 10]'),\n",
       " Text(86.56153846153846, 229.33125, 'gini = 0.0\\nsamples = 1\\nvalue = [1, 0]'),\n",
       " Text(118.03846153846155, 259.90875, 'X[5] <= 15.548\\ngini = 0.497\\nsamples = 13\\nvalue = [6, 7]'),\n",
       " Text(110.16923076923078, 229.33125, 'X[2] <= 27.5\\ngini = 0.444\\nsamples = 9\\nvalue = [6, 3]'),\n",
       " Text(94.43076923076924, 198.75375000000003, 'X[2] <= 25.5\\ngini = 0.444\\nsamples = 3\\nvalue = [1, 2]'),\n",
       " Text(86.56153846153846, 168.17624999999998, 'gini = 0.0\\nsamples = 1\\nvalue = [1, 0]'),\n",
       " Text(102.30000000000001, 168.17624999999998, 'gini = 0.0\\nsamples = 2\\nvalue = [0, 2]'),\n",
       " Text(125.90769230769232, 198.75375000000003, 'X[5] <= 7.39\\ngini = 0.278\\nsamples = 6\\nvalue = [5, 1]'),\n",
       " Text(118.03846153846155, 168.17624999999998, 'gini = 0.0\\nsamples = 1\\nvalue = [0, 1]'),\n",
       " Text(133.77692307692308, 168.17624999999998, 'gini = 0.0\\nsamples = 5\\nvalue = [5, 0]'),\n",
       " Text(125.90769230769232, 229.33125, 'gini = 0.0\\nsamples = 4\\nvalue = [0, 4]'),\n",
       " Text(114.10384615384616, 290.48625000000004, 'gini = 0.0\\nsamples = 12\\nvalue = [0, 12]'),\n",
       " Text(157.3846153846154, 321.06375, 'X[0] <= 570.0\\ngini = 0.497\\nsamples = 26\\nvalue = [14, 12]'),\n",
       " Text(149.51538461538462, 290.48625000000004, 'gini = 0.0\\nsamples = 5\\nvalue = [5, 0]'),\n",
       " Text(165.25384615384615, 290.48625000000004, 'X[5] <= 7.763\\ngini = 0.49\\nsamples = 21\\nvalue = [9, 12]'),\n",
       " Text(149.51538461538462, 259.90875, 'X[5] <= 6.99\\ngini = 0.245\\nsamples = 7\\nvalue = [1, 6]'),\n",
       " Text(141.64615384615385, 229.33125, 'gini = 0.0\\nsamples = 1\\nvalue = [1, 0]'),\n",
       " Text(157.3846153846154, 229.33125, 'gini = 0.0\\nsamples = 6\\nvalue = [0, 6]'),\n",
       " Text(180.9923076923077, 259.90875, 'X[5] <= 8.41\\ngini = 0.49\\nsamples = 14\\nvalue = [8, 6]'),\n",
       " Text(173.12307692307692, 229.33125, 'gini = 0.0\\nsamples = 4\\nvalue = [4, 0]'),\n",
       " Text(188.8615384615385, 229.33125, 'X[5] <= 13.465\\ngini = 0.48\\nsamples = 10\\nvalue = [4, 6]'),\n",
       " Text(180.9923076923077, 198.75375000000003, 'gini = 0.0\\nsamples = 4\\nvalue = [0, 4]'),\n",
       " Text(196.73076923076925, 198.75375000000003, 'X[5] <= 15.373\\ngini = 0.444\\nsamples = 6\\nvalue = [4, 2]'),\n",
       " Text(188.8615384615385, 168.17624999999998, 'gini = 0.0\\nsamples = 3\\nvalue = [3, 0]'),\n",
       " Text(204.60000000000002, 168.17624999999998, 'X[8] <= 0.5\\ngini = 0.444\\nsamples = 3\\nvalue = [1, 2]'),\n",
       " Text(196.73076923076925, 137.59875, 'gini = 0.0\\nsamples = 2\\nvalue = [0, 2]'),\n",
       " Text(212.4692307692308, 137.59875, 'gini = 0.0\\nsamples = 1\\nvalue = [1, 0]'),\n",
       " Text(180.9923076923077, 351.64125, 'X[2] <= 55.0\\ngini = 0.278\\nsamples = 6\\nvalue = [5, 1]'),\n",
       " Text(173.12307692307692, 321.06375, 'gini = 0.0\\nsamples = 5\\nvalue = [5, 0]'),\n",
       " Text(188.8615384615385, 321.06375, 'gini = 0.0\\nsamples = 1\\nvalue = [0, 1]'),\n",
       " Text(204.60000000000002, 382.21875, 'X[0] <= 48.0\\ngini = 0.153\\nsamples = 12\\nvalue = [11, 1]'),\n",
       " Text(196.73076923076925, 351.64125, 'gini = 0.0\\nsamples = 1\\nvalue = [0, 1]'),\n",
       " Text(212.4692307692308, 351.64125, 'gini = 0.0\\nsamples = 11\\nvalue = [11, 0]'),\n",
       " Text(376.9853365384616, 443.37375000000003, 'X[5] <= 18.275\\ngini = 0.295\\nsamples = 323\\nvalue = [265, 58]'),\n",
       " Text(283.2923076923077, 412.79625, 'X[2] <= 7.835\\ngini = 0.184\\nsamples = 205\\nvalue = [184, 21]'),\n",
       " Text(275.42307692307696, 382.21875, 'gini = 0.0\\nsamples = 2\\nvalue = [0, 2]'),\n",
       " Text(291.1615384615385, 382.21875, 'X[0] <= 36.5\\ngini = 0.17\\nsamples = 203\\nvalue = [184, 19]'),\n",
       " Text(275.42307692307696, 351.64125, 'X[5] <= 11.75\\ngini = 0.48\\nsamples = 5\\nvalue = [2, 3]'),\n",
       " Text(267.55384615384617, 321.06375, 'X[5] <= 7.24\\ngini = 0.444\\nsamples = 3\\nvalue = [2, 1]'),\n",
       " Text(259.6846153846154, 290.48625000000004, 'gini = 0.0\\nsamples = 1\\nvalue = [0, 1]'),\n",
       " Text(275.42307692307696, 290.48625000000004, 'gini = 0.0\\nsamples = 2\\nvalue = [2, 0]'),\n",
       " Text(283.2923076923077, 321.06375, 'gini = 0.0\\nsamples = 2\\nvalue = [0, 2]'),\n",
       " Text(306.90000000000003, 351.64125, 'X[0] <= 224.5\\ngini = 0.149\\nsamples = 198\\nvalue = [182, 16]'),\n",
       " Text(299.03076923076924, 321.06375, 'gini = 0.0\\nsamples = 43\\nvalue = [43, 0]'),\n",
       " Text(314.7692307692308, 321.06375, 'X[0] <= 226.5\\ngini = 0.185\\nsamples = 155\\nvalue = [139, 16]'),\n",
       " Text(306.90000000000003, 290.48625000000004, 'gini = 0.0\\nsamples = 1\\nvalue = [0, 1]'),\n",
       " Text(322.63846153846157, 290.48625000000004, 'X[0] <= 340.0\\ngini = 0.176\\nsamples = 154\\nvalue = [139, 15]'),\n",
       " Text(259.6846153846154, 259.90875, 'X[2] <= 37.5\\ngini = 0.351\\nsamples = 22\\nvalue = [17, 5]'),\n",
       " Text(243.94615384615386, 229.33125, 'X[6] <= 0.5\\ngini = 0.266\\nsamples = 19\\nvalue = [16, 3]'),\n",
       " Text(236.0769230769231, 198.75375000000003, 'gini = 0.0\\nsamples = 1\\nvalue = [0, 1]'),\n",
       " Text(251.81538461538463, 198.75375000000003, 'X[5] <= 3.562\\ngini = 0.198\\nsamples = 18\\nvalue = [16, 2]'),\n",
       " Text(236.0769230769231, 168.17624999999998, 'X[1] <= 2.5\\ngini = 0.5\\nsamples = 2\\nvalue = [1, 1]'),\n",
       " Text(228.20769230769233, 137.59875, 'gini = 0.0\\nsamples = 1\\nvalue = [1, 0]'),\n",
       " Text(243.94615384615386, 137.59875, 'gini = 0.0\\nsamples = 1\\nvalue = [0, 1]'),\n",
       " Text(267.55384615384617, 168.17624999999998, 'X[2] <= 29.0\\ngini = 0.117\\nsamples = 16\\nvalue = [15, 1]'),\n",
       " Text(259.6846153846154, 137.59875, 'gini = 0.0\\nsamples = 13\\nvalue = [13, 0]'),\n",
       " Text(275.42307692307696, 137.59875, 'X[2] <= 31.5\\ngini = 0.444\\nsamples = 3\\nvalue = [2, 1]'),\n",
       " Text(267.55384615384617, 107.02125000000001, 'gini = 0.0\\nsamples = 1\\nvalue = [0, 1]'),\n",
       " Text(283.2923076923077, 107.02125000000001, 'gini = 0.0\\nsamples = 2\\nvalue = [2, 0]'),\n",
       " Text(275.42307692307696, 229.33125, 'X[2] <= 52.0\\ngini = 0.444\\nsamples = 3\\nvalue = [1, 2]'),\n",
       " Text(267.55384615384617, 198.75375000000003, 'gini = 0.0\\nsamples = 2\\nvalue = [0, 2]'),\n",
       " Text(283.2923076923077, 198.75375000000003, 'gini = 0.0\\nsamples = 1\\nvalue = [1, 0]'),\n",
       " Text(385.5923076923077, 259.90875, 'X[2] <= 33.0\\ngini = 0.14\\nsamples = 132\\nvalue = [122, 10]'),\n",
       " Text(377.723076923077, 229.33125, 'X[2] <= 28.75\\ngini = 0.174\\nsamples = 104\\nvalue = [94, 10]'),\n",
       " Text(354.11538461538464, 198.75375000000003, 'X[5] <= 8.688\\ngini = 0.123\\nsamples = 91\\nvalue = [85, 6]'),\n",
       " Text(346.24615384615385, 168.17624999999998, 'X[5] <= 8.081\\ngini = 0.175\\nsamples = 62\\nvalue = [56, 6]'),\n",
       " Text(322.63846153846157, 137.59875, 'X[2] <= 21.5\\ngini = 0.128\\nsamples = 58\\nvalue = [54, 4]'),\n",
       " Text(299.03076923076924, 107.02125000000001, 'X[2] <= 19.5\\ngini = 0.305\\nsamples = 16\\nvalue = [13, 3]'),\n",
       " Text(291.1615384615385, 76.44375000000002, 'gini = 0.0\\nsamples = 10\\nvalue = [10, 0]'),\n",
       " Text(306.90000000000003, 76.44375000000002, 'X[2] <= 20.5\\ngini = 0.5\\nsamples = 6\\nvalue = [3, 3]'),\n",
       " Text(299.03076923076924, 45.86624999999998, 'gini = 0.0\\nsamples = 2\\nvalue = [0, 2]'),\n",
       " Text(314.7692307692308, 45.86624999999998, 'X[0] <= 399.5\\ngini = 0.375\\nsamples = 4\\nvalue = [3, 1]'),\n",
       " Text(306.90000000000003, 15.288749999999993, 'gini = 0.0\\nsamples = 1\\nvalue = [0, 1]'),\n",
       " Text(322.63846153846157, 15.288749999999993, 'gini = 0.0\\nsamples = 3\\nvalue = [3, 0]'),\n",
       " Text(346.24615384615385, 107.02125000000001, 'X[5] <= 7.013\\ngini = 0.046\\nsamples = 42\\nvalue = [41, 1]'),\n",
       " Text(338.3769230769231, 76.44375000000002, 'X[2] <= 27.5\\ngini = 0.32\\nsamples = 5\\nvalue = [4, 1]'),\n",
       " Text(330.5076923076923, 45.86624999999998, 'gini = 0.0\\nsamples = 1\\nvalue = [0, 1]'),\n",
       " Text(346.24615384615385, 45.86624999999998, 'gini = 0.0\\nsamples = 4\\nvalue = [4, 0]'),\n",
       " Text(354.11538461538464, 76.44375000000002, 'gini = 0.0\\nsamples = 37\\nvalue = [37, 0]'),\n",
       " Text(369.8538461538462, 137.59875, 'X[0] <= 827.5\\ngini = 0.5\\nsamples = 4\\nvalue = [2, 2]'),\n",
       " Text(361.9846153846154, 107.02125000000001, 'gini = 0.0\\nsamples = 2\\nvalue = [0, 2]'),\n",
       " Text(377.723076923077, 107.02125000000001, 'gini = 0.0\\nsamples = 2\\nvalue = [2, 0]'),\n",
       " Text(361.9846153846154, 168.17624999999998, 'gini = 0.0\\nsamples = 29\\nvalue = [29, 0]'),\n",
       " Text(401.33076923076925, 198.75375000000003, 'X[0] <= 746.5\\ngini = 0.426\\nsamples = 13\\nvalue = [9, 4]'),\n",
       " Text(393.4615384615385, 168.17624999999998, 'X[0] <= 499.0\\ngini = 0.5\\nsamples = 8\\nvalue = [4, 4]'),\n",
       " Text(385.5923076923077, 137.59875, 'gini = 0.0\\nsamples = 2\\nvalue = [2, 0]'),\n",
       " Text(401.33076923076925, 137.59875, 'X[2] <= 31.5\\ngini = 0.444\\nsamples = 6\\nvalue = [2, 4]'),\n",
       " Text(393.4615384615385, 107.02125000000001, 'gini = 0.0\\nsamples = 3\\nvalue = [0, 3]'),\n",
       " Text(409.20000000000005, 107.02125000000001, 'X[5] <= 7.875\\ngini = 0.444\\nsamples = 3\\nvalue = [2, 1]'),\n",
       " Text(401.33076923076925, 76.44375000000002, 'gini = 0.0\\nsamples = 1\\nvalue = [0, 1]'),\n",
       " Text(417.0692307692308, 76.44375000000002, 'gini = 0.0\\nsamples = 2\\nvalue = [2, 0]'),\n",
       " Text(409.20000000000005, 168.17624999999998, 'gini = 0.0\\nsamples = 5\\nvalue = [5, 0]'),\n",
       " Text(393.4615384615385, 229.33125, 'gini = 0.0\\nsamples = 28\\nvalue = [28, 0]'),\n",
       " Text(470.6783653846154, 412.79625, 'X[0] <= 164.5\\ngini = 0.43\\nsamples = 118\\nvalue = [81, 37]'),\n",
       " Text(424.9384615384616, 382.21875, 'X[3] <= 0.5\\ngini = 0.191\\nsamples = 28\\nvalue = [25, 3]'),\n",
       " Text(417.0692307692308, 351.64125, 'X[0] <= 59.5\\ngini = 0.355\\nsamples = 13\\nvalue = [10, 3]'),\n",
       " Text(401.33076923076925, 321.06375, 'X[2] <= 31.5\\ngini = 0.444\\nsamples = 3\\nvalue = [1, 2]'),\n",
       " Text(393.4615384615385, 290.48625000000004, 'gini = 0.0\\nsamples = 2\\nvalue = [0, 2]'),\n",
       " Text(409.20000000000005, 290.48625000000004, 'gini = 0.0\\nsamples = 1\\nvalue = [1, 0]'),\n",
       " Text(432.8076923076923, 321.06375, 'X[2] <= 23.5\\ngini = 0.18\\nsamples = 10\\nvalue = [9, 1]'),\n",
       " Text(424.9384615384616, 290.48625000000004, 'X[8] <= 0.5\\ngini = 0.444\\nsamples = 3\\nvalue = [2, 1]'),\n",
       " Text(417.0692307692308, 259.90875, 'gini = 0.0\\nsamples = 1\\nvalue = [0, 1]'),\n",
       " Text(432.8076923076923, 259.90875, 'gini = 0.0\\nsamples = 2\\nvalue = [2, 0]'),\n",
       " Text(440.6769230769231, 290.48625000000004, 'gini = 0.0\\nsamples = 7\\nvalue = [7, 0]'),\n",
       " Text(432.8076923076923, 351.64125, 'gini = 0.0\\nsamples = 15\\nvalue = [15, 0]'),\n",
       " Text(516.4182692307693, 382.21875, 'X[2] <= 5.5\\ngini = 0.47\\nsamples = 90\\nvalue = [56, 34]'),\n",
       " Text(487.8923076923077, 351.64125, 'X[5] <= 39.344\\ngini = 0.245\\nsamples = 7\\nvalue = [1, 6]'),\n",
       " Text(480.0230769230769, 321.06375, 'gini = 0.0\\nsamples = 6\\nvalue = [0, 6]'),\n",
       " Text(495.76153846153846, 321.06375, 'gini = 0.0\\nsamples = 1\\nvalue = [1, 0]'),\n",
       " Text(544.9442307692308, 351.64125, 'X[2] <= 53.0\\ngini = 0.447\\nsamples = 83\\nvalue = [55, 28]'),\n",
       " Text(511.50000000000006, 321.06375, 'X[1] <= 1.5\\ngini = 0.474\\nsamples = 70\\nvalue = [43, 27]'),\n",
       " Text(468.2192307692308, 290.48625000000004, 'X[0] <= 403.5\\ngini = 0.5\\nsamples = 42\\nvalue = [21, 21]'),\n",
       " Text(448.54615384615386, 259.90875, 'X[5] <= 61.021\\ngini = 0.355\\nsamples = 13\\nvalue = [10, 3]'),\n",
       " Text(440.6769230769231, 229.33125, 'X[3] <= 0.5\\ngini = 0.469\\nsamples = 8\\nvalue = [5, 3]'),\n",
       " Text(432.8076923076923, 198.75375000000003, 'X[2] <= 34.0\\ngini = 0.278\\nsamples = 6\\nvalue = [5, 1]'),\n",
       " Text(424.9384615384616, 168.17624999999998, 'gini = 0.0\\nsamples = 4\\nvalue = [4, 0]'),\n",
       " Text(440.6769230769231, 168.17624999999998, 'X[5] <= 29.75\\ngini = 0.5\\nsamples = 2\\nvalue = [1, 1]'),\n",
       " Text(432.8076923076923, 137.59875, 'gini = 0.0\\nsamples = 1\\nvalue = [1, 0]'),\n",
       " Text(448.54615384615386, 137.59875, 'gini = 0.0\\nsamples = 1\\nvalue = [0, 1]'),\n",
       " Text(448.54615384615386, 198.75375000000003, 'gini = 0.0\\nsamples = 2\\nvalue = [0, 2]'),\n",
       " Text(456.41538461538465, 229.33125, 'gini = 0.0\\nsamples = 5\\nvalue = [5, 0]'),\n",
       " Text(487.8923076923077, 259.90875, 'X[5] <= 30.598\\ngini = 0.471\\nsamples = 29\\nvalue = [11, 18]'),\n",
       " Text(472.1538461538462, 229.33125, 'X[0] <= 554.0\\ngini = 0.278\\nsamples = 12\\nvalue = [2, 10]'),\n",
       " Text(464.2846153846154, 198.75375000000003, 'X[0] <= 450.5\\ngini = 0.444\\nsamples = 6\\nvalue = [2, 4]'),\n",
       " Text(456.41538461538465, 168.17624999999998, 'gini = 0.0\\nsamples = 3\\nvalue = [0, 3]'),\n",
       " Text(472.1538461538462, 168.17624999999998, 'X[2] <= 29.0\\ngini = 0.444\\nsamples = 3\\nvalue = [2, 1]'),\n",
       " Text(464.2846153846154, 137.59875, 'gini = 0.0\\nsamples = 1\\nvalue = [0, 1]'),\n",
       " Text(480.0230769230769, 137.59875, 'gini = 0.0\\nsamples = 2\\nvalue = [2, 0]'),\n",
       " Text(480.0230769230769, 198.75375000000003, 'gini = 0.0\\nsamples = 6\\nvalue = [0, 6]'),\n",
       " Text(503.63076923076926, 229.33125, 'X[5] <= 51.248\\ngini = 0.498\\nsamples = 17\\nvalue = [9, 8]'),\n",
       " Text(495.76153846153846, 198.75375000000003, 'gini = 0.0\\nsamples = 5\\nvalue = [5, 0]'),\n",
       " Text(511.50000000000006, 198.75375000000003, 'X[5] <= 77.79\\ngini = 0.444\\nsamples = 12\\nvalue = [4, 8]'),\n",
       " Text(503.63076923076926, 168.17624999999998, 'gini = 0.0\\nsamples = 4\\nvalue = [0, 4]'),\n",
       " Text(519.3692307692309, 168.17624999999998, 'X[0] <= 494.5\\ngini = 0.5\\nsamples = 8\\nvalue = [4, 4]'),\n",
       " Text(511.50000000000006, 137.59875, 'gini = 0.0\\nsamples = 2\\nvalue = [0, 2]'),\n",
       " Text(527.2384615384616, 137.59875, 'X[4] <= 0.5\\ngini = 0.444\\nsamples = 6\\nvalue = [4, 2]'),\n",
       " Text(519.3692307692309, 107.02125000000001, 'gini = 0.0\\nsamples = 3\\nvalue = [3, 0]'),\n",
       " Text(535.1076923076923, 107.02125000000001, 'X[2] <= 42.5\\ngini = 0.444\\nsamples = 3\\nvalue = [1, 2]'),\n",
       " Text(527.2384615384616, 76.44375000000002, 'gini = 0.0\\nsamples = 2\\nvalue = [0, 2]'),\n",
       " Text(542.9769230769231, 76.44375000000002, 'gini = 0.0\\nsamples = 1\\nvalue = [1, 0]'),\n",
       " Text(554.7807692307692, 290.48625000000004, 'X[3] <= 0.5\\ngini = 0.337\\nsamples = 28\\nvalue = [22, 6]'),\n",
       " Text(527.2384615384616, 259.90875, 'X[1] <= 2.5\\ngini = 0.494\\nsamples = 9\\nvalue = [5, 4]'),\n",
       " Text(519.3692307692309, 229.33125, 'gini = 0.0\\nsamples = 4\\nvalue = [4, 0]'),\n",
       " Text(535.1076923076923, 229.33125, 'X[8] <= 0.5\\ngini = 0.32\\nsamples = 5\\nvalue = [1, 4]'),\n",
       " Text(527.2384615384616, 198.75375000000003, 'gini = 0.0\\nsamples = 1\\nvalue = [1, 0]'),\n",
       " Text(542.9769230769231, 198.75375000000003, 'gini = 0.0\\nsamples = 4\\nvalue = [0, 4]'),\n",
       " Text(582.323076923077, 259.90875, 'X[7] <= 0.5\\ngini = 0.188\\nsamples = 19\\nvalue = [17, 2]'),\n",
       " Text(566.5846153846154, 229.33125, 'X[0] <= 545.5\\ngini = 0.111\\nsamples = 17\\nvalue = [16, 1]'),\n",
       " Text(558.7153846153847, 198.75375000000003, 'X[0] <= 511.5\\ngini = 0.245\\nsamples = 7\\nvalue = [6, 1]'),\n",
       " Text(550.8461538461539, 168.17624999999998, 'gini = 0.0\\nsamples = 6\\nvalue = [6, 0]'),\n",
       " Text(566.5846153846154, 168.17624999999998, 'gini = 0.0\\nsamples = 1\\nvalue = [0, 1]'),\n",
       " Text(574.4538461538461, 198.75375000000003, 'gini = 0.0\\nsamples = 10\\nvalue = [10, 0]'),\n",
       " Text(598.0615384615385, 229.33125, 'X[5] <= 26.188\\ngini = 0.5\\nsamples = 2\\nvalue = [1, 1]'),\n",
       " Text(590.1923076923077, 198.75375000000003, 'gini = 0.0\\nsamples = 1\\nvalue = [0, 1]'),\n",
       " Text(605.9307692307692, 198.75375000000003, 'gini = 0.0\\nsamples = 1\\nvalue = [1, 0]'),\n",
       " Text(578.3884615384616, 321.06375, 'X[2] <= 75.5\\ngini = 0.142\\nsamples = 13\\nvalue = [12, 1]'),\n",
       " Text(570.5192307692308, 290.48625000000004, 'gini = 0.0\\nsamples = 12\\nvalue = [12, 0]'),\n",
       " Text(586.2576923076923, 290.48625000000004, 'gini = 0.0\\nsamples = 1\\nvalue = [0, 1]')]"
      ]
     },
     "execution_count": 19,
     "metadata": {},
     "output_type": "execute_result"
    },
    {
     "data": {
      "image/png": "[encoded data removed]",
      "text/plain": [
       "<Figure size 792x648 with 1 Axes>"
      ]
     },
     "metadata": {
      "needs_background": "light"
     },
     "output_type": "display_data"
    }
   ],
   "source": [
    "# this is garbage\n",
    "\n",
    "plot_tree(tree, filled=True, rounded=True)"
   ]
  },
  {
   "cell_type": "code",
   "execution_count": 13,
   "metadata": {},
   "outputs": [],
   "source": [
    "# now let's dive in and take a close look once \n",
    "\n",
    "X_cols = ['pclass','age', 'sibsp', 'parch', 'fare', 'alone', 'embarked_Q', 'embarked_S', 'sex_male']\n",
    "y_col = 'survived'\n",
    "\n",
    "X_train, y_train = train[X_cols], train[y_col]\n",
    "X_validate, y_validate = validate[X_cols], validate[y_col]\n",
    "X_test, y_test = test[X_cols], test[y_col]"
   ]
  },
  {
   "cell_type": "code",
   "execution_count": 27,
   "metadata": {},
   "outputs": [
    {
     "data": {
      "text/plain": [
       "DecisionTreeClassifier(max_depth=4, max_leaf_nodes=12)"
      ]
     },
     "execution_count": 27,
     "metadata": {},
     "output_type": "execute_result"
    }
   ],
   "source": [
    "tree1 = DecisionTreeClassifier(max_depth=4, max_leaf_nodes=12)\n",
    "tree1.fit(X_train, y_train)"
   ]
  },
  {
   "cell_type": "code",
   "execution_count": 28,
   "metadata": {},
   "outputs": [
    {
     "name": "stdout",
     "output_type": "stream",
     "text": [
      "training score: 83.53%\n",
      "validate score: 79.44%\n"
     ]
    }
   ],
   "source": [
    "print(f'training score: {tree1.score(X_train, y_train):.2%}')\n",
    "print(f'validate score: {tree1.score(X_validate, y_validate):.2%}')"
   ]
  },
  {
   "cell_type": "code",
   "execution_count": 29,
   "metadata": {},
   "outputs": [
    {
     "data": {
      "text/plain": [
       "[Text(277.6714285714286, 440.31600000000003, 'X[8] <= 0.5\\ngini = 0.473\\nsamples = 498\\nvalue = [307, 191]'),\n",
       " Text(131.52857142857144, 342.468, 'X[0] <= 2.5\\ngini = 0.365\\nsamples = 175\\nvalue = [42, 133]'),\n",
       " Text(58.45714285714286, 244.62, 'X[1] <= 3.0\\ngini = 0.081\\nsamples = 94\\nvalue = [4, 90]'),\n",
       " Text(29.22857142857143, 146.772, 'gini = 0.0\\nsamples = 1\\nvalue = [1, 0]'),\n",
       " Text(87.6857142857143, 146.772, 'gini = 0.062\\nsamples = 93\\nvalue = [3, 90]'),\n",
       " Text(204.60000000000002, 244.62, 'X[4] <= 23.912\\ngini = 0.498\\nsamples = 81\\nvalue = [38, 43]'),\n",
       " Text(146.14285714285717, 146.772, 'X[1] <= 35.0\\ngini = 0.476\\nsamples = 69\\nvalue = [27, 42]'),\n",
       " Text(116.91428571428573, 48.924000000000035, 'gini = 0.455\\nsamples = 63\\nvalue = [22, 41]'),\n",
       " Text(175.3714285714286, 48.924000000000035, 'gini = 0.278\\nsamples = 6\\nvalue = [5, 1]'),\n",
       " Text(263.0571428571429, 146.772, 'X[3] <= 4.0\\ngini = 0.153\\nsamples = 12\\nvalue = [11, 1]'),\n",
       " Text(233.82857142857145, 48.924000000000035, 'gini = 0.0\\nsamples = 10\\nvalue = [10, 0]'),\n",
       " Text(292.28571428571433, 48.924000000000035, 'gini = 0.5\\nsamples = 2\\nvalue = [1, 1]'),\n",
       " Text(423.81428571428575, 342.468, 'X[4] <= 18.275\\ngini = 0.295\\nsamples = 323\\nvalue = [265, 58]'),\n",
       " Text(350.7428571428572, 244.62, 'X[1] <= 7.835\\ngini = 0.184\\nsamples = 205\\nvalue = [184, 21]'),\n",
       " Text(321.51428571428573, 146.772, 'gini = 0.0\\nsamples = 2\\nvalue = [0, 2]'),\n",
       " Text(379.9714285714286, 146.772, 'gini = 0.17\\nsamples = 203\\nvalue = [184, 19]'),\n",
       " Text(496.88571428571436, 244.62, 'X[1] <= 53.0\\ngini = 0.43\\nsamples = 118\\nvalue = [81, 37]'),\n",
       " Text(438.42857142857144, 146.772, 'X[2] <= 2.5\\ngini = 0.455\\nsamples = 103\\nvalue = [67, 36]'),\n",
       " Text(409.20000000000005, 48.924000000000035, 'gini = 0.477\\nsamples = 89\\nvalue = [54, 35]'),\n",
       " Text(467.6571428571429, 48.924000000000035, 'gini = 0.133\\nsamples = 14\\nvalue = [13, 1]'),\n",
       " Text(555.3428571428572, 146.772, 'X[1] <= 75.5\\ngini = 0.124\\nsamples = 15\\nvalue = [14, 1]'),\n",
       " Text(526.1142857142858, 48.924000000000035, 'gini = 0.0\\nsamples = 14\\nvalue = [14, 0]'),\n",
       " Text(584.5714285714287, 48.924000000000035, 'gini = 0.0\\nsamples = 1\\nvalue = [0, 1]')]"
      ]
     },
     "execution_count": 29,
     "metadata": {},
     "output_type": "execute_result"
    },
    {
     "data": {
      "image/png": "[encoded data removed]",
      "text/plain": [
       "<Figure size 792x648 with 1 Axes>"
      ]
     },
     "metadata": {
      "needs_background": "light"
     },
     "output_type": "display_data"
    }
   ],
   "source": [
    "plot_tree(tree1, filled=True, rounded=True)"
   ]
  },
  {
   "cell_type": "markdown",
   "metadata": {},
   "source": [
    "3. Evaluate your in-sample results using the model score, confusion matrix, and classification report."
   ]
  },
  {
   "cell_type": "code",
   "execution_count": null,
   "metadata": {},
   "outputs": [],
   "source": []
  },
  {
   "cell_type": "markdown",
   "metadata": {},
   "source": [
    "4. Compute: Accuracy, true positive rate, false positive rate, true negative rate, false negative rate, precision, recall, f1-score, and support."
   ]
  },
  {
   "cell_type": "code",
   "execution_count": null,
   "metadata": {},
   "outputs": [],
   "source": []
  },
  {
   "cell_type": "markdown",
   "metadata": {},
   "source": [
    "5. Run through steps 2-4 using a different max_depth value."
   ]
  },
  {
   "cell_type": "code",
   "execution_count": null,
   "metadata": {},
   "outputs": [],
   "source": []
  },
  {
   "cell_type": "markdown",
   "metadata": {},
   "source": [
    "6. Which model performs better on your in-sample data?"
   ]
  },
  {
   "cell_type": "code",
   "execution_count": null,
   "metadata": {},
   "outputs": [],
   "source": []
  },
  {
   "cell_type": "markdown",
   "metadata": {},
   "source": [
    "7. Which model performs best on your out-of-sample data, the validate set?"
   ]
  },
  {
   "cell_type": "code",
   "execution_count": null,
   "metadata": {},
   "outputs": [],
   "source": []
  }
 ],
 "metadata": {
  "kernelspec": {
   "display_name": "Python 3.8.5 64-bit ('base': conda)",
   "language": "python",
   "name": "python385jvsc74a57bd0b64057e63add2b45b1ffc7eab9b09c8889b419c878e2fdf0d08f837f0fc857a7"
  },
  "language_info": {
   "codemirror_mode": {
    "name": "ipython",
    "version": 3
   },
   "file_extension": ".py",
   "mimetype": "text/x-python",
   "name": "python",
   "nbconvert_exporter": "python",
   "pygments_lexer": "ipython3",
   "version": "3.8.5"
  }
 },
 "nbformat": 4,
 "nbformat_minor": 4
}
