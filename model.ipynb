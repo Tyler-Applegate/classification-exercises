{
 "cells": [
  {
   "cell_type": "code",
   "execution_count": 28,
   "metadata": {},
   "outputs": [],
   "source": [
    "# imports...\n",
    "import pandas as pd\n",
    "import numpy as np\n",
    "import os\n",
    "from scipy import stats\n",
    "# visualize\n",
    "import seaborn as sns\n",
    "import matplotlib.pyplot as plt\n",
    "plt.rc('figure', figsize=(11, 9))\n",
    "plt.rc('font', size=13)\n",
    "# turn off pink warning boxes\n",
    "import warnings\n",
    "warnings.filterwarnings(\"ignore\")\n",
    "# acquire\n",
    "from env import host, user, password\n",
    "from pydataset import data\n",
    "from sklearn.dummy import DummyClassifier\n",
    "from sklearn.metrics import accuracy_score\n",
    "from sklearn.metrics import precision_score\n",
    "from sklearn.metrics import recall_score\n",
    "from sklearn.metrics import classification_report\n",
    "from sklearn.metrics import confusion_matrix\n",
    "from sklearn.tree import DecisionTreeClassifier, plot_tree, export_text\n",
    "from sklearn.ensemble import RandomForestClassifier\n",
    "# my fancy docs\n",
    "import acquire\n",
    "import prepare\n",
    "import explore"
   ]
  },
  {
   "cell_type": "code",
   "execution_count": 29,
   "metadata": {},
   "outputs": [],
   "source": [
    "# need to convert"
   ]
  },
  {
   "cell_type": "markdown",
   "metadata": {},
   "source": [
    "## Exercises\n",
    "Using the titanic data, in your classification-exercises repository, create a notebook, model.ipynb where you will do the following:"
   ]
  },
  {
   "cell_type": "code",
   "execution_count": 30,
   "metadata": {},
   "outputs": [],
   "source": [
    "# positive: survives\n",
    "# negative: dies\n",
    "# TP: predict survival, and the passenger actually survived\n",
    "# TN: predict death, and passenger actually died\n",
    "# FN: predict death, but passenger actually survived\n",
    "# FP: predict survival, but passenger actually died"
   ]
  },
  {
   "cell_type": "code",
   "execution_count": 31,
   "metadata": {},
   "outputs": [
    {
     "data": {
      "text/plain": [
       "((498, 11), (214, 11), (179, 11))"
      ]
     },
     "execution_count": 31,
     "metadata": {},
     "output_type": "execute_result"
    }
   ],
   "source": [
    "# lets bring in the data set\n",
    "# titanic_df = acquire.new_titanic_data()\n",
    "# now let's prep it\n",
    "train, validate, test = prepare.prep_titanic_data(acquire.new_titanic_data(), column = 'age', method = 'median', dummies = ['embarked', 'sex'])\n",
    "# split it\n",
    "# train, validate, test = prepare.titanic_split(titanic_df)\n",
    "# what do they look like?\n",
    "train.shape, validate.shape, test.shape"
   ]
  },
  {
   "cell_type": "code",
   "execution_count": 32,
   "metadata": {},
   "outputs": [
    {
     "name": "stdout",
     "output_type": "stream",
     "text": [
      "<class 'pandas.core.frame.DataFrame'>\n",
      "Int64Index: 498 entries, 583 to 744\n",
      "Data columns (total 11 columns):\n",
      " #   Column        Non-Null Count  Dtype  \n",
      "---  ------        --------------  -----  \n",
      " 0   passenger_id  498 non-null    int64  \n",
      " 1   survived      498 non-null    int64  \n",
      " 2   pclass        498 non-null    int64  \n",
      " 3   age           498 non-null    float64\n",
      " 4   sibsp         498 non-null    int64  \n",
      " 5   parch         498 non-null    int64  \n",
      " 6   fare          498 non-null    float64\n",
      " 7   alone         498 non-null    int64  \n",
      " 8   embarked_Q    498 non-null    uint8  \n",
      " 9   embarked_S    498 non-null    uint8  \n",
      " 10  sex_male      498 non-null    uint8  \n",
      "dtypes: float64(2), int64(6), uint8(3)\n",
      "memory usage: 36.5 KB\n"
     ]
    }
   ],
   "source": [
    "train.info()"
   ]
  },
  {
   "cell_type": "code",
   "execution_count": 38,
   "metadata": {},
   "outputs": [],
   "source": [
    "X_train, y_train = train.drop(columns='survived'), train.survived\n",
    "X_validate, y_validate = validate.drop(columns='survived'), validate.survived\n",
    "X_test, y_test = test.drop(columns='survived'), test.survived"
   ]
  },
  {
   "cell_type": "code",
   "execution_count": 39,
   "metadata": {},
   "outputs": [
    {
     "name": "stdout",
     "output_type": "stream",
     "text": [
      "     pclass\n",
      "\n",
      "chi^2 = 55.2252\n",
      "p     = 0.0000\n",
      "------------------------------------\n",
      "     sibsp\n",
      "\n",
      "chi^2 = 24.8926\n",
      "p     = 0.0004\n",
      "------------------------------------\n",
      "     parch\n",
      "\n",
      "chi^2 = 15.4412\n",
      "p     = 0.0086\n",
      "-------------------------------------\n",
      "     alone\n",
      "\n",
      "chi^2 = 18.1920\n",
      "p     = 0.0000\n",
      "-------------------------------------\n",
      "     embarked_Q\n",
      "\n",
      "chi^2 = 0.3542\n",
      "p     = 0.5517\n",
      "-------------------------------------\n",
      "     embarked_S\n",
      "\n",
      "chi^2 = 12.3251\n",
      "p     = 0.0004\n",
      "-------------------------------------\n",
      "     sex_male\n",
      "\n",
      "chi^2 = 159.2890\n",
      "p     = 0.0000\n",
      "-------------------------------------\n"
     ]
    }
   ],
   "source": [
    "# i want to see relationships between each column and 'survived'\n",
    "# 'pclass' - chi2\n",
    "observed1 = pd.crosstab(train.survived, train.pclass)\n",
    "chi2, p, degf, expected = stats.chi2_contingency(observed1)\n",
    "print('     pclass')\n",
    "print('')\n",
    "print(f'chi^2 = {chi2:.4f}')\n",
    "print(f'p     = {p:.4f}')\n",
    "print('------------------------------------')\n",
    "# 'sibsp' - chi2\n",
    "observed2 = pd.crosstab(train.survived, train.sibsp)\n",
    "chi2, p, degf, expected = stats.chi2_contingency(observed2)\n",
    "print('     sibsp')\n",
    "print('')\n",
    "print(f'chi^2 = {chi2:.4f}')\n",
    "print(f'p     = {p:.4f}')\n",
    "print('------------------------------------')\n",
    "# 'parch' - chi2\n",
    "observed3 = pd.crosstab(train.survived, train.parch)\n",
    "chi2, p, degf, expected = stats.chi2_contingency(observed3)\n",
    "print('     parch')\n",
    "print('')\n",
    "print(f'chi^2 = {chi2:.4f}')\n",
    "print(f'p     = {p:.4f}')\n",
    "print('-------------------------------------')\n",
    "# 'alone' - chi2\n",
    "observed4 = pd.crosstab(train.survived, train.alone)\n",
    "chi2, p, degf, expected = stats.chi2_contingency(observed4)\n",
    "print('     alone')\n",
    "print('')\n",
    "print(f'chi^2 = {chi2:.4f}')\n",
    "print(f'p     = {p:.4f}')\n",
    "print('-------------------------------------')\n",
    "# 'embarked_Q' - chi2\n",
    "observed5 = pd.crosstab(train.survived, train.embarked_Q)\n",
    "chi2, p, degf, expected = stats.chi2_contingency(observed5)\n",
    "print('     embarked_Q')\n",
    "print('')\n",
    "print(f'chi^2 = {chi2:.4f}')\n",
    "print(f'p     = {p:.4f}')\n",
    "print('-------------------------------------')\n",
    "# 'embarked_S' - chi2\n",
    "observed6 = pd.crosstab(train.survived, train.embarked_S)\n",
    "chi2, p, degf, expected = stats.chi2_contingency(observed6)\n",
    "print('     embarked_S')\n",
    "print('')\n",
    "print(f'chi^2 = {chi2:.4f}')\n",
    "print(f'p     = {p:.4f}')\n",
    "print('-------------------------------------')\n",
    "# 'sex_male' - chi2\n",
    "observed7 = pd.crosstab(train.survived, train.sex_male)\n",
    "chi2, p, degf, expected = stats.chi2_contingency(observed7)\n",
    "print('     sex_male')\n",
    "print('')\n",
    "print(f'chi^2 = {chi2:.4f}')\n",
    "print(f'p     = {p:.4f}')\n",
    "print('-------------------------------------')"
   ]
  },
  {
   "cell_type": "code",
   "execution_count": 66,
   "metadata": {},
   "outputs": [],
   "source": [
    "# can I turn this into a function?\n",
    "\n",
    "def get_chi(a,b,cat):\n",
    "    observed = pd.crosstab(a, b)\n",
    "    chi2, p, degf, expected = stats.chi2_contingency(observed)\n",
    "    print(f'Train data set chi^2 test results')\n",
    "    print(f'Comparing survival and {cat}')\n",
    "    print(f'chi^2 = {chi2:.4f}')\n",
    "    print(f'p     = {p:.4f}')\n",
    "    print('------------------------------------')"
   ]
  },
  {
   "cell_type": "code",
   "execution_count": 67,
   "metadata": {},
   "outputs": [
    {
     "name": "stdout",
     "output_type": "stream",
     "text": [
      "Train data set chi^2 test results\n",
      "Comparing survival and pclass\n",
      "chi^2 = 55.2252\n",
      "p     = 0.0000\n",
      "------------------------------------\n"
     ]
    }
   ],
   "source": [
    "get_chi(train['survived'], train['pclass'], 'pclass')"
   ]
  },
  {
   "cell_type": "code",
   "execution_count": null,
   "metadata": {},
   "outputs": [],
   "source": []
  },
  {
   "cell_type": "code",
   "execution_count": null,
   "metadata": {},
   "outputs": [],
   "source": []
  },
  {
   "cell_type": "code",
   "execution_count": 25,
   "metadata": {},
   "outputs": [
    {
     "name": "stdout",
     "output_type": "stream",
     "text": [
      "     age\n",
      "\n",
      "tscore: 49.39\n",
      "p/2:    3.8085496775045816e-194\n",
      "alpha:  0.01\n",
      "-------------------------------------\n",
      "     fare\n",
      "\n",
      "tscore: 14.55\n",
      "p/2:    1.6753909571183626e-40\n",
      "alpha:  0.01\n",
      "-------------------------------------\n"
     ]
    }
   ],
   "source": [
    "# now the continuous...\n",
    "# 'age'\n",
    "# 'fare'\n",
    "\n",
    "# create survival_rate\n",
    "survival_rate = train['survived'].mean()\n",
    "# create age variable for ttest\n",
    "age = train['age']\n",
    "# ttest for age\n",
    "alpha = 0.01\n",
    "t, p = stats.ttest_1samp(age, survival_rate)\n",
    "print('     age')\n",
    "print('')\n",
    "print('tscore:', t.round(2))\n",
    "print('p/2:   ', p/2)\n",
    "print('alpha: ', alpha)\n",
    "print('-------------------------------------')\n",
    "# create fare variable for ttest\n",
    "fare = train['fare']\n",
    "# ttest for fare\n",
    "t, p = stats.ttest_1samp(fare, survival_rate)\n",
    "print('     fare')\n",
    "print('')\n",
    "print('tscore:', t.round(2))\n",
    "print('p/2:   ', p/2)\n",
    "print('alpha: ', alpha)\n",
    "print('-------------------------------------')"
   ]
  },
  {
   "cell_type": "code",
   "execution_count": 18,
   "metadata": {},
   "outputs": [],
   "source": [
    "# so which columns do I want to keep for my model?????\n",
    "# 'sex_male', 'pclass', 'age', 'sibsp'\n",
    "# and maybe 'alone'"
   ]
  },
  {
   "cell_type": "code",
   "execution_count": 19,
   "metadata": {},
   "outputs": [],
   "source": [
    "X_cols = ['sex_male', 'pclass', 'age', 'sibsp']\n",
    "y_col = 'survived'\n",
    "\n",
    "X_train, y_train = train[X_cols], train[y_col]\n",
    "X_validate, y_validate = validate[X_cols], validate[y_col]\n",
    "X_test, y_test = test[X_cols], test[y_col]"
   ]
  },
  {
   "cell_type": "code",
   "execution_count": null,
   "metadata": {},
   "outputs": [],
   "source": []
  },
  {
   "cell_type": "code",
   "execution_count": 20,
   "metadata": {},
   "outputs": [],
   "source": [
    "# X_train is the DF w/o the 'survived' column\n",
    "# y_train is the 'survived' column as a Series"
   ]
  },
  {
   "cell_type": "markdown",
   "metadata": {},
   "source": [
    "1. What is your baseline prediction? What is your baseline accuracy? remember: your baseline prediction for a classification problem is predicting the most prevelant class in the training dataset (the mode). When you make those predictions, what is your accuracy? This is your baseline accuracy."
   ]
  },
  {
   "cell_type": "code",
   "execution_count": 73,
   "metadata": {},
   "outputs": [
    {
     "data": {
      "text/plain": [
       "0    307\n",
       "1    191\n",
       "Name: survived, dtype: int64"
      ]
     },
     "execution_count": 73,
     "metadata": {},
     "output_type": "execute_result"
    }
   ],
   "source": [
    "# what is the mode of 'survived'?\n",
    "y_train.value_counts()\n",
    "# death wins"
   ]
  },
  {
   "cell_type": "code",
   "execution_count": 74,
   "metadata": {},
   "outputs": [
    {
     "name": "stdout",
     "output_type": "stream",
     "text": [
      "Baseline accuracy: 0.6165\n"
     ]
    }
   ],
   "source": [
    "# 1. Create the object\n",
    "baseline = DummyClassifier(strategy='constant', constant=0)\n",
    "# 2. Fit the object\n",
    "baseline.fit(X_train, y_train)\n",
    "# how does it do on training data set?\n",
    "print('Baseline accuracy: %.4f' % baseline.score(X_train, y_train))"
   ]
  },
  {
   "cell_type": "markdown",
   "metadata": {},
   "source": [
    "2. Fit the decision tree classifier to your training sample and transform (i.e. make predictions on the training sample)"
   ]
  },
  {
   "cell_type": "code",
   "execution_count": 75,
   "metadata": {},
   "outputs": [
    {
     "data": {
      "text/plain": [
       "DecisionTreeClassifier()"
      ]
     },
     "execution_count": 75,
     "metadata": {},
     "output_type": "execute_result"
    }
   ],
   "source": [
    "# let's look w/ default hyperparameters\n",
    "tree = DecisionTreeClassifier()\n",
    "tree.fit(X_train, y_train)"
   ]
  },
  {
   "cell_type": "code",
   "execution_count": 76,
   "metadata": {},
   "outputs": [
    {
     "name": "stdout",
     "output_type": "stream",
     "text": [
      "training score: 100.00%\n",
      "validate score: 74.30%\n"
     ]
    }
   ],
   "source": [
    "# how does the DT perform w/ default hyperparameters?\n",
    "print(f'training score: {tree.score(X_train, y_train):.2%}')\n",
    "print(f'validate score: {tree.score(X_validate, y_validate):.2%}')"
   ]
  },
  {
   "cell_type": "code",
   "execution_count": 77,
   "metadata": {},
   "outputs": [
    {
     "name": "stdout",
     "output_type": "stream",
     "text": [
      "|--- sex_male <= 0.50\n",
      "|   |--- pclass <= 2.50\n",
      "|   |   |--- age <= 3.00\n",
      "|   |   |   |--- weights: [1.00, 0.00] class: 0\n",
      "|   |   |--- age >  3.00\n",
      "|   |   |   |--- passenger_id <= 205.00\n",
      "|   |   |   |   |--- passenger_id <= 197.00\n",
      "|   |   |   |   |   |--- age <= 24.50\n",
      "|   |   |   |   |   |   |--- weights: [0.00, 6.00] class: 1\n",
      "|   |   |   |   |   |--- age >  24.50\n",
      "|   |   |   |   |   |   |--- age <= 27.50\n",
      "|   |   |   |   |   |   |   |--- weights: [1.00, 0.00] class: 0\n",
      "|   |   |   |   |   |   |--- age >  27.50\n",
      "|   |   |   |   |   |   |   |--- passenger_id <= 171.50\n",
      "|   |   |   |   |   |   |   |   |--- weights: [0.00, 5.00] class: 1\n",
      "|   |   |   |   |   |   |   |--- passenger_id >  171.50\n",
      "|   |   |   |   |   |   |   |   |--- passenger_id <= 185.50\n",
      "|   |   |   |   |   |   |   |   |   |--- weights: [1.00, 0.00] class: 0\n",
      "|   |   |   |   |   |   |   |   |--- passenger_id >  185.50\n",
      "|   |   |   |   |   |   |   |   |   |--- weights: [0.00, 2.00] class: 1\n",
      "|   |   |   |   |--- passenger_id >  197.00\n",
      "|   |   |   |   |   |--- weights: [1.00, 0.00] class: 0\n",
      "|   |   |   |--- passenger_id >  205.00\n",
      "|   |   |   |   |--- weights: [0.00, 77.00] class: 1\n",
      "|   |--- pclass >  2.50\n",
      "|   |   |--- fare <= 23.91\n",
      "|   |   |   |--- age <= 35.00\n",
      "|   |   |   |   |--- passenger_id <= 485.00\n",
      "|   |   |   |   |   |--- embarked_Q <= 0.50\n",
      "|   |   |   |   |   |   |--- fare <= 15.49\n",
      "|   |   |   |   |   |   |   |--- age <= 27.50\n",
      "|   |   |   |   |   |   |   |   |--- age <= 23.50\n",
      "|   |   |   |   |   |   |   |   |   |--- weights: [0.00, 4.00] class: 1\n",
      "|   |   |   |   |   |   |   |   |--- age >  23.50\n",
      "|   |   |   |   |   |   |   |   |   |--- age <= 25.50\n",
      "|   |   |   |   |   |   |   |   |   |   |--- weights: [1.00, 0.00] class: 0\n",
      "|   |   |   |   |   |   |   |   |   |--- age >  25.50\n",
      "|   |   |   |   |   |   |   |   |   |   |--- weights: [0.00, 2.00] class: 1\n",
      "|   |   |   |   |   |   |   |--- age >  27.50\n",
      "|   |   |   |   |   |   |   |   |--- fare <= 7.39\n",
      "|   |   |   |   |   |   |   |   |   |--- weights: [0.00, 1.00] class: 1\n",
      "|   |   |   |   |   |   |   |   |--- fare >  7.39\n",
      "|   |   |   |   |   |   |   |   |   |--- weights: [5.00, 0.00] class: 0\n",
      "|   |   |   |   |   |   |--- fare >  15.49\n",
      "|   |   |   |   |   |   |   |--- passenger_id <= 61.50\n",
      "|   |   |   |   |   |   |   |   |--- weights: [1.00, 0.00] class: 0\n",
      "|   |   |   |   |   |   |   |--- passenger_id >  61.50\n",
      "|   |   |   |   |   |   |   |   |--- sibsp <= 2.50\n",
      "|   |   |   |   |   |   |   |   |   |--- weights: [0.00, 9.00] class: 1\n",
      "|   |   |   |   |   |   |   |   |--- sibsp >  2.50\n",
      "|   |   |   |   |   |   |   |   |   |--- fare <= 18.46\n",
      "|   |   |   |   |   |   |   |   |   |   |--- weights: [0.00, 1.00] class: 1\n",
      "|   |   |   |   |   |   |   |   |   |--- fare >  18.46\n",
      "|   |   |   |   |   |   |   |   |   |   |--- weights: [1.00, 0.00] class: 0\n",
      "|   |   |   |   |   |--- embarked_Q >  0.50\n",
      "|   |   |   |   |   |   |--- weights: [0.00, 12.00] class: 1\n",
      "|   |   |   |   |--- passenger_id >  485.00\n",
      "|   |   |   |   |   |--- passenger_id <= 570.00\n",
      "|   |   |   |   |   |   |--- weights: [5.00, 0.00] class: 0\n",
      "|   |   |   |   |   |--- passenger_id >  570.00\n",
      "|   |   |   |   |   |   |--- fare <= 7.76\n",
      "|   |   |   |   |   |   |   |--- fare <= 6.99\n",
      "|   |   |   |   |   |   |   |   |--- weights: [1.00, 0.00] class: 0\n",
      "|   |   |   |   |   |   |   |--- fare >  6.99\n",
      "|   |   |   |   |   |   |   |   |--- weights: [0.00, 6.00] class: 1\n",
      "|   |   |   |   |   |   |--- fare >  7.76\n",
      "|   |   |   |   |   |   |   |--- fare <= 8.41\n",
      "|   |   |   |   |   |   |   |   |--- weights: [4.00, 0.00] class: 0\n",
      "|   |   |   |   |   |   |   |--- fare >  8.41\n",
      "|   |   |   |   |   |   |   |   |--- fare <= 13.46\n",
      "|   |   |   |   |   |   |   |   |   |--- weights: [0.00, 4.00] class: 1\n",
      "|   |   |   |   |   |   |   |   |--- fare >  13.46\n",
      "|   |   |   |   |   |   |   |   |   |--- fare <= 15.37\n",
      "|   |   |   |   |   |   |   |   |   |   |--- weights: [3.00, 0.00] class: 0\n",
      "|   |   |   |   |   |   |   |   |   |--- fare >  15.37\n",
      "|   |   |   |   |   |   |   |   |   |   |--- embarked_S <= 0.50\n",
      "|   |   |   |   |   |   |   |   |   |   |   |--- weights: [0.00, 2.00] class: 1\n",
      "|   |   |   |   |   |   |   |   |   |   |--- embarked_S >  0.50\n",
      "|   |   |   |   |   |   |   |   |   |   |   |--- weights: [1.00, 0.00] class: 0\n",
      "|   |   |   |--- age >  35.00\n",
      "|   |   |   |   |--- age <= 55.00\n",
      "|   |   |   |   |   |--- weights: [5.00, 0.00] class: 0\n",
      "|   |   |   |   |--- age >  55.00\n",
      "|   |   |   |   |   |--- weights: [0.00, 1.00] class: 1\n",
      "|   |   |--- fare >  23.91\n",
      "|   |   |   |--- passenger_id <= 48.00\n",
      "|   |   |   |   |--- weights: [0.00, 1.00] class: 1\n",
      "|   |   |   |--- passenger_id >  48.00\n",
      "|   |   |   |   |--- weights: [11.00, 0.00] class: 0\n",
      "|--- sex_male >  0.50\n",
      "|   |--- fare <= 18.27\n",
      "|   |   |--- age <= 7.84\n",
      "|   |   |   |--- weights: [0.00, 2.00] class: 1\n",
      "|   |   |--- age >  7.84\n",
      "|   |   |   |--- passenger_id <= 36.50\n",
      "|   |   |   |   |--- fare <= 11.75\n",
      "|   |   |   |   |   |--- embarked_S <= 0.50\n",
      "|   |   |   |   |   |   |--- weights: [0.00, 1.00] class: 1\n",
      "|   |   |   |   |   |--- embarked_S >  0.50\n",
      "|   |   |   |   |   |   |--- weights: [2.00, 0.00] class: 0\n",
      "|   |   |   |   |--- fare >  11.75\n",
      "|   |   |   |   |   |--- weights: [0.00, 2.00] class: 1\n",
      "|   |   |   |--- passenger_id >  36.50\n",
      "|   |   |   |   |--- passenger_id <= 224.50\n",
      "|   |   |   |   |   |--- weights: [43.00, 0.00] class: 0\n",
      "|   |   |   |   |--- passenger_id >  224.50\n",
      "|   |   |   |   |   |--- passenger_id <= 226.50\n",
      "|   |   |   |   |   |   |--- weights: [0.00, 1.00] class: 1\n",
      "|   |   |   |   |   |--- passenger_id >  226.50\n",
      "|   |   |   |   |   |   |--- passenger_id <= 340.00\n",
      "|   |   |   |   |   |   |   |--- age <= 37.50\n",
      "|   |   |   |   |   |   |   |   |--- sibsp <= 0.50\n",
      "|   |   |   |   |   |   |   |   |   |--- fare <= 3.56\n",
      "|   |   |   |   |   |   |   |   |   |   |--- passenger_id <= 274.00\n",
      "|   |   |   |   |   |   |   |   |   |   |   |--- weights: [0.00, 1.00] class: 1\n",
      "|   |   |   |   |   |   |   |   |   |   |--- passenger_id >  274.00\n",
      "|   |   |   |   |   |   |   |   |   |   |   |--- weights: [1.00, 0.00] class: 0\n",
      "|   |   |   |   |   |   |   |   |   |--- fare >  3.56\n",
      "|   |   |   |   |   |   |   |   |   |   |--- age <= 29.00\n",
      "|   |   |   |   |   |   |   |   |   |   |   |--- weights: [13.00, 0.00] class: 0\n",
      "|   |   |   |   |   |   |   |   |   |   |--- age >  29.00\n",
      "|   |   |   |   |   |   |   |   |   |   |   |--- truncated branch of depth 2\n",
      "|   |   |   |   |   |   |   |   |--- sibsp >  0.50\n",
      "|   |   |   |   |   |   |   |   |   |--- weights: [0.00, 1.00] class: 1\n",
      "|   |   |   |   |   |   |   |--- age >  37.50\n",
      "|   |   |   |   |   |   |   |   |--- age <= 52.00\n",
      "|   |   |   |   |   |   |   |   |   |--- weights: [0.00, 2.00] class: 1\n",
      "|   |   |   |   |   |   |   |   |--- age >  52.00\n",
      "|   |   |   |   |   |   |   |   |   |--- weights: [1.00, 0.00] class: 0\n",
      "|   |   |   |   |   |   |--- passenger_id >  340.00\n",
      "|   |   |   |   |   |   |   |--- age <= 33.00\n",
      "|   |   |   |   |   |   |   |   |--- age <= 28.75\n",
      "|   |   |   |   |   |   |   |   |   |--- fare <= 8.69\n",
      "|   |   |   |   |   |   |   |   |   |   |--- fare <= 8.08\n",
      "|   |   |   |   |   |   |   |   |   |   |   |--- truncated branch of depth 5\n",
      "|   |   |   |   |   |   |   |   |   |   |--- fare >  8.08\n",
      "|   |   |   |   |   |   |   |   |   |   |   |--- truncated branch of depth 2\n",
      "|   |   |   |   |   |   |   |   |   |--- fare >  8.69\n",
      "|   |   |   |   |   |   |   |   |   |   |--- weights: [29.00, 0.00] class: 0\n",
      "|   |   |   |   |   |   |   |   |--- age >  28.75\n",
      "|   |   |   |   |   |   |   |   |   |--- passenger_id <= 746.50\n",
      "|   |   |   |   |   |   |   |   |   |   |--- passenger_id <= 499.00\n",
      "|   |   |   |   |   |   |   |   |   |   |   |--- weights: [2.00, 0.00] class: 0\n",
      "|   |   |   |   |   |   |   |   |   |   |--- passenger_id >  499.00\n",
      "|   |   |   |   |   |   |   |   |   |   |   |--- truncated branch of depth 3\n",
      "|   |   |   |   |   |   |   |   |   |--- passenger_id >  746.50\n",
      "|   |   |   |   |   |   |   |   |   |   |--- weights: [5.00, 0.00] class: 0\n",
      "|   |   |   |   |   |   |   |--- age >  33.00\n",
      "|   |   |   |   |   |   |   |   |--- weights: [28.00, 0.00] class: 0\n",
      "|   |--- fare >  18.27\n",
      "|   |   |--- passenger_id <= 164.50\n",
      "|   |   |   |--- sibsp <= 0.50\n",
      "|   |   |   |   |--- passenger_id <= 59.50\n",
      "|   |   |   |   |   |--- pclass <= 1.50\n",
      "|   |   |   |   |   |   |--- weights: [0.00, 2.00] class: 1\n",
      "|   |   |   |   |   |--- pclass >  1.50\n",
      "|   |   |   |   |   |   |--- weights: [1.00, 0.00] class: 0\n",
      "|   |   |   |   |--- passenger_id >  59.50\n",
      "|   |   |   |   |   |--- age <= 23.50\n",
      "|   |   |   |   |   |   |--- age <= 22.00\n",
      "|   |   |   |   |   |   |   |--- weights: [2.00, 0.00] class: 0\n",
      "|   |   |   |   |   |   |--- age >  22.00\n",
      "|   |   |   |   |   |   |   |--- weights: [0.00, 1.00] class: 1\n",
      "|   |   |   |   |   |--- age >  23.50\n",
      "|   |   |   |   |   |   |--- weights: [7.00, 0.00] class: 0\n",
      "|   |   |   |--- sibsp >  0.50\n",
      "|   |   |   |   |--- weights: [15.00, 0.00] class: 0\n",
      "|   |   |--- passenger_id >  164.50\n",
      "|   |   |   |--- age <= 5.50\n",
      "|   |   |   |   |--- fare <= 39.34\n",
      "|   |   |   |   |   |--- weights: [0.00, 6.00] class: 1\n",
      "|   |   |   |   |--- fare >  39.34\n",
      "|   |   |   |   |   |--- weights: [1.00, 0.00] class: 0\n",
      "|   |   |   |--- age >  5.50\n",
      "|   |   |   |   |--- age <= 53.00\n",
      "|   |   |   |   |   |--- pclass <= 1.50\n",
      "|   |   |   |   |   |   |--- passenger_id <= 403.50\n",
      "|   |   |   |   |   |   |   |--- fare <= 61.02\n",
      "|   |   |   |   |   |   |   |   |--- alone <= 0.50\n",
      "|   |   |   |   |   |   |   |   |   |--- weights: [0.00, 2.00] class: 1\n",
      "|   |   |   |   |   |   |   |   |--- alone >  0.50\n",
      "|   |   |   |   |   |   |   |   |   |--- embarked_S <= 0.50\n",
      "|   |   |   |   |   |   |   |   |   |   |--- age <= 34.00\n",
      "|   |   |   |   |   |   |   |   |   |   |   |--- weights: [1.00, 0.00] class: 0\n",
      "|   |   |   |   |   |   |   |   |   |   |--- age >  34.00\n",
      "|   |   |   |   |   |   |   |   |   |   |   |--- weights: [0.00, 1.00] class: 1\n",
      "|   |   |   |   |   |   |   |   |   |--- embarked_S >  0.50\n",
      "|   |   |   |   |   |   |   |   |   |   |--- weights: [4.00, 0.00] class: 0\n",
      "|   |   |   |   |   |   |   |--- fare >  61.02\n",
      "|   |   |   |   |   |   |   |   |--- weights: [5.00, 0.00] class: 0\n",
      "|   |   |   |   |   |   |--- passenger_id >  403.50\n",
      "|   |   |   |   |   |   |   |--- fare <= 30.60\n",
      "|   |   |   |   |   |   |   |   |--- passenger_id <= 554.00\n",
      "|   |   |   |   |   |   |   |   |   |--- passenger_id <= 450.50\n",
      "|   |   |   |   |   |   |   |   |   |   |--- weights: [0.00, 3.00] class: 1\n",
      "|   |   |   |   |   |   |   |   |   |--- passenger_id >  450.50\n",
      "|   |   |   |   |   |   |   |   |   |   |--- age <= 29.00\n",
      "|   |   |   |   |   |   |   |   |   |   |   |--- weights: [0.00, 1.00] class: 1\n",
      "|   |   |   |   |   |   |   |   |   |   |--- age >  29.00\n",
      "|   |   |   |   |   |   |   |   |   |   |   |--- weights: [2.00, 0.00] class: 0\n",
      "|   |   |   |   |   |   |   |   |--- passenger_id >  554.00\n",
      "|   |   |   |   |   |   |   |   |   |--- weights: [0.00, 6.00] class: 1\n",
      "|   |   |   |   |   |   |   |--- fare >  30.60\n",
      "|   |   |   |   |   |   |   |   |--- fare <= 51.25\n",
      "|   |   |   |   |   |   |   |   |   |--- weights: [5.00, 0.00] class: 0\n",
      "|   |   |   |   |   |   |   |   |--- fare >  51.25\n",
      "|   |   |   |   |   |   |   |   |   |--- fare <= 77.79\n",
      "|   |   |   |   |   |   |   |   |   |   |--- weights: [0.00, 4.00] class: 1\n",
      "|   |   |   |   |   |   |   |   |   |--- fare >  77.79\n",
      "|   |   |   |   |   |   |   |   |   |   |--- passenger_id <= 494.50\n",
      "|   |   |   |   |   |   |   |   |   |   |   |--- weights: [0.00, 2.00] class: 1\n",
      "|   |   |   |   |   |   |   |   |   |   |--- passenger_id >  494.50\n",
      "|   |   |   |   |   |   |   |   |   |   |   |--- truncated branch of depth 3\n",
      "|   |   |   |   |   |--- pclass >  1.50\n",
      "|   |   |   |   |   |   |--- sibsp <= 0.50\n",
      "|   |   |   |   |   |   |   |--- pclass <= 2.50\n",
      "|   |   |   |   |   |   |   |   |--- weights: [4.00, 0.00] class: 0\n",
      "|   |   |   |   |   |   |   |--- pclass >  2.50\n",
      "|   |   |   |   |   |   |   |   |--- embarked_Q <= 0.50\n",
      "|   |   |   |   |   |   |   |   |   |--- weights: [0.00, 4.00] class: 1\n",
      "|   |   |   |   |   |   |   |   |--- embarked_Q >  0.50\n",
      "|   |   |   |   |   |   |   |   |   |--- weights: [1.00, 0.00] class: 0\n",
      "|   |   |   |   |   |   |--- sibsp >  0.50\n",
      "|   |   |   |   |   |   |   |--- passenger_id <= 304.50\n",
      "|   |   |   |   |   |   |   |   |--- pclass <= 2.50\n",
      "|   |   |   |   |   |   |   |   |   |--- weights: [1.00, 0.00] class: 0\n",
      "|   |   |   |   |   |   |   |   |--- pclass >  2.50\n",
      "|   |   |   |   |   |   |   |   |   |--- weights: [0.00, 1.00] class: 1\n",
      "|   |   |   |   |   |   |   |--- passenger_id >  304.50\n",
      "|   |   |   |   |   |   |   |   |--- passenger_id <= 545.50\n",
      "|   |   |   |   |   |   |   |   |   |--- passenger_id <= 511.50\n",
      "|   |   |   |   |   |   |   |   |   |   |--- weights: [5.00, 0.00] class: 0\n",
      "|   |   |   |   |   |   |   |   |   |--- passenger_id >  511.50\n",
      "|   |   |   |   |   |   |   |   |   |   |--- weights: [0.00, 1.00] class: 1\n",
      "|   |   |   |   |   |   |   |   |--- passenger_id >  545.50\n",
      "|   |   |   |   |   |   |   |   |   |--- weights: [11.00, 0.00] class: 0\n",
      "|   |   |   |   |--- age >  53.00\n",
      "|   |   |   |   |   |--- age <= 75.50\n",
      "|   |   |   |   |   |   |--- weights: [12.00, 0.00] class: 0\n",
      "|   |   |   |   |   |--- age >  75.50\n",
      "|   |   |   |   |   |   |--- weights: [0.00, 1.00] class: 1\n",
      "\n"
     ]
    }
   ],
   "source": [
    "# what does the tree look like?\n",
    "print(export_text(tree, feature_names=X_train.columns.tolist(), show_weights=True))"
   ]
  },
  {
   "cell_type": "code",
   "execution_count": 78,
   "metadata": {},
   "outputs": [
    {
     "data": {
      "text/plain": [
       "[Text(241.95083069620256, 473.95125, 'X[9] <= 0.5\\ngini = 0.473\\nsamples = 498\\nvalue = [307, 191]'),\n",
       " Text(104.64707278481013, 443.37375000000003, 'X[1] <= 2.5\\ngini = 0.365\\nsamples = 175\\nvalue = [42, 133]'),\n",
       " Text(23.308860759493673, 412.79625, 'X[2] <= 3.0\\ngini = 0.081\\nsamples = 94\\nvalue = [4, 90]'),\n",
       " Text(15.539240506329115, 382.21875, 'gini = 0.0\\nsamples = 1\\nvalue = [1, 0]'),\n",
       " Text(31.07848101265823, 382.21875, 'X[0] <= 205.0\\ngini = 0.062\\nsamples = 93\\nvalue = [3, 90]'),\n",
       " Text(23.308860759493673, 351.64125, 'X[0] <= 197.0\\ngini = 0.305\\nsamples = 16\\nvalue = [3, 13]'),\n",
       " Text(15.539240506329115, 321.06375, 'X[2] <= 24.5\\ngini = 0.231\\nsamples = 15\\nvalue = [2, 13]'),\n",
       " Text(7.7696202531645575, 290.48625000000004, 'gini = 0.0\\nsamples = 6\\nvalue = [0, 6]'),\n",
       " Text(23.308860759493673, 290.48625000000004, 'X[2] <= 27.5\\ngini = 0.346\\nsamples = 9\\nvalue = [2, 7]'),\n",
       " Text(15.539240506329115, 259.90875, 'gini = 0.0\\nsamples = 1\\nvalue = [1, 0]'),\n",
       " Text(31.07848101265823, 259.90875, 'X[0] <= 171.5\\ngini = 0.219\\nsamples = 8\\nvalue = [1, 7]'),\n",
       " Text(23.308860759493673, 229.33125, 'gini = 0.0\\nsamples = 5\\nvalue = [0, 5]'),\n",
       " Text(38.84810126582279, 229.33125, 'X[0] <= 185.5\\ngini = 0.444\\nsamples = 3\\nvalue = [1, 2]'),\n",
       " Text(31.07848101265823, 198.75375000000003, 'gini = 0.0\\nsamples = 1\\nvalue = [1, 0]'),\n",
       " Text(46.617721518987345, 198.75375000000003, 'gini = 0.0\\nsamples = 2\\nvalue = [0, 2]'),\n",
       " Text(31.07848101265823, 321.06375, 'gini = 0.0\\nsamples = 1\\nvalue = [1, 0]'),\n",
       " Text(38.84810126582279, 351.64125, 'gini = 0.0\\nsamples = 77\\nvalue = [0, 77]'),\n",
       " Text(185.9852848101266, 412.79625, 'X[5] <= 23.912\\ngini = 0.498\\nsamples = 81\\nvalue = [38, 43]'),\n",
       " Text(162.19082278481014, 382.21875, 'X[2] <= 35.0\\ngini = 0.476\\nsamples = 69\\nvalue = [27, 42]'),\n",
       " Text(137.9107594936709, 351.64125, 'X[0] <= 485.0\\ngini = 0.455\\nsamples = 63\\nvalue = [22, 41]'),\n",
       " Text(112.65949367088608, 321.06375, 'X[7] <= 0.5\\ngini = 0.339\\nsamples = 37\\nvalue = [8, 29]'),\n",
       " Text(104.88987341772153, 290.48625000000004, 'X[5] <= 15.494\\ngini = 0.435\\nsamples = 25\\nvalue = [8, 17]'),\n",
       " Text(85.46582278481013, 259.90875, 'X[2] <= 27.5\\ngini = 0.497\\nsamples = 13\\nvalue = [6, 7]'),\n",
       " Text(69.92658227848102, 229.33125, 'X[2] <= 23.5\\ngini = 0.245\\nsamples = 7\\nvalue = [1, 6]'),\n",
       " Text(62.15696202531646, 198.75375000000003, 'gini = 0.0\\nsamples = 4\\nvalue = [0, 4]'),\n",
       " Text(77.69620253164558, 198.75375000000003, 'X[2] <= 25.5\\ngini = 0.444\\nsamples = 3\\nvalue = [1, 2]'),\n",
       " Text(69.92658227848102, 168.17624999999998, 'gini = 0.0\\nsamples = 1\\nvalue = [1, 0]'),\n",
       " Text(85.46582278481013, 168.17624999999998, 'gini = 0.0\\nsamples = 2\\nvalue = [0, 2]'),\n",
       " Text(101.00506329113925, 229.33125, 'X[5] <= 7.39\\ngini = 0.278\\nsamples = 6\\nvalue = [5, 1]'),\n",
       " Text(93.23544303797469, 198.75375000000003, 'gini = 0.0\\nsamples = 1\\nvalue = [0, 1]'),\n",
       " Text(108.7746835443038, 198.75375000000003, 'gini = 0.0\\nsamples = 5\\nvalue = [5, 0]'),\n",
       " Text(124.31392405063292, 259.90875, 'X[0] <= 61.5\\ngini = 0.278\\nsamples = 12\\nvalue = [2, 10]'),\n",
       " Text(116.54430379746836, 229.33125, 'gini = 0.0\\nsamples = 1\\nvalue = [1, 0]'),\n",
       " Text(132.08354430379748, 229.33125, 'X[3] <= 2.5\\ngini = 0.165\\nsamples = 11\\nvalue = [1, 10]'),\n",
       " Text(124.31392405063292, 198.75375000000003, 'gini = 0.0\\nsamples = 9\\nvalue = [0, 9]'),\n",
       " Text(139.85316455696204, 198.75375000000003, 'X[5] <= 18.463\\ngini = 0.5\\nsamples = 2\\nvalue = [1, 1]'),\n",
       " Text(132.08354430379748, 168.17624999999998, 'gini = 0.0\\nsamples = 1\\nvalue = [0, 1]'),\n",
       " Text(147.6227848101266, 168.17624999999998, 'gini = 0.0\\nsamples = 1\\nvalue = [1, 0]'),\n",
       " Text(120.42911392405064, 290.48625000000004, 'gini = 0.0\\nsamples = 12\\nvalue = [0, 12]'),\n",
       " Text(163.1620253164557, 321.06375, 'X[0] <= 570.0\\ngini = 0.497\\nsamples = 26\\nvalue = [14, 12]'),\n",
       " Text(155.39240506329116, 290.48625000000004, 'gini = 0.0\\nsamples = 5\\nvalue = [5, 0]'),\n",
       " Text(170.93164556962026, 290.48625000000004, 'X[5] <= 7.763\\ngini = 0.49\\nsamples = 21\\nvalue = [9, 12]'),\n",
       " Text(155.39240506329116, 259.90875, 'X[5] <= 6.99\\ngini = 0.245\\nsamples = 7\\nvalue = [1, 6]'),\n",
       " Text(147.6227848101266, 229.33125, 'gini = 0.0\\nsamples = 1\\nvalue = [1, 0]'),\n",
       " Text(163.1620253164557, 229.33125, 'gini = 0.0\\nsamples = 6\\nvalue = [0, 6]'),\n",
       " Text(186.47088607594938, 259.90875, 'X[5] <= 8.41\\ngini = 0.49\\nsamples = 14\\nvalue = [8, 6]'),\n",
       " Text(178.70126582278482, 229.33125, 'gini = 0.0\\nsamples = 4\\nvalue = [4, 0]'),\n",
       " Text(194.24050632911394, 229.33125, 'X[5] <= 13.465\\ngini = 0.48\\nsamples = 10\\nvalue = [4, 6]'),\n",
       " Text(186.47088607594938, 198.75375000000003, 'gini = 0.0\\nsamples = 4\\nvalue = [0, 4]'),\n",
       " Text(202.0101265822785, 198.75375000000003, 'X[5] <= 15.373\\ngini = 0.444\\nsamples = 6\\nvalue = [4, 2]'),\n",
       " Text(194.24050632911394, 168.17624999999998, 'gini = 0.0\\nsamples = 3\\nvalue = [3, 0]'),\n",
       " Text(209.77974683544306, 168.17624999999998, 'X[8] <= 0.5\\ngini = 0.444\\nsamples = 3\\nvalue = [1, 2]'),\n",
       " Text(202.0101265822785, 137.59875, 'gini = 0.0\\nsamples = 2\\nvalue = [0, 2]'),\n",
       " Text(217.5493670886076, 137.59875, 'gini = 0.0\\nsamples = 1\\nvalue = [1, 0]'),\n",
       " Text(186.47088607594938, 351.64125, 'X[2] <= 55.0\\ngini = 0.278\\nsamples = 6\\nvalue = [5, 1]'),\n",
       " Text(178.70126582278482, 321.06375, 'gini = 0.0\\nsamples = 5\\nvalue = [5, 0]'),\n",
       " Text(194.24050632911394, 321.06375, 'gini = 0.0\\nsamples = 1\\nvalue = [0, 1]'),\n",
       " Text(209.77974683544306, 382.21875, 'X[0] <= 48.0\\ngini = 0.153\\nsamples = 12\\nvalue = [11, 1]'),\n",
       " Text(202.0101265822785, 351.64125, 'gini = 0.0\\nsamples = 1\\nvalue = [0, 1]'),\n",
       " Text(217.5493670886076, 351.64125, 'gini = 0.0\\nsamples = 11\\nvalue = [11, 0]'),\n",
       " Text(379.25458860759494, 443.37375000000003, 'X[5] <= 18.275\\ngini = 0.295\\nsamples = 323\\nvalue = [265, 58]'),\n",
       " Text(295.2455696202532, 412.79625, 'X[2] <= 7.835\\ngini = 0.184\\nsamples = 205\\nvalue = [184, 21]'),\n",
       " Text(287.4759493670886, 382.21875, 'gini = 0.0\\nsamples = 2\\nvalue = [0, 2]'),\n",
       " Text(303.01518987341774, 382.21875, 'X[0] <= 36.5\\ngini = 0.17\\nsamples = 203\\nvalue = [184, 19]'),\n",
       " Text(287.4759493670886, 351.64125, 'X[5] <= 11.75\\ngini = 0.48\\nsamples = 5\\nvalue = [2, 3]'),\n",
       " Text(279.7063291139241, 321.06375, 'X[8] <= 0.5\\ngini = 0.444\\nsamples = 3\\nvalue = [2, 1]'),\n",
       " Text(271.9367088607595, 290.48625000000004, 'gini = 0.0\\nsamples = 1\\nvalue = [0, 1]'),\n",
       " Text(287.4759493670886, 290.48625000000004, 'gini = 0.0\\nsamples = 2\\nvalue = [2, 0]'),\n",
       " Text(295.2455696202532, 321.06375, 'gini = 0.0\\nsamples = 2\\nvalue = [0, 2]'),\n",
       " Text(318.55443037974686, 351.64125, 'X[0] <= 224.5\\ngini = 0.149\\nsamples = 198\\nvalue = [182, 16]'),\n",
       " Text(310.78481012658233, 321.06375, 'gini = 0.0\\nsamples = 43\\nvalue = [43, 0]'),\n",
       " Text(326.3240506329114, 321.06375, 'X[0] <= 226.5\\ngini = 0.185\\nsamples = 155\\nvalue = [139, 16]'),\n",
       " Text(318.55443037974686, 290.48625000000004, 'gini = 0.0\\nsamples = 1\\nvalue = [0, 1]'),\n",
       " Text(334.093670886076, 290.48625000000004, 'X[0] <= 340.0\\ngini = 0.176\\nsamples = 154\\nvalue = [139, 15]'),\n",
       " Text(279.7063291139241, 259.90875, 'X[2] <= 37.5\\ngini = 0.351\\nsamples = 22\\nvalue = [17, 5]'),\n",
       " Text(264.16708860759496, 229.33125, 'X[3] <= 0.5\\ngini = 0.266\\nsamples = 19\\nvalue = [16, 3]'),\n",
       " Text(256.3974683544304, 198.75375000000003, 'X[5] <= 3.562\\ngini = 0.198\\nsamples = 18\\nvalue = [16, 2]'),\n",
       " Text(240.85822784810128, 168.17624999999998, 'X[0] <= 274.0\\ngini = 0.5\\nsamples = 2\\nvalue = [1, 1]'),\n",
       " Text(233.08860759493672, 137.59875, 'gini = 0.0\\nsamples = 1\\nvalue = [0, 1]'),\n",
       " Text(248.62784810126584, 137.59875, 'gini = 0.0\\nsamples = 1\\nvalue = [1, 0]'),\n",
       " Text(271.9367088607595, 168.17624999999998, 'X[2] <= 29.0\\ngini = 0.117\\nsamples = 16\\nvalue = [15, 1]'),\n",
       " Text(264.16708860759496, 137.59875, 'gini = 0.0\\nsamples = 13\\nvalue = [13, 0]'),\n",
       " Text(279.7063291139241, 137.59875, 'X[2] <= 31.5\\ngini = 0.444\\nsamples = 3\\nvalue = [2, 1]'),\n",
       " Text(271.9367088607595, 107.02125000000001, 'gini = 0.0\\nsamples = 1\\nvalue = [0, 1]'),\n",
       " Text(287.4759493670886, 107.02125000000001, 'gini = 0.0\\nsamples = 2\\nvalue = [2, 0]'),\n",
       " Text(271.9367088607595, 198.75375000000003, 'gini = 0.0\\nsamples = 1\\nvalue = [0, 1]'),\n",
       " Text(295.2455696202532, 229.33125, 'X[2] <= 52.0\\ngini = 0.444\\nsamples = 3\\nvalue = [1, 2]'),\n",
       " Text(287.4759493670886, 198.75375000000003, 'gini = 0.0\\nsamples = 2\\nvalue = [0, 2]'),\n",
       " Text(303.01518987341774, 198.75375000000003, 'gini = 0.0\\nsamples = 1\\nvalue = [1, 0]'),\n",
       " Text(388.4810126582279, 259.90875, 'X[2] <= 33.0\\ngini = 0.14\\nsamples = 132\\nvalue = [122, 10]'),\n",
       " Text(380.7113924050633, 229.33125, 'X[2] <= 28.75\\ngini = 0.174\\nsamples = 104\\nvalue = [94, 10]'),\n",
       " Text(357.40253164556964, 198.75375000000003, 'X[5] <= 8.688\\ngini = 0.123\\nsamples = 91\\nvalue = [85, 6]'),\n",
       " Text(349.6329113924051, 168.17624999999998, 'X[5] <= 8.081\\ngini = 0.175\\nsamples = 62\\nvalue = [56, 6]'),\n",
       " Text(326.3240506329114, 137.59875, 'X[2] <= 21.5\\ngini = 0.128\\nsamples = 58\\nvalue = [54, 4]'),\n",
       " Text(303.01518987341774, 107.02125000000001, 'X[2] <= 19.5\\ngini = 0.305\\nsamples = 16\\nvalue = [13, 3]'),\n",
       " Text(295.2455696202532, 76.44375000000002, 'gini = 0.0\\nsamples = 10\\nvalue = [10, 0]'),\n",
       " Text(310.78481012658233, 76.44375000000002, 'X[2] <= 20.5\\ngini = 0.5\\nsamples = 6\\nvalue = [3, 3]'),\n",
       " Text(303.01518987341774, 45.86624999999998, 'gini = 0.0\\nsamples = 2\\nvalue = [0, 2]'),\n",
       " Text(318.55443037974686, 45.86624999999998, 'X[0] <= 399.5\\ngini = 0.375\\nsamples = 4\\nvalue = [3, 1]'),\n",
       " Text(310.78481012658233, 15.288749999999993, 'gini = 0.0\\nsamples = 1\\nvalue = [0, 1]'),\n",
       " Text(326.3240506329114, 15.288749999999993, 'gini = 0.0\\nsamples = 3\\nvalue = [3, 0]'),\n",
       " Text(349.6329113924051, 107.02125000000001, 'X[5] <= 7.013\\ngini = 0.046\\nsamples = 42\\nvalue = [41, 1]'),\n",
       " Text(341.8632911392405, 76.44375000000002, 'X[2] <= 27.5\\ngini = 0.32\\nsamples = 5\\nvalue = [4, 1]'),\n",
       " Text(334.093670886076, 45.86624999999998, 'gini = 0.0\\nsamples = 1\\nvalue = [0, 1]'),\n",
       " Text(349.6329113924051, 45.86624999999998, 'gini = 0.0\\nsamples = 4\\nvalue = [4, 0]'),\n",
       " Text(357.40253164556964, 76.44375000000002, 'gini = 0.0\\nsamples = 37\\nvalue = [37, 0]'),\n",
       " Text(372.94177215189876, 137.59875, 'X[2] <= 22.5\\ngini = 0.5\\nsamples = 4\\nvalue = [2, 2]'),\n",
       " Text(365.1721518987342, 107.02125000000001, 'gini = 0.0\\nsamples = 2\\nvalue = [2, 0]'),\n",
       " Text(380.7113924050633, 107.02125000000001, 'gini = 0.0\\nsamples = 2\\nvalue = [0, 2]'),\n",
       " Text(365.1721518987342, 168.17624999999998, 'gini = 0.0\\nsamples = 29\\nvalue = [29, 0]'),\n",
       " Text(404.020253164557, 198.75375000000003, 'X[0] <= 746.5\\ngini = 0.426\\nsamples = 13\\nvalue = [9, 4]'),\n",
       " Text(396.2506329113924, 168.17624999999998, 'X[0] <= 499.0\\ngini = 0.5\\nsamples = 8\\nvalue = [4, 4]'),\n",
       " Text(388.4810126582279, 137.59875, 'gini = 0.0\\nsamples = 2\\nvalue = [2, 0]'),\n",
       " Text(404.020253164557, 137.59875, 'X[2] <= 31.5\\ngini = 0.444\\nsamples = 6\\nvalue = [2, 4]'),\n",
       " Text(396.2506329113924, 107.02125000000001, 'gini = 0.0\\nsamples = 3\\nvalue = [0, 3]'),\n",
       " Text(411.78987341772154, 107.02125000000001, 'X[5] <= 7.875\\ngini = 0.444\\nsamples = 3\\nvalue = [2, 1]'),\n",
       " Text(404.020253164557, 76.44375000000002, 'gini = 0.0\\nsamples = 1\\nvalue = [0, 1]'),\n",
       " Text(419.5594936708861, 76.44375000000002, 'gini = 0.0\\nsamples = 2\\nvalue = [2, 0]'),\n",
       " Text(411.78987341772154, 168.17624999999998, 'gini = 0.0\\nsamples = 5\\nvalue = [5, 0]'),\n",
       " Text(396.2506329113924, 229.33125, 'gini = 0.0\\nsamples = 28\\nvalue = [28, 0]'),\n",
       " Text(463.26360759493673, 412.79625, 'X[0] <= 164.5\\ngini = 0.43\\nsamples = 118\\nvalue = [81, 37]'),\n",
       " Text(411.78987341772154, 382.21875, 'X[3] <= 0.5\\ngini = 0.191\\nsamples = 28\\nvalue = [25, 3]'),\n",
       " Text(404.020253164557, 351.64125, 'X[0] <= 59.5\\ngini = 0.355\\nsamples = 13\\nvalue = [10, 3]'),\n",
       " Text(388.4810126582279, 321.06375, 'X[1] <= 1.5\\ngini = 0.444\\nsamples = 3\\nvalue = [1, 2]'),\n",
       " Text(380.7113924050633, 290.48625000000004, 'gini = 0.0\\nsamples = 2\\nvalue = [0, 2]'),\n",
       " Text(396.2506329113924, 290.48625000000004, 'gini = 0.0\\nsamples = 1\\nvalue = [1, 0]'),\n",
       " Text(419.5594936708861, 321.06375, 'X[2] <= 23.5\\ngini = 0.18\\nsamples = 10\\nvalue = [9, 1]'),\n",
       " Text(411.78987341772154, 290.48625000000004, 'X[2] <= 22.0\\ngini = 0.444\\nsamples = 3\\nvalue = [2, 1]'),\n",
       " Text(404.020253164557, 259.90875, 'gini = 0.0\\nsamples = 2\\nvalue = [2, 0]'),\n",
       " Text(419.5594936708861, 259.90875, 'gini = 0.0\\nsamples = 1\\nvalue = [0, 1]'),\n",
       " Text(427.32911392405066, 290.48625000000004, 'gini = 0.0\\nsamples = 7\\nvalue = [7, 0]'),\n",
       " Text(419.5594936708861, 351.64125, 'gini = 0.0\\nsamples = 15\\nvalue = [15, 0]'),\n",
       " Text(514.7373417721519, 382.21875, 'X[2] <= 5.5\\ngini = 0.47\\nsamples = 90\\nvalue = [56, 34]'),\n",
       " Text(485.60126582278485, 351.64125, 'X[5] <= 39.344\\ngini = 0.245\\nsamples = 7\\nvalue = [1, 6]'),\n",
       " Text(477.83164556962026, 321.06375, 'gini = 0.0\\nsamples = 6\\nvalue = [0, 6]'),\n",
       " Text(493.3708860759494, 321.06375, 'gini = 0.0\\nsamples = 1\\nvalue = [1, 0]'),\n",
       " Text(543.873417721519, 351.64125, 'X[2] <= 53.0\\ngini = 0.447\\nsamples = 83\\nvalue = [55, 28]'),\n",
       " Text(508.9101265822785, 321.06375, 'X[1] <= 1.5\\ngini = 0.474\\nsamples = 70\\nvalue = [43, 27]'),\n",
       " Text(462.2924050632912, 290.48625000000004, 'X[0] <= 403.5\\ngini = 0.5\\nsamples = 42\\nvalue = [21, 21]'),\n",
       " Text(435.0987341772152, 259.90875, 'X[5] <= 61.021\\ngini = 0.355\\nsamples = 13\\nvalue = [10, 3]'),\n",
       " Text(427.32911392405066, 229.33125, 'X[6] <= 0.5\\ngini = 0.469\\nsamples = 8\\nvalue = [5, 3]'),\n",
       " Text(419.5594936708861, 198.75375000000003, 'gini = 0.0\\nsamples = 2\\nvalue = [0, 2]'),\n",
       " Text(435.0987341772152, 198.75375000000003, 'X[8] <= 0.5\\ngini = 0.278\\nsamples = 6\\nvalue = [5, 1]'),\n",
       " Text(427.32911392405066, 168.17624999999998, 'X[2] <= 34.0\\ngini = 0.5\\nsamples = 2\\nvalue = [1, 1]'),\n",
       " Text(419.5594936708861, 137.59875, 'gini = 0.0\\nsamples = 1\\nvalue = [1, 0]'),\n",
       " Text(435.0987341772152, 137.59875, 'gini = 0.0\\nsamples = 1\\nvalue = [0, 1]'),\n",
       " Text(442.8683544303798, 168.17624999999998, 'gini = 0.0\\nsamples = 4\\nvalue = [4, 0]'),\n",
       " Text(442.8683544303798, 229.33125, 'gini = 0.0\\nsamples = 5\\nvalue = [5, 0]'),\n",
       " Text(489.48607594936715, 259.90875, 'X[5] <= 30.598\\ngini = 0.471\\nsamples = 29\\nvalue = [11, 18]'),\n",
       " Text(473.946835443038, 229.33125, 'X[0] <= 554.0\\ngini = 0.278\\nsamples = 12\\nvalue = [2, 10]'),\n",
       " Text(466.17721518987344, 198.75375000000003, 'X[0] <= 450.5\\ngini = 0.444\\nsamples = 6\\nvalue = [2, 4]'),\n",
       " Text(458.4075949367089, 168.17624999999998, 'gini = 0.0\\nsamples = 3\\nvalue = [0, 3]'),\n",
       " Text(473.946835443038, 168.17624999999998, 'X[2] <= 29.0\\ngini = 0.444\\nsamples = 3\\nvalue = [2, 1]'),\n",
       " Text(466.17721518987344, 137.59875, 'gini = 0.0\\nsamples = 1\\nvalue = [0, 1]'),\n",
       " Text(481.71645569620256, 137.59875, 'gini = 0.0\\nsamples = 2\\nvalue = [2, 0]'),\n",
       " Text(481.71645569620256, 198.75375000000003, 'gini = 0.0\\nsamples = 6\\nvalue = [0, 6]'),\n",
       " Text(505.0253164556962, 229.33125, 'X[5] <= 51.248\\ngini = 0.498\\nsamples = 17\\nvalue = [9, 8]'),\n",
       " Text(497.2556962025317, 198.75375000000003, 'gini = 0.0\\nsamples = 5\\nvalue = [5, 0]'),\n",
       " Text(512.7949367088607, 198.75375000000003, 'X[5] <= 77.79\\ngini = 0.444\\nsamples = 12\\nvalue = [4, 8]'),\n",
       " Text(505.0253164556962, 168.17624999999998, 'gini = 0.0\\nsamples = 4\\nvalue = [0, 4]'),\n",
       " Text(520.5645569620253, 168.17624999999998, 'X[0] <= 494.5\\ngini = 0.5\\nsamples = 8\\nvalue = [4, 4]'),\n",
       " Text(512.7949367088607, 137.59875, 'gini = 0.0\\nsamples = 2\\nvalue = [0, 2]'),\n",
       " Text(528.3341772151899, 137.59875, 'X[3] <= 0.5\\ngini = 0.444\\nsamples = 6\\nvalue = [4, 2]'),\n",
       " Text(520.5645569620253, 107.02125000000001, 'X[4] <= 0.5\\ngini = 0.444\\nsamples = 3\\nvalue = [1, 2]'),\n",
       " Text(512.7949367088607, 76.44375000000002, 'gini = 0.0\\nsamples = 1\\nvalue = [1, 0]'),\n",
       " Text(528.3341772151899, 76.44375000000002, 'gini = 0.0\\nsamples = 2\\nvalue = [0, 2]'),\n",
       " Text(536.1037974683545, 107.02125000000001, 'gini = 0.0\\nsamples = 3\\nvalue = [3, 0]'),\n",
       " Text(555.5278481012658, 290.48625000000004, 'X[3] <= 0.5\\ngini = 0.337\\nsamples = 28\\nvalue = [22, 6]'),\n",
       " Text(528.3341772151899, 259.90875, 'X[1] <= 2.5\\ngini = 0.494\\nsamples = 9\\nvalue = [5, 4]'),\n",
       " Text(520.5645569620253, 229.33125, 'gini = 0.0\\nsamples = 4\\nvalue = [4, 0]'),\n",
       " Text(536.1037974683545, 229.33125, 'X[7] <= 0.5\\ngini = 0.32\\nsamples = 5\\nvalue = [1, 4]'),\n",
       " Text(528.3341772151899, 198.75375000000003, 'gini = 0.0\\nsamples = 4\\nvalue = [0, 4]'),\n",
       " Text(543.873417721519, 198.75375000000003, 'gini = 0.0\\nsamples = 1\\nvalue = [1, 0]'),\n",
       " Text(582.7215189873418, 259.90875, 'X[0] <= 304.5\\ngini = 0.188\\nsamples = 19\\nvalue = [17, 2]'),\n",
       " Text(567.1822784810126, 229.33125, 'X[1] <= 2.5\\ngini = 0.5\\nsamples = 2\\nvalue = [1, 1]'),\n",
       " Text(559.4126582278482, 198.75375000000003, 'gini = 0.0\\nsamples = 1\\nvalue = [1, 0]'),\n",
       " Text(574.9518987341772, 198.75375000000003, 'gini = 0.0\\nsamples = 1\\nvalue = [0, 1]'),\n",
       " Text(598.2607594936709, 229.33125, 'X[0] <= 545.5\\ngini = 0.111\\nsamples = 17\\nvalue = [16, 1]'),\n",
       " Text(590.4911392405064, 198.75375000000003, 'X[0] <= 511.5\\ngini = 0.278\\nsamples = 6\\nvalue = [5, 1]'),\n",
       " Text(582.7215189873418, 168.17624999999998, 'gini = 0.0\\nsamples = 5\\nvalue = [5, 0]'),\n",
       " Text(598.2607594936709, 168.17624999999998, 'gini = 0.0\\nsamples = 1\\nvalue = [0, 1]'),\n",
       " Text(606.0303797468355, 198.75375000000003, 'gini = 0.0\\nsamples = 11\\nvalue = [11, 0]'),\n",
       " Text(578.8367088607596, 321.06375, 'X[2] <= 75.5\\ngini = 0.142\\nsamples = 13\\nvalue = [12, 1]'),\n",
       " Text(571.067088607595, 290.48625000000004, 'gini = 0.0\\nsamples = 12\\nvalue = [12, 0]'),\n",
       " Text(586.6063291139241, 290.48625000000004, 'gini = 0.0\\nsamples = 1\\nvalue = [0, 1]')]"
      ]
     },
     "execution_count": 78,
     "metadata": {},
     "output_type": "execute_result"
    },
    {
     "data": {
      "image/png": "[encoded data removed]",
      "text/plain": [
       "<Figure size 792x648 with 1 Axes>"
      ]
     },
     "metadata": {
      "needs_background": "light"
     },
     "output_type": "display_data"
    }
   ],
   "source": [
    "# this is garbage\n",
    "\n",
    "plot_tree(tree, filled=True, rounded=True)"
   ]
  },
  {
   "cell_type": "code",
   "execution_count": 79,
   "metadata": {},
   "outputs": [],
   "source": [
    "# now let's dive in and take a close look once we add some hyperparameters\n",
    "\n"
   ]
  },
  {
   "cell_type": "code",
   "execution_count": 80,
   "metadata": {},
   "outputs": [
    {
     "data": {
      "text/plain": [
       "DecisionTreeClassifier(max_leaf_nodes=4)"
      ]
     },
     "execution_count": 80,
     "metadata": {},
     "output_type": "execute_result"
    }
   ],
   "source": [
    "tree1 = DecisionTreeClassifier(max_leaf_nodes=4)\n",
    "tree1.fit(X_train, y_train)"
   ]
  },
  {
   "cell_type": "code",
   "execution_count": 81,
   "metadata": {},
   "outputs": [
    {
     "name": "stdout",
     "output_type": "stream",
     "text": [
      "training score: 79.92%\n",
      "validate score: 76.17%\n"
     ]
    }
   ],
   "source": [
    "print(f'training score: {tree1.score(X_train, y_train):.2%}')\n",
    "print(f'validate score: {tree1.score(X_validate, y_validate):.2%}')"
   ]
  },
  {
   "cell_type": "code",
   "execution_count": 82,
   "metadata": {},
   "outputs": [
    {
     "data": {
      "text/plain": [
       "[Text(306.90000000000003, 407.7, 'X[9] <= 0.5\\ngini = 0.473\\nsamples = 498\\nvalue = [307, 191]'),\n",
       " Text(153.45000000000002, 244.62, 'X[1] <= 2.5\\ngini = 0.365\\nsamples = 175\\nvalue = [42, 133]'),\n",
       " Text(76.72500000000001, 81.53999999999996, 'gini = 0.081\\nsamples = 94\\nvalue = [4, 90]'),\n",
       " Text(230.175, 81.53999999999996, 'gini = 0.498\\nsamples = 81\\nvalue = [38, 43]'),\n",
       " Text(460.35, 244.62, 'X[5] <= 18.275\\ngini = 0.295\\nsamples = 323\\nvalue = [265, 58]'),\n",
       " Text(383.62500000000006, 81.53999999999996, 'gini = 0.184\\nsamples = 205\\nvalue = [184, 21]'),\n",
       " Text(537.075, 81.53999999999996, 'gini = 0.43\\nsamples = 118\\nvalue = [81, 37]')]"
      ]
     },
     "execution_count": 82,
     "metadata": {},
     "output_type": "execute_result"
    },
    {
     "data": {
      "image/png": "[encoded data removed]",
      "text/plain": [
       "<Figure size 792x648 with 1 Axes>"
      ]
     },
     "metadata": {
      "needs_background": "light"
     },
     "output_type": "display_data"
    }
   ],
   "source": [
    "plot_tree(tree1, filled=True, rounded=True)"
   ]
  },
  {
   "cell_type": "markdown",
   "metadata": {},
   "source": [
    "3. Evaluate your in-sample results using the model score, confusion matrix, and classification report."
   ]
  },
  {
   "cell_type": "code",
   "execution_count": 83,
   "metadata": {},
   "outputs": [
    {
     "name": "stdout",
     "output_type": "stream",
     "text": [
      "Tree 1 training score: 79.92%\n",
      "Tree 1 validate score: 76.17%\n"
     ]
    }
   ],
   "source": [
    "print(f'Tree 1 training score: {tree1.score(X_train, y_train):.2%}')\n",
    "print(f'Tree 1 validate score: {tree1.score(X_validate, y_validate):.2%}')"
   ]
  },
  {
   "cell_type": "markdown",
   "metadata": {},
   "source": [
    "4. Compute: Accuracy, true positive rate, false positive rate, true negative rate, false negative rate, precision, recall, f1-score, and support."
   ]
  },
  {
   "cell_type": "code",
   "execution_count": 84,
   "metadata": {},
   "outputs": [
    {
     "data": {
      "text/html": [
       "<div>\n",
       "<style scoped>\n",
       "    .dataframe tbody tr th:only-of-type {\n",
       "        vertical-align: middle;\n",
       "    }\n",
       "\n",
       "    .dataframe tbody tr th {\n",
       "        vertical-align: top;\n",
       "    }\n",
       "\n",
       "    .dataframe thead th {\n",
       "        text-align: right;\n",
       "    }\n",
       "</style>\n",
       "<table border=\"1\" class=\"dataframe\">\n",
       "  <thead>\n",
       "    <tr style=\"text-align: right;\">\n",
       "      <th></th>\n",
       "      <th>passenger_id</th>\n",
       "      <th>survived</th>\n",
       "      <th>pclass</th>\n",
       "      <th>age</th>\n",
       "      <th>sibsp</th>\n",
       "      <th>parch</th>\n",
       "      <th>fare</th>\n",
       "      <th>alone</th>\n",
       "      <th>embarked_Q</th>\n",
       "      <th>embarked_S</th>\n",
       "      <th>sex_male</th>\n",
       "      <th>prediction</th>\n",
       "    </tr>\n",
       "  </thead>\n",
       "  <tbody>\n",
       "    <tr>\n",
       "      <th>583</th>\n",
       "      <td>583</td>\n",
       "      <td>0</td>\n",
       "      <td>1</td>\n",
       "      <td>36.0</td>\n",
       "      <td>0</td>\n",
       "      <td>0</td>\n",
       "      <td>40.1250</td>\n",
       "      <td>1</td>\n",
       "      <td>0</td>\n",
       "      <td>0</td>\n",
       "      <td>1</td>\n",
       "      <td>0</td>\n",
       "    </tr>\n",
       "    <tr>\n",
       "      <th>165</th>\n",
       "      <td>165</td>\n",
       "      <td>1</td>\n",
       "      <td>3</td>\n",
       "      <td>9.0</td>\n",
       "      <td>0</td>\n",
       "      <td>2</td>\n",
       "      <td>20.5250</td>\n",
       "      <td>0</td>\n",
       "      <td>0</td>\n",
       "      <td>1</td>\n",
       "      <td>1</td>\n",
       "      <td>0</td>\n",
       "    </tr>\n",
       "    <tr>\n",
       "      <th>50</th>\n",
       "      <td>50</td>\n",
       "      <td>0</td>\n",
       "      <td>3</td>\n",
       "      <td>7.0</td>\n",
       "      <td>4</td>\n",
       "      <td>1</td>\n",
       "      <td>39.6875</td>\n",
       "      <td>0</td>\n",
       "      <td>0</td>\n",
       "      <td>1</td>\n",
       "      <td>1</td>\n",
       "      <td>0</td>\n",
       "    </tr>\n",
       "    <tr>\n",
       "      <th>259</th>\n",
       "      <td>259</td>\n",
       "      <td>1</td>\n",
       "      <td>2</td>\n",
       "      <td>50.0</td>\n",
       "      <td>0</td>\n",
       "      <td>1</td>\n",
       "      <td>26.0000</td>\n",
       "      <td>0</td>\n",
       "      <td>0</td>\n",
       "      <td>1</td>\n",
       "      <td>0</td>\n",
       "      <td>1</td>\n",
       "    </tr>\n",
       "    <tr>\n",
       "      <th>306</th>\n",
       "      <td>306</td>\n",
       "      <td>1</td>\n",
       "      <td>1</td>\n",
       "      <td>28.0</td>\n",
       "      <td>0</td>\n",
       "      <td>0</td>\n",
       "      <td>110.8833</td>\n",
       "      <td>1</td>\n",
       "      <td>0</td>\n",
       "      <td>0</td>\n",
       "      <td>0</td>\n",
       "      <td>1</td>\n",
       "    </tr>\n",
       "  </tbody>\n",
       "</table>\n",
       "</div>"
      ],
      "text/plain": [
       "     passenger_id  survived  pclass   age  sibsp  parch      fare  alone  \\\n",
       "583           583         0       1  36.0      0      0   40.1250      1   \n",
       "165           165         1       3   9.0      0      2   20.5250      0   \n",
       "50             50         0       3   7.0      4      1   39.6875      0   \n",
       "259           259         1       2  50.0      0      1   26.0000      0   \n",
       "306           306         1       1  28.0      0      0  110.8833      1   \n",
       "\n",
       "     embarked_Q  embarked_S  sex_male  prediction  \n",
       "583           0           0         1           0  \n",
       "165           0           1         1           0  \n",
       "50            0           1         1           0  \n",
       "259           0           1         0           1  \n",
       "306           0           0         0           1  "
      ]
     },
     "execution_count": 84,
     "metadata": {},
     "output_type": "execute_result"
    }
   ],
   "source": [
    "# let's add the predictions to the df\n",
    "\n",
    "train['prediction'] = tree1.predict(X_train)\n",
    "train.head()"
   ]
  },
  {
   "cell_type": "code",
   "execution_count": 85,
   "metadata": {},
   "outputs": [
    {
     "data": {
      "text/plain": [
       "array([[265,  42],\n",
       "       [ 58, 133]])"
      ]
     },
     "execution_count": 85,
     "metadata": {},
     "output_type": "execute_result"
    }
   ],
   "source": [
    "# confusion matrix\n",
    "confusion_matrix(train.survived, train.prediction)"
   ]
  },
  {
   "cell_type": "code",
   "execution_count": 86,
   "metadata": {},
   "outputs": [
    {
     "data": {
      "text/plain": [
       "0    307\n",
       "1    191\n",
       "Name: survived, dtype: int64"
      ]
     },
     "execution_count": 86,
     "metadata": {},
     "output_type": "execute_result"
    }
   ],
   "source": [
    "train['survived'].value_counts()"
   ]
  },
  {
   "cell_type": "code",
   "execution_count": 87,
   "metadata": {},
   "outputs": [
    {
     "data": {
      "text/plain": [
       "0    323\n",
       "1    175\n",
       "Name: prediction, dtype: int64"
      ]
     },
     "execution_count": 87,
     "metadata": {},
     "output_type": "execute_result"
    }
   ],
   "source": [
    "train.prediction.value_counts()"
   ]
  },
  {
   "cell_type": "code",
   "execution_count": 88,
   "metadata": {},
   "outputs": [],
   "source": [
    "pre1_df = pd.DataFrame([['TN', 'FP'],['FN', 'TP']], index=['actual death', 'actual survived'], columns=['pred death', 'pred survived'])"
   ]
  },
  {
   "cell_type": "code",
   "execution_count": 89,
   "metadata": {},
   "outputs": [
    {
     "data": {
      "text/html": [
       "<div>\n",
       "<style scoped>\n",
       "    .dataframe tbody tr th:only-of-type {\n",
       "        vertical-align: middle;\n",
       "    }\n",
       "\n",
       "    .dataframe tbody tr th {\n",
       "        vertical-align: top;\n",
       "    }\n",
       "\n",
       "    .dataframe thead th {\n",
       "        text-align: right;\n",
       "    }\n",
       "</style>\n",
       "<table border=\"1\" class=\"dataframe\">\n",
       "  <thead>\n",
       "    <tr style=\"text-align: right;\">\n",
       "      <th></th>\n",
       "      <th>pred death</th>\n",
       "      <th>pred survived</th>\n",
       "    </tr>\n",
       "  </thead>\n",
       "  <tbody>\n",
       "    <tr>\n",
       "      <th>actual death</th>\n",
       "      <td>TN : 265</td>\n",
       "      <td>FP : 42</td>\n",
       "    </tr>\n",
       "    <tr>\n",
       "      <th>actual survived</th>\n",
       "      <td>FN : 58</td>\n",
       "      <td>TP : 133</td>\n",
       "    </tr>\n",
       "  </tbody>\n",
       "</table>\n",
       "</div>"
      ],
      "text/plain": [
       "                pred death pred survived\n",
       "actual death      TN : 265       FP : 42\n",
       "actual survived    FN : 58      TP : 133"
      ]
     },
     "execution_count": 89,
     "metadata": {},
     "output_type": "execute_result"
    }
   ],
   "source": [
    "# Carl Sagan went to outer space to find Madeleine's code...\n",
    "pre1_df + ' : ' + confusion_matrix(train.survived, train.prediction).astype(str)"
   ]
  },
  {
   "cell_type": "code",
   "execution_count": null,
   "metadata": {},
   "outputs": [],
   "source": [
    "\n",
    "\n",
    "                "
   ]
  },
  {
   "cell_type": "code",
   "execution_count": 90,
   "metadata": {},
   "outputs": [],
   "source": [
    "# 1st 4 create the variables\n",
    "tp = 141\n",
    "tn = 261\n",
    "fp = 46\n",
    "fn = 50\n",
    "# these calculate the rates\n",
    "tpr = tp/(tp+fn)\n",
    "fpr = fp/(fp+tn)\n",
    "tnr = tn/(tn+fp)\n",
    "fnr = fn/(fn+tp)"
   ]
  },
  {
   "cell_type": "code",
   "execution_count": 91,
   "metadata": {},
   "outputs": [
    {
     "data": {
      "text/html": [
       "<div>\n",
       "<style scoped>\n",
       "    .dataframe tbody tr th:only-of-type {\n",
       "        vertical-align: middle;\n",
       "    }\n",
       "\n",
       "    .dataframe tbody tr th {\n",
       "        vertical-align: top;\n",
       "    }\n",
       "\n",
       "    .dataframe thead th {\n",
       "        text-align: right;\n",
       "    }\n",
       "</style>\n",
       "<table border=\"1\" class=\"dataframe\">\n",
       "  <thead>\n",
       "    <tr style=\"text-align: right;\">\n",
       "      <th></th>\n",
       "      <th>precision</th>\n",
       "      <th>recall</th>\n",
       "      <th>f1-score</th>\n",
       "      <th>support</th>\n",
       "    </tr>\n",
       "  </thead>\n",
       "  <tbody>\n",
       "    <tr>\n",
       "      <th>0</th>\n",
       "      <td>0.820433</td>\n",
       "      <td>0.863192</td>\n",
       "      <td>0.841270</td>\n",
       "      <td>307.000000</td>\n",
       "    </tr>\n",
       "    <tr>\n",
       "      <th>1</th>\n",
       "      <td>0.760000</td>\n",
       "      <td>0.696335</td>\n",
       "      <td>0.726776</td>\n",
       "      <td>191.000000</td>\n",
       "    </tr>\n",
       "    <tr>\n",
       "      <th>accuracy</th>\n",
       "      <td>0.799197</td>\n",
       "      <td>0.799197</td>\n",
       "      <td>0.799197</td>\n",
       "      <td>0.799197</td>\n",
       "    </tr>\n",
       "    <tr>\n",
       "      <th>macro avg</th>\n",
       "      <td>0.790217</td>\n",
       "      <td>0.779764</td>\n",
       "      <td>0.784023</td>\n",
       "      <td>498.000000</td>\n",
       "    </tr>\n",
       "    <tr>\n",
       "      <th>weighted avg</th>\n",
       "      <td>0.797255</td>\n",
       "      <td>0.799197</td>\n",
       "      <td>0.797358</td>\n",
       "      <td>498.000000</td>\n",
       "    </tr>\n",
       "  </tbody>\n",
       "</table>\n",
       "</div>"
      ],
      "text/plain": [
       "              precision    recall  f1-score     support\n",
       "0              0.820433  0.863192  0.841270  307.000000\n",
       "1              0.760000  0.696335  0.726776  191.000000\n",
       "accuracy       0.799197  0.799197  0.799197    0.799197\n",
       "macro avg      0.790217  0.779764  0.784023  498.000000\n",
       "weighted avg   0.797255  0.799197  0.797358  498.000000"
      ]
     },
     "execution_count": 91,
     "metadata": {},
     "output_type": "execute_result"
    }
   ],
   "source": [
    "# accuracy\n",
    "accuracy_1 = (train.survived == train.prediction).mean()\n",
    "# Precision\n",
    "subset = train[train.prediction == 1]\n",
    "precision_t1 = (subset.prediction == subset.survived).mean()\n",
    "# Recall\n",
    "subset = train[train.survived == 1]\n",
    "recall_t1 = (subset.prediction == subset.survived).mean()\n",
    "# f1-score\n",
    "\n",
    "\n",
    "pd.DataFrame(classification_report(train.survived, train.prediction, output_dict=True)).T"
   ]
  },
  {
   "cell_type": "code",
   "execution_count": 92,
   "metadata": {},
   "outputs": [
    {
     "name": "stdout",
     "output_type": "stream",
     "text": [
      "The overall Accuracy is 79.92%\n",
      "The True Positive rate is 73.82%\n",
      "The False Positive rate is 14.98%\n",
      "The True Negative rate is 85.02%\n",
      "The False Negative rate is 26.18%\n",
      "Precision for tree 1 is 76.00%\n",
      "Recall for tree 1 is 69.63%\n"
     ]
    }
   ],
   "source": [
    "print(f'The overall Accuracy is {accuracy_1:.2%}')\n",
    "print(f'The True Positive rate is {tpr:.2%}')\n",
    "print(f'The False Positive rate is {fpr:.2%}')\n",
    "print(f'The True Negative rate is {tnr:.2%}')\n",
    "print(f'The False Negative rate is {fnr:.2%}')\n",
    "print(f'Precision for tree 1 is {precision_t1:.2%}')\n",
    "print(f'Recall for tree 1 is {recall_t1:.2%}')"
   ]
  },
  {
   "cell_type": "code",
   "execution_count": 93,
   "metadata": {},
   "outputs": [],
   "source": [
    "classification = classification_report(train.survived, train.prediction, target_names=['Survive', 'Death'])"
   ]
  },
  {
   "cell_type": "code",
   "execution_count": 94,
   "metadata": {},
   "outputs": [
    {
     "data": {
      "text/html": [
       "<div>\n",
       "<style scoped>\n",
       "    .dataframe tbody tr th:only-of-type {\n",
       "        vertical-align: middle;\n",
       "    }\n",
       "\n",
       "    .dataframe tbody tr th {\n",
       "        vertical-align: top;\n",
       "    }\n",
       "\n",
       "    .dataframe thead th {\n",
       "        text-align: right;\n",
       "    }\n",
       "</style>\n",
       "<table border=\"1\" class=\"dataframe\">\n",
       "  <thead>\n",
       "    <tr style=\"text-align: right;\">\n",
       "      <th></th>\n",
       "      <th>0</th>\n",
       "      <th>1</th>\n",
       "      <th>accuracy</th>\n",
       "      <th>macro avg</th>\n",
       "      <th>weighted avg</th>\n",
       "    </tr>\n",
       "  </thead>\n",
       "  <tbody>\n",
       "    <tr>\n",
       "      <th>precision</th>\n",
       "      <td>0.820433</td>\n",
       "      <td>0.760000</td>\n",
       "      <td>0.799197</td>\n",
       "      <td>0.790217</td>\n",
       "      <td>0.797255</td>\n",
       "    </tr>\n",
       "    <tr>\n",
       "      <th>recall</th>\n",
       "      <td>0.863192</td>\n",
       "      <td>0.696335</td>\n",
       "      <td>0.799197</td>\n",
       "      <td>0.779764</td>\n",
       "      <td>0.799197</td>\n",
       "    </tr>\n",
       "    <tr>\n",
       "      <th>f1-score</th>\n",
       "      <td>0.841270</td>\n",
       "      <td>0.726776</td>\n",
       "      <td>0.799197</td>\n",
       "      <td>0.784023</td>\n",
       "      <td>0.797358</td>\n",
       "    </tr>\n",
       "    <tr>\n",
       "      <th>support</th>\n",
       "      <td>307.000000</td>\n",
       "      <td>191.000000</td>\n",
       "      <td>0.799197</td>\n",
       "      <td>498.000000</td>\n",
       "      <td>498.000000</td>\n",
       "    </tr>\n",
       "  </tbody>\n",
       "</table>\n",
       "</div>"
      ],
      "text/plain": [
       "                    0           1  accuracy   macro avg  weighted avg\n",
       "precision    0.820433    0.760000  0.799197    0.790217      0.797255\n",
       "recall       0.863192    0.696335  0.799197    0.779764      0.799197\n",
       "f1-score     0.841270    0.726776  0.799197    0.784023      0.797358\n",
       "support    307.000000  191.000000  0.799197  498.000000    498.000000"
      ]
     },
     "execution_count": 94,
     "metadata": {},
     "output_type": "execute_result"
    }
   ],
   "source": [
    "accuracy = accuracy_score(train.survived, train.prediction)\n",
    "precision = precision_score(train.survived, train.prediction, pos_label=1)\n",
    "recall = recall_score(train.survived, train.prediction, pos_label=1)\n",
    "classification = classification_report(train.survived, train.prediction, output_dict=True)\n",
    "pd.DataFrame(classification)"
   ]
  },
  {
   "cell_type": "markdown",
   "metadata": {},
   "source": [
    "5. Run through steps 2-4 using a different max_depth value."
   ]
  },
  {
   "cell_type": "code",
   "execution_count": 95,
   "metadata": {},
   "outputs": [
    {
     "data": {
      "text/plain": [
       "DecisionTreeClassifier(max_depth=4)"
      ]
     },
     "execution_count": 95,
     "metadata": {},
     "output_type": "execute_result"
    }
   ],
   "source": [
    "tree2 = DecisionTreeClassifier(max_depth=4)\n",
    "tree2.fit(X_train, y_train)"
   ]
  },
  {
   "cell_type": "code",
   "execution_count": 96,
   "metadata": {},
   "outputs": [
    {
     "name": "stdout",
     "output_type": "stream",
     "text": [
      "training score: 84.74%\n",
      "validate score: 78.97%\n"
     ]
    }
   ],
   "source": [
    "print(f'training score: {tree2.score(X_train, y_train):.2%}')\n",
    "print(f'validate score: {tree2.score(X_validate, y_validate):.2%}')"
   ]
  },
  {
   "cell_type": "code",
   "execution_count": 97,
   "metadata": {},
   "outputs": [],
   "source": [
    "train['prediction_2'] = tree2.predict(X_train)"
   ]
  },
  {
   "cell_type": "code",
   "execution_count": 98,
   "metadata": {},
   "outputs": [],
   "source": [
    "pre2_df = pd.DataFrame([['TN', 'FP'],['FN', 'TP']], index=['actual death', 'actual survived'], columns=['pred_2 death', 'pred_2 survived'])"
   ]
  },
  {
   "cell_type": "code",
   "execution_count": 99,
   "metadata": {},
   "outputs": [
    {
     "data": {
      "text/html": [
       "<div>\n",
       "<style scoped>\n",
       "    .dataframe tbody tr th:only-of-type {\n",
       "        vertical-align: middle;\n",
       "    }\n",
       "\n",
       "    .dataframe tbody tr th {\n",
       "        vertical-align: top;\n",
       "    }\n",
       "\n",
       "    .dataframe thead th {\n",
       "        text-align: right;\n",
       "    }\n",
       "</style>\n",
       "<table border=\"1\" class=\"dataframe\">\n",
       "  <thead>\n",
       "    <tr style=\"text-align: right;\">\n",
       "      <th></th>\n",
       "      <th>pred_2 death</th>\n",
       "      <th>pred_2 survived</th>\n",
       "    </tr>\n",
       "  </thead>\n",
       "  <tbody>\n",
       "    <tr>\n",
       "      <th>actual death</th>\n",
       "      <td>TN : 279</td>\n",
       "      <td>FP : 28</td>\n",
       "    </tr>\n",
       "    <tr>\n",
       "      <th>actual survived</th>\n",
       "      <td>FN : 48</td>\n",
       "      <td>TP : 143</td>\n",
       "    </tr>\n",
       "  </tbody>\n",
       "</table>\n",
       "</div>"
      ],
      "text/plain": [
       "                pred_2 death pred_2 survived\n",
       "actual death        TN : 279         FP : 28\n",
       "actual survived      FN : 48        TP : 143"
      ]
     },
     "execution_count": 99,
     "metadata": {},
     "output_type": "execute_result"
    }
   ],
   "source": [
    "pre2_df + ' : ' + confusion_matrix(train.survived, train.prediction_2).astype(str)"
   ]
  },
  {
   "cell_type": "code",
   "execution_count": 100,
   "metadata": {},
   "outputs": [],
   "source": [
    "tp = 140\n",
    "tn = 281\n",
    "fp = 26\n",
    "fn = 51\n",
    "tpr = tp/(tp+fn)\n",
    "fpr = fp/(fp+tn)\n",
    "tnr = tn/(tn+fp)\n",
    "fnr = fn/(fn+tp)"
   ]
  },
  {
   "cell_type": "code",
   "execution_count": 101,
   "metadata": {},
   "outputs": [],
   "source": [
    "# accuracy\n",
    "accuracy_2 = (train.survived == train.prediction_2).mean()\n",
    "# Precision\n",
    "subset = train[train.prediction_2 == 1]\n",
    "precision_t2 = (subset.prediction_2 == subset.survived).mean()\n",
    "# Recall\n",
    "subset = train[train.survived == 1]\n",
    "recall_t2 = (subset.prediction_2 == subset.survived).mean()\n",
    "# f1-score\n",
    "\n",
    "\n",
    "class_report = pd.DataFrame(classification_report(train.survived, train.prediction_2, output_dict=True)).T"
   ]
  },
  {
   "cell_type": "code",
   "execution_count": 102,
   "metadata": {},
   "outputs": [],
   "source": [
    "class_report = class_report.rename(index={'0': 'Died', '1': 'Survived'})"
   ]
  },
  {
   "cell_type": "code",
   "execution_count": 103,
   "metadata": {},
   "outputs": [
    {
     "data": {
      "text/html": [
       "<div>\n",
       "<style scoped>\n",
       "    .dataframe tbody tr th:only-of-type {\n",
       "        vertical-align: middle;\n",
       "    }\n",
       "\n",
       "    .dataframe tbody tr th {\n",
       "        vertical-align: top;\n",
       "    }\n",
       "\n",
       "    .dataframe thead th {\n",
       "        text-align: right;\n",
       "    }\n",
       "</style>\n",
       "<table border=\"1\" class=\"dataframe\">\n",
       "  <thead>\n",
       "    <tr style=\"text-align: right;\">\n",
       "      <th></th>\n",
       "      <th>precision</th>\n",
       "      <th>recall</th>\n",
       "      <th>f1-score</th>\n",
       "      <th>support</th>\n",
       "    </tr>\n",
       "  </thead>\n",
       "  <tbody>\n",
       "    <tr>\n",
       "      <th>Died</th>\n",
       "      <td>0.853211</td>\n",
       "      <td>0.908795</td>\n",
       "      <td>0.880126</td>\n",
       "      <td>307.00000</td>\n",
       "    </tr>\n",
       "    <tr>\n",
       "      <th>Survived</th>\n",
       "      <td>0.836257</td>\n",
       "      <td>0.748691</td>\n",
       "      <td>0.790055</td>\n",
       "      <td>191.00000</td>\n",
       "    </tr>\n",
       "    <tr>\n",
       "      <th>accuracy</th>\n",
       "      <td>0.847390</td>\n",
       "      <td>0.847390</td>\n",
       "      <td>0.847390</td>\n",
       "      <td>0.84739</td>\n",
       "    </tr>\n",
       "    <tr>\n",
       "      <th>macro avg</th>\n",
       "      <td>0.844734</td>\n",
       "      <td>0.828743</td>\n",
       "      <td>0.835091</td>\n",
       "      <td>498.00000</td>\n",
       "    </tr>\n",
       "    <tr>\n",
       "      <th>weighted avg</th>\n",
       "      <td>0.846709</td>\n",
       "      <td>0.847390</td>\n",
       "      <td>0.845581</td>\n",
       "      <td>498.00000</td>\n",
       "    </tr>\n",
       "  </tbody>\n",
       "</table>\n",
       "</div>"
      ],
      "text/plain": [
       "              precision    recall  f1-score    support\n",
       "Died           0.853211  0.908795  0.880126  307.00000\n",
       "Survived       0.836257  0.748691  0.790055  191.00000\n",
       "accuracy       0.847390  0.847390  0.847390    0.84739\n",
       "macro avg      0.844734  0.828743  0.835091  498.00000\n",
       "weighted avg   0.846709  0.847390  0.845581  498.00000"
      ]
     },
     "execution_count": 103,
     "metadata": {},
     "output_type": "execute_result"
    }
   ],
   "source": [
    "class_report"
   ]
  },
  {
   "cell_type": "code",
   "execution_count": null,
   "metadata": {},
   "outputs": [],
   "source": []
  },
  {
   "cell_type": "code",
   "execution_count": 277,
   "metadata": {},
   "outputs": [
    {
     "name": "stdout",
     "output_type": "stream",
     "text": [
      "The overall Accuracy of Tree 2 is 84.54%\n",
      "The True Positive rate of Tree 2 is 73.30%\n",
      "The False Positive rate Tree 2 is 8.47%\n",
      "The True Negative rate of Tree 2 is 91.53%\n",
      "The False Negative rate of Tree 2 is 26.70%\n",
      "Precision for tree 2 is 84.34%\n",
      "Recall for tree 2 is 73.30%\n"
     ]
    }
   ],
   "source": [
    "print(f'The overall Accuracy of Tree 2 is {accuracy_2:.2%}')\n",
    "print(f'The True Positive rate of Tree 2 is {tpr:.2%}')\n",
    "print(f'The False Positive rate Tree 2 is {fpr:.2%}')\n",
    "print(f'The True Negative rate of Tree 2 is {tnr:.2%}')\n",
    "print(f'The False Negative rate of Tree 2 is {fnr:.2%}')\n",
    "print(f'Precision for tree 2 is {precision_t2:.2%}')\n",
    "print(f'Recall for tree 2 is {recall_t2:.2%}')"
   ]
  },
  {
   "cell_type": "markdown",
   "metadata": {},
   "source": [
    "6. Which model performs better on your in-sample data?"
   ]
  },
  {
   "cell_type": "code",
   "execution_count": null,
   "metadata": {},
   "outputs": [],
   "source": [
    "# model 2 performs better on my train set\n",
    "# it is (at least slightly) overfit"
   ]
  },
  {
   "cell_type": "markdown",
   "metadata": {},
   "source": [
    "7. Which model performs best on your out-of-sample data, the validate set?"
   ]
  },
  {
   "cell_type": "code",
   "execution_count": 199,
   "metadata": {},
   "outputs": [],
   "source": [
    "# model 2 also performs better on the validate set"
   ]
  },
  {
   "cell_type": "code",
   "execution_count": 112,
   "metadata": {},
   "outputs": [],
   "source": [
    "# save for later... Thanks Heather, and Parker, and Chad\n",
    "\n",
    "def run_metrics(model, data_set):\n",
    "    \"\"\"\n",
    "    This function takes in a model and ouputs metrics. \n",
    "    model = name of class model\n",
    "    data_set = train, validate, test (AS A STRING)\n",
    "    Will output the Precision Score, the classification report, and the confusion matrix\n",
    "    It is advisable to print the name of the model you're working with before hand for clarity\n",
    "    i.e. print('Metrics for Model 1 with Train data\\n')\n",
    "    \"\"\"\n",
    "    if data_set == 'train':\n",
    "        X = X_train\n",
    "        y = y_train\n",
    "        df = train\n",
    "    if data_set == 'validate':\n",
    "        X = X_validate\n",
    "        y = y_validate\n",
    "        df = validate\n",
    "    if data_set == 'test':\n",
    "        X = X_test\n",
    "        y = y_test\n",
    "        df = test\n",
    "    score = model.score(X, y)\n",
    "    matrix = confusion_matrix(y, model.predict(X))\n",
    "    tpr = matrix[1,1] / (matrix[1,1] + matrix[1,0])\n",
    "    fpr = matrix[0,1] / (matrix[0,1] + matrix[0,0])\n",
    "    tnr = matrix[0,0] / (matrix[0,0] + matrix[0,1])\n",
    "    fnr = matrix[1,0] / (matrix[1,1] + matrix[1,0])\n",
    "    print(f'{data_set} data set accuracy score: {score:.2%}')\n",
    "    class_report = classification_report(y, model.predict(X), zero_division=True)\n",
    "    print('-------------------------------')\n",
    "    print(f'classification report')\n",
    "    print(class_report)\n",
    "    print ('-------------------------------')\n",
    "    print('')\n",
    "    print('confusion matrix')\n",
    "    print(matrix)\n",
    "    print(' ')\n",
    "    print(f'{data_set} data set model metrics')\n",
    "    print('---------------------------------')\n",
    "    print(f'True positive rate for the model is {tpr:.2%}')\n",
    "    print(f'False positive rate for the model is  {fpr:.2%}')\n",
    "    print(f'True negative rate for the model is {tnr:.2%}')\n",
    "    print(f'False negative rate for the model is {fnr:.2%}')"
   ]
  },
  {
   "cell_type": "markdown",
   "metadata": {},
   "source": [
    "1. Fit the Random Forest classifier to your training sample and transform (i.e. make predictions on the training sample) setting the random_state accordingly and setting min_samples_leaf = 1 and max_depth = 10.\n",
    "\n"
   ]
  },
  {
   "cell_type": "code",
   "execution_count": 113,
   "metadata": {},
   "outputs": [],
   "source": [
    "rf1 = RandomForestClassifier(bootstrap=True, \n",
    "                            class_weight=None, \n",
    "                            criterion='gini',\n",
    "                            min_samples_leaf=1,\n",
    "                            n_estimators=100,\n",
    "                            max_depth=10, \n",
    "                            random_state=1221)"
   ]
  },
  {
   "cell_type": "code",
   "execution_count": 114,
   "metadata": {},
   "outputs": [
    {
     "data": {
      "text/plain": [
       "RandomForestClassifier(max_depth=10, random_state=1221)"
      ]
     },
     "execution_count": 114,
     "metadata": {},
     "output_type": "execute_result"
    }
   ],
   "source": [
    "rf1.fit(X_train, y_train)"
   ]
  },
  {
   "cell_type": "code",
   "execution_count": 115,
   "metadata": {},
   "outputs": [],
   "source": [
    "y_pred = rf1.predict(X_train)"
   ]
  },
  {
   "cell_type": "code",
   "execution_count": 116,
   "metadata": {},
   "outputs": [],
   "source": [
    "y_pred_proba = rf1.predict_proba(X_train)"
   ]
  },
  {
   "cell_type": "code",
   "execution_count": 117,
   "metadata": {},
   "outputs": [
    {
     "name": "stdout",
     "output_type": "stream",
     "text": [
      "Accuracy of random forest classifier on training set: 0.98\n"
     ]
    }
   ],
   "source": [
    "print('Accuracy of random forest classifier on training set: {:.2f}'\n",
    "     .format(rf1.score(X_train, y_train)))"
   ]
  },
  {
   "cell_type": "code",
   "execution_count": 118,
   "metadata": {},
   "outputs": [
    {
     "name": "stdout",
     "output_type": "stream",
     "text": [
      "[[307   0]\n",
      " [ 12 179]]\n"
     ]
    }
   ],
   "source": [
    "print(confusion_matrix(y_train, y_pred))"
   ]
  },
  {
   "cell_type": "code",
   "execution_count": 119,
   "metadata": {},
   "outputs": [
    {
     "name": "stdout",
     "output_type": "stream",
     "text": [
      "train data set accuracy score: 97.59%\n",
      "-------------------------------\n",
      "classification report\n",
      "              precision    recall  f1-score   support\n",
      "\n",
      "           0       0.96      1.00      0.98       307\n",
      "           1       1.00      0.94      0.97       191\n",
      "\n",
      "    accuracy                           0.98       498\n",
      "   macro avg       0.98      0.97      0.97       498\n",
      "weighted avg       0.98      0.98      0.98       498\n",
      "\n",
      "-------------------------------\n",
      "\n",
      "confusion matrix\n",
      "[[307   0]\n",
      " [ 12 179]]\n",
      " \n",
      "train data set model metrics\n",
      "---------------------------------\n",
      "True positive rate for the model is 93.72%\n",
      "False positive rate for the model is  0.00%\n",
      "True negative rate for the model is 100.00%\n",
      "False negative rate for the model is 6.28%\n"
     ]
    }
   ],
   "source": [
    "run_metrics(rf1, 'train')"
   ]
  },
  {
   "cell_type": "code",
   "execution_count": null,
   "metadata": {},
   "outputs": [],
   "source": []
  },
  {
   "cell_type": "markdown",
   "metadata": {},
   "source": [
    "2. Evaluate your results using the model score, confusion matrix, and classification report."
   ]
  },
  {
   "cell_type": "code",
   "execution_count": null,
   "metadata": {},
   "outputs": [],
   "source": []
  },
  {
   "cell_type": "markdown",
   "metadata": {},
   "source": [
    "3. Print and clearly label the following: Accuracy, true positive rate, false positive rate, true negative rate, false negative rate, precision, recall, f1-score, and support."
   ]
  },
  {
   "cell_type": "code",
   "execution_count": null,
   "metadata": {},
   "outputs": [],
   "source": []
  },
  {
   "cell_type": "markdown",
   "metadata": {},
   "source": [
    "4. Run through steps increasing your min_samples_leaf and decreasing your max_depth."
   ]
  },
  {
   "cell_type": "code",
   "execution_count": 222,
   "metadata": {},
   "outputs": [],
   "source": [
    "rf2 = RandomForestClassifier(bootstrap=True, \n",
    "                            class_weight=None, \n",
    "                            criterion='gini',\n",
    "                            min_samples_leaf=3,\n",
    "                            n_estimators=100,\n",
    "                            max_depth=8, \n",
    "                            random_state=1221)"
   ]
  },
  {
   "cell_type": "code",
   "execution_count": 228,
   "metadata": {},
   "outputs": [
    {
     "name": "stdout",
     "output_type": "stream",
     "text": [
      "train data set accuracy score: 87.15%\n",
      "-------------------------------\n",
      "classification report\n",
      "              precision    recall  f1-score   support\n",
      "\n",
      "           0       0.87      0.93      0.90       307\n",
      "           1       0.87      0.79      0.82       191\n",
      "\n",
      "    accuracy                           0.87       498\n",
      "   macro avg       0.87      0.86      0.86       498\n",
      "weighted avg       0.87      0.87      0.87       498\n",
      "\n",
      "-------------------------------\n",
      "\n",
      "confusion matrix\n",
      "[[284  23]\n",
      " [ 41 150]]\n",
      " \n",
      "train data set model metrics\n",
      "---------------------------------\n",
      "True positive rate for the model is 78.53%\n",
      "False positive rate for the model is  7.49%\n",
      "True negative rate for the model is 92.51%\n",
      "False negative rate for the model is 21.47%\n"
     ]
    }
   ],
   "source": [
    "rf2.fit(X_train, y_train)\n",
    "y_pred = rf1.predict(X_train)\n",
    "y_pred_proba = rf1.predict_proba(X_train)\n",
    "run_metrics(rf2, 'train')\n",
    "\n"
   ]
  },
  {
   "cell_type": "code",
   "execution_count": 229,
   "metadata": {},
   "outputs": [],
   "source": [
    "rf3 = RandomForestClassifier(bootstrap=True, \n",
    "                            class_weight=None, \n",
    "                            criterion='gini',\n",
    "                            min_samples_leaf=5,\n",
    "                            n_estimators=100,\n",
    "                            max_depth=8, \n",
    "                            random_state=1221)"
   ]
  },
  {
   "cell_type": "code",
   "execution_count": 230,
   "metadata": {},
   "outputs": [
    {
     "name": "stdout",
     "output_type": "stream",
     "text": [
      "train data set accuracy score: 85.74%\n",
      "-------------------------------\n",
      "classification report\n",
      "              precision    recall  f1-score   support\n",
      "\n",
      "           0       0.86      0.92      0.89       307\n",
      "           1       0.85      0.76      0.80       191\n",
      "\n",
      "    accuracy                           0.86       498\n",
      "   macro avg       0.86      0.84      0.85       498\n",
      "weighted avg       0.86      0.86      0.86       498\n",
      "\n",
      "-------------------------------\n",
      "\n",
      "confusion matrix\n",
      "[[282  25]\n",
      " [ 46 145]]\n",
      " \n",
      "train data set model metrics\n",
      "---------------------------------\n",
      "True positive rate for the model is 75.92%\n",
      "False positive rate for the model is  8.14%\n",
      "True negative rate for the model is 91.86%\n",
      "False negative rate for the model is 24.08%\n"
     ]
    }
   ],
   "source": [
    "rf3.fit(X_train, y_train)\n",
    "y_pred = rf3.predict(X_train)\n",
    "y_pred_proba = rf3.predict_proba(X_train)\n",
    "run_metrics(rf3, 'train')"
   ]
  },
  {
   "cell_type": "code",
   "execution_count": 231,
   "metadata": {},
   "outputs": [
    {
     "name": "stdout",
     "output_type": "stream",
     "text": [
      "validate data set accuracy score: 79.44%\n",
      "-------------------------------\n",
      "classification report\n",
      "              precision    recall  f1-score   support\n",
      "\n",
      "           0       0.84      0.82      0.83       132\n",
      "           1       0.72      0.76      0.74        82\n",
      "\n",
      "    accuracy                           0.79       214\n",
      "   macro avg       0.78      0.79      0.78       214\n",
      "weighted avg       0.80      0.79      0.80       214\n",
      "\n",
      "-------------------------------\n",
      "\n",
      "confusion matrix\n",
      "[[108  24]\n",
      " [ 20  62]]\n",
      " \n",
      "validate data set model metrics\n",
      "---------------------------------\n",
      "True positive rate for the model is 75.61%\n",
      "False positive rate for the model is  18.18%\n",
      "True negative rate for the model is 81.82%\n",
      "False negative rate for the model is 24.39%\n"
     ]
    }
   ],
   "source": [
    "# rf 1 train vs validate\n",
    "run_metrics(rf1, 'validate')"
   ]
  },
  {
   "cell_type": "code",
   "execution_count": 232,
   "metadata": {},
   "outputs": [
    {
     "name": "stdout",
     "output_type": "stream",
     "text": [
      "validate data set accuracy score: 81.31%\n",
      "-------------------------------\n",
      "classification report\n",
      "              precision    recall  f1-score   support\n",
      "\n",
      "           0       0.83      0.87      0.85       132\n",
      "           1       0.78      0.72      0.75        82\n",
      "\n",
      "    accuracy                           0.81       214\n",
      "   macro avg       0.80      0.80      0.80       214\n",
      "weighted avg       0.81      0.81      0.81       214\n",
      "\n",
      "-------------------------------\n",
      "\n",
      "confusion matrix\n",
      "[[115  17]\n",
      " [ 23  59]]\n",
      " \n",
      "validate data set model metrics\n",
      "---------------------------------\n",
      "True positive rate for the model is 71.95%\n",
      "False positive rate for the model is  12.88%\n",
      "True negative rate for the model is 87.12%\n",
      "False negative rate for the model is 28.05%\n"
     ]
    }
   ],
   "source": [
    "run_metrics(rf2, 'validate')"
   ]
  },
  {
   "cell_type": "code",
   "execution_count": 233,
   "metadata": {},
   "outputs": [
    {
     "name": "stdout",
     "output_type": "stream",
     "text": [
      "validate data set accuracy score: 79.44%\n",
      "-------------------------------\n",
      "classification report\n",
      "              precision    recall  f1-score   support\n",
      "\n",
      "           0       0.82      0.86      0.84       132\n",
      "           1       0.75      0.70      0.72        82\n",
      "\n",
      "    accuracy                           0.79       214\n",
      "   macro avg       0.78      0.78      0.78       214\n",
      "weighted avg       0.79      0.79      0.79       214\n",
      "\n",
      "-------------------------------\n",
      "\n",
      "confusion matrix\n",
      "[[113  19]\n",
      " [ 25  57]]\n",
      " \n",
      "validate data set model metrics\n",
      "---------------------------------\n",
      "True positive rate for the model is 69.51%\n",
      "False positive rate for the model is  14.39%\n",
      "True negative rate for the model is 85.61%\n",
      "False negative rate for the model is 30.49%\n"
     ]
    }
   ],
   "source": [
    "run_metrics(rf3, 'validate')"
   ]
  },
  {
   "cell_type": "code",
   "execution_count": 267,
   "metadata": {},
   "outputs": [],
   "source": [
    "rf4 = RandomForestClassifier(bootstrap=True, \n",
    "                            class_weight=None, \n",
    "                            criterion='gini',\n",
    "                            min_samples_leaf=3,\n",
    "                            n_estimators=100,\n",
    "                            max_depth=6, \n",
    "                            random_state=1221)"
   ]
  },
  {
   "cell_type": "code",
   "execution_count": 268,
   "metadata": {},
   "outputs": [
    {
     "name": "stdout",
     "output_type": "stream",
     "text": [
      "train data set accuracy score: 85.54%\n",
      "-------------------------------\n",
      "classification report\n",
      "              precision    recall  f1-score   support\n",
      "\n",
      "           0       0.85      0.93      0.89       307\n",
      "           1       0.87      0.74      0.80       191\n",
      "\n",
      "    accuracy                           0.86       498\n",
      "   macro avg       0.86      0.83      0.84       498\n",
      "weighted avg       0.86      0.86      0.85       498\n",
      "\n",
      "-------------------------------\n",
      "\n",
      "confusion matrix\n",
      "[[285  22]\n",
      " [ 50 141]]\n",
      " \n",
      "train data set model metrics\n",
      "---------------------------------\n",
      "True positive rate for the model is 73.82%\n",
      "False positive rate for the model is  7.17%\n",
      "True negative rate for the model is 92.83%\n",
      "False negative rate for the model is 26.18%\n"
     ]
    }
   ],
   "source": [
    "rf4.fit(X_train, y_train)\n",
    "y_pred = rf4.predict(X_train)\n",
    "y_pred_proba = rf4.predict_proba(X_train)\n",
    "run_metrics(rf4, 'train')"
   ]
  },
  {
   "cell_type": "code",
   "execution_count": 269,
   "metadata": {},
   "outputs": [
    {
     "name": "stdout",
     "output_type": "stream",
     "text": [
      "validate data set accuracy score: 81.31%\n",
      "-------------------------------\n",
      "classification report\n",
      "              precision    recall  f1-score   support\n",
      "\n",
      "           0       0.83      0.88      0.85       132\n",
      "           1       0.78      0.71      0.74        82\n",
      "\n",
      "    accuracy                           0.81       214\n",
      "   macro avg       0.81      0.79      0.80       214\n",
      "weighted avg       0.81      0.81      0.81       214\n",
      "\n",
      "-------------------------------\n",
      "\n",
      "confusion matrix\n",
      "[[116  16]\n",
      " [ 24  58]]\n",
      " \n",
      "validate data set model metrics\n",
      "---------------------------------\n",
      "True positive rate for the model is 70.73%\n",
      "False positive rate for the model is  12.12%\n",
      "True negative rate for the model is 87.88%\n",
      "False negative rate for the model is 29.27%\n"
     ]
    }
   ],
   "source": [
    "run_metrics(rf4, 'validate')"
   ]
  },
  {
   "cell_type": "code",
   "execution_count": null,
   "metadata": {},
   "outputs": [],
   "source": []
  },
  {
   "cell_type": "markdown",
   "metadata": {},
   "source": [
    "5. What are the differences in the evaluation metrics? Which performs better on your in-sample data? Why?"
   ]
  },
  {
   "cell_type": "code",
   "execution_count": null,
   "metadata": {},
   "outputs": [],
   "source": []
  },
  {
   "cell_type": "markdown",
   "metadata": {},
   "source": [
    "Final Thoughts... After making a few models, which one has the best performance (or closest metrics) on both train and validate?"
   ]
  },
  {
   "cell_type": "code",
   "execution_count": 270,
   "metadata": {},
   "outputs": [],
   "source": [
    "# model 1 is way overfit\n",
    "# 91% accuracy on train, 79% on validate\n",
    "\n",
    "# model 2 is still too overfit\n",
    "# 87% accuracy on train, 81% on validate\n",
    "\n",
    "# model 3 is tsimilar to model 2\n",
    "# 86% accuracy on train, 79% on validate\n",
    "\n",
    "# model 4 is the best so far...\n",
    "# 86% accuracy on train, 81% on validate"
   ]
  },
  {
   "cell_type": "code",
   "execution_count": 278,
   "metadata": {},
   "outputs": [
    {
     "name": "stdout",
     "output_type": "stream",
     "text": [
      "train data set accuracy score: 84.54%\n",
      "-------------------------------\n",
      "classification report\n",
      "              precision    recall  f1-score   support\n",
      "\n",
      "           0       0.85      0.92      0.88       307\n",
      "           1       0.84      0.73      0.78       191\n",
      "\n",
      "    accuracy                           0.85       498\n",
      "   macro avg       0.84      0.82      0.83       498\n",
      "weighted avg       0.85      0.85      0.84       498\n",
      "\n",
      "-------------------------------\n",
      "\n",
      "confusion matrix\n",
      "[[281  26]\n",
      " [ 51 140]]\n",
      " \n",
      "train data set model metrics\n",
      "---------------------------------\n",
      "True positive rate for the model is 73.30%\n",
      "False positive rate for the model is  8.47%\n",
      "True negative rate for the model is 91.53%\n",
      "False negative rate for the model is 26.70%\n"
     ]
    }
   ],
   "source": [
    "run_metrics(tree2, 'train')"
   ]
  },
  {
   "cell_type": "code",
   "execution_count": 279,
   "metadata": {},
   "outputs": [
    {
     "name": "stdout",
     "output_type": "stream",
     "text": [
      "train data set accuracy score: 80.72%\n",
      "-------------------------------\n",
      "classification report\n",
      "              precision    recall  f1-score   support\n",
      "\n",
      "           0       0.84      0.85      0.84       307\n",
      "           1       0.75      0.74      0.75       191\n",
      "\n",
      "    accuracy                           0.81       498\n",
      "   macro avg       0.80      0.79      0.80       498\n",
      "weighted avg       0.81      0.81      0.81       498\n",
      "\n",
      "-------------------------------\n",
      "\n",
      "confusion matrix\n",
      "[[261  46]\n",
      " [ 50 141]]\n",
      " \n",
      "train data set model metrics\n",
      "---------------------------------\n",
      "True positive rate for the model is 73.82%\n",
      "False positive rate for the model is  14.98%\n",
      "True negative rate for the model is 85.02%\n",
      "False negative rate for the model is 26.18%\n"
     ]
    }
   ],
   "source": [
    "run_metrics(tree1, 'train')"
   ]
  },
  {
   "cell_type": "code",
   "execution_count": null,
   "metadata": {},
   "outputs": [],
   "source": []
  }
 ],
 "metadata": {
  "kernelspec": {
   "display_name": "Python 3.8.5 64-bit ('base': conda)",
   "language": "python",
   "name": "python385jvsc74a57bd0b64057e63add2b45b1ffc7eab9b09c8889b419c878e2fdf0d08f837f0fc857a7"
  },
  "language_info": {
   "codemirror_mode": {
    "name": "ipython",
    "version": 3
   },
   "file_extension": ".py",
   "mimetype": "text/x-python",
   "name": "python",
   "nbconvert_exporter": "python",
   "pygments_lexer": "ipython3",
   "version": "3.8.5"
  }
 },
 "nbformat": 4,
 "nbformat_minor": 4
}
